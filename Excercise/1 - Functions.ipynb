{
 "cells": [
  {
   "attachments": {},
   "cell_type": "markdown",
   "metadata": {},
   "source": [
    "# Funktionen\n",
    "\n",
    "In diesem Abschnitt gehen wir darauf ein wie man Funktionen deklariert, aufruft und anschließend schauen wir uns noch einige spezielle Eigenschaften von Funktionen in Julia an.\n",
    "\n",
    "Inhalt:\n",
    "1. Wie man Funktionen deklariert \n",
    "2. Duck-Typing in Julia\n",
    "3. Verändernde vs. nicht-verändernde Funktionen\n",
    "4. Einige höherwertige Funktionen"
   ]
  },
  {
   "cell_type": "markdown",
   "metadata": {},
   "source": [
    "## Wie man Funktionen deklariert\n",
    "Julia bietet uns einige verschiedene Möglichkeiten, eine Funktion zu schreiben. Die erste erfordert die Schlüsselwörter `function` und `end`."
   ]
  },
  {
   "cell_type": "code",
   "execution_count": null,
   "metadata": {},
   "outputs": [],
   "source": [
    "function sayhi(name)\n",
    "    println(\"Hi $name, it's great to see you!\")\n",
    "end"
   ]
  },
  {
   "cell_type": "code",
   "execution_count": null,
   "metadata": {},
   "outputs": [],
   "source": [
    "sayhi(\"C-3PO\")"
   ]
  },
  {
   "cell_type": "code",
   "execution_count": null,
   "metadata": {},
   "outputs": [],
   "source": [
    "function f(x)\n",
    "    x^2\n",
    "end"
   ]
  },
  {
   "cell_type": "code",
   "execution_count": null,
   "metadata": {},
   "outputs": [],
   "source": [
    "f(42)"
   ]
  },
  {
   "cell_type": "markdown",
   "metadata": {},
   "source": [
    "Wir können diese Funktionen auch in einer Zeile definieren, indem wir die Schlüsselwörter `function` und `end` weglassen und stattdessen ein `=` Zeichen verwenden."
   ]
  },
  {
   "cell_type": "code",
   "execution_count": null,
   "metadata": {},
   "outputs": [],
   "source": [
    "sayhi2(name) = println(\"Hi $name, it's great to see you!\")\n",
    "f2(x) = x^2"
   ]
  },
  {
   "cell_type": "code",
   "execution_count": null,
   "metadata": {},
   "outputs": [],
   "source": [
    "sayhi2(\"Chewbacca\")\n",
    "f2(42)"
   ]
  },
  {
   "cell_type": "markdown",
   "metadata": {},
   "source": [
    "Die letzte möglichkeit ist dass wir die Funktionen anonym deklatrieren. "
   ]
  },
  {
   "cell_type": "code",
   "execution_count": null,
   "metadata": {},
   "outputs": [],
   "source": [
    "sayhi3 = name -> println(\"Hi $name, it's great to see you!\")\n",
    "f3 = x -> x^2"
   ]
  },
  {
   "cell_type": "code",
   "execution_count": null,
   "metadata": {},
   "outputs": [],
   "source": [
    "sayhi3(\"Chewbacca\")\n",
    "f3(42)"
   ]
  },
  {
   "attachments": {},
   "cell_type": "markdown",
   "metadata": {},
   "source": [
    "## Duck-typing in Julia\n",
    "*\"If it quacks like a duck, it's a duck.\"* <br><br>\n",
    "Julia-Funktionen funktionieren einfach mit allen Eingaben, die \"Sinn\" ergeben. <br><br>\n",
    "Zum Beispiel funktioniert `sayhi` auch mit einer Ganzzahl anstatt einem String..."
   ]
  },
  {
   "cell_type": "code",
   "execution_count": null,
   "metadata": {},
   "outputs": [],
   "source": [
    "# wir definieren die Zwei Funktionen aus dem letzten Abschnitt noch mal:\n",
    "function sayhi(name)\n",
    "    println(\"Hi $name, it's great to see you!\")\n",
    "end\n",
    "function f(x)\n",
    "    x^2\n",
    "end"
   ]
  },
  {
   "cell_type": "code",
   "execution_count": null,
   "metadata": {},
   "outputs": [],
   "source": [
    "sayhi(55595472)"
   ]
  },
  {
   "attachments": {},
   "cell_type": "markdown",
   "metadata": {},
   "source": [
    "Die Funktion `f` Funktioniert auch mit einer Matrix. "
   ]
  },
  {
   "cell_type": "code",
   "execution_count": null,
   "metadata": {},
   "outputs": [],
   "source": [
    "A = rand(3, 3)\n",
    "A"
   ]
  },
  {
   "cell_type": "code",
   "execution_count": null,
   "metadata": {},
   "outputs": [],
   "source": [
    "f(A)"
   ]
  },
  {
   "attachments": {},
   "cell_type": "markdown",
   "metadata": {},
   "source": [
    "`f` funktioniert auch mit dem Strin \"hi\" weil mit `*` Strings konkatiniert werden."
   ]
  },
  {
   "cell_type": "code",
   "execution_count": null,
   "metadata": {},
   "outputs": [],
   "source": [
    "f(\"hi\")"
   ]
  },
  {
   "attachments": {},
   "cell_type": "markdown",
   "metadata": {},
   "source": [
    "Allerdings wird `f`nicht mit einem Vektor funktionieren. Könnt ihr euch vorstellen warum? "
   ]
  },
  {
   "cell_type": "code",
   "execution_count": null,
   "metadata": {},
   "outputs": [],
   "source": [
    "v = rand(3)"
   ]
  },
  {
   "cell_type": "code",
   "execution_count": null,
   "metadata": {},
   "outputs": [],
   "source": [
    "# This won't work\n",
    "f(v)"
   ]
  },
  {
   "attachments": {},
   "cell_type": "markdown",
   "metadata": {},
   "source": [
    "Anders als `A^2`, das eindeutig definiert ist, ist die Bedeutung von `v^2` für einen Vektor, `v`, keine eindeutige algebraische Operation."
   ]
  },
  {
   "attachments": {},
   "cell_type": "markdown",
   "metadata": {},
   "source": [
    "## Mutating vs. non-mutating Funktionen (Verändernde vs. nicht-verändernde Funktionen)\n",
    "\n",
    "In Julia gibt es zwei Arten von Funktionen: Mutating und non-mutating. Funktionen denen ein `!`folgt verändern ihre Eingabe. Funktionen ohne `!` verändern ihre Eingabe nicht. Ihr kennt das Konzept eventuell auch unter unter den name call by value und call by reference. \n",
    "\n",
    "Zum Beispiel, schauen wir uns `sort` und `sort!` an."
   ]
  },
  {
   "cell_type": "code",
   "execution_count": null,
   "metadata": {},
   "outputs": [],
   "source": [
    "v = [3, 5, 2]"
   ]
  },
  {
   "cell_type": "code",
   "execution_count": null,
   "metadata": {},
   "outputs": [],
   "source": [
    "sort(v)"
   ]
  },
  {
   "cell_type": "code",
   "execution_count": null,
   "metadata": {},
   "outputs": [],
   "source": [
    "v"
   ]
  },
  {
   "attachments": {},
   "cell_type": "markdown",
   "metadata": {},
   "source": [
    "`sort(v)` gibt eine sortierte Liste zurück, die die gleichen Elemente wie `v` enthält, aber `v` bleibt unverändert. Das entspricht also call by value. <br><br>\n",
    "\n",
    "Auf der anderen Seite, wenn wir `sort!(v)` ausführen, werden die Inhalte von v innerhalb des Arrays `v` sortiert. Das entspricht also call by reference."
   ]
  },
  {
   "cell_type": "code",
   "execution_count": null,
   "metadata": {},
   "outputs": [],
   "source": [
    "sort!(v)"
   ]
  },
  {
   "cell_type": "code",
   "execution_count": null,
   "metadata": {},
   "outputs": [],
   "source": [
    "v"
   ]
  },
  {
   "attachments": {},
   "cell_type": "markdown",
   "metadata": {},
   "source": [
    "Allerdings ist dies nur eine best practice und nicht eine Regel. Es hat keine bedeutung auf Compilerebene. Julia erlaubt es uns, die Eingabe einer Funktion zu verändern, auch wenn wir kein `!` verwenden. \n",
    "Das bedeutet wenn wir eine Funktion selbst implementieren sollten wir darauf achten ob wir die Eingabe verändern wollen oder nicht."
   ]
  },
  {
   "attachments": {},
   "cell_type": "markdown",
   "metadata": {},
   "source": [
    "## Einige höherwertige Funktionen\n",
    "\n",
    "### map\n",
    "\n",
    "`map` ist eine \"höherwertige\" Funktion in Julia, die *eine Funktion* als eines ihrer Eingabeargumente nimmt.\n",
    "`map` wendet dann diese Funktion auf jedes Element der Datenstruktur an, die Sie ihr übergeben. Zum Beispiel, wenn wir\n",
    "\n",
    "\n",
    "```julia\n",
    "map(f, [1, 2, 3])\n",
    "```\n",
    "ausführen, gibt uns `map` eine Liste zurück, die die Funktion `f` auf jedes Element von `[1, 2, 3]` angewendet hat. <br><br>\n",
    "```julia\n",
    "[f(1), f(2), f(3)]\n",
    "```"
   ]
  },
  {
   "cell_type": "code",
   "execution_count": null,
   "metadata": {},
   "outputs": [],
   "source": [
    "map(f, [1, 2, 3])"
   ]
  },
  {
   "attachments": {},
   "cell_type": "markdown",
   "metadata": {},
   "source": [
    "Wir haben also jedes element in dem vektor `[1, 2, 3]` quadriert.\n",
    "\n",
    "Alternativ können wit `map` eine anonyme Funktion anstatt einer benannten Funktion übergeben. Zum Beispiel:"
   ]
  },
  {
   "cell_type": "code",
   "execution_count": null,
   "metadata": {},
   "outputs": [],
   "source": [
    "map(x -> x^3, [1, 2, 3])"
   ]
  },
  {
   "attachments": {},
   "cell_type": "markdown",
   "metadata": {},
   "source": [
    "### broadcast\n",
    "`broadcast` ist eine andere höherwertige Funktion in Julia, die *eine Funktion* als eines ihrer Eingabeargumente nimmt. `broadcast` wendet dann diese Funktion auf jedes Element der Datenstruktur an, die Sie ihr übergeben. Sie kann als eine allgemeinere Version von `map`betrachtet werden."
   ]
  },
  {
   "cell_type": "code",
   "execution_count": null,
   "metadata": {},
   "outputs": [],
   "source": [
    "broadcast(f, [1, 2, 3])"
   ]
  },
  {
   "attachments": {},
   "cell_type": "markdown",
   "metadata": {},
   "source": [
    "Wir haben wieder `f`auf alle Elemente von `[1, 2, 3]` angewendet. Diesmal haben wir `f` \"broadcasted\"! \n",
    "\n",
    "Wir können `broadcast` auch mit `.`aufrufen indem wir es zwischen den Namen der Funktion und ihren Eingabeargumenten platzieren. Zum Beispiel,\n",
    "\n",
    "```julia\n",
    "broadcast(f, [1, 2, 3])\n",
    "```\n",
    "ist das gleiche wie\n",
    "```julia\n",
    "f.([1, 2, 3])\n",
    "```"
   ]
  },
  {
   "cell_type": "code",
   "execution_count": null,
   "metadata": {},
   "outputs": [],
   "source": [
    "f.([1, 2, 3])"
   ]
  },
  {
   "attachments": {},
   "cell_type": "markdown",
   "metadata": {},
   "source": [
    "Das ermöglicht uns funktionen wie `f` auf Vektoren anzuwenden. "
   ]
  },
  {
   "attachments": {},
   "cell_type": "markdown",
   "metadata": {},
   "source": [
    "Das bedeutet natürlich auch, dass wir `f` auf Matrizen anwenden können. Allerdings sind die Ergebnisse für \n",
    "```julia\n",
    "f(A)\n",
    "```\n",
    "und\n",
    "```julia\n",
    "f.(A)\n",
    "```\n",
    "für die Matrix `A` nicht gleich:"
   ]
  },
  {
   "cell_type": "code",
   "execution_count": null,
   "metadata": {},
   "outputs": [],
   "source": [
    "A = [i + 3*j for j in 0:2, i in 1:3]"
   ]
  },
  {
   "cell_type": "code",
   "execution_count": null,
   "metadata": {},
   "outputs": [],
   "source": [
    "f(A)"
   ]
  },
  {
   "attachments": {},
   "cell_type": "markdown",
   "metadata": {},
   "source": [
    "Das ist das gleiche Verhalten das wir schon kennen. Für `A`, ist dieser aufruf:\n",
    "```\n",
    "f(A) = A^2 = A * A\n",
    "``` \n",
    "\n",
    "Wenn wir nun `.`, also `broadcast` verwenden, dann wird `f` auf jedes Element von `A` angewendet. Das ist also"
   ]
  },
  {
   "cell_type": "code",
   "execution_count": null,
   "metadata": {},
   "outputs": [],
   "source": [
    "B = f.(A)"
   ]
  },
  {
   "attachments": {},
   "cell_type": "markdown",
   "metadata": {},
   "source": [
    "Das Ergrebnis ist eine Matrix, die die Quadrate aller Elemente von `A` enthält.\n",
    "\n",
    "Dieses Punkt-Syntax für Broadcasting erlaubt es uns relativ komplexe Elementweise Ausdrücke zu schreiben, die sich oft einfacher als eine mathematische Notation lesen lassen. Zum Beispiel können wir schreiben:"
   ]
  },
  {
   "cell_type": "code",
   "execution_count": null,
   "metadata": {},
   "outputs": [],
   "source": [
    "A .+ 2 .* f.(A) ./ A"
   ]
  },
  {
   "attachments": {},
   "cell_type": "markdown",
   "metadata": {},
   "source": [
    "Anstatt, folgendes schreiben zu müssen"
   ]
  },
  {
   "cell_type": "code",
   "execution_count": null,
   "metadata": {},
   "outputs": [],
   "source": [
    "broadcast(x -> x + 2 * f(x) / x, A)"
   ]
  },
  {
   "attachments": {},
   "cell_type": "markdown",
   "metadata": {},
   "source": [
    "beide führen die gleiche Berechnung aus. "
   ]
  },
  {
   "attachments": {},
   "cell_type": "markdown",
   "metadata": {},
   "source": [
    "## Übung: Funktionen\n",
    "\n",
    "#### 1.1 \n",
    "Schreibe eine Funktion `add_one` die 1 zu ihrer Eingabe hinzufügt."
   ]
  },
  {
   "cell_type": "code",
   "execution_count": null,
   "metadata": {},
   "outputs": [],
   "source": []
  },
  {
   "cell_type": "code",
   "execution_count": null,
   "metadata": {
    "deletable": false,
    "editable": false,
    "hide_input": true,
    "nbgrader": {
     "checksum": "253b17dc2f3d3a58042fbc36042a0fd5",
     "grade": true,
     "grade_id": "cell-5119b9e9623c1cb7",
     "locked": true,
     "points": 1,
     "schema_version": 1,
     "solution": false
    }
   },
   "outputs": [],
   "source": [
    "@assert add_one(1) == 2"
   ]
  },
  {
   "cell_type": "code",
   "execution_count": null,
   "metadata": {
    "deletable": false,
    "editable": false,
    "hide_input": true,
    "nbgrader": {
     "checksum": "4e05440e19cd3606df11186d41d562bf",
     "grade": true,
     "grade_id": "cell-50f83d27187a2064",
     "locked": true,
     "points": 1,
     "schema_version": 1,
     "solution": false
    }
   },
   "outputs": [],
   "source": [
    "@assert add_one(11) == 12"
   ]
  },
  {
   "attachments": {},
   "cell_type": "markdown",
   "metadata": {},
   "source": [
    "#### 1.2 \n",
    "Nutze `map` oder `broadcast` um jedes Element von `A` um 1 zu erhöhen und weise es einer Variable `A1` zu."
   ]
  },
  {
   "cell_type": "code",
   "execution_count": null,
   "metadata": {},
   "outputs": [],
   "source": []
  },
  {
   "cell_type": "code",
   "execution_count": null,
   "metadata": {},
   "outputs": [],
   "source": [
    "@assert A1 == [2 3 4; 5 6 7; 8 9 10]"
   ]
  },
  {
   "attachments": {},
   "cell_type": "markdown",
   "metadata": {},
   "source": [
    "#### 1.3 \n",
    "Nutze die `.` Syntax um jedes Element von `A` um 1 zu erhöhen und weise es einer Variable `A2` zu."
   ]
  },
  {
   "cell_type": "code",
   "execution_count": null,
   "metadata": {},
   "outputs": [],
   "source": []
  },
  {
   "cell_type": "code",
   "execution_count": null,
   "metadata": {
    "deletable": false,
    "editable": false,
    "hide_input": true,
    "nbgrader": {
     "checksum": "3e3d797962df904deed0e7ee7782b69a",
     "grade": true,
     "grade_id": "cell-f3bd5479679a8fe1",
     "locked": true,
     "points": 0,
     "schema_version": 1,
     "solution": false
    }
   },
   "outputs": [],
   "source": [
    "@assert A2 == [3 4 5; 6 7 8; 9 10 11]"
   ]
  },
  {
   "attachments": {},
   "cell_type": "markdown",
   "metadata": {},
   "source": [
    "## Übung: Convert\n",
    "\n",
    "#### 2.1 \n",
    "Schau dir die Dokumentation der `convert` Funktion an. Mit `?` kannst du die hilfe/dokumentation der nachfolgenden Eingabe ausgeben lassen. "
   ]
  },
  {
   "cell_type": "code",
   "execution_count": null,
   "metadata": {},
   "outputs": [],
   "source": []
  },
  {
   "attachments": {},
   "cell_type": "markdown",
   "metadata": {},
   "source": [
    "#### 2.2 \n",
    "Lege eine Variable mit dem wert `365` und dem Namen `days` an. Konvertiere days zu float und weiße sie der Variablen `days_float` zu. "
   ]
  },
  {
   "cell_type": "code",
   "execution_count": null,
   "metadata": {},
   "outputs": [],
   "source": []
  },
  {
   "cell_type": "code",
   "execution_count": null,
   "metadata": {},
   "outputs": [],
   "source": [
    "@assert days == 365\n",
    "@assert days_float == 365.0\n"
   ]
  },
  {
   "attachments": {},
   "cell_type": "markdown",
   "metadata": {},
   "source": [
    "#### 2.3 \n",
    "Führe die folgenden Zeilen aus und schau was passiert. \n",
    "\n",
    "```julia\n",
    "convert(Int64, \"1\")\n",
    "```\n",
    "and\n",
    "\n",
    "```julia\n",
    "parse(Int64, \"1\")\n",
    "```"
   ]
  },
  {
   "cell_type": "code",
   "execution_count": null,
   "metadata": {},
   "outputs": [],
   "source": []
  }
 ],
 "metadata": {
  "kernelspec": {
   "display_name": "Julia 1.8.5",
   "language": "julia",
   "name": "julia-1.8"
  },
  "language_info": {
   "file_extension": ".jl",
   "mimetype": "application/julia",
   "name": "julia",
   "version": "1.8.5"
  }
 },
 "nbformat": 4,
 "nbformat_minor": 4
}
