{
 "cells": [
  {
   "attachments": {},
   "cell_type": "markdown",
   "metadata": {},
   "source": [
    "# Forward Kinematics: Moving Robots with Mathematics\n",
    "\n",
    "## Introduction\n",
    "\n",
    "This Notebook will give a short introduction of forward kinematics, transformation matrices, and how to apply these principles to revolute joints. As an exercise, you will be given the opportunity to implement the forward kinematics for the Openmanipulator-X yourself. \n",
    "\n",
    "## What is Forward Kinematics in Robotics?\n",
    "\n",
    "In robotics, kinematics focuses on the motion of robots: given a set of joint angles, where is the robot's end effector (like a robot arm's gripper)?\n",
    "\n",
    "**Forward kinematics** is the process of determining the position and orientation of the end effector given the joint angles and the robot's kinematic structure. This process is \"forward\" because we start from the joint angles (inputs) and calculate the end effector pose (output).\n",
    "\n",
    "## OpenManipulator-X and Its Coordinate System\n",
    "\n",
    "OpenManipulator-X is a robotic manipulator consisting of revolute joints and links. The base link of OpenManipulator-X is located at the origin of the robot's coordinate system, while the end effector is at the tip of the gripper.\n",
    "\n",
    "In OpenManipulator-X, the coordinate system is defined as follows: \n",
    "\n",
    "- The Z-axis points upwards.\n",
    "- The X-axis points forwards.\n",
    "- The Y-axis points to the left.\n",
    "\n",
    "This affects how we interpret the position and orientation of each joint and link.\n",
    "\n",
    "## Revolute Joints and Transformation Matrices\n",
    "\n",
    "A robot manipulator is composed of rigid bodies called **links** connected by **joints**. The joints allow relative motion between the links. One common type of joint is the **revolute joint**, which allows rotation around a single axis. In the Openmanipulator-X robot, the joints are revolute joints. Except for the gripper, each joint has a single degree of freedom (DOF), which means that it can rotate around a single axis. The gripper is a prismatic joint, which means that it can move along a single axis. For now we will focus on revolute joints.\n",
    "\n",
    "Each joint in a robot has an associated **transformation matrix** that describes the joint's position and orientation relative to its parent link. For a revolute joint, this transformation includes a static part (based on the joint's position and orientation in the robot's design) and a variable part (based on the current joint angle).\n",
    "\n",
    "The transformation matrix for a revolute joint can be represented in homogeneous coordinates as follows:\n",
    "\n",
    "```\n",
    "T = | R  P |\n",
    "    | 0  1 |\n",
    "```\n",
    "\n",
    "where `R` is a 3x3 rotation matrix, and `P` is a 3x1 position vector. The rotation matrix represents the orientation of the joint, and the position vector represents the position of the joint in the parent link's coordinate frame. \n",
    "\n",
    "## Putting it All Together: Forward Kinematics\n",
    "\n",
    "Once we have the transformation matrix for each joint, we can calculate the overall transformation from the base link to the end effector by multiplying these matrices together in the correct order. This overall transformation matrix gives us the position and orientation of the end effector in the base link's coordinate frame, which is the result of forward kinematics.\n",
    "\n",
    "Here is a simple example in pseudocode for a robot with one revolute joint:\n",
    "\n",
    "```pseudocode\n",
    "# Joint position (translation vector)\n",
    "P = [x, y, z]\n",
    "\n",
    "# Joint static orientation (rotation matrix)\n",
    "R_static = rpy(roll, pitch, yaw)\n",
    "\n",
    "# Joint variable orientation (rotation matrix)\n",
    "θ = current_joint_angle\n",
    "R_variable = RotationMatrix(θ, axis)\n",
    "\n",
    "# Combine static and variable rotations\n",
    "R = R_static * R_variable\n",
    "\n",
    "# Homogeneous transformation matrix\n",
    "T = [R P; 0 0 0 1]\n",
    "\n",
    "# The end effector's position and orientation is given by T\n",
    "```\n",
    "\n",
    "For multiple joints in a chain, we can calculate the overall transformation matrix by multiplying the matrices for each joint together in the correct order. For example, if we have three joints, we can calculate the overall transformation matrix as follows:\n",
    "\n",
    "```pseudocode\n",
    "T = T_1 * T_2 * T_3\n",
    "```\n",
    "\n",
    "where `T_1` is the transformation matrix for the first joint, `T_2` is the transformation matrix for the second joint, and `T_3` is the transformation matrix for the third joint.\n",
    "\n",
    "## Getting the Rotation Matrix from a Joint Angle\n",
    "The angle of each joint in a robot manipulator will affect the orientation part of the transformation matrix. For revolute joints, rotation will take place around a specified axis.\n",
    "\n",
    "For a revolute joint in a robot, the joint angle is often represented as a rotation around one of the coordinate axes. Let's assume that we are dealing with a rotation about the z-axis, which is a common case. The rotation matrices for a rotation of θ degrees around the x-, -y, -z -axis are:\n",
    "\n",
    "```\n",
    "Rx(θ) = | 1     0       0  |\n",
    "        | 0 cos(θ) -sin(θ) |\n",
    "        | 0 sin(θ)  cos(θ) |\n",
    "\n",
    "Ry(θ) = |  cos(θ) 0 sin(θ) |\n",
    "        |   0     1   0    |\n",
    "        | -sin(θ) 0 cos(θ) |\n",
    "\n",
    "Rz(θ) = | cos(θ) -sin(θ) 0 |\n",
    "        | sin(θ)  cos(θ) 0 |\n",
    "        |   0       0    1 |\n",
    "```\n",
    "\n",
    "These matrix Ry(θ) represent a counterclockwise rotation by θ radians around the y-axis. When you are calculating the forward kinematics, you replace the rotation part of the transformation matrix for each joint with the appropriate (correspodning to the rotation axis) rotation matrix based on the current joint angle. This rotation matrix is then multiplied with the static transformation matrix (which includes any static offsets and rotations defined in the URDF) to get the final transformation matrix for that joint.\n",
    "\n",
    "Here is an example in pseudocode for a revolute joint rotating about the z-axis:\n",
    "\n",
    "```pseudocode\n",
    "# Joint static orientation (rotation matrix)\n",
    "R_variable = [cos(θ) -sin(θ) 0; sin(θ) cos(θ) 0; 0 0 1]\n",
    "```\n",
    "\n",
    "In this matrix:\n",
    "\n",
    "- cos(θ) and sin(θ) define the rotation around the z-axis. They define how much the x- and y-components change with the rotation of θ around z.\n",
    "- The bottom row [0 0 1] remains the same because we're rotating around the z-axis, so the z component doesn't change. \n",
    "- The rotation angle θ should be provided in radians."
   ]
  },
  {
   "attachments": {},
   "cell_type": "markdown",
   "metadata": {},
   "source": [
    "## Understanding the Openmanipulator-X \n",
    "\n",
    "To find the corresponding transformation matrices for the Openmanipulator-X, you can refer to the URDF file of the robot. The URDF file describes the structure of the robot in terms of links, joints, and their properties. You can find the URDF file for the Openmanipulator-X in the `../open_manipulator_description/urdf/` directory.\n",
    "\n",
    "In the URDF file, you can search for the \"joint\" descriptions of each joint to find the following information about each joint:\n",
    "```xml\n",
    "  <!-- Joint 1 -->\n",
    "  <joint name=\"joint1\" type=\"revolute\">\n",
    "    <parent link=\"link1\"/>\n",
    "    <child link=\"link2\"/>\n",
    "    <origin rpy=\"0 0 0\" xyz=\"0.012 0.0 0.017\"/>\n",
    "    <axis xyz=\"0 0 1\"/>\n",
    "    <limit effort=\"1\" lower=\"-2.827433388230814\" upper=\"2.827433388230814\" velocity=\"4.8\"/>\n",
    "  </joint>\n",
    "```\n",
    "\n",
    "We can see that the information for implementing the transformation matrix is given in the `<origin>` and `<axis>` tags. The `<origin>` tag provides the position of the joint in the parent link's coordinate frame, and the `<axis>` tag provides the axis of rotation for the joint."
   ]
  },
  {
   "attachments": {},
   "cell_type": "markdown",
   "metadata": {},
   "source": [
    "## Introduction into Forward Kinematics with the Openmanipulator-X\n",
    "\n",
    "Now it's your turn! Your task is to implement the forward kinematics for the Openmanipulator-X with 4 revolute joints. \n",
    "\n",
    "To calculate the foward kinematics for the OpenManipulator-X we first look how we would do it for the first link and then move on to the other Link. \n",
    "Under the wollowing link we find the URDF file for the OpenManipulator-X: https://github.com/ROBOTIS-GIT/open_manipulator/blob/master/open_manipulator_description/urdf/open_manipulator.urdf.xacro \n",
    "\n",
    "An URDF file is an XML file that describes the physical parameters of a robot. There are specific libraries that can parse URDF files and extract the robot's physical parameters. For this exercise we will extract the physical parameters of the OpenManipulator-X by hand using the information we have from RViz. "
   ]
  },
  {
   "cell_type": "code",
   "execution_count": null,
   "metadata": {},
   "outputs": [],
   "source": [
    "import Pkg\n",
    "Pkg.generate(\"OpenMEnv\") # generate a new package\n",
    "Pkg.activate(\"OpenMEnv\") # activate the package\n",
    "Pkg.add(\"RigidBodyDynamics\")\n",
    "Pkg.add(\"MeshCatMechanisms\")\n",
    "Pkg.add(\"MeshCat\")\n",
    "Pkg.add(\"LinearAlgebra\")\n",
    "Pkg.add(\"StaticArrays\")\n",
    "Pkg.add(\"Rotations\")"
   ]
  },
  {
   "cell_type": "code",
   "execution_count": 2,
   "metadata": {},
   "outputs": [
    {
     "name": "stderr",
     "output_type": "stream",
     "text": [
      "\u001b[32m\u001b[1m  Activating\u001b[22m\u001b[39m project at `~/Library/Mobile Documents/com~apple~CloudDocs/Arbeit/Lectures/Vorlesung - Ingenieurwissenschaftliche Grundlagen 3 (Numerische Methoden)/auxme_numerik/Excercise/Exercise 4/OpenMEnv`\n"
     ]
    }
   ],
   "source": [
    "import Pkg\n",
    "Pkg.activate(\"OpenMEnv\")\n",
    "using RigidBodyDynamics\n",
    "using MeshCatMechanisms\n",
    "using MeshCat\n",
    "using LinearAlgebra\n",
    "using StaticArrays\n",
    "using Rotations"
   ]
  },
  {
   "cell_type": "code",
   "execution_count": null,
   "metadata": {},
   "outputs": [],
   "source": [
    "# example for link 1 - joint 1 - Rotation around z-axis\n",
    "\n",
    "# Joint position (translation vector)\n",
    "P = [0.012, 0.0, 0.017]  # [x, y, z]\n",
    "\n",
    "# Joint orientation (rotation matrix)\n",
    "R_static = RotXYZ(roll=0.0, pitch=0.0, yaw=0.0)  # from Rotations.jl's - note that this results in a 3x3 identity matrix (no rotation)\n",
    "\n",
    "# Joint variable orientation (rotation matrix)\n",
    "θ = 0.5\n",
    "R_variable = # TODO: Create a rotation matrix from the angle θ around the z-axis\n",
    "\n",
    "# Combine static and variable rotations\n",
    "R = # TODO: Combine the static and variable rotation matrices\n",
    "\n",
    "# Homogeneous transformation matrix\n",
    "T = [R P; 0 0 0 1]"
   ]
  },
  {
   "cell_type": "markdown",
   "metadata": {},
   "source": [
    "Let's compare the our calculated position after the first joint with the position of the first link using RigidBodyDynamics:"
   ]
  },
  {
   "cell_type": "code",
   "execution_count": null,
   "metadata": {},
   "outputs": [],
   "source": [
    "srcdir = \"../open_manipulator_description/urdf/\"\n",
    "urdf = joinpath(srcdir, \"open_manipulator.urdf\")\n",
    "mechanism = parse_urdf(urdf)"
   ]
  },
  {
   "cell_type": "code",
   "execution_count": null,
   "metadata": {},
   "outputs": [],
   "source": [
    "mvis = MechanismVisualizer(mechanism, URDFVisuals(urdf)); "
   ]
  },
  {
   "cell_type": "code",
   "execution_count": null,
   "metadata": {},
   "outputs": [],
   "source": [
    "set_configuration!(mvis, [0.5, 0.0, 0.0, 0.0, 0.0, 0.0])"
   ]
  },
  {
   "cell_type": "code",
   "execution_count": null,
   "metadata": {},
   "outputs": [],
   "source": [
    "first_joint = findjoint(mechanism, \"joint1\")\n",
    "transform_to_root(mvis.state, frame_after(first_joint))"
   ]
  },
  {
   "cell_type": "markdown",
   "metadata": {},
   "source": [
    "We see that the poisiton after the first joint is the same as the relative position given in the URDF file. \n",
    "\n",
    "Now let's move on to the next joint. We have to calculate the position of the second joint after the first joint and the connecting link. We can do this by multiplying the transformation matrix of the first joint with the transformation matrix of the second joint."
   ]
  },
  {
   "cell_type": "code",
   "execution_count": null,
   "metadata": {},
   "outputs": [],
   "source": [
    "# example for link 2 - joint 2 - Rotation around y-axis\n",
    "\n",
    "# Joint position (translation vector)\n",
    "P_2 = [0.0, 0.0, 0.0595] # [x, y, z]\n",
    "\n",
    "# Joint variable orientation (rotation matrix)\n",
    "θ_2 = 0.0 # The current angle of the joint, note that the angles are in radians\n",
    "R_variable_2 = # TODO: Create a rotation matrix from the angle θ around the y-axis\n",
    "\n",
    "# Combine static and variable rotations\n",
    "R_2 = # TODO: Combine the static and variable rotation matrices\n",
    "\n",
    "# Homogeneous transformation matrix\n",
    "T_2 = [R_2 P_2; 0 0 0 1]\n",
    "\n",
    "Total_T = T * T_2"
   ]
  },
  {
   "cell_type": "code",
   "execution_count": null,
   "metadata": {},
   "outputs": [],
   "source": [
    "second_joint = findjoint(mechanism, \"joint2\")\n",
    "transform_to_root(mvis.state, frame_after(second_joint))"
   ]
  },
  {
   "cell_type": "markdown",
   "metadata": {},
   "source": [
    "### Exercise: \n",
    "Check if our calculations are correct if we change the angles of the first joint. What do you expect to happen?\n",
    "\n",
    "Let's also check the orientation. The orientation is the rotation part of the transformation matrix. We can extract the rotation part of the transformation matrix by taking the first three rows and columns of the transformation matrix and convert them back into rpy (roll, pitch, yaw) angles."
   ]
  },
  {
   "cell_type": "code",
   "execution_count": null,
   "metadata": {},
   "outputs": [],
   "source": [
    "function forward_kinematics_rpy(T0E)\n",
    "    # Extract the rotation matrix from the transformation matrix\n",
    "    R0E = T0E[1:3, 1:3]\n",
    "\n",
    "    # Convert the rotation matrix to RPY angles\n",
    "    roll = atan(R0E[3, 2] / R0E[3, 3])\n",
    "    pitch = asin(-R0E[3, 1])\n",
    "    yaw = atan(R0E[2, 1] / R0E[1, 1])\n",
    "\n",
    "    return [roll, pitch, yaw]\n",
    "end"
   ]
  },
  {
   "cell_type": "code",
   "execution_count": null,
   "metadata": {},
   "outputs": [],
   "source": [
    "orientation = forward_kinematics_rpy(Total_T)"
   ]
  },
  {
   "attachments": {},
   "cell_type": "markdown",
   "metadata": {},
   "source": [
    "## Exercise: Implement Forward Kinematics\n",
    "\n",
    "After we defined the transformation matrix for the first joints, we want to have a function that calculates the variable transformation matrix ```R_variable``` based on the joint's angle and the roation axis called ```RotationMatrix(θ::Number, axis::String)```."
   ]
  },
  {
   "cell_type": "code",
   "execution_count": null,
   "metadata": {},
   "outputs": [],
   "source": [
    "function RotationMatrix(θ::Number, axis::String)\n",
    "    if axis == \"z\" # elseif  ... \n",
    "        # TODO: Create a rotation matrices from the angle θ around the given axis (x, y, z)\n",
    "        # HINT: How to calculate the rotation matrix is given in the explanation above \n",
    "    end\n",
    "    return R_variable\n",
    "end"
   ]
  },
  {
   "attachments": {},
   "cell_type": "markdown",
   "metadata": {},
   "source": [
    "Now let us define a function ```get_tranformation_matrix(rel_pos::Vector{Float64}, θ::Float64)``` which takes relative position and rotation of the current joint and calculates the transformation matrix ```T``` for this joint. "
   ]
  },
  {
   "cell_type": "code",
   "execution_count": null,
   "metadata": {},
   "outputs": [],
   "source": [
    "function get_tranformation_matrix(rel_pos::Vector{Float64}, θ::Float64, axis::String)\n",
    "    if axis==\"None\"\n",
    "        R_variable = [1 0 0; 0 1 0; 0 0 1]\n",
    "    else\n",
    "        R_variable = RotationMatrix(θ, axis)\n",
    "    end\n",
    "    T = [R_variable rel_pos; 0 0 0 1]\n",
    "    return T\n",
    "end"
   ]
  },
  {
   "attachments": {},
   "cell_type": "markdown",
   "metadata": {},
   "source": [
    "Now let us define a function ```forward_kinematics``` that takes the joint angles as input and returns the transformation matrix of the end effector. \n",
    "The kinematic chain is as follows: \n",
    "    \n",
    "    ```origin -> link1 -> joint1 -> link2 -> joint2 -> link3 -> joint3 -> link4 -> joint4 -> link5 -> gripper```"
   ]
  },
  {
   "cell_type": "code",
   "execution_count": null,
   "metadata": {},
   "outputs": [],
   "source": [
    "function forward_kinematics(q)\n",
    "    # TODO: Implement the forward kinematics for the OpenManipulatorBase\n",
    "    # HINT: First estimate the specific transformation matrices for each joint \n",
    "    # and then combine them to get the transformation matrix from the base to the end-effector\n",
    "    # You should have matrices for T01, T12, T23, T34, and T4E\n",
    "    # HINT: Use the get_tranformation_matrix function\n",
    "    return T0E\n",
    "end"
   ]
  },
  {
   "cell_type": "code",
   "execution_count": null,
   "metadata": {},
   "outputs": [],
   "source": [
    "T0E = forward_kinematics([0.6, 0.6, -0.5, -0.1])"
   ]
  },
  {
   "attachments": {},
   "cell_type": "markdown",
   "metadata": {},
   "source": [
    "Now we need to extract the position of the end effector from the transformation matrix. As seen before: the position of the end effector is the last column of the transformation matrix."
   ]
  },
  {
   "cell_type": "code",
   "execution_count": null,
   "metadata": {},
   "outputs": [],
   "source": [
    "position = T0E[1:3, 4]"
   ]
  },
  {
   "cell_type": "markdown",
   "metadata": {},
   "source": [
    "Let's also check the orientation:"
   ]
  },
  {
   "cell_type": "code",
   "execution_count": null,
   "metadata": {},
   "outputs": [],
   "source": [
    "orientation = forward_kinematics_rpy(T0E)"
   ]
  },
  {
   "attachments": {},
   "cell_type": "markdown",
   "metadata": {},
   "source": [
    "Putting it all together:"
   ]
  },
  {
   "cell_type": "code",
   "execution_count": null,
   "metadata": {},
   "outputs": [],
   "source": [
    "function complete_forward_kinematics(q)\n",
    "    T0E = forward_kinematics(q)\n",
    "    position = T0E[1:3, 4]\n",
    "    orientation = forward_kinematics_rpy(T0E)\n",
    "    return [position, orientation]\n",
    "end"
   ]
  },
  {
   "cell_type": "code",
   "execution_count": null,
   "metadata": {},
   "outputs": [],
   "source": [
    "pos_heading = complete_forward_kinematics([0.6, 0.6, -0.5, -0.1])"
   ]
  },
  {
   "attachments": {},
   "cell_type": "markdown",
   "metadata": {},
   "source": [
    "## Evaluating our Implementation\n",
    "\n",
    "Now lets evaluate our implementation by calculating the forward kinematics for the OpenManipulator-X using RigidBodyDynamics and comparing it to the our estimate of position and orientation."
   ]
  },
  {
   "cell_type": "code",
   "execution_count": null,
   "metadata": {},
   "outputs": [],
   "source": [
    "set_configuration!(mvis, [0.6, 0.6, -0.5, -0.1, 0.0, 0.0]) "
   ]
  },
  {
   "cell_type": "code",
   "execution_count": null,
   "metadata": {},
   "outputs": [],
   "source": [
    "state = mvis.state\n",
    "joint_state = mvis.state.q"
   ]
  },
  {
   "cell_type": "code",
   "execution_count": null,
   "metadata": {},
   "outputs": [],
   "source": [
    "pos_heading = complete_forward_kinematics([0.6, 0.6, -0.5, -0.1])"
   ]
  },
  {
   "cell_type": "code",
   "execution_count": null,
   "metadata": {},
   "outputs": [],
   "source": [
    "gripper_joint = findjoint(mechanism, \"gripper\")\n",
    "transform_to_root(mvis.state, frame_after(gripper_joint))"
   ]
  },
  {
   "attachments": {},
   "cell_type": "markdown",
   "metadata": {},
   "source": [
    "# Inverse Kinematics\n",
    "In this section we will implement a method for the inverse kinematics. It will estimate the joint angles based on the position and orientation of the end effector. Today we will use the NLsolve library to solve the inverse kinematics problem. In later lectures we will learn how to implement our own inverse kinematics solver. "
   ]
  },
  {
   "cell_type": "code",
   "execution_count": null,
   "metadata": {},
   "outputs": [],
   "source": [
    "Pkg.add(\"NLsolve\")\n",
    "Pkg.add(\"LinearAlgebra\")"
   ]
  },
  {
   "cell_type": "code",
   "execution_count": null,
   "metadata": {},
   "outputs": [],
   "source": [
    "using NLsolve\n",
    "using LinearAlgebra"
   ]
  },
  {
   "attachments": {},
   "cell_type": "markdown",
   "metadata": {},
   "source": [
    "To estimate the joint angles we first define a function that we want to solve. This function takes the joint angles as input and returns the difference between the current position and the desired position of the end effector. We want to find a point where this difference is zero. \n",
    "\n",
    "Therefore we set an initial guess and use the NLsolve library to solve the function."
   ]
  },
  {
   "cell_type": "code",
   "execution_count": null,
   "metadata": {},
   "outputs": [],
   "source": [
    "function inverse_kinematics(desired_pos)\n",
    "\n",
    "    # Define the function to be solved\n",
    "    function f!(F, q)\n",
    "        # TODO: Implement the function for the inverse kinematics\n",
    "        # HINT: First Calculate the forward kinematics for the current joint angles and get the position \n",
    "        # HINT: Then calculate the error between the current position and the desired position\n",
    "        F[1] = ... \n",
    "        F[2] = ...\n",
    "        F[3] = ...\n",
    "    \n",
    "\n",
    "    # Set an initial guess for the joint angles\n",
    "    q0 = [0.0, 0.0, 0.0, 0.0]\n",
    "\n",
    "    # Solve for the joint angles using NLsolve\n",
    "    result = nlsolve(f!, q0)\n",
    "\n",
    "    # Check if the solver converged\n",
    "    if !result.f_converged\n",
    "        println(\"Solver did not converge!\")\n",
    "        println(result)\n",
    "        return nothing\n",
    "    end\n",
    "\n",
    "    # Return the joint angles\n",
    "    println(result)\n",
    "    return result.zero\n",
    "end"
   ]
  },
  {
   "attachments": {},
   "cell_type": "markdown",
   "metadata": {},
   "source": [
    "Let's test our inverse kinematics function by giving it a desired position and seeing if it can find the joint angles that will move the end effector to that position. Let's use the position we estimated erlier."
   ]
  },
  {
   "cell_type": "code",
   "execution_count": null,
   "metadata": {},
   "outputs": [],
   "source": [
    "pos = pos_heading[1]"
   ]
  },
  {
   "cell_type": "code",
   "execution_count": null,
   "metadata": {},
   "outputs": [],
   "source": [
    "inverse_kinematics(pos) # 0.6, 0.6, -0.5, -0.1"
   ]
  },
  {
   "attachments": {},
   "cell_type": "markdown",
   "metadata": {},
   "source": [
    "Well this is not the position we wanted. The reason for this is that the inverse kinematics solver finds a solution to the problem we provided. We did however not provide the heading of the end effector and therefore the solver found a solution where the end effector is pointing in a different direction than the one we wanted. \n",
    "\n",
    "Let us define a new ```inverse_kinematics``` function that takes the desired position and orientation as input and returns the joint angles that will move the end effector to that position and orientation. Since we already have a function that calculates the forward kinematics and gives us a position and orientation we can use that to calculate the current position and orientation of the end effector and set a fourth constraint for the inverse kinematics solver. Keep in mind that we only have 4 joints and therefore we can only set 4 constraints."
   ]
  },
  {
   "cell_type": "code",
   "execution_count": null,
   "metadata": {},
   "outputs": [],
   "source": [
    "function inverse_kinematics(desired_pos, desired_orient)\n",
    "    # Define the function to be solved\n",
    "    function inv_f!(F, q)\n",
    "        # TODO: Implement the function for the inverse kinematics using the desired position and orientation\n",
    "        # HINT: First Calculate the forward kinematics for the current joint angles and get the position and orientation\n",
    "        # HINT: Then calculate the error between the current position and the desired position as before\n",
    "        # HINT: Calculate the error between the current orientation and the desired orientation using the RPY angles\n",
    "    end\n",
    "\n",
    "    # Set an initial guess for the joint angles\n",
    "    q0 = [0.0, 0.0, 0.0, 0.0]\n",
    "\n",
    "    # Solve for the joint angles using NLsolve\n",
    "    result = nlsolve(inv_f!, q0)\n",
    "\n",
    "    # Check if the solver converged\n",
    "    if !result.f_converged\n",
    "        println(\"Solver did not converge\")\n",
    "        return nothing\n",
    "    end\n",
    "\n",
    "    # Return the joint angles\n",
    "    println(result)\n",
    "    return result.zero\n",
    "end"
   ]
  },
  {
   "attachments": {},
   "cell_type": "markdown",
   "metadata": {},
   "source": [
    "Let's test our new inverse kinematics function by giving it a desired position and orientation and seeing if it can find the joint angles that will move the end effector to that position and orientation."
   ]
  },
  {
   "cell_type": "code",
   "execution_count": null,
   "metadata": {},
   "outputs": [],
   "source": [
    "pos = pos_heading[1]\n",
    "heading = pos_heading[2]\n",
    "inverse_kinematics(pos, heading) # 0.6, 0.6, -0.5, -0.1"
   ]
  },
  {
   "attachments": {},
   "cell_type": "markdown",
   "metadata": {},
   "source": [
    "That looks better. We can now use this method to move the end effector to any position and orientation we want.\n",
    "\n",
    "However, there is one problem. The inverse kinematics solver can only find a solution if the desired position and orientation is reachable. If we give it a position and orientation that is not reachable it will not find a solution. Let's test this by giving it a position and orientation that is not reachable."
   ]
  },
  {
   "cell_type": "code",
   "execution_count": null,
   "metadata": {},
   "outputs": [],
   "source": [
    "inverse_kinematics([0.3, 0.3, 0.16], [0.0, 0.0, 0.0])"
   ]
  },
  {
   "attachments": {},
   "cell_type": "markdown",
   "metadata": {},
   "source": [
    "There is another Problem. The inverse kinematics solver can find a solution even if the robot itself is not able to reach the desired position. This may be for example due to constraints of the maximum rotation of the joints.\n",
    "\n",
    "Let's test this by giving it a position that is reachable but the robot itself is not able to reach. We can find one by checking the limits of the joints and using the forward kinematic solver to find the position of the end effector for the maximum rotation of the joints.\n",
    "We have the following limits: \n",
    "\n",
    "Joint 1:\n",
    "```<limit velocity=\"4.8\" effort=\"1\" lower=\"${-pi*0.9}\" upper=\"${pi*0.9}\" />```\n",
    "\n",
    "Joint 2:\n",
    "```<limit velocity=\"4.8\" effort=\"1\" lower=\"${-pi*0.57}\" upper=\"${pi*0.5}\" />```\n",
    "\n",
    "Joint 3:\n",
    "```<limit velocity=\"4.8\" effort=\"1\" lower=\"${-pi*0.3}\" upper=\"${pi*0.44}\" />```\n",
    "\n",
    "Joint 4:\n",
    "```<limit velocity=\"4.8\" effort=\"1\" lower=\"${-pi*0.57}\" upper=\"${pi*0.65}\" />```"
   ]
  },
  {
   "cell_type": "code",
   "execution_count": null,
   "metadata": {},
   "outputs": [],
   "source": [
    "pos_heading = complete_forward_kinematics([-π*1.2, 0.6, -0.5, -0.1]) # above limit for joint 1"
   ]
  },
  {
   "cell_type": "code",
   "execution_count": null,
   "metadata": {},
   "outputs": [],
   "source": [
    "inverse_kinematics(pos_heading[1])"
   ]
  },
  {
   "attachments": {},
   "cell_type": "markdown",
   "metadata": {},
   "source": [
    "So we can see that we have to be careful with the results of our inverse kinematics solver. We have to check if the solution is reachable and if the robot itself is able to reach the desired position. "
   ]
  }
 ],
 "metadata": {
  "kernelspec": {
   "display_name": "Julia 1.10.2",
   "language": "julia",
   "name": "julia-1.10"
  },
  "language_info": {
   "file_extension": ".jl",
   "mimetype": "application/julia",
   "name": "julia",
   "version": "1.10.2"
  },
  "orig_nbformat": 4
 },
 "nbformat": 4,
 "nbformat_minor": 2
}
