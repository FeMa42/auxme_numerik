{
 "cells": [
  {
   "cell_type": "markdown",
   "id": "45cfe957",
   "metadata": {},
   "source": [
    "# Inverse Kinematics\n",
    "In this section we will implement a method for the inverse kinematics. It will estimate the joint angles based on the position and orientation of the end effector. Today we will use the NLsolve library to solve the inverse kinematics problem. In later lectures we will learn how to implement our own inverse kinematics solver. "
   ]
  },
  {
   "cell_type": "code",
   "execution_count": null,
   "id": "d4119717",
   "metadata": {
    "vscode": {
     "languageId": "julia"
    }
   },
   "outputs": [],
   "source": [
    "Pkg.add(\"NLsolve\")\n",
    "Pkg.add(\"LinearAlgebra\")"
   ]
  },
  {
   "cell_type": "code",
   "execution_count": null,
   "id": "0c61276d",
   "metadata": {
    "vscode": {
     "languageId": "julia"
    }
   },
   "outputs": [],
   "source": [
    "using NLsolve\n",
    "using LinearAlgebra"
   ]
  },
  {
   "cell_type": "markdown",
   "id": "1651a0b4",
   "metadata": {},
   "source": [
    "To estimate the joint angles we first define a function that we want to solve. This function takes the joint angles as input and returns the difference between the current position and the desired position of the end effector. We want to find a point where this difference is zero. \n",
    "\n",
    "Therefore we set an initial guess and use the NLsolve library to solve the function."
   ]
  },
  {
   "cell_type": "code",
   "execution_count": null,
   "id": "9421a9e2",
   "metadata": {
    "vscode": {
     "languageId": "julia"
    }
   },
   "outputs": [],
   "source": [
    "function inverse_kinematics(desired_pos)\n",
    "    # Define the function to be solved\n",
    "    function f!(F, q)\n",
    "        # Calculate the forward kinematics for the current joint angles\n",
    "        current_pos_heading = complete_forward_kinematics(q)\n",
    "        # The current position of the end effector\n",
    "        current_pos = current_pos_heading[1]\n",
    "        # Calculate the error between the current position and the desired position\n",
    "        F[1] = current_pos[1] - desired_pos[1]\n",
    "        F[2] = current_pos[2] - desired_pos[2]\n",
    "        F[3] = current_pos[3] - desired_pos[3]\n",
    "    end\n",
    "\n",
    "    # Set an initial guess for the joint angles\n",
    "    q0 = [0.0, 0.0, 0.0, 0.0]\n",
    "\n",
    "    # Solve for the joint angles using NLsolve\n",
    "    result = nlsolve(f!, q0)\n",
    "\n",
    "    # Check if the solver converged\n",
    "    if !result.f_converged\n",
    "        println(\"Solver did not converge!\")\n",
    "        println(result)\n",
    "        return nothing\n",
    "    end\n",
    "\n",
    "    # Return the joint angles\n",
    "    println(result)\n",
    "    return result.zero\n",
    "end"
   ]
  },
  {
   "cell_type": "markdown",
   "id": "d15400e9",
   "metadata": {},
   "source": [
    "Let's test our inverse kinematics function by giving it a desired position and seeing if it can find the joint angles that will move the end effector to that position. Let's use the position we estimated erlier."
   ]
  },
  {
   "cell_type": "code",
   "execution_count": null,
   "id": "b580f810",
   "metadata": {
    "vscode": {
     "languageId": "julia"
    }
   },
   "outputs": [],
   "source": [
    "pos = pos_heading[1]"
   ]
  },
  {
   "cell_type": "code",
   "execution_count": null,
   "id": "1edd7aaa",
   "metadata": {
    "vscode": {
     "languageId": "julia"
    }
   },
   "outputs": [],
   "source": [
    "inverse_kinematics(pos) # 0.6, 0.6, -0.5, -0.1"
   ]
  },
  {
   "cell_type": "markdown",
   "id": "4a0afcfe",
   "metadata": {},
   "source": [
    "Well this is not the position we wanted. The reason for this is that the inverse kinematics solver finds a solution to the problem we provided. We did however not provide the heading of the end effector and therefore the solver found a solution where the end effector is pointing in a different direction than the one we wanted. \n",
    "\n",
    "Let us define a new ```inverse_kinematics``` function that takes the desired position and orientation as input and returns the joint angles that will move the end effector to that position and orientation. Since we already have a function that calculates the forward kinematics and gives us a position and orientation we can use that to calculate the current position and orientation of the end effector and set a fourth constraint for the inverse kinematics solver. Keep in mind that we only have 4 joints and therefore we can only set 4 constraints."
   ]
  },
  {
   "cell_type": "code",
   "execution_count": null,
   "id": "547e70a3",
   "metadata": {
    "vscode": {
     "languageId": "julia"
    }
   },
   "outputs": [],
   "source": [
    "function inverse_kinematics(desired_pos, desired_orient)\n",
    "    # Define the function to be solved\n",
    "    function inv_f!(F, q)\n",
    "        # Calculate the forward kinematics for the current joint angles\n",
    "        current_pos_heading = complete_forward_kinematics(q)\n",
    "        # The current position of the end effector\n",
    "        current_pos = current_pos_heading[1]\n",
    "        # Calculate the error between the current position and the desired position\n",
    "        F[1] = current_pos[1] - desired_pos[1]\n",
    "        F[2] = current_pos[2] - desired_pos[2]\n",
    "        F[3] = current_pos[3] - desired_pos[3]\n",
    "\n",
    "        # The current orientation of the end effector\n",
    "        current_orient = current_pos_heading[2]\n",
    "        # Calculate the error between the current orientation and the desired orientation\n",
    "        F[4] = (current_orient[1] - desired_orient[1])^2 + (current_orient[2] - desired_orient[2])^2 + (current_orient[3] - desired_orient[3])^2\n",
    "    end\n",
    "\n",
    "    # Set an initial guess for the joint angles\n",
    "    q0 = [0.0, 0.0, 0.0, 0.0]\n",
    "\n",
    "    # Solve for the joint angles using NLsolve\n",
    "    result = nlsolve(inv_f!, q0)\n",
    "\n",
    "    # Check if the solver converged\n",
    "    if !result.f_converged\n",
    "        println(\"Solver did not converge\")\n",
    "        return nothing\n",
    "    end\n",
    "\n",
    "    # Return the joint angles\n",
    "    println(result)\n",
    "    return result.zero\n",
    "end"
   ]
  },
  {
   "cell_type": "markdown",
   "id": "34b04501",
   "metadata": {},
   "source": [
    "Let's test our new inverse kinematics function by giving it a desired position and orientation and seeing if it can find the joint angles that will move the end effector to that position and orientation."
   ]
  },
  {
   "cell_type": "code",
   "execution_count": null,
   "id": "83fbdf89",
   "metadata": {
    "vscode": {
     "languageId": "julia"
    }
   },
   "outputs": [],
   "source": [
    "pos = pos_heading[1]\n",
    "heading = pos_heading[2]\n",
    "inverse_kinematics(pos, heading) # 0.6, 0.6, -0.5, -0.1"
   ]
  },
  {
   "cell_type": "markdown",
   "id": "c39e7e07",
   "metadata": {},
   "source": [
    "That looks better. We can now use this method to move the end effector to any position and orientation we want.\n",
    "\n",
    "However, there is one problem. The inverse kinematics solver can only find a solution if the desired position and orientation is reachable. If we give it a position and orientation that is not reachable it will not find a solution. Let's test this by giving it a position and orientation that is not reachable."
   ]
  },
  {
   "cell_type": "code",
   "execution_count": null,
   "id": "04923a53",
   "metadata": {
    "vscode": {
     "languageId": "julia"
    }
   },
   "outputs": [],
   "source": [
    "inverse_kinematics([0.3, 0.3, 0.16], [0.0, 0.0, 0.0])"
   ]
  },
  {
   "cell_type": "markdown",
   "id": "069614cd",
   "metadata": {},
   "source": [
    "There is another Problem. The inverse kinematics solver can find a solution even if the robot itself is not able to reach the desired position. This may be for example due to constraints of the maximum rotation of the joints.\n",
    "\n",
    "Let's test this by giving it a position that is reachable but the robot itself is not able to reach. We can find one by checking the limits of the joints and using the forward kinematic solver to find the position of the end effector for the maximum rotation of the joints.\n",
    "We have the following limits: \n",
    "\n",
    "Joint 1:\n",
    "```<limit velocity=\"4.8\" effort=\"1\" lower=\"${-pi*0.9}\" upper=\"${pi*0.9}\" />```\n",
    "\n",
    "Joint 2:\n",
    "```<limit velocity=\"4.8\" effort=\"1\" lower=\"${-pi*0.57}\" upper=\"${pi*0.5}\" />```\n",
    "\n",
    "Joint 3:\n",
    "```<limit velocity=\"4.8\" effort=\"1\" lower=\"${-pi*0.3}\" upper=\"${pi*0.44}\" />```\n",
    "\n",
    "Joint 4:\n",
    "```<limit velocity=\"4.8\" effort=\"1\" lower=\"${-pi*0.57}\" upper=\"${pi*0.65}\" />```"
   ]
  },
  {
   "cell_type": "code",
   "execution_count": null,
   "id": "c9c4d44a",
   "metadata": {
    "vscode": {
     "languageId": "julia"
    }
   },
   "outputs": [],
   "source": [
    "pos_heading = complete_forward_kinematics([-π*1.2, 0.6, -0.5, -0.1]) # above limit for joint 1"
   ]
  },
  {
   "cell_type": "code",
   "execution_count": null,
   "id": "fe6f0ff1",
   "metadata": {
    "vscode": {
     "languageId": "julia"
    }
   },
   "outputs": [],
   "source": [
    "inverse_kinematics(pos_heading[1])"
   ]
  },
  {
   "cell_type": "markdown",
   "id": "18d9e17e",
   "metadata": {},
   "source": [
    "So we can see that we have to be careful with the results of our inverse kinematics solver. We have to check if the solution is reachable and if the robot itself is able to reach the desired position. "
   ]
  }
 ],
 "metadata": {
  "language_info": {
   "name": "python"
  }
 },
 "nbformat": 4,
 "nbformat_minor": 5
}
