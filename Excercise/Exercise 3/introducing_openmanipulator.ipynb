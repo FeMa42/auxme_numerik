{
 "cells": [
  {
   "attachments": {},
   "cell_type": "markdown",
   "metadata": {},
   "source": [
    "# Introducing OpenManipulator-X\n",
    "Wir werden hier die Grundlegenden Funktionalitäten des OpenManipulator-X Roboterarms kennenlernen. Normalerweiße gibt es bereits eine Implementierung für die Vorwärts und Rückwärtskinemtic des Openmanipulator, der Roboter wird in der Gazebo-Umgebung simuliert und die Bewegung des Roboters mit Hilfe von ROS angesteuert. \n",
    "\n",
    "In den Übungen werden wir allerdings solbst die Kinematik implementieren und den Roberarm mithilfe von `MeshCatMechanisms.jl` und `RigidBodyDynamics.jl` simulieren und steuern."
   ]
  },
  {
   "attachments": {},
   "cell_type": "markdown",
   "metadata": {},
   "source": [
    "## Installation\n",
    "\n",
    "Zum start müssen wir noch die folgenden Pakete laden und installieren. Die Installation der Pakete kann einige Zeit in Anspruch nehmen. Ist müsst sie aber nur einmal durchführen.\n",
    "\n",
    "> Vergesst nicht, dass ihr den Julia-Kernel für dieses Notebook auswählt. Er sollte in ```/snap/bin/julia``` sein"
   ]
  },
  {
   "cell_type": "code",
   "execution_count": null,
   "metadata": {},
   "outputs": [],
   "source": [
    "import Pkg\n",
    "# Pkg.generate(\"OpenMEnv\") # generate a new package\n",
    "Pkg.activate(\"OpenMEnv\") # activate the package\n",
    "Pkg.add(\"RigidBodyDynamics\")\n",
    "Pkg.add(\"MeshCatMechanisms\")\n",
    "Pkg.add(\"MeshCat\")\n",
    "Pkg.add(\"LinearAlgebra\")\n",
    "Pkg.add(\"StaticArrays\")"
   ]
  },
  {
   "attachments": {},
   "cell_type": "markdown",
   "metadata": {},
   "source": [
    "## Environment Initialisierung\n",
    "\n",
    "Als nächstes müssen wir das Environment initialisieren. Dazu müssen wir die folgenden Zeilen ausführen. "
   ]
  },
  {
   "cell_type": "code",
   "execution_count": null,
   "metadata": {},
   "outputs": [],
   "source": [
    "import Pkg\n",
    "Pkg.activate(\"OpenMEnv\") \n",
    "using RigidBodyDynamics\n",
    "using MeshCatMechanisms\n",
    "using MeshCat\n",
    "using LinearAlgebra\n",
    "using StaticArrays"
   ]
  },
  {
   "cell_type": "markdown",
   "metadata": {},
   "source": [
    "## Laden der OpenManipulator-X Beschreibung\n",
    "\n",
    "Unter `../open_manipulator_description/urdf/` findet ihr die URDF-Datei des OpenManipulator-X. In ihr wird die Struktur des Roboters anhand von Links, Gelenken und deren Eigenschaften beschrieben. Dort sind zu dem die meshes der einzelnen Teile referenziert. Die Datei ist nicht sehr groß und übersichtlich. Schaut euch die Datei an und vergleicht sie mit der Beschreibung des Roboterarms [hardware-specification](https://emanual.robotis.com/docs/en/platform/openmanipulator_x/specification/#hardware-specification). Die URDF-Datei wird in den folgenden Schritten geladen und zur visualisierung verwendet. "
   ]
  },
  {
   "cell_type": "code",
   "execution_count": null,
   "metadata": {},
   "outputs": [],
   "source": [
    "srcdir = \"../open_manipulator_description/urdf/\"\n",
    "urdf = joinpath(srcdir, \"open_manipulator.urdf\")\n",
    "mechanism = parse_urdf(urdf)"
   ]
  },
  {
   "attachments": {},
   "cell_type": "markdown",
   "metadata": {},
   "source": [
    "Wie ihr seht besteht das `mechanism`objekt des Roboterarms aus einem `tree` mit `vertices` und `edges`. Vergleicht die Ausgabe mit dem folgenden Bild welches den Roboterarm zeigt. Die Beschreibung started mit dem `world` Koordinatensystem und geht anschließend von unten nach oben die `links` und `joints` entlang. In dem Bild werden für die `joints` die IDs [ID11, ID12, ID13, ID14, ID15] verwendet. Wir können also recht einfach die Struktur des Roboters sehen.\n",
    "\n",
    "![Image](./OpenManipulator.png)\n",
    "\n",
    "## Visualisierung\n",
    "\n",
    "Als nächstes starten wir die Simulation und Visualisierung des Roboters. Dazu müssen wir die folgenden Zeilen ausführen."
   ]
  },
  {
   "cell_type": "code",
   "execution_count": null,
   "metadata": {},
   "outputs": [],
   "source": [
    "mvis = MechanismVisualizer(mechanism, URDFVisuals(urdf));\n",
    "render(mvis)"
   ]
  },
  {
   "cell_type": "markdown",
   "metadata": {},
   "source": [
    "Ihr könnt in der Visualisierung mit der Maus navigieren um den Roboterarm von verschiedenen Perspektiven zu betrachten. \n",
    "\n",
    "Als nächstes wollen wir den Roboterarm bewegen. Ohne die Kinematik zu implementieren können wir nur die Gelenkwinkel des Roboters ändern. Mit der methode `set_configuration` können wir die Gelenkwinkel des Roboters ändern. Hier können wir 7 Werte anpassen um die Gelenkwinkel zu ändern. Die ersten 4 sind die Winkle der Gelenke von unten nach oben [ID11, ID12, ID13, ID14], der 5. und 6. Wert ist für die Steuerung des Grippers. "
   ]
  },
  {
   "cell_type": "code",
   "execution_count": null,
   "metadata": {},
   "outputs": [],
   "source": [
    "set_configuration!(mvis, [0.0, 1.5, -1.5, 0.0, 0.0, 0.0])"
   ]
  },
  {
   "cell_type": "markdown",
   "metadata": {},
   "source": [
    "Wenn wir die Winkel ändern, können wir sehen wie sich der Zustand des Roboterarms verändert."
   ]
  },
  {
   "attachments": {},
   "cell_type": "markdown",
   "metadata": {},
   "source": [
    "Um den Roboterarm in die Ausgangsposition zu bringen, können wir die folgenden Werte verwenden: [0.0, 0.0, 0.0, 0.0, 0.0, 0.0]."
   ]
  },
  {
   "cell_type": "code",
   "execution_count": null,
   "metadata": {},
   "outputs": [],
   "source": [
    "set_configuration!(mvis, [0.0, 0.0, 0.0, 0.0, 0.0, 0.0])"
   ]
  },
  {
   "cell_type": "markdown",
   "metadata": {},
   "source": [
    "Um den aktuellen Zustand des Roboters zu erhalten, können wir den state der Simulation abfragen."
   ]
  },
  {
   "cell_type": "code",
   "execution_count": null,
   "metadata": {},
   "outputs": [],
   "source": [
    "state = mvis.state\n",
    "joint_state = mvis.state.q"
   ]
  },
  {
   "cell_type": "markdown",
   "metadata": {},
   "source": [
    "Wir können auch die Geschwindigkeit der Gelenke abfragen. Diese werden wir aber auch noch in einer späteren Übung selbst berechnen."
   ]
  },
  {
   "cell_type": "code",
   "execution_count": null,
   "metadata": {},
   "outputs": [],
   "source": [
    "mvis.state.v"
   ]
  },
  {
   "cell_type": "markdown",
   "metadata": {},
   "source": [
    "# Motivation zur Kinematik\n",
    "\n",
    "Was ist wenn wir jetzt aber wissen wollen wo sich der Endeffektor des Roboters befindet, wenn wir die Gelenkwinkel kennen? Der Roboter hat ja ein definiertes Koordinatensystem anhand dessen wir die Tranformationen ausrechnen können. Deshalb bekommen wir alle informationen die wir benötigen aus der Simulation. Allerdings müssen wir dann die Kinematik des Roboters berechnen. Als kleiner vorgeschmack schauen wir uns noch ein paar Funktionen aus `RigidBodyDynamics` wie zum Beispiel die `transform_to_root` Methode an. Wir werden diese Methoden später selber implementieren aber um zu sehen warum wir sie brauchen, schauen wir uns sie jetzt an.\n",
    "\n",
    "Die `transform_to_root` Methode gibt uns die Transformation eines Punktes relativ zum Basis-Koordinatensystem des Roboters an. "
   ]
  },
  {
   "cell_type": "code",
   "execution_count": null,
   "metadata": {},
   "outputs": [],
   "source": [
    "gripper_joint = findjoint(mechanism, \"gripper\")\n",
    "transform_to_root(mvis.state, frame_after(gripper_joint))"
   ]
  },
  {
   "cell_type": "markdown",
   "metadata": {},
   "source": [
    "Mit der Methode `transform` können wir die Transformation eines Punktes relativ zu einem anderen Punkt berechnen. So können wir zum Beispiel die Transformation des Endeffektors relativ zum Ursprung berechnen. "
   ]
  },
  {
   "cell_type": "code",
   "execution_count": null,
   "metadata": {},
   "outputs": [],
   "source": [
    "zero_v = zero(SVector{3})\n",
    "world = findbody(mechanism, \"world\")\n",
    "\n",
    "ee = transform(mvis.state, Point3D(frame_after(gripper_joint), zero_v), default_frame(world))"
   ]
  },
  {
   "cell_type": "markdown",
   "metadata": {},
   "source": [
    "Testet die Methode mit verschiedenen Punkten und schaut ob die Transformationen korrekt sind. In der nächsten Übung werden wir die Kinematic dann selbst implementieren."
   ]
  },
  {
   "cell_type": "markdown",
   "metadata": {},
   "source": [
    "### Simulation?\n",
    "\n",
    "Ihr habt vielleicht bemerkt, dass die Simulation nicht wirklich realistisch ist. Der Roboterarm bewegt sich nicht \"wirklich\". Wir setzen nur den Zustand und die Visualisierung wird aktualisiert. Um eine Bewegung zu simulieren können wir die `simulate` Methode verwenden. In dieser können wir den Zustand und eine Zeit angeben. Eine Simulation wird dann in der angegebenen Zeit durchgeführt.\n",
    "\n",
    "Als erstes setzen wir den Roboterarm in die Ausgangsposition. Anschließend führen wir eine Simulation für 0.5 Sekunden durch. "
   ]
  },
  {
   "cell_type": "code",
   "execution_count": null,
   "metadata": {},
   "outputs": [],
   "source": [
    "set_configuration!(mvis, [0.0, 0.0, 0.0, 0.0, 0.0, 0.0])\n",
    "zero_velocity!(state)"
   ]
  },
  {
   "cell_type": "code",
   "execution_count": null,
   "metadata": {},
   "outputs": [],
   "source": [
    "final_time = 3.0\n",
    "ts, qs, vs = simulate(mvis.state, final_time);"
   ]
  },
  {
   "cell_type": "code",
   "execution_count": null,
   "metadata": {},
   "outputs": [],
   "source": [
    "animate(mvis, ts, qs);"
   ]
  },
  {
   "cell_type": "markdown",
   "metadata": {},
   "source": [
    "Was passiert hier? Könnt ihr euch erklären warum der Roboterarm sich so bewegt?\n",
    "\n",
    "Wir setzen den Roboterarm noch mal zurück und implementieren eine Methode welche die Drehmomente der Gelenke aktiv auf 0.0 setzt und führen anschließend noch mal eine Simulation durch. "
   ]
  },
  {
   "cell_type": "code",
   "execution_count": null,
   "metadata": {},
   "outputs": [],
   "source": [
    "set_configuration!(mvis, [0.0, 0.0, 0.0, 0.0, 0.0, 0.0])\n",
    "zero_velocity!(state)"
   ]
  },
  {
   "cell_type": "code",
   "execution_count": null,
   "metadata": {},
   "outputs": [],
   "source": [
    "om_joints = joints(mechanism)\n",
    "function simple_control!(torques::AbstractVector, t, state::MechanismState)\n",
    "    for joint in om_joints\n",
    "        torques[velocity_range(state, joint)] .= 0.0\n",
    "    end\n",
    "end;"
   ]
  },
  {
   "cell_type": "code",
   "execution_count": null,
   "metadata": {},
   "outputs": [],
   "source": [
    "final_time = 3.0\n",
    "ts, qs, vs = simulate(mvis.state, final_time, simple_control!; Δt=1e-2);"
   ]
  },
  {
   "cell_type": "code",
   "execution_count": null,
   "metadata": {},
   "outputs": [],
   "source": [
    "animate(mvis, ts, qs);"
   ]
  },
  {
   "cell_type": "markdown",
   "metadata": {},
   "source": [
    "Da wir jetzt wissen dass keine Drehmomente anliegen, sehen wir, dass die Bewegung durch die Simulation der Massen und Trägheitsmomente der Gelenke zustande kommt. Normalerweiße können wir die Servos des Roboterarms steuern und die Gelenkwinkel die wir haben wollen direkt setzen. Da aber die Definition der Gelenke als `revolute` Gelenke in der URDF-Datei definiert sind, können wir die Gelenke nur über die Drehmomente steuern. \n",
    "\n",
    "Als kleinen \"tirck\" können wir die Geschwindigkeiten der Gelenke auf 0.0 setzen und die Simulation durchführen. Wenn wir das für alle gelenke bis auf das erste Gelenk machen, können wir den Roboterarm an diesem Gelenk steuern. Zum Beispiel können wir so lange das erste Gelenk steuern bis der Roboterarm in der gewünschten Position ist."
   ]
  },
  {
   "cell_type": "code",
   "execution_count": null,
   "metadata": {},
   "outputs": [],
   "source": [
    "set_configuration!(mvis, [0.0, 0.0, 0.0, 0.0, 0.0, 0.0])\n",
    "zero_velocity!(state)"
   ]
  },
  {
   "cell_type": "code",
   "execution_count": null,
   "metadata": {},
   "outputs": [],
   "source": [
    "function joint_position_control(q_state, v_state, q_desired)\n",
    "    kp = 2.0\n",
    "    v_damping = 0.5\n",
    "    max_torque = 1.0\n",
    "\n",
    "    torque = kp * (q_desired - q_state) - v_damping * v_state\n",
    "    torque = clamp.(torque, -max_torque, max_torque)\n",
    "    \n",
    "    return torque\n",
    "end;"
   ]
  },
  {
   "cell_type": "code",
   "execution_count": null,
   "metadata": {},
   "outputs": [],
   "source": [
    "function simple_joint_control!(torques::AbstractVector, t, state::MechanismState)\n",
    "    joint_number = 1\n",
    "    joint_position = 0.5\n",
    "\n",
    "    for j_iter in 1:6\n",
    "        if j_iter != joint_number\n",
    "            state.v[j_iter] = 0.0\n",
    "        end\n",
    "    end\n",
    "    for joint in om_joints\n",
    "        torques[velocity_range(state, joint)] .= 0.0\n",
    "    end\n",
    "    torques[velocity_range(state, om_joints[joint_number])] .= joint_position_control(state.q[joint_number], state.v[joint_number], joint_position)\n",
    "end;"
   ]
  },
  {
   "cell_type": "code",
   "execution_count": null,
   "metadata": {},
   "outputs": [],
   "source": [
    "final_time = 5.0\n",
    "ts, qs, vs = simulate(mvis.state, final_time, simple_joint_control!; Δt=1e-2);\n",
    "animate(mvis, ts, qs);\n",
    "joint_state = mvis.state.q"
   ]
  },
  {
   "cell_type": "markdown",
   "metadata": {},
   "source": [
    "**Aufgabe:** Testet Verschiedene Werte für Regelung der Gelenke (`kp` und `v_damping`) und schaut wie sich der Roboterarm bewegt. Was passiert bei hohen und was bei niedrigen Werten? Könnt ihr die Regelung beschreiben und wie könnte man die Bewegung des Roboterarms verbessern? "
   ]
  },
  {
   "cell_type": "markdown",
   "metadata": {},
   "source": [
    "# Zusammenfassung\n",
    "Wir haben gesehen wie man den Robotarm Visualisieren und in der Simulation ansteuern kann. Wir haben auch gesehen dass es recht schwierig ist den Roboterarm zu steuern wenn wir die Positionen und die Geschwindigkeit nicht kennen und die Gelenke nur über die Drehmomente steuern können. In den nächsten Übungen werden wir uns deshalb genau diese Probleme anschauen."
   ]
  }
 ],
 "metadata": {
  "kernelspec": {
   "display_name": "Julia 1.10.2",
   "language": "julia",
   "name": "julia-1.10"
  },
  "language_info": {
   "file_extension": ".jl",
   "mimetype": "application/julia",
   "name": "julia",
   "version": "1.10.2"
  },
  "orig_nbformat": 4
 },
 "nbformat": 4,
 "nbformat_minor": 2
}
