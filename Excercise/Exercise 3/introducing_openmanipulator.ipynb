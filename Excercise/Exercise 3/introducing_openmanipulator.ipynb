{
 "cells": [
  {
   "attachments": {},
   "cell_type": "markdown",
   "metadata": {},
   "source": [
    "# Introducing OpenManipulator-X\n",
    "Wir werden hier die Grundlegenden Funktionalitäten des OpenManipulator-X Roboterarms kennenlernen."
   ]
  },
  {
   "attachments": {},
   "cell_type": "markdown",
   "metadata": {},
   "source": [
    "## Installation\n",
    "Perform the following code just once. It will download the necessary files and compile them. This will take a while.\n",
    "Don'T forget to select julia as the kernel for this notebook. It should be in ```/snap/bin/julia```"
   ]
  },
  {
   "cell_type": "code",
   "execution_count": null,
   "metadata": {},
   "outputs": [],
   "source": [
    "import Pkg\n",
    "Pkg.generate(\"OpenMEnv\") # generate a new package\n",
    "Pkg.activate(\"OpenMEnv\") # activate the package\n",
    "Pkg.add(\"Revise\")\n",
    "Pkg.add(\"PyCall\")\n",
    "Pkg.add(\"RobotOS\")"
   ]
  },
  {
   "attachments": {},
   "cell_type": "markdown",
   "metadata": {},
   "source": [
    "## Environment Initialization\n",
    "If you performed the lines ahead you can just skip this step and activate the virtual environment \"OpenMEnv\". To use Methods implemented in OpenManipulatorBase.jl we include the file and import the module OpenManipulatorBase. The module OpenManipulatorBase contains all the necessary functions to control the OpenManipulator-X. "
   ]
  },
  {
   "cell_type": "code",
   "execution_count": null,
   "metadata": {},
   "outputs": [],
   "source": [
    "import Pkg\n",
    "Pkg.activate(\"OpenMEnv\") \n",
    "using Revise\n",
    "include(\"OpenManipulatorBase.jl\")\n",
    "#def OpenManipulatorBase\n",
    "using .OpenManipulatorBase"
   ]
  },
  {
   "attachments": {},
   "cell_type": "markdown",
   "metadata": {},
   "source": [
    "## Start the Simulation \n",
    "Next we start Gazebo. Gazebo is a 3D simulator for robots. It is used to simulate the OpenManipulator-X. The following code will start Gazebo and load the OpenManipulator-X model:"
   ]
  },
  {
   "cell_type": "code",
   "execution_count": null,
   "metadata": {},
   "outputs": [],
   "source": [
    "OpenManipulatorBase.start_gazebo() "
   ]
  },
  {
   "attachments": {},
   "cell_type": "markdown",
   "metadata": {},
   "source": [
    "Now before we start the conroller we have to start the simulation in gazebo. This can be done by pressing the play button in the bottom left corner of the gazebo window. \n",
    "\n",
    "![Image](./gazebo.png)"
   ]
  },
  {
   "attachments": {},
   "cell_type": "markdown",
   "metadata": {},
   "source": [
    "## Start the Controller\n",
    "Next we intitialize the OpenManipulator-X controller. It starts several Services that can be used to control the Robot. Information about the robot can also be obtained via topics where the controller publishes.\n",
    "You can get an overview of Topics and Services on the following website: https://emanual.robotis.com/docs/en/platform/openmanipulator_x/ros_controller_msg/"
   ]
  },
  {
   "cell_type": "code",
   "execution_count": null,
   "metadata": {},
   "outputs": [],
   "source": [
    "OpenManipulatorBase.start_controller(true)"
   ]
  },
  {
   "cell_type": "code",
   "execution_count": null,
   "metadata": {},
   "outputs": [],
   "source": [
    "OpenManipulatorBase.init()"
   ]
  },
  {
   "attachments": {},
   "cell_type": "markdown",
   "metadata": {},
   "source": [
    "If the function above does not finish: Did you press play in Gazebo? "
   ]
  },
  {
   "attachments": {},
   "cell_type": "markdown",
   "metadata": {},
   "source": [
    "## Control the Robot\n",
    "The following code will move the robot to a predefined position. The position is defined by the joint angles of the robot. The joint angles are defined in radians. Since we can move 4 joints we need to define 4 angles. The following code will move the robot to the position [0.6, 0.6, -0.5, -0.1]. The positions are from the bottom of the robot to the top, hence [ID11, ID12, ID13, ID14]. Hence the first position is the angle of the base joint, the second the angle of the shoulder joint, the third the angle of the elbow joint and the last the angle of the wrist joint. The ID15 is for the Gripper and is not used here.\n",
    "\n",
    "![Image](./OpenManipulator.png)"
   ]
  },
  {
   "cell_type": "code",
   "execution_count": null,
   "metadata": {},
   "outputs": [],
   "source": [
    "OpenManipulatorBase.set_joint_angles([0.6, 0.6, -0.5, -0.1])"
   ]
  },
  {
   "attachments": {},
   "cell_type": "markdown",
   "metadata": {},
   "source": [
    "The following code will move the robot to the position [0.0,0.0,0.0,0.0]. This is the initial position of the robot."
   ]
  },
  {
   "cell_type": "code",
   "execution_count": null,
   "metadata": {},
   "outputs": [],
   "source": [
    "OpenManipulatorBase.reset_robot()"
   ]
  },
  {
   "attachments": {},
   "cell_type": "markdown",
   "metadata": {},
   "source": [
    "We can also control the robot together with a parameter that defines how long the Robot will take for the path. The following code will move the robot to different positions with each in 1.0 second and waits by performing nothing for 1.0 second. "
   ]
  },
  {
   "cell_type": "code",
   "execution_count": null,
   "metadata": {},
   "outputs": [],
   "source": [
    "joint_rad_positions = [[-1.6, -0.6, 0.5, -0.1],\n",
    "                        [-0.0, -0.0, 0.0, -0.0],\n",
    "                        [1.6, 0.6, -0.5, -0.1],\n",
    "                        [-0.6, -0.6, -0.5, 0.2]]\n",
    "length = size(joint_rad_positions)[1]\n",
    "path_time = 1.0\n",
    "for i in 1:10\n",
    "    for i in 1:length\n",
    "        OpenManipulatorBase.send_goal_joint_space_path(joint_rad_positions[i], path_time)\n",
    "        OpenManipulatorBase.rossleep(1.0)\n",
    "    end\n",
    "end"
   ]
  },
  {
   "attachments": {},
   "cell_type": "markdown",
   "metadata": {},
   "source": [
    "Ok, so we can control the robot. But we can also get information about the robot. The following code will print the current position of the robot. The position is given in the same order as the position we used to control the robot. "
   ]
  },
  {
   "cell_type": "code",
   "execution_count": null,
   "metadata": {},
   "outputs": [],
   "source": [
    "subscribe_to_joint_states()"
   ]
  },
  {
   "cell_type": "code",
   "execution_count": null,
   "metadata": {},
   "outputs": [],
   "source": [
    "OpenManipulatorBase.set_joint_angles([0.6, 0.6, -0.5, -0.1])\n"
   ]
  },
  {
   "attachments": {},
   "cell_type": "markdown",
   "metadata": {},
   "source": [
    "We can also control the gripper with the following command:"
   ]
  },
  {
   "cell_type": "code",
   "execution_count": null,
   "metadata": {},
   "outputs": [],
   "source": [
    "send_goal_tool_control(-0.01)"
   ]
  },
  {
   "attachments": {},
   "cell_type": "markdown",
   "metadata": {},
   "source": [
    "# Motivation zur Kinematik\n",
    "The Controller defines a coordinate system (https://emanual.robotis.com/docs/en/platform/openmanipulator_x/specification/#hardware-specification) and with that we are actually able to control the robot by defining the position of the end effector. The following code will move the robot to the position [0., 0.2, 0.2] in the coordinate system of the robot."
   ]
  },
  {
   "cell_type": "code",
   "execution_count": null,
   "metadata": {},
   "outputs": [],
   "source": [
    "send_goal_task_space_path_position_only([0., 0.2, 0.2], 1.0)"
   ]
  },
  {
   "cell_type": "code",
   "execution_count": null,
   "metadata": {},
   "outputs": [],
   "source": [
    "send_goal_task_space_path_position_only([0.2, 0., 0.2], 1.0)"
   ]
  },
  {
   "cell_type": "code",
   "execution_count": null,
   "metadata": {},
   "outputs": [],
   "source": [
    "send_goal_task_space_path_position_only([0.2, 0.2, 0.04], 1.0)"
   ]
  },
  {
   "attachments": {},
   "cell_type": "markdown",
   "metadata": {},
   "source": [
    "Now you can try to move the robot to different positions. You can also try to move the robot to a position that is not reachable. What happens? "
   ]
  },
  {
   "cell_type": "code",
   "execution_count": null,
   "metadata": {},
   "outputs": [],
   "source": []
  }
 ],
 "metadata": {
  "kernelspec": {
   "display_name": "Julia 1.8.5",
   "language": "julia",
   "name": "julia-1.8"
  },
  "language_info": {
   "file_extension": ".jl",
   "mimetype": "application/julia",
   "name": "julia",
   "version": "1.8.5"
  },
  "orig_nbformat": 4
 },
 "nbformat": 4,
 "nbformat_minor": 2
}
