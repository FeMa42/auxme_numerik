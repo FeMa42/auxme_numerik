{
 "cells": [
  {
   "attachments": {},
   "cell_type": "markdown",
   "metadata": {},
   "source": [
    "# Linear Equations \n",
    "In this exercise we will look at solving linear equations. This is a frequqntly encountered task in engineering and science. For example we need to solve a linear equation to find the root of a function using the Newton method. We will look closer at two methods for solving linear equations: Gaussian elimination and LU decomposition.\n",
    "\n",
    "If you are further interested, you can take a look here https://tobydriscoll.net/fnc-julia/linsys/overview.html. "
   ]
  },
  {
   "cell_type": "markdown",
   "metadata": {},
   "source": [
    "## Linear Algebra in Julia\n",
    "First we need to learn how to do linear algebra in Julia. In the first exercise we learned how to generate and manipulate vectors and matrices. We will now learn how to do linear algebra with these objects. "
   ]
  },
  {
   "cell_type": "markdown",
   "metadata": {},
   "source": [
    "## Transposition\n",
    "As in other languages `A'` is the conjugate transpose, or adjoint"
   ]
  },
  {
   "cell_type": "code",
   "execution_count": null,
   "metadata": {},
   "outputs": [],
   "source": [
    "A = [1 2 3; 4 5 6; 7 8 10]"
   ]
  },
  {
   "cell_type": "code",
   "execution_count": null,
   "metadata": {},
   "outputs": [],
   "source": [
    "A'"
   ]
  },
  {
   "cell_type": "code",
   "execution_count": null,
   "metadata": {},
   "outputs": [],
   "source": [
    "transpose(A)"
   ]
  },
  {
   "cell_type": "markdown",
   "metadata": {},
   "source": [
    "### Transposed multiplication\n",
    "Julia allows us to write this without *"
   ]
  },
  {
   "cell_type": "code",
   "execution_count": null,
   "metadata": {},
   "outputs": [],
   "source": [
    "A'A"
   ]
  },
  {
   "cell_type": "markdown",
   "metadata": {},
   "source": [
    "Note that you can also use `A\\b` to solve the linear equation even if `A` is not square. `A\\b` gives us the *least squares solution* if we have an overdetermined linear system (a \"tall\" matrix). If we have an underdetermined linear system (a \"short\" matrix) `A\\b` gives us the minimum norm solution. "
   ]
  },
  {
   "cell_type": "markdown",
   "metadata": {},
   "source": [
    "## Linear algebra package\n",
    "Julia has a built in package for linear algebra called `LinearAlgebra`. This package contains a lot of useful functions for linear algebra. Let's look at some of them."
   ]
  },
  {
   "cell_type": "code",
   "execution_count": null,
   "metadata": {},
   "outputs": [],
   "source": [
    "using LinearAlgebra"
   ]
  },
  {
   "cell_type": "markdown",
   "metadata": {},
   "source": [
    "Computing the dot product of two vectors is done using the `dot` function:"
   ]
  },
  {
   "cell_type": "code",
   "execution_count": null,
   "metadata": {},
   "outputs": [],
   "source": [
    "v = [1, 2, 3]\n",
    "dot(v, v)"
   ]
  },
  {
   "cell_type": "markdown",
   "metadata": {},
   "source": [
    "The outer product of two vectors is computed using the transpose of the second vector:"
   ]
  },
  {
   "cell_type": "code",
   "execution_count": null,
   "metadata": {},
   "outputs": [],
   "source": [
    "v*v'"
   ]
  },
  {
   "cell_type": "markdown",
   "metadata": {},
   "source": [
    "We can compute inverse of a matrix using the `inv` function:"
   ]
  },
  {
   "cell_type": "code",
   "execution_count": null,
   "metadata": {},
   "outputs": [],
   "source": [
    "inv(A)"
   ]
  },
  {
   "cell_type": "markdown",
   "metadata": {},
   "source": [
    "We can use the inverse to solve a linear equation. However, this is not recommended since it is slower and less accurate than using `\\`. "
   ]
  },
  {
   "cell_type": "code",
   "execution_count": null,
   "metadata": {},
   "outputs": [],
   "source": [
    "x = inv(A)*b"
   ]
  },
  {
   "cell_type": "markdown",
   "metadata": {},
   "source": [
    "### Norm of a vector\n",
    "There are different commonly used norms of a vector.\n",
    "- The 2-norm is the Euclidean norm $\\|x\\|_2 = \\sqrt{\\sum_{i=1}^n x_i^2}$\n",
    "- The 1-norm is the sum of the absolute values of the elements $\\|x\\|_1 = \\sum_{i=1}^n |x_i|$\n",
    "- The $\\infty$-norm is the maximum absolute value of the elements $\\|x\\|_\\infty = \\max_i |x_i|$\n",
    "\n",
    "The norm of a vector is computed using the `norm` function:"
   ]
  },
  {
   "cell_type": "code",
   "execution_count": null,
   "metadata": {},
   "outputs": [],
   "source": [
    "x = [2,-3,1,-1]\n",
    "twonorm = norm(x) # 2-norm"
   ]
  },
  {
   "cell_type": "code",
   "execution_count": null,
   "metadata": {},
   "outputs": [],
   "source": [
    "infnorm = norm(x,Inf)"
   ]
  },
  {
   "cell_type": "code",
   "execution_count": null,
   "metadata": {},
   "outputs": [],
   "source": [
    "onenorm = norm(x,1)"
   ]
  },
  {
   "cell_type": "markdown",
   "metadata": {},
   "source": [
    "We can also normalize a vector using the `normalize` function:"
   ]
  },
  {
   "cell_type": "code",
   "execution_count": null,
   "metadata": {},
   "outputs": [],
   "source": [
    "normalize(x,2)"
   ]
  },
  {
   "cell_type": "markdown",
   "metadata": {},
   "source": [
    "### Matrix norms\n",
    "There are also different matrix norms. If we view the matrix similar to a vector and use the 2-norm we get the Frobenius norm $\\|A\\|_F = \\sqrt{\\sum_{i=1}^m \\sum_{j=1}^n |a_{ij}|^2}$. \n",
    "However, often we want to use the induced matrix norm which is defined as $\\|A\\| = \\max_{x \\neq 0} \\frac{\\|Ax\\|}{\\|x\\|}$. \n"
   ]
  },
  {
   "cell_type": "code",
   "execution_count": null,
   "metadata": {},
   "outputs": [],
   "source": [
    "A = [ 2 0; 1 -1 ]"
   ]
  },
  {
   "cell_type": "code",
   "execution_count": null,
   "metadata": {},
   "outputs": [],
   "source": [
    "Fronorm = norm(A)"
   ]
  },
  {
   "cell_type": "code",
   "execution_count": null,
   "metadata": {},
   "outputs": [],
   "source": [
    "twonorm = opnorm(A)"
   ]
  },
  {
   "cell_type": "code",
   "execution_count": null,
   "metadata": {},
   "outputs": [],
   "source": [
    "onenorm = opnorm(A,1) # 1-norm: sum down the first matrix dimension "
   ]
  },
  {
   "cell_type": "code",
   "execution_count": null,
   "metadata": {},
   "outputs": [],
   "source": [
    "infnorm = opnorm(A,Inf) # infinity-norm: sum down the second matrix dimension"
   ]
  },
  {
   "cell_type": "markdown",
   "metadata": {},
   "source": [
    "## Conditioning of linear equations\n",
    "In the lecture we learned that the some linear equations are ill-conditioned or not uniquely solvable. Ill-conditioned means that small changes in the right hand side vector $b$ can lead to large changes in the solution vector $x$.\n",
    "We can check the determinant of the matrix $A$ to see if the linear equation is ill-conditioned. If the determinant is zero the matrix is singular and the linear equation is not uniquely solvable. Let's check the determinant of the matrix $A$:"
   ]
  },
  {
   "cell_type": "code",
   "execution_count": null,
   "metadata": {},
   "outputs": [],
   "source": [
    "using LinearAlgebra\n",
    "det(A)"
   ]
  },
  {
   "cell_type": "code",
   "execution_count": null,
   "metadata": {},
   "outputs": [],
   "source": [
    "A_ill = [1 10^-16; 2 10^-16]\n",
    "det(A_ill)"
   ]
  },
  {
   "cell_type": "code",
   "execution_count": null,
   "metadata": {},
   "outputs": [],
   "source": [
    "b = [1, 2]\n",
    "x = A_ill\\b"
   ]
  },
  {
   "cell_type": "code",
   "execution_count": null,
   "metadata": {},
   "outputs": [],
   "source": [
    "A_singular = [1 2 3; 4 5 6; 7 8 9]\n",
    "det(A)"
   ]
  },
  {
   "cell_type": "code",
   "execution_count": null,
   "metadata": {},
   "outputs": [],
   "source": [
    "b = [1, 2, 3]\n",
    "x = A_singular\\b"
   ]
  },
  {
   "cell_type": "markdown",
   "metadata": {},
   "source": [
    "# Gaussian Elimination\n",
    "In the lecture we learned that we can solve a linear equation using the Gaussian elimination method. The idea is to transform the linear equation into an upper (or lower) triangular matrix. We did this by transforming each row of the matrix. We want to solve for $x$ in the following equation:\n",
    "\n",
    "$$\n",
    "\\mathbf{A} * \\mathbf{x} = \\mathbf{b} \n",
    "$$\n",
    "As an example let's look at the following equation:\n",
    "$$\n",
    "\\begin{pmatrix}\n",
    "1 & 2 \\\\\n",
    "4 & 5 \\\\\n",
    "\\end{pmatrix}\n",
    "* x =\n",
    "\\begin{pmatrix}\n",
    "3 \\\\\n",
    "6 \\\\\n",
    "\\end{pmatrix}\n",
    "$$\n",
    "We can rewrite the matrix by extending it with the vector $b$ into $[A b]$:\n",
    "$$\n",
    "\\begin{pmatrix}\n",
    "1 & 2 & 3 \\\\\n",
    "4 & 5 & 6 \\\\\n",
    "\\end{pmatrix}\n",
    "$$\n",
    "We can now perform row operations to transform the matrix into an upper triangular matrix. The first step is to subtract the first row multiplied by $4/1$ from the second row. This will result in the following matrix:\n",
    "$$\n",
    "\\begin{pmatrix}\n",
    "1 & 2 & 3 \\\\\n",
    "0 & -3 & -6 \\\\\n",
    "\\end{pmatrix}\n",
    "$$\n",
    "We can now solve the second equation for $x_2$ and substitute it into the first equation. This will result in the following equation:\n",
    "$$\n",
    "\\begin{pmatrix}\n",
    "1 & 2 & 3 \\\\\n",
    "0 & 1 & 2 \\\\\n",
    "\\end{pmatrix}\n",
    "$$\n",
    "We can now solve the first equation for $x_1$ and get the solution $x_1=1$ and $x_2=2$. \n",
    "\n",
    "\n",
    "As a more general way to show our example of a 2x2 matrix $A$ we have:\n",
    "$$\n",
    "\\begin{pmatrix}\n",
    "a_{11} & a_{12} \\\\\n",
    "a_{21} & a_{22} \\\\\n",
    "\\end{pmatrix}\n",
    "* x =\n",
    "\\begin{pmatrix}\n",
    "b_1 \\\\\n",
    "b_2 \\\\\n",
    "\\end{pmatrix}\n",
    "$$\n",
    "To perform the Gaussian elimination of this linear equation we can use the following algorithm:\n",
    "- $\\alpha = a_{21}/a_{11}$\n",
    "- $a_{22} = a_{22} - \\alpha * a_{12}$ \n",
    "- $b_2 = b_2 - \\alpha * b_1$\n",
    "- $x_2 = b_2/a_{22}$\n",
    "- $b_1 = b_1 - a_{12} * x_2$\n",
    "- $x_1 = b_1/a_{11}$\n",
    "- return $x_1$ and $x_2$"
   ]
  },
  {
   "cell_type": "code",
   "execution_count": null,
   "metadata": {},
   "outputs": [],
   "source": [
    "A = [1 2; 3 4]\n",
    "b = [5; 6]\n",
    "A_ = float(copy(A)) # we copy A since changing an element of A will change A as well\n",
    "b_ = float(copy(b))\n",
    "α = A_[2,1] / A_[1,1]\n",
    "A_[2,:] = A_[2,:] - α * A_[1,:]\n",
    "b_[2] = b_[2] - α * b_[1]\n",
    "x_2 = b_[2] / A_[2,2]\n",
    "x_1 = (b_[1] - A_[1,2] * x_2) / A_[1,1]\n",
    "x = [x_1; x_2]"
   ]
  },
  {
   "cell_type": "markdown",
   "metadata": {},
   "source": [
    "We can test our implementation by estimating the error of the solution: \n",
    "$$\n",
    "Error = \\mathbf{A} * \\mathbf{x} - \\mathbf{b}\n",
    "$$  \n",
    "The error should be zero."
   ]
  },
  {
   "cell_type": "code",
   "execution_count": null,
   "metadata": {},
   "outputs": [],
   "source": [
    "A*x - b"
   ]
  },
  {
   "cell_type": "markdown",
   "metadata": {},
   "source": [
    "Can you think of a way to generalize this algorithm to a square matrix of arbitrary size? One difference is that we have to perform the algorithm for each row. Each row will have a different $\\alpha$ value. We can use a loop to perform the algorithm for each row. In the example above we have applied the subtraction of the first row multiplied by $4/1$ from the second row. We can generalize this by subtracting the first row multiplied by $a_{21}/a_{11}$ from the second row. Also note that we can actually substract the whole row at once. \n",
    "\n",
    "The task is to write a function that implements the Gaussian elimination method for arbitrary square matrices. The function should take the matrix $A$ and the vector $b$ as input and return the solution vector $x$. We will divide this task into two parts. First we will write a function that transforms the linear equation into an upper triangular matrix. Then we will write a function that performs the back substitution to get the solution vector $x$.\n",
    "\n",
    "Let's start by defining a new matrix $A$ and vector $b$:"
   ]
  },
  {
   "cell_type": "code",
   "execution_count": null,
   "metadata": {},
   "outputs": [],
   "source": [
    "A = [1 2 3; 4 5 6; 7 8 10]\n",
    "b = [1, 2, 3]"
   ]
  },
  {
   "cell_type": "markdown",
   "metadata": {},
   "source": [
    "Now we can write a function that transforms the matrix $A$ into an upper triangular matrix. The function should take the matrix $A$ and the vector $b$ as input and return the transformed matrix $A$ and the transformed vector $b$. "
   ]
  },
  {
   "cell_type": "code",
   "execution_count": null,
   "metadata": {},
   "outputs": [],
   "source": [
    "function gauss_elimination(A::Matrix{T}, b::Vector{T}) where T <: Number\n",
    "    n = size(A, 1)\n",
    "    U = float(copy(A))\n",
    "    b_ = float(copy(b))\n",
    "    for k = 1:n-1\n",
    "        for i = k+1:n\n",
    "            factor = U[i,k] / U[k,k]\n",
    "            U[i,:] = U[i, :] - (factor * U[k,:])\n",
    "            b_[i] = b_[i] - (factor * b_[k])\n",
    "        end\n",
    "    end\n",
    "    return U, b_\n",
    "end"
   ]
  },
  {
   "cell_type": "markdown",
   "metadata": {},
   "source": [
    "Let's test the function with the matrix $A$ and the vector $b$ defined above. We should get an upper triangular matrix. "
   ]
  },
  {
   "cell_type": "code",
   "execution_count": null,
   "metadata": {},
   "outputs": [],
   "source": [
    "U, b_ = gauss_elimination(A, b)"
   ]
  },
  {
   "cell_type": "markdown",
   "metadata": {},
   "source": [
    "Now we can write a function that performs the back substitution to get the solution vector $x$. The function should take the matrix $U$ and the transformed vector $\\hat{b}$ as input and return the solution vector $x$."
   ]
  },
  {
   "cell_type": "code",
   "execution_count": null,
   "metadata": {},
   "outputs": [],
   "source": [
    "function backsub(U,b)\n",
    "    n = size(U,1)\n",
    "    x = zeros(n)\n",
    "    for i = n:-1:1\n",
    "        x[i] = c[i]\n",
    "        for j = i+1:n\n",
    "            x[i] -= U[i,j] * x[j]\n",
    "        end\n",
    "        x[i] /= U[i,i]\n",
    "    end\n",
    "    return x\n",
    "end"
   ]
  },
  {
   "cell_type": "markdown",
   "metadata": {},
   "source": [
    "We can now test the function with the matrix $U$ and the transformed vector $\\hat{b}$ defined above. We should get the solution vector $x$."
   ]
  },
  {
   "cell_type": "code",
   "execution_count": null,
   "metadata": {},
   "outputs": [],
   "source": [
    "x = backsub(U,b)"
   ]
  },
  {
   "cell_type": "code",
   "execution_count": null,
   "metadata": {},
   "outputs": [],
   "source": [
    "A*x-b"
   ]
  },
  {
   "attachments": {},
   "cell_type": "markdown",
   "metadata": {},
   "source": [
    "## LU Factorization\n",
    "We learned that we can transform the linear equation with the square matrix $A$ into a upper triangular matrix $U$. In the lecture we learned that we can also transform the linear equation into an lower triangular matrix $L$ and an upper triangular matrix $U$ such that \n",
    "$$\n",
    "A = LU\n",
    "$$ \n",
    "This is called the LU factorization of $A$. The LU factorization is useful for solving linear equations especially when the right hand side vector $b$ is changed. In this case, we can solve the linear equations by solving $Ly = b$ and $Ux = y$. In the example above we would have to perform the whole calculation again. However, if we have the LU factorization of $A$ we can solve the linear equations much faster. \n",
    "\n",
    "In the lecture we learned that we can use outer products using the lower triangular matrix $L$ divided into a part for each column. For a 3x3 matrix \n",
    "$$\n",
    "A = \n",
    "\\begin{pmatrix}\n",
    "a_{11} & a_{12} & a_{13} \\\\\n",
    "a_{21} & a_{22} & a_{23} \\\\\n",
    "a_{31} & a_{32} & a_{33} \\\\\n",
    "\\end{pmatrix}\n",
    "$$\n",
    "we divide the lower triangular matrix $L$ into two parts:\n",
    "$$\n",
    "L = L_1 * L_2 =\n",
    "\\begin{pmatrix}\n",
    "1 & 0 & 0 \\\\\n",
    "a_{21}/a_{11} & 1 & 0 \\\\\n",
    "a_{31}/a_{11} & 0 & 1 \\\\\n",
    "\\end{pmatrix}\n",
    "*\n",
    "\\begin{pmatrix}\n",
    "1 & 0 & 0 \\\\\n",
    "0 & 1 & 0 \\\\\n",
    "0 & a_{32}/a_{22} & 1 \\\\\n",
    "\\end{pmatrix}\n",
    "$$\n",
    "\n",
    "Using this we can write: \n",
    "$$\n",
    "L_1 * L_2 * A = U\n",
    "$$\n",
    "\n",
    "For a general square matrix $A$ we can write:\n",
    "$$\n",
    "L_1 * L_2 * l_k * ... * L_{K} * A = U\n",
    "$$\n",
    "Where $L_k$ is the lower triangular matrix for the $k$-th column as is has only non-zero values on the diagonal and the k-th column. The $k$-th column of $L_k$ is defined as:\n",
    "$$\n",
    "(L_k)_{ik} = \\frac{a^{k-1}_{ik}}{a^{k-1}_{kk}}\n",
    "$$ \n",
    "Where $a^{k-1}_{ik}$ is the $i$-th element of the $k$-th column of $A^{k-1} = L_1 * L_2 * l_k * ... * L_{k-1} * A$.\n",
    "\n",
    "\n",
    "We can now write a function that calculates the LU factorization of a square matrix $A$. The function should take the matrix $A$ as input and return the lower triangular matrix $L$ and the upper triangular matrix $U$."
   ]
  },
  {
   "cell_type": "code",
   "execution_count": null,
   "metadata": {},
   "outputs": [],
   "source": [
    "using LinearAlgebra\n",
    "function lufact(A)\n",
    "    n = size(A,1)\n",
    "    L = diagm(ones(n))   # ones on main diagonal, zeros elsewhere\n",
    "    U = zeros(n,n)\n",
    "    Aₖ = float(copy(A))  # copy of A, converted to float\n",
    "\n",
    "    # Reduction by outer products\n",
    "    for k in 1:n-1\n",
    "        U[k,:] = Aₖ[k,:]\n",
    "        L[:,k] = Aₖ[:,k]/U[k,k]\n",
    "        Aₖ -= L[:,k]*U[k,:]'\n",
    "    end\n",
    "\n",
    "    U[n,n] = Aₖ[n,n]\n",
    "    return LowerTriangular(L),UpperTriangular(U)\n",
    "end"
   ]
  },
  {
   "cell_type": "markdown",
   "metadata": {},
   "source": [
    "Let's test the function with the matrix $A$ defined above. We should get the lower triangular matrix $L$ and the upper triangular matrix $U$."
   ]
  },
  {
   "cell_type": "code",
   "execution_count": null,
   "metadata": {},
   "outputs": [],
   "source": [
    "L, U = lufact(A)"
   ]
  },
  {
   "cell_type": "markdown",
   "metadata": {},
   "source": [
    "Now to solve the linear equation we can use the LU factorization of $A$ and solve the linear equations by solving $Ly = b$ and $Ux = y$. First we define a function for the forward substitution to solve $Ly = b$. The function should take the lower triangular matrix $L$ and the vector $b$ as input and return the solution vector $y$."
   ]
  },
  {
   "cell_type": "code",
   "execution_count": null,
   "metadata": {},
   "outputs": [],
   "source": [
    "function forwardsub(L,b)\n",
    "    n = size(L,1)\n",
    "    y = zeros(n)\n",
    "    y[1] = b[1]/L[1,1]\n",
    "    for i in 2:n\n",
    "        s = sum( L[i,j]*y[j] for j in 1:i-1 )\n",
    "        y[i] = ( b[i] - s ) / L[i,i]\n",
    "    end\n",
    "    return y\n",
    "end"
   ]
  },
  {
   "cell_type": "markdown",
   "metadata": {},
   "source": [
    "Now let's define a function for the back substitution to solve $Ux = y$. The function should take the upper triangular matrix $U$ and the vector $y$ as input and return the solution vector $x$."
   ]
  },
  {
   "cell_type": "code",
   "execution_count": null,
   "metadata": {},
   "outputs": [],
   "source": [
    "function backsub(U,y)\n",
    "    n = size(U,1)\n",
    "    x = zeros(n)\n",
    "    x[n] = y[n]/U[n,n]\n",
    "    for i in n-1:-1:1\n",
    "        s = sum( U[i,j]*x[j] for j in i+1:n )\n",
    "        x[i] = ( y[i] - s ) / U[i,i]\n",
    "    end\n",
    "    return x\n",
    "end"
   ]
  },
  {
   "cell_type": "markdown",
   "metadata": {},
   "source": [
    "Finally we want to test our implementation using the following matrix $A$ and vector $b$:"
   ]
  },
  {
   "cell_type": "code",
   "execution_count": null,
   "metadata": {},
   "outputs": [],
   "source": [
    "A = [2 0 4 3; -4 5 -7 -10; 1 15 2 -4.5; -2 0 2 -13];\n",
    "b = [4,9,9,4];"
   ]
  },
  {
   "cell_type": "markdown",
   "metadata": {},
   "source": [
    "First we calculate the LU factorization of $A$."
   ]
  },
  {
   "cell_type": "code",
   "execution_count": null,
   "metadata": {},
   "outputs": [],
   "source": [
    "L,U = lufact(A)"
   ]
  },
  {
   "cell_type": "markdown",
   "metadata": {},
   "source": [
    "Now we can solve the linear equation by solving $Ly = b$ and $Ux = y$."
   ]
  },
  {
   "cell_type": "code",
   "execution_count": null,
   "metadata": {},
   "outputs": [],
   "source": [
    "z = forwardsub(L,b)\n",
    "x = backsub(U,z)"
   ]
  },
  {
   "cell_type": "markdown",
   "metadata": {},
   "source": [
    "And let's check the error of the solution:"
   ]
  },
  {
   "cell_type": "code",
   "execution_count": null,
   "metadata": {},
   "outputs": [],
   "source": [
    "b - A*x"
   ]
  },
  {
   "cell_type": "markdown",
   "metadata": {},
   "source": [
    "Nice! We actually found a way to solve linear equations in an efficient way. There is one caveat though. This method is not always stable and can fail for some matrices. For example if we swap the second and fourth row of $A$ the resluting matrix $A$ is not invertible and the LU factorization fails: "
   ]
  },
  {
   "cell_type": "code",
   "execution_count": null,
   "metadata": {},
   "outputs": [],
   "source": [
    "A[[2,4],:] = A[[4,2],:]  \n",
    "L,U = lufact(A)\n",
    "L"
   ]
  },
  {
   "cell_type": "markdown",
   "metadata": {},
   "source": [
    "We can actually see why this fails if we take a look at the matrix $A$. The problem is that element $a_{22}$ is zero. In the second step we are supposed to divide by $a_{22}$ which is zero. "
   ]
  },
  {
   "cell_type": "code",
   "execution_count": null,
   "metadata": {},
   "outputs": [],
   "source": [
    "A"
   ]
  },
  {
   "cell_type": "markdown",
   "metadata": {},
   "source": [
    "However, we know that this linear equation is actually solvable. Can we fix this? "
   ]
  },
  {
   "cell_type": "markdown",
   "metadata": {},
   "source": [
    "## Pivoting\n",
    "To avoid dividing by zero, we can change the order of the coulmns before we perform the elimination in each column. We will use the largest available element in the column we are working on as the pivot element - the element we divide by. This technique is known as column pivoting. "
   ]
  },
  {
   "cell_type": "code",
   "execution_count": null,
   "metadata": {},
   "outputs": [],
   "source": [
    "A = [2 0 4 3 ; -2 0 2 -13; 1 15 2 -4.5 ; -4 5 -7 -10]"
   ]
  },
  {
   "cell_type": "markdown",
   "metadata": {},
   "source": [
    "Using the same matirx as before the first step looks like this:"
   ]
  },
  {
   "cell_type": "code",
   "execution_count": null,
   "metadata": {},
   "outputs": [],
   "source": [
    "A_1 = float(copy(A))\n",
    "p = fill(0,4)\n",
    "i = argmax(abs.(A_1[:,1])) # find largest element \n",
    "p[1] = i # store index of largest element in p[1]\n",
    "L,U = zeros(4,4),zeros(4,4)\n",
    "U[1,:] = A_1[i,:] # copy row i of A to row 1 of U \n",
    "# perform elimination as before\n",
    "L[:,1] = A_1[:,1]/U[1,1] \n",
    "A_2 = A_1 - L[:,1]*U[1,:]'"
   ]
  },
  {
   "cell_type": "markdown",
   "metadata": {},
   "source": [
    "The second step looks like this:"
   ]
  },
  {
   "cell_type": "code",
   "execution_count": null,
   "metadata": {},
   "outputs": [],
   "source": [
    "i = argmax(abs.(A_2[:,2])) \n",
    "p[2] = i \n",
    "U[2,:] = A_2[i,:]\n",
    "L[:,2] = A_2[:,2]/U[2,2]\n",
    "A_3 = A_2 - L[:,2]*U[2,:]'"
   ]
  },
  {
   "cell_type": "markdown",
   "metadata": {},
   "source": [
    "The third step looks like this:"
   ]
  },
  {
   "cell_type": "code",
   "execution_count": null,
   "metadata": {},
   "outputs": [],
   "source": [
    "i = argmax(abs.(A_3[:,3])) \n",
    "p[3] = i\n",
    "U[3,:] = A_3[i,:]\n",
    "L[:,3] = A_3[:,3]/U[3,3]\n",
    "A_4 = A_3 - L[:,3]*U[3,:]'"
   ]
  },
  {
   "cell_type": "markdown",
   "metadata": {},
   "source": [
    "And the last step looks like this:"
   ]
  },
  {
   "cell_type": "code",
   "execution_count": null,
   "metadata": {},
   "outputs": [],
   "source": [
    "i = argmax(abs.(A_4[:,4])) \n",
    "p[4] = i\n",
    "U[4,:] = A_4[i,:]\n",
    "L[:,4] = A_4[:,4]/U[4,4];\n",
    "L"
   ]
  },
  {
   "cell_type": "markdown",
   "metadata": {},
   "source": [
    "We can see that we can solve the linear equation by swapping the columns. However we can see that we also changed the order of the elements in the lower triangular matrix $L$. We can fix this by keeping track of the order of the columns and swapping the elements in the lower triangular matrix $L$ back accordingly: "
   ]
  },
  {
   "cell_type": "code",
   "execution_count": null,
   "metadata": {},
   "outputs": [],
   "source": [
    "L[p,:]"
   ]
  },
  {
   "cell_type": "markdown",
   "metadata": {},
   "source": [
    "We can now write a function that calculates the LU factorization of a square matrix $A$ using column pivoting. The function should take the matrix $A$ as input and return the lower triangular matrix $L$, the upper triangular matrix $U$ and a vector $p$ containing the pivot elements."
   ]
  },
  {
   "cell_type": "code",
   "execution_count": null,
   "metadata": {},
   "outputs": [],
   "source": [
    "function plufact(A)\n",
    "    n = size(A,1)\n",
    "    L = zeros(n,n)\n",
    "    U = zeros(n,n)\n",
    "    p = fill(0,n)\n",
    "    Aₖ = float(copy(A))\n",
    "\n",
    "    # Reduction by outer products\n",
    "    for k in 1:n-1\n",
    "        p[k] = argmax(abs.(Aₖ[:,k])) # find largest element in column k and store in p[k]\n",
    "        U[k,:] = Aₖ[p[k],:]\n",
    "        L[:,k] = Aₖ[:,k]/U[k,k]\n",
    "        Aₖ -= L[:,k]*U[k,:]'\n",
    "    end\n",
    "    p[n] = argmax(abs.(Aₖ[:,n]))\n",
    "    U[n,n] = Aₖ[p[n],n]\n",
    "    L[:,n] = Aₖ[:,n]/U[n,n]\n",
    "    return LowerTriangular(L[p,:]),U,p\n",
    "end"
   ]
  },
  {
   "cell_type": "code",
   "execution_count": null,
   "metadata": {},
   "outputs": [],
   "source": [
    "L, U, p = plufact(A)"
   ]
  },
  {
   "cell_type": "markdown",
   "metadata": {},
   "source": [
    "To solve for a given vector $b$ we can now use the pivot LU factorization of $A$ by also changing the order of the elements in the vector $b$ accordingly:"
   ]
  },
  {
   "cell_type": "code",
   "execution_count": null,
   "metadata": {},
   "outputs": [],
   "source": [
    "b = rand(4)\n",
    "z = forwardsub(L,b[p])\n",
    "x = backsub(U,z)\n"
   ]
  },
  {
   "cell_type": "code",
   "execution_count": null,
   "metadata": {},
   "outputs": [],
   "source": [
    "b - A*x"
   ]
  },
  {
   "cell_type": "markdown",
   "metadata": {},
   "source": [
    "# Linear Equations in Julia \n",
    "there are different ways to solve a linear equation Julia. For basic linear equations we can use the backslash operator `\\`. For example we can solve the linear equation $Ax = b$ by writing `x = A \\ b`."
   ]
  },
  {
   "cell_type": "code",
   "execution_count": null,
   "metadata": {},
   "outputs": [],
   "source": [
    "A = [2 0 4 3 ; -2 0 2 -13; 1 15 2 -4.5 ; -4 5 -7 -10]\n",
    "b = [4,9,9,4]\n",
    "x = A\\b"
   ]
  },
  {
   "cell_type": "markdown",
   "metadata": {},
   "source": [
    "We can also do the LU factorization of $A$ using the `lu` function (from the LinearAlgebra package). The function returns the lower triangular matrix $L$, the upper triangular matrix $U$. "
   ]
  },
  {
   "cell_type": "code",
   "execution_count": null,
   "metadata": {},
   "outputs": [],
   "source": [
    "lu(A)"
   ]
  },
  {
   "cell_type": "markdown",
   "metadata": {},
   "source": [
    "For more advanced linear equation solving we can use iterativesolvers.jl. It also contains the \"Jacobi\" and \"Gauss-Seidel\" solvers we had in the lecture. To get a list of solvers you can look at the documentation: https://iterativesolvers.julialinearalgebra.org/dev/ "
   ]
  }
 ],
 "metadata": {
  "kernelspec": {
   "display_name": "Julia 1.9.0",
   "language": "julia",
   "name": "julia-1.9"
  },
  "language_info": {
   "file_extension": ".jl",
   "mimetype": "application/julia",
   "name": "julia",
   "version": "1.9.0"
  },
  "orig_nbformat": 4
 },
 "nbformat": 4,
 "nbformat_minor": 2
}
