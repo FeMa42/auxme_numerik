{
 "cells": [
  {
   "attachments": {},
   "cell_type": "markdown",
   "metadata": {},
   "source": [
    "# Root Finding to solve the inverse kinematic\n",
    "When we want to find a solution for the inverse kinematic we need to find a solution of a set of functions with multiple variables. We can use the Newton method to find the root of a function. In Exercise 2, we learned how to find the root of a function with one variable: \n",
    "\n",
    "### From previous Exercise: Newton Method with one variable\n",
    "\n",
    "To implement the Newton method, we used the first Taylor approximation (tangent) at the point $x_n$:\n",
    "$$f(x) = f(x_n) + f'(x_n)(x-x_n)$$\n",
    "We set $f(x_{n+1}) = 0$ and solved for $x$:\n",
    "$$0 = f(x_n) + f'(x_n)(x_{n+1}-x_n)$$\n",
    "$$x_{n+1} = x_n - \\frac{f(x_n)}{f'(x_n)}$$  \n",
    "The calculation rule for the next x which is closer to the root is thus iteratively called over and over again. The calculation rule according to the Newton method is therefore:\n",
    "$$x_0 = start value$$\n",
    "$$x_{1} = x_0 - \\frac{f(x_0)}{f'(x_0)}$$\n",
    "$$x_{2} = x_{1} - \\frac{f(x_1)}{f'(x_{1})}$$\n",
    "...\n",
    "$$x_{n+1} = x_n - \\frac{f(x_n)}{f'(x_n)}$$ \n",
    "We do this until we have reached the desired accuracy, i.e., the desired distance of $f(x_{n+1})$ to 0.\n",
    "\n",
    "**Summary**: The Newton method is an iterative method for finding the root of a function. The calculation rule for the next x which is closer to the root is thus iteratively called over and over again. When look at the calculation rule of the Newton method:\n",
    "$$x_{n+1} = x_n - \\frac{f(x_n)}{f'(x_n)}$$\n",
    "We see that we need the function $f(x)$ and its derivative $f'(x)$. \n",
    "\n",
    "### Root finding with multiple variables\n",
    "What do we want to solve for if we say that we want to find the root of a function with multiple variables? In the lecture we learned that if we solve an equation with two unkown variables like: \n",
    "$$\n",
    "  f_1(x,y) = c_1,\n",
    "$$\n",
    "we get a 1-D curve in a 2-D space. We can also call this equation a constraint. One example of this are contour plots. We can plot a function with two variables in a 3-D plot. Therefore we estimate a value $z$ for the values $x$ and $y$ with $z=f(x,y)$. In a contour plot we plot a contour line for a specific value of $z$ (or in the equation from above for $c_1$). \n",
    "\n",
    "Let's look at an example of a contour plot for the function $f(x,y) = 0.5*sin(x) + cos(y)$:"
   ]
  },
  {
   "cell_type": "code",
   "execution_count": null,
   "metadata": {},
   "outputs": [],
   "source": [
    "import Pkg\n",
    "Pkg.activate(\"../Exercise 4/OpenMEnv\")\n",
    "Pkg.add(\"Revise\")\n",
    "Pkg.add(\"GLMakie\")\n",
    "Pkg.add(\"ForwardDiff\")\n",
    "Pkg.add(\"LinearAlgebra\")\n",
    "Pkg.add(\"FiniteDifferences\")\n",
    "using Revise\n",
    "include(\"../OpenManipulatorLib/OpenManipulatorKinematics.jl\")\n",
    "import .OpenManipulatorKineamtics"
   ]
  },
  {
   "cell_type": "code",
   "execution_count": 2,
   "metadata": {},
   "outputs": [
    {
     "name": "stderr",
     "output_type": "stream",
     "text": [
      "\u001b[32m\u001b[1m  Activating\u001b[22m\u001b[39m project at `~/Library/Mobile Documents/com~apple~CloudDocs/Projects/IngGru_numerik/SS2024/Excercise/Exercise 4/OpenMEnv`\n",
      "WARNING: replacing module OpenManipulatorKineamtics.\n"
     ]
    }
   ],
   "source": [
    "import Pkg\n",
    "Pkg.activate(\"../Exercise 4/OpenMEnv\")\n",
    "using GLMakie\n",
    "using Revise\n",
    "include(\"../OpenManipulatorLib/OpenManipulatorKinematics.jl\")\n",
    "import .OpenManipulatorKineamtics"
   ]
  },
  {
   "cell_type": "code",
   "execution_count": null,
   "metadata": {},
   "outputs": [],
   "source": [
    "function contourplot(x, y, z)\n",
    "    GLMakie.activate!()\n",
    "    with_theme(theme_dark()) do\n",
    "        fig =  Figure(resolution = (1200,800))\n",
    "        axs = [Axis3(fig[1,i]; aspect = :data) for i in 1:2]\n",
    "        surface!(axs[1], x, y, z; colormap=:viridis, colorrange=(minimum(z), maximum(z)),\n",
    "            transparency=false)\n",
    "        contour!(axs[1], x, y, z; levels=20, colormap=:viridis, linewidth=2,\n",
    "            colorrange=(minimum(z), maximum(z)), transformation=(:xy, minimum(z)),\n",
    "            transparency=true)\n",
    "        contour3d!(axs[2], x, y, z; levels = 20, transparency = true)\n",
    "        hidedecorations!.(axs; grid = false)\n",
    "        fig\n",
    "    end\n",
    "end"
   ]
  },
  {
   "cell_type": "code",
   "execution_count": null,
   "metadata": {},
   "outputs": [],
   "source": [
    "# let's define a function\n",
    "f(x,y) = 0.5*sin(x) + cos(y)\n",
    "x = LinRange(-2π, 2π, 1000)\n",
    "y = LinRange(-2π, 2π, 1000)\n",
    "z = [f(x[i], y[j]) for i in eachindex(x), j in eachindex(y)]\n",
    "\n",
    "# and plot it\n",
    "contourplot(x, y, z)"
   ]
  },
  {
   "attachments": {},
   "cell_type": "markdown",
   "metadata": {},
   "source": [
    "The surfaceplot on the left shows the function $f(x,y) = 0.5*sin(x) + cos(y)$ in a 3-D plot with a contourplot in the x,y-plane. On the right is a 3-D contourplot. Each color in the contourplot on the right represents a different value of $z= f(x,y) = 0.5*sin(x) + cos(y)$. So we can interpret it as as a visulaization of where the function $f(x,y) = 0.5*sin(x) + cos(y)$ is equal to a specific value like $f(x,y) = 0.5$. \n",
    "\n",
    "If we add another constraint like:\n",
    "$$\n",
    "  f_2(x,y) = c_2,\n",
    "$$\n",
    "we have two constraints. We get two 1-D curves in a 2-D space. The intersection of these two curves is the solution to the equation (a 0-D result). This point is the solution to the equation system. In general: Each independant equation reduces the dimension of the solution space by one. \n",
    "\n",
    "For example, if we solve the equation system:\n",
    "$$\n",
    "  f_1(x,y) = 0.5*sin(x) + cos(y) = c_1 = 0,\n",
    "$$\n",
    "$$\n",
    "  f_2(x,y) = x = c_2 = 0,\n",
    "$$\n",
    "we get the point (or points - since we can also have multiple solutions), where the two curves of each solution intersect. Here we get all points where $x=0$ and $0.5*sin(0) + cos(y) = 0$. One solution therefore ist $x=0, y=\\frac{\\pi}{2}, z=0$. "
   ]
  },
  {
   "attachments": {},
   "cell_type": "markdown",
   "metadata": {},
   "source": [
    "We can rewrite this system of equations into a vector form and make it more general: \n",
    "\n",
    "## The Root Finding Problem\n",
    "\n",
    "We want to find a vector $\\mathbf{x} = (x_1, \\dots, x_n)$, given on a continuous vector-valued function $\\mathbf{f}= (f_1, \\dots f_n)$ mapping from $\\mathbb{R}^n$ into $\\mathbb{R}^n$, such that\n",
    "$$\n",
    "\\begin{split}\\begin{split}\n",
    "  f_1(x_1,\\dots,x_n) &= 0,\\\\\n",
    "  f_2(x_1,\\dots,x_n) &= 0,\\\\\n",
    "  &\\vdots\\\\\n",
    "  f_n(x_1,\\dots,x_n) &= 0.\n",
    "\\end{split}\\end{split}\n",
    "$$\n",
    "We can also write this in a more compact form:\n",
    "$$\n",
    "  \\mathbf{f}(\\mathbf{x}) = \\mathbf{0}.\n",
    "$$\n",
    "The solution $\\mathbf{x}$ is called the **root** of the vector-valued function. How can we find the root of a function with multiple variables? \n",
    "\n",
    "## Newton Method with multiple variables\n",
    "\n",
    "**Linear Model**: We can use the first Taylor approximation (tangent) at the point $\\mathbf{x}_n$ and use the **Newton method** to find the root of the function with multiple variables:\n",
    "$$\n",
    "\\mathbf{f}(\\mathbf{x}+\\mathbf{h}) = \\mathbf{f}(\\mathbf{x}) + \\mathbf{J}(\\mathbf{x})\\mathbf{h} + O(\\| \\mathbf{h} \\|^2),\n",
    "$$\n",
    "where $\\mathbf{J}(\\mathbf{x})$ is the Jacobian matrix of $\\mathbf{f}$ at $\\mathbf{x}$:\n",
    "$$\n",
    "\\begin{split}\\mathbf{J}(\\mathbf{x}) =\n",
    "  \\begin{bmatrix}\n",
    "    \\rule[2mm]{0pt}{1em}\\frac{\\partial f_1}{\\partial x_1} & \\frac{\\partial f_1}{\\partial x_2} & \\cdots & \\frac{\\partial f_1}{\\partial x_n}\\\\[2mm]\n",
    "    \\frac{\\partial f_2}{\\partial x_1} & \\frac{\\partial f_2}{\\partial x_2} & \\cdots & \\frac{\\partial f_2}{\\partial x_n}\\\\[1mm]\n",
    "    \\vdots & \\vdots & & \\vdots\\\\[1mm]\n",
    "    \\rule[-3mm]{0pt}{1em} \\frac{\\partial f_n}{\\partial x_1} & \\frac{\\partial f_n}{\\partial x_2} & \\cdots & \\frac{\\partial f_n}{\\partial x_n}\n",
    "  \\end{bmatrix} = \\left[ \\frac{\\partial f_i}{\\partial x_j} \\right]_{\\,i,j=1,\\ldots,n}.\\end{split}\n",
    "$$\n",
    "\n",
    "We set $\\mathbf{f}(\\mathbf{x}_{n+1}) = \\mathbf{0}$ and solved for $\\mathbf{x}$:\n",
    "$$\n",
    "\\begin{split}\\begin{split}\n",
    "  \\mathbf{0} &= \\mathbf{f}(\\mathbf{x}_n) + \\mathbf{J}(\\mathbf{x}_n)\\mathbf{h}\\\\\n",
    "  \\mathbf{h} &= -\\mathbf{J}(\\mathbf{x}_n)^{-1}\\mathbf{f}(\\mathbf{x}_n)\\\\\n",
    "  \\mathbf{x}_{n+1} &= \\mathbf{x}_n - \\mathbf{J}(\\mathbf{x}_n)^{-1}\\mathbf{f}(\\mathbf{x}_n).\n",
    "\\end{split}\\end{split}\n",
    "$$\n",
    "The calculation rule for the next $\\mathbf{x}$ which is closer to the root is thus iteratively called over and over again. The calculation rule according to the Newton method is therefore:\n",
    "$$\n",
    "\\mathbf{x}_0 = \\text{start value}\n",
    "$$\n",
    "$$\n",
    "\\mathbf{x}_{1} = \\mathbf{x}_0 - \\mathbf{J}(\\mathbf{x}_0)^{-1}\\mathbf{f}(\\mathbf{x}_0)\n",
    "$$\n",
    "$$\n",
    "\\mathbf{x}_{2} = \\mathbf{x}_{1} - \\mathbf{J}(\\mathbf{x}_{1})^{-1}\\mathbf{f}(\\mathbf{x}_{1})\n",
    "$$\n",
    "$$\n",
    "...\n",
    "$$\n",
    "$$\n",
    "\\mathbf{x}_{n+1} = \\mathbf{x}_n - \\mathbf{J}(\\mathbf{x}_n)^{-1}\\mathbf{f}(\\mathbf{x}_n)\n",
    "$$\n",
    "We do this until we have reached the desired accuracy, i.e., the desired distance of $\\mathbf{f}(\\mathbf{x}_{n+1})$ to $\\mathbf{0}$.\n",
    "\n",
    "**Summary**: The Newton method is an iterative method for finding the root of a function with multiple variables. The calculation rule for the next $\\mathbf{x}$ which is closer to the root is thus iteratively called over and over again. When look at the calculation rule of the Newton method:\n",
    "$$\\mathbf{x}_{n+1} = \\mathbf{x}_n - \\mathbf{J}(\\mathbf{x}_n)^{-1}\\mathbf{f}(\\mathbf{x}_n)$$\n",
    "we see that we need to calculate the function $\\mathbf{f}(\\mathbf{x})$, the derivative of the function (the Jacobian $\\mathbf{J}(\\mathbf{x})$) and the inverse of the Jacobian matrix $\\mathbf{J}(\\mathbf{x})^{-1}$."
   ]
  },
  {
   "cell_type": "markdown",
   "metadata": {},
   "source": [
    "## Sneak Peak into Derivatives and Linear Equations\n",
    "\n",
    "In Exercise 6. we will see how we can estimate the Jacobian of a function $\\mathbf{f}(\\mathbf{x})$ using different numeracial methods based on forward and backward differentiation. We can use forward diff to estimate the Jacobian of a function $\\mathbf{f}(\\mathbf{x})$ at a point $\\mathbf{x}$:"
   ]
  },
  {
   "cell_type": "code",
   "execution_count": 3,
   "metadata": {},
   "outputs": [
    {
     "data": {
      "text/plain": [
       "2×2 Matrix{Float64}:\n",
       " 2.0   2.0\n",
       " 1.0  -2.0"
      ]
     },
     "metadata": {},
     "output_type": "display_data"
    }
   ],
   "source": [
    "using ForwardDiff\n",
    "\n",
    "f(x) = [x[1]^2 + x[2]^2 - 1, x[1] - x[2]^2]\n",
    "q = [1.0, 1.0]\n",
    "J_fd = ForwardDiff.jacobian(f, q)\n"
   ]
  },
  {
   "cell_type": "markdown",
   "metadata": {},
   "source": [
    "In a following exercise we will see how we can solve a linear equation system:"
   ]
  },
  {
   "cell_type": "code",
   "execution_count": 4,
   "metadata": {},
   "outputs": [
    {
     "name": "stdout",
     "output_type": "stream",
     "text": [
      "x = A \\ b = [-0.31470797242835746, 1.3781934303645444, 0.5587853495072315]\n"
     ]
    },
    {
     "data": {
      "text/plain": [
       "3-element Vector{Float64}:\n",
       " -0.31470797242835746\n",
       "  1.3781934303645444\n",
       "  0.5587853495072315"
      ]
     },
     "metadata": {},
     "output_type": "display_data"
    }
   ],
   "source": [
    "A = rand(3,3)\n",
    "b = rand(3)\n",
    "@show x = A\\b # Simple version of solving a linear system"
   ]
  },
  {
   "cell_type": "markdown",
   "metadata": {},
   "source": [
    "> Note: You should use the inverse function `inv(A)` to solve the linear equation. A more stable version of solving a linear system is based on LU factorization. You will learn this is a following exercise in more detail."
   ]
  },
  {
   "cell_type": "markdown",
   "metadata": {},
   "source": [
    "## Newton Method in Julia\n",
    "You will learn that the inverse is not a good idea to use to solve the linear equation systems. Instead we can use the LU factorization to solve the linear equation system. We can first use the `lu` function to calculate the LU factorization of the Jacobian matrix and then use forward and backward substitution to solve $\\mathbf{J}(\\mathbf{x}_n)^{-1}\\mathbf{f}(\\mathbf{x}_n)$ instead of calculating the inverse of the Jacobian matrix. We need to calculate the function $\\mathbf{f}(\\mathbf{x})$ and the Jacobian matrix $\\mathbf{J}(\\mathbf{x}_n)$ in each iteration, since the Jacobian matrix depends on the point $\\mathbf{x}_n$. \n",
    "\n",
    "First we define the function `J(x)` which calculates the Jacobian. We can use the `ForwardDiff.jl` package to calculate the Jacobian matrix of a function $\\mathbf{f}(\\mathbf{x})$ at a point $\\mathbf{x}$:\n"
   ]
  },
  {
   "cell_type": "code",
   "execution_count": 5,
   "metadata": {},
   "outputs": [
    {
     "data": {
      "text/plain": [
       "J (generic function with 1 method)"
      ]
     },
     "metadata": {},
     "output_type": "display_data"
    }
   ],
   "source": [
    "J(x) = ForwardDiff.jacobian(f, x)"
   ]
  },
  {
   "cell_type": "markdown",
   "metadata": {},
   "source": [
    "Now we define a function `newton(f, J, x)` which implements the Newton method. Where `f` is the function $\\mathbf{f}(\\mathbf{x})$, `J` is the function `J(x)` which calculates the Jacobian matrix $\\mathbf{J}(\\mathbf{x})$ and `x` is the start value $\\mathbf{x}_0$. The function `newton` returns the root of the function $\\mathbf{f}(\\mathbf{x})$. The function iteratively calls the calculation rule of the Newton method using the LU factorization until the desired accuracy is reached. The desired accuracy is defined by the parameter `tolerance` which is set to `1e-10` by default. The maximum number of iterations is defined by the parameter `maxiter` which is set to `1000` by default. "
   ]
  },
  {
   "cell_type": "code",
   "execution_count": 6,
   "metadata": {},
   "outputs": [
    {
     "data": {
      "text/plain": [
       "newton (generic function with 1 method)"
      ]
     },
     "metadata": {},
     "output_type": "display_data"
    }
   ],
   "source": [
    "using LinearAlgebra\n",
    "\n",
    "function newton(f, J, x, solver)\n",
    "   h = Inf64\n",
    "   tolerance = 10^(-10)\n",
    "   iter = 0\n",
    "   while (norm(h) > tolerance)\n",
    "      iter += 1\n",
    "      if iter > 1000\n",
    "         error(\"Too many iterations\")\n",
    "      end\n",
    "      h = solver(J(x), f(x))\n",
    "      x = x - h\n",
    "   end\n",
    "   return x\n",
    "end"
   ]
  },
  {
   "cell_type": "code",
   "execution_count": 7,
   "metadata": {},
   "outputs": [
    {
     "data": {
      "text/plain": [
       "simple_solver (generic function with 1 method)"
      ]
     },
     "metadata": {},
     "output_type": "display_data"
    }
   ],
   "source": [
    "function simple_solver(A, b)\n",
    "    return A \\ b\n",
    "end"
   ]
  },
  {
   "cell_type": "markdown",
   "metadata": {},
   "source": [
    "Let's test the Newton method for the function $\\mathbf{f}(\\mathbf{x})$:\n",
    "$$\n",
    "\\mathbf{f}(\\mathbf{x}) = \\begin{bmatrix}\n",
    "  \\rule[2mm]{0pt}{1em}x_1^2 + x_2^2 - 1\\\\[2mm]\n",
    "  x_1 - x_2\n",
    "\\end{bmatrix}\n",
    "$$\n",
    "\n",
    "Try to find the two roots of the function $\\mathbf{f}(\\mathbf{x})$ by using the Newton method:"
   ]
  },
  {
   "cell_type": "code",
   "execution_count": 8,
   "metadata": {},
   "outputs": [
    {
     "data": {
      "text/plain": [
       "2-element Vector{Float64}:\n",
       "  0.6180339887498949\n",
       " -0.7861513777574234"
      ]
     },
     "metadata": {},
     "output_type": "display_data"
    }
   ],
   "source": [
    "f(x) = [x[1]^2 + x[2]^2 - 1, x[1] - x[2]^2]\n",
    "x = [0.6, -1]\n",
    "newton(f, J, x, simple_solver)"
   ]
  },
  {
   "cell_type": "code",
   "execution_count": 9,
   "metadata": {},
   "outputs": [
    {
     "data": {
      "text/plain": [
       "2-element Vector{Float64}:\n",
       " 0.6180339887498949\n",
       " 0.7861513777574234"
      ]
     },
     "metadata": {},
     "output_type": "display_data"
    }
   ],
   "source": [
    "x = [0.6, 1]\n",
    "newton(f, J, x, simple_solver)"
   ]
  },
  {
   "cell_type": "markdown",
   "metadata": {},
   "source": [
    "Let's try to find the two roots of another set of functions $\\mathbf{f}(\\mathbf{x})$:\n",
    "$$\n",
    "\\mathbf{f}(\\mathbf{x}) = \\begin{bmatrix}\n",
    "  \\rule[2mm]{0pt}{1em}(1-x_1)^2 + (2-x_2)^2 - 5^2\\\\[2mm]\n",
    "  (6-x_1)^2 + (1-x_2)^2 - 6.2^2\\\\[2mm]  \n",
    "\\end{bmatrix}\n",
    "$$"
   ]
  },
  {
   "cell_type": "code",
   "execution_count": 10,
   "metadata": {},
   "outputs": [
    {
     "data": {
      "text/plain": [
       "2-element Vector{Float64}:\n",
       "  1.2573252032868072\n",
       " -2.993373983565962"
      ]
     },
     "metadata": {},
     "output_type": "display_data"
    }
   ],
   "source": [
    "f(x) = [(1-x[1])^2 + (2-x[2])^2 - 5^2, (6-x[1])^2 + (1-x[2])^2 - 6.2^2]\n",
    "x = [1, -2]\n",
    "newton(f, J, x, simple_solver)"
   ]
  },
  {
   "cell_type": "code",
   "execution_count": 11,
   "metadata": {},
   "outputs": [
    {
     "data": {
      "text/plain": [
       "2-element Vector{Float64}:\n",
       " 3.158059412097807\n",
       " 6.510297060489039"
      ]
     },
     "metadata": {},
     "output_type": "display_data"
    }
   ],
   "source": [
    "x = [3, 6]\n",
    "newton(f, J, x, simple_solver)"
   ]
  },
  {
   "cell_type": "markdown",
   "metadata": {},
   "source": [
    "# Solving the inverse kinematics of the Openmanipulator using the Newton method\n",
    "\n",
    "\n",
    "First, let us define a position and heading we know we can reach with the OpenManipulator. We will use this as a starting point for the Newton method. We do this loading the kinematics library and estimating the forward kinematics of the OpenManipulator for the joint angles we know we can reach:"
   ]
  },
  {
   "cell_type": "code",
   "execution_count": 12,
   "metadata": {},
   "outputs": [
    {
     "data": {
      "text/plain": [
       "2-element Vector{Vector{Float64}}:\n",
       " [0.24540155680128894, 0.1851227907367747, 0.1562121956827513]\n",
       " [0.0, -7.398860208066362e-18, 0.6000000000000001]"
      ]
     },
     "metadata": {},
     "output_type": "display_data"
    }
   ],
   "source": [
    "goal_position, desired_orientation = OpenManipulatorKineamtics.complete_forward_kinematics([0.6, 0.6, -0.5, -0.1])"
   ]
  },
  {
   "cell_type": "code",
   "execution_count": 13,
   "metadata": {},
   "outputs": [
    {
     "data": {
      "text/plain": [
       "f_rootfindingProblem (generic function with 1 method)"
      ]
     },
     "metadata": {},
     "output_type": "display_data"
    }
   ],
   "source": [
    "using ForwardDiff\n",
    "\n",
    "# Define a function that returns the position of the end effector\n",
    "function f_rootfindingProblem(q)\n",
    "    end_effector_position, end_effector_orientation = OpenManipulatorKineamtics.complete_forward_kinematics(q)\n",
    "    f_1 = end_effector_position[1] - goal_position[1]\n",
    "    f_2 = end_effector_position[2] - goal_position[2]\n",
    "    f_3 = end_effector_position[3] - goal_position[3]\n",
    "    f_4 = (end_effector_orientation[1] - desired_orientation[1])^2 + (end_effector_orientation[2] - desired_orientation[2])^2 + (end_effector_orientation[3] - desired_orientation[3])^2\n",
    "    return [f_1, f_2, f_3, f_4]\n",
    "end"
   ]
  },
  {
   "cell_type": "code",
   "execution_count": 14,
   "metadata": {},
   "outputs": [
    {
     "data": {
      "text/plain": [
       "J_openManipulator (generic function with 1 method)"
      ]
     },
     "metadata": {},
     "output_type": "display_data"
    }
   ],
   "source": [
    "function J_openManipulator(q)\n",
    "    # Calculate the Jacobian matrix using ForwardDiff.jacobian\n",
    "    J = ForwardDiff.jacobian(f_rootfindingProblem, q)\n",
    "\n",
    "    return J\n",
    "end"
   ]
  },
  {
   "cell_type": "code",
   "execution_count": 15,
   "metadata": {},
   "outputs": [
    {
     "data": {
      "text/plain": [
       "4-element Vector{Float64}:\n",
       "  0.6000000000000001\n",
       "  0.6000000000038734\n",
       " -0.49999999997505956\n",
       " -0.10000000007669343"
      ]
     },
     "metadata": {},
     "output_type": "display_data"
    }
   ],
   "source": [
    "q_init = [0.5, 0.5, -0.5, -0.1] # A position relatively close to the goal position\n",
    "newton(f_rootfindingProblem, J_openManipulator, q_init, simple_solver)"
   ]
  },
  {
   "cell_type": "markdown",
   "metadata": {},
   "source": [
    "What happens if we just initialize with $0$?"
   ]
  },
  {
   "cell_type": "code",
   "execution_count": 16,
   "metadata": {},
   "outputs": [
    {
     "ename": "ErrorException",
     "evalue": "Too many iterations",
     "output_type": "error",
     "traceback": [
      "Too many iterations\n",
      "\n",
      "Stacktrace:\n",
      " [1] error(s::String)\n",
      "   @ Base ./error.jl:35\n",
      " [2] newton(f::typeof(f_rootfindingProblem), J::typeof(J_openManipulator), x::Vector{Float64}, solver::typeof(simple_solver))\n",
      "   @ Main ~/Library/Mobile Documents/com~apple~CloudDocs/Projects/IngGru_numerik/SS2024/Excercise/Exercise 6/RootFinding.ipynb:10\n",
      " [3] top-level scope\n",
      "   @ ~/Library/Mobile Documents/com~apple~CloudDocs/Projects/IngGru_numerik/SS2024/Excercise/Exercise 6/RootFinding.ipynb:2"
     ]
    }
   ],
   "source": [
    "q_init = [0.0, 0.0, 0.0, 0.0]\n",
    "newton(f_rootfindingProblem, J_openManipulator, q_init, simple_solver)"
   ]
  },
  {
   "cell_type": "markdown",
   "metadata": {},
   "source": [
    "Why did this not work? Let's look at the determinant of the Jacobian matrix. The determinant of the Jacobian matrix is a measure of how much the volume of the input space is scaled by the transformation. If the determinant is zero, the transformation is singular and the inverse kinematic problem has no solution. If it is close to zero the transformation is close to singular and the inverse kinematic problem is ill-conditioned. We can calculate the determinant of the Jacobian matrix using the `det` function."
   ]
  },
  {
   "cell_type": "code",
   "execution_count": 17,
   "metadata": {},
   "outputs": [
    {
     "data": {
      "text/plain": [
       "5.3949505416784034e-20"
      ]
     },
     "metadata": {},
     "output_type": "display_data"
    }
   ],
   "source": [
    "q_init = [0.0, 0.0, 0.0, 0.0]\n",
    "jac_0 = J_openManipulator(q_init)\n",
    "det(jac_0) "
   ]
  },
  {
   "attachments": {},
   "cell_type": "markdown",
   "metadata": {},
   "source": [
    "This is bad. A linear equation with this Jacobian is ill-posed. We need to initialize with a value that is close to the solution and which results in a det of the Jacobian which is not too close to zero. Let's try to find a good starting point by trial and error:"
   ]
  },
  {
   "cell_type": "code",
   "execution_count": 18,
   "metadata": {},
   "outputs": [
    {
     "data": {
      "text/plain": [
       "-0.0003600968757850497"
      ]
     },
     "metadata": {},
     "output_type": "display_data"
    }
   ],
   "source": [
    "q_init = [0.6, 0.5, -0.5, -0.05] # A position not so close to the goal position\n",
    "jac_0 = J_openManipulator(q_init)\n",
    "det(jac_0)"
   ]
  },
  {
   "cell_type": "code",
   "execution_count": 19,
   "metadata": {},
   "outputs": [
    {
     "data": {
      "text/plain": [
       "4-element Vector{Float64}:\n",
       "  0.5999999999999999\n",
       "  0.6000000000037675\n",
       " -0.4999999999757442\n",
       " -0.10000000007458945"
      ]
     },
     "metadata": {},
     "output_type": "display_data"
    }
   ],
   "source": [
    "newton(f_rootfindingProblem, J_openManipulator, q_init, simple_solver)"
   ]
  },
  {
   "attachments": {},
   "cell_type": "markdown",
   "metadata": {},
   "source": [
    "How good does this work if we start from some random joint angles?"
   ]
  },
  {
   "cell_type": "code",
   "execution_count": 20,
   "metadata": {},
   "outputs": [
    {
     "name": "stdout",
     "output_type": "stream",
     "text": [
      "Found a solution, q = [0.6000000000000001, 0.5999999999964984, -0.5000000000225473, -0.09999999993066695]\n",
      "Found a solution, q = [0.6000000000000001, -4.820974556415234, 10.295473860725018, 0.8086860028011683]\n",
      "Found a solution, q = [0.6000000000000001, 0.599999999997204, -0.5000000000180059, -0.09999999994463253]\n",
      "Found a solution, q = [119.98052083641214, -4534.997581032977, 8775.33897737632, -4441.403326173022]\n",
      "Found a solution, q = [0.6, 0.5999999999967783, -0.5000000000207486, -0.09999999993619976]\n",
      "Found a solution, q = [0.6, 0.5999999999963176, -0.500000000023711, -0.09999999992708761]\n",
      "Found a solution, q = [0.6000000000000002, 0.5999999999969804, -0.5000000000194453, -0.09999999994020596]\n",
      "Found a solution, q = [0.6, 0.599999999995416, -0.5000000000295206, -0.09999999990922556]\n",
      "Found a solution, q = [0.6000000000000001, 0.5999999999972024, -0.5000000000180151, -0.0999999999446036]\n",
      "Found a solution, q = [0.6, 0.5999999999971253, -0.5000000000185114, -0.09999999994307707]\n"
     ]
    }
   ],
   "source": [
    "for i in 1:10\n",
    "    q_init = rand(4)\n",
    "    q = newton(f_rootfindingProblem, J_openManipulator, q_init, simple_solver)\n",
    "    if norm(f_rootfindingProblem(q)) < 10^(-5)\n",
    "        println(\"Found a solution, q = \", q)\n",
    "    end\n",
    "end"
   ]
  },
  {
   "attachments": {},
   "cell_type": "markdown",
   "metadata": {},
   "source": [
    "Ok, we see that we need to find a good starting point for the Newton method, otherwise we get a solution which is not reachable by the robot. One way could be to to check the joint angles if they are possible for the given position and heading of the the OpenManipulator. Could you think of other ways to find a good starting point for the Newton method or to improve the solutions given by the Newton method?\n"
   ]
  },
  {
   "cell_type": "markdown",
   "metadata": {},
   "source": [
    "## Controling the OpenManipulator with the inverse kinematic\n",
    "\n",
    "Intialize the Openmanipulator simulation: "
   ]
  },
  {
   "cell_type": "code",
   "execution_count": 21,
   "metadata": {},
   "outputs": [
    {
     "name": "stderr",
     "output_type": "stream",
     "text": [
      "┌ Warning: attempting to remove probably stale pidfile\n",
      "│   path = /Users/damian/.jlassetregistry.lock\n",
      "└ @ Pidfile /Users/damian/.julia/packages/Pidfile/DDu3M/src/Pidfile.jl:260\n"
     ]
    }
   ],
   "source": [
    "using RigidBodyDynamics\n",
    "using MeshCatMechanisms\n",
    "using MeshCat\n",
    "using LinearAlgebra\n",
    "using StaticArrays"
   ]
  },
  {
   "cell_type": "code",
   "execution_count": 22,
   "metadata": {},
   "outputs": [
    {
     "name": "stderr",
     "output_type": "stream",
     "text": [
      "┌ Info: MeshCat server started. You can open the visualizer by visiting the following URL in your browser:\n",
      "│ http://127.0.0.1:8700\n",
      "└ @ MeshCat /Users/damian/.julia/packages/MeshCat/oC0sL/src/visualizer.jl:73\n"
     ]
    },
    {
     "data": {
      "text/html": [
       "    <div style=\"height: 500px; width: 100%; overflow-x: auto; overflow-y: hidden; resize: both\">\n",
       "    <iframe src=\"http://127.0.0.1:8700\" style=\"width: 100%; height: 100%; border: none\"></iframe>\n",
       "    </div>\n"
      ],
      "text/plain": [
       "MeshCat.DisplayedVisualizer(MeshCat.CoreVisualizer(MeshCat.SceneTrees.SceneNode(nothing, nothing, Dict{String, Vector{UInt8}}(), nothing, Dict{String, MeshCat.SceneTrees.SceneNode}(\"meshcat\" => MeshCat.SceneTrees.SceneNode(nothing, nothing, Dict{String, Vector{UInt8}}(), nothing, Dict{String, MeshCat.SceneTrees.SceneNode}(\"world\" => MeshCat.SceneTrees.SceneNode(nothing, nothing, Dict{String, Vector{UInt8}}(), nothing, Dict{String, MeshCat.SceneTrees.SceneNode}(\"link1\" => MeshCat.SceneTrees.SceneNode(nothing, UInt8[0x83, 0xa6, 0x6d, 0x61, 0x74, 0x72, 0x69, 0x78, 0xc7, 0x40  …  0x6f, 0x72, 0x6c, 0x64, 0x2f, 0x6c, 0x69, 0x6e, 0x6b, 0x31], Dict{String, Vector{UInt8}}(), nothing, Dict{String, MeshCat.SceneTrees.SceneNode}(\"geometry_1\" => MeshCat.SceneTrees.SceneNode(UInt8[0x83, 0xa6, 0x6f, 0x62, 0x6a, 0x65, 0x63, 0x74, 0x84, 0xaa  …  0x67, 0x65, 0x6f, 0x6d, 0x65, 0x74, 0x72, 0x79, 0x5f, 0x31], UInt8[0x83, 0xa6, 0x6d, 0x61, 0x74, 0x72, 0x69, 0x78, 0xc7, 0x40  …  0x67, 0x65, 0x6f, 0x6d, 0x65, 0x74, 0x72, 0x79, 0x5f, 0x31], Dict{String, Vector{UInt8}}(), nothing, Dict{String, MeshCat.SceneTrees.SceneNode}()))), \"link2\" => MeshCat.SceneTrees.SceneNode(nothing, UInt8[0x83, 0xa6, 0x6d, 0x61, 0x74, 0x72, 0x69, 0x78, 0xc7, 0x40  …  0x6f, 0x72, 0x6c, 0x64, 0x2f, 0x6c, 0x69, 0x6e, 0x6b, 0x32], Dict{String, Vector{UInt8}}(), nothing, Dict{String, MeshCat.SceneTrees.SceneNode}(\"after_joint1\" => MeshCat.SceneTrees.SceneNode(nothing, UInt8[0x83, 0xa6, 0x6d, 0x61, 0x74, 0x72, 0x69, 0x78, 0xc7, 0x40  …  0x74, 0x65, 0x72, 0x5f, 0x6a, 0x6f, 0x69, 0x6e, 0x74, 0x31], Dict{String, Vector{UInt8}}(), nothing, Dict{String, MeshCat.SceneTrees.SceneNode}(\"geometry_2\" => MeshCat.SceneTrees.SceneNode(UInt8[0x83, 0xa6, 0x6f, 0x62, 0x6a, 0x65, 0x63, 0x74, 0x84, 0xaa  …  0x67, 0x65, 0x6f, 0x6d, 0x65, 0x74, 0x72, 0x79, 0x5f, 0x32], UInt8[0x83, 0xa6, 0x6d, 0x61, 0x74, 0x72, 0x69, 0x78, 0xc7, 0x40  …  0x67, 0x65, 0x6f, 0x6d, 0x65, 0x74, 0x72, 0x79, 0x5f, 0x32], Dict{String, Vector{UInt8}}(), nothing, Dict{String, MeshCat.SceneTrees.SceneNode}()))), \"link3\" => MeshCat.SceneTrees.SceneNode(nothing, UInt8[0x83, 0xa6, 0x6d, 0x61, 0x74, 0x72, 0x69, 0x78, 0xc7, 0x40  …  0x69, 0x6e, 0x6b, 0x32, 0x2f, 0x6c, 0x69, 0x6e, 0x6b, 0x33], Dict{String, Vector{UInt8}}(), nothing, Dict{String, MeshCat.SceneTrees.SceneNode}(\"after_joint2\" => MeshCat.SceneTrees.SceneNode(nothing, UInt8[0x83, 0xa6, 0x6d, 0x61, 0x74, 0x72, 0x69, 0x78, 0xc7, 0x40  …  0x74, 0x65, 0x72, 0x5f, 0x6a, 0x6f, 0x69, 0x6e, 0x74, 0x32], Dict{String, Vector{UInt8}}(), nothing, Dict{String, MeshCat.SceneTrees.SceneNode}(\"geometry_3\" => MeshCat.SceneTrees.SceneNode(UInt8[0x83, 0xa6, 0x6f, 0x62, 0x6a, 0x65, 0x63, 0x74, 0x84, 0xaa  …  0x67, 0x65, 0x6f, 0x6d, 0x65, 0x74, 0x72, 0x79, 0x5f, 0x33], UInt8[0x83, 0xa6, 0x6d, 0x61, 0x74, 0x72, 0x69, 0x78, 0xc7, 0x40  …  0x67, 0x65, 0x6f, 0x6d, 0x65, 0x74, 0x72, 0x79, 0x5f, 0x33], Dict{String, Vector{UInt8}}(), nothing, Dict{String, MeshCat.SceneTrees.SceneNode}()))), \"link4\" => MeshCat.SceneTrees.SceneNode(nothing, UInt8[0x83, 0xa6, 0x6d, 0x61, 0x74, 0x72, 0x69, 0x78, 0xc7, 0x40  …  0x69, 0x6e, 0x6b, 0x33, 0x2f, 0x6c, 0x69, 0x6e, 0x6b, 0x34], Dict{String, Vector{UInt8}}(), nothing, Dict{String, MeshCat.SceneTrees.SceneNode}(\"after_joint3\" => MeshCat.SceneTrees.SceneNode(nothing, UInt8[0x83, 0xa6, 0x6d, 0x61, 0x74, 0x72, 0x69, 0x78, 0xc7, 0x40  …  0x74, 0x65, 0x72, 0x5f, 0x6a, 0x6f, 0x69, 0x6e, 0x74, 0x33], Dict{String, Vector{UInt8}}(), nothing, Dict{String, MeshCat.SceneTrees.SceneNode}(\"geometry_4\" => MeshCat.SceneTrees.SceneNode(UInt8[0x83, 0xa6, 0x6f, 0x62, 0x6a, 0x65, 0x63, 0x74, 0x84, 0xaa  …  0x67, 0x65, 0x6f, 0x6d, 0x65, 0x74, 0x72, 0x79, 0x5f, 0x34], UInt8[0x83, 0xa6, 0x6d, 0x61, 0x74, 0x72, 0x69, 0x78, 0xc7, 0x40  …  0x67, 0x65, 0x6f, 0x6d, 0x65, 0x74, 0x72, 0x79, 0x5f, 0x34], Dict{String, Vector{UInt8}}(), nothing, Dict{String, MeshCat.SceneTrees.SceneNode}()))), \"link5\" => MeshCat.SceneTrees.SceneNode(nothing, UInt8[0x83, 0xa6, 0x6d, 0x61, 0x74, 0x72, 0x69, 0x78, 0xc7, 0x40  …  0x69, 0x6e, 0x6b, 0x34, 0x2f, 0x6c, 0x69, 0x6e, 0x6b, 0x35], Dict{String, Vector{UInt8}}(), nothing, Dict{String, MeshCat.SceneTrees.SceneNode}(\"gripper_link\" => MeshCat.SceneTrees.SceneNode(nothing, UInt8[0x83, 0xa6, 0x6d, 0x61, 0x74, 0x72, 0x69, 0x78, 0xc7, 0x40  …  0x69, 0x70, 0x70, 0x65, 0x72, 0x5f, 0x6c, 0x69, 0x6e, 0x6b], Dict{String, Vector{UInt8}}(), nothing, Dict{String, MeshCat.SceneTrees.SceneNode}(\"after_gripper\" => MeshCat.SceneTrees.SceneNode(nothing, UInt8[0x83, 0xa6, 0x6d, 0x61, 0x74, 0x72, 0x69, 0x78, 0xc7, 0x40  …  0x65, 0x72, 0x5f, 0x67, 0x72, 0x69, 0x70, 0x70, 0x65, 0x72], Dict{String, Vector{UInt8}}(), nothing, Dict{String, MeshCat.SceneTrees.SceneNode}(\"geometry_6\" => MeshCat.SceneTrees.SceneNode(UInt8[0x83, 0xa6, 0x6f, 0x62, 0x6a, 0x65, 0x63, 0x74, 0x84, 0xaa  …  0x67, 0x65, 0x6f, 0x6d, 0x65, 0x74, 0x72, 0x79, 0x5f, 0x36], UInt8[0x83, 0xa6, 0x6d, 0x61, 0x74, 0x72, 0x69, 0x78, 0xc7, 0x40  …  0x67, 0x65, 0x6f, 0x6d, 0x65, 0x74, 0x72, 0x79, 0x5f, 0x36], Dict{String, Vector{UInt8}}(), nothing, Dict{String, MeshCat.SceneTrees.SceneNode}()))))), \"after_end_effector_joint\" => MeshCat.SceneTrees.SceneNode(nothing, UInt8[0x83, 0xa6, 0x6d, 0x61, 0x74, 0x72, 0x69, 0x78, 0xc7, 0x40  …  0x63, 0x74, 0x6f, 0x72, 0x5f, 0x6a, 0x6f, 0x69, 0x6e, 0x74], Dict{String, Vector{UInt8}}(), nothing, Dict{String, MeshCat.SceneTrees.SceneNode}(\"geometry_8\" => MeshCat.SceneTrees.SceneNode(UInt8[0x83, 0xa6, 0x6f, 0x62, 0x6a, 0x65, 0x63, 0x74, 0x84, 0xaa  …  0x67, 0x65, 0x6f, 0x6d, 0x65, 0x74, 0x72, 0x79, 0x5f, 0x38], UInt8[0x83, 0xa6, 0x6d, 0x61, 0x74, 0x72, 0x69, 0x78, 0xc7, 0x40  …  0x67, 0x65, 0x6f, 0x6d, 0x65, 0x74, 0x72, 0x79, 0x5f, 0x38], Dict{String, Vector{UInt8}}(), nothing, Dict{String, MeshCat.SceneTrees.SceneNode}()))), \"after_joint4\" => MeshCat.SceneTrees.SceneNode(nothing, UInt8[0x83, 0xa6, 0x6d, 0x61, 0x74, 0x72, 0x69, 0x78, 0xc7, 0x40  …  0x74, 0x65, 0x72, 0x5f, 0x6a, 0x6f, 0x69, 0x6e, 0x74, 0x34], Dict{String, Vector{UInt8}}(), nothing, Dict{String, MeshCat.SceneTrees.SceneNode}(\"geometry_5\" => MeshCat.SceneTrees.SceneNode(UInt8[0x83, 0xa6, 0x6f, 0x62, 0x6a, 0x65, 0x63, 0x74, 0x84, 0xaa  …  0x67, 0x65, 0x6f, 0x6d, 0x65, 0x74, 0x72, 0x79, 0x5f, 0x35], UInt8[0x83, 0xa6, 0x6d, 0x61, 0x74, 0x72, 0x69, 0x78, 0xc7, 0x40  …  0x67, 0x65, 0x6f, 0x6d, 0x65, 0x74, 0x72, 0x79, 0x5f, 0x35], Dict{String, Vector{UInt8}}(), nothing, Dict{String, MeshCat.SceneTrees.SceneNode}()))), \"gripper_link_sub\" => MeshCat.SceneTrees.SceneNode(nothing, UInt8[0x83, 0xa6, 0x6d, 0x61, 0x74, 0x72, 0x69, 0x78, 0xc7, 0x40  …  0x72, 0x5f, 0x6c, 0x69, 0x6e, 0x6b, 0x5f, 0x73, 0x75, 0x62], Dict{String, Vector{UInt8}}(), nothing, Dict{String, MeshCat.SceneTrees.SceneNode}(\"after_gripper_sub\" => MeshCat.SceneTrees.SceneNode(nothing, UInt8[0x83, 0xa6, 0x6d, 0x61, 0x74, 0x72, 0x69, 0x78, 0xc7, 0x40  …  0x72, 0x69, 0x70, 0x70, 0x65, 0x72, 0x5f, 0x73, 0x75, 0x62], Dict{String, Vector{UInt8}}(), nothing, Dict{String, MeshCat.SceneTrees.SceneNode}(\"geometry_7\" => MeshCat.SceneTrees.SceneNode(UInt8[0x83, 0xa6, 0x6f, 0x62, 0x6a, 0x65, 0x63, 0x74, 0x84, 0xaa  …  0x67, 0x65, 0x6f, 0x6d, 0x65, 0x74, 0x72, 0x79, 0x5f, 0x37], UInt8[0x83, 0xa6, 0x6d, 0x61, 0x74, 0x72, 0x69, 0x78, 0xc7, 0x40  …  0x67, 0x65, 0x6f, 0x6d, 0x65, 0x74, 0x72, 0x79, 0x5f, 0x37], Dict{String, Vector{UInt8}}(), nothing, Dict{String, MeshCat.SceneTrees.SceneNode}()))))))))))))))))))), Set{Any}(), ip\"127.0.0.1\", 8700))"
      ]
     },
     "metadata": {},
     "output_type": "display_data"
    }
   ],
   "source": [
    "srcdir = \"../open_manipulator_description/urdf/\"\n",
    "urdf = joinpath(srcdir, \"open_manipulator.urdf\")\n",
    "mechanism = parse_urdf(urdf)\n",
    "mvis = MechanismVisualizer(mechanism, URDFVisuals(urdf));\n",
    "render(mvis)"
   ]
  },
  {
   "cell_type": "code",
   "execution_count": 23,
   "metadata": {},
   "outputs": [
    {
     "name": "stdout",
     "output_type": "stream",
     "text": [
      "joint_state = mvis.state.q = [0.0, 0.0, 0.0, 0.0, 0.0, 0.0]\n",
      "velocity = mvis.state.v = [0.0, 0.0, 0.0, 0.0, 0.0, 0.0]\n"
     ]
    }
   ],
   "source": [
    "state = mvis.state\n",
    "set_configuration!(mvis, [0.0, 0.0, 0.0, 0.0, 0.0, 0.0])\n",
    "zero_velocity!(state)\n",
    "@show joint_state = mvis.state.q\n",
    "@show velocity = mvis.state.v\n",
    "om_joints = joints(mechanism);"
   ]
  },
  {
   "cell_type": "markdown",
   "metadata": {},
   "source": [
    "Setting the goal position and heading of the OpenManipulator:"
   ]
  },
  {
   "cell_type": "code",
   "execution_count": 24,
   "metadata": {},
   "outputs": [
    {
     "name": "stdout",
     "output_type": "stream",
     "text": [
      "goa_angles = [0.5, 0.0, 0.0, 0.1] = [0.5, 0.0, 0.0, 0.1]\n",
      "goal_position = [0.20315458432316513, 0.12835759783461545, 0.19634360985995417]\n"
     ]
    }
   ],
   "source": [
    "@show goa_angles = [0.5, 0.0, 0.0, 0.1]\n",
    "goal_position, desired_orientation = OpenManipulatorKineamtics.complete_forward_kinematics(goa_angles)\n",
    "@show goal_position;"
   ]
  },
  {
   "cell_type": "markdown",
   "metadata": {},
   "source": [
    "Let's estimate the joint angles using the inverse kinematics here so that we see if we find a solution"
   ]
  },
  {
   "cell_type": "code",
   "execution_count": 25,
   "metadata": {},
   "outputs": [
    {
     "name": "stdout",
     "output_type": "stream",
     "text": [
      "q_desired_inv_kinematic = [0.5, -2.1188710916105433e-12, 2.4328920291050457e-11, 0.09999999994453679]\n"
     ]
    }
   ],
   "source": [
    "q_init = [0.0, 0.0, 0.0, 0.0] # A position relatively close to the goal position\n",
    "q_desired_inv_kinematic = newton(f_rootfindingProblem, J_openManipulator, q_init, simple_solver);\n",
    "@show q_desired_inv_kinematic;"
   ]
  },
  {
   "cell_type": "markdown",
   "metadata": {},
   "source": [
    "Implementing the control methods to move the OpenManipulator to the goal position and heading:"
   ]
  },
  {
   "cell_type": "code",
   "execution_count": 26,
   "metadata": {},
   "outputs": [],
   "source": [
    "function joint_position_control(q_state, v_state, q_desired)\n",
    "    kp = 12.0\n",
    "    v_damping = 0.1\n",
    "    max_torque = 10.0\n",
    "\n",
    "    torque = kp * (q_desired - q_state) - v_damping * v_state\n",
    "    torque = clamp.(torque, -max_torque, max_torque)\n",
    "\n",
    "    return torque\n",
    "end;"
   ]
  },
  {
   "cell_type": "code",
   "execution_count": 27,
   "metadata": {},
   "outputs": [],
   "source": [
    "function simple_joint_control!(torques::AbstractVector, t, state::MechanismState)\n",
    "    # add the last two joints to q_desired\n",
    "    q_desired_all_joints = [q_desired_inv_kinematic; 0.0; 0.0]\n",
    "\n",
    "    for j_iter in 1:6\n",
    "        if j_iter > 4\n",
    "            state.v[j_iter] = 0.0\n",
    "        end\n",
    "        torques[velocity_range(state, om_joints[j_iter])] .= joint_position_control(state.q[j_iter], state.v[j_iter], q_desired_all_joints[j_iter])\n",
    "    end\n",
    "end;"
   ]
  },
  {
   "cell_type": "code",
   "execution_count": 28,
   "metadata": {},
   "outputs": [],
   "source": [
    "set_configuration!(mvis, [0.0, 0.0, 0.0, 0.0, 0.0, 0.0])\n",
    "zero_velocity!(state)"
   ]
  },
  {
   "cell_type": "code",
   "execution_count": 29,
   "metadata": {},
   "outputs": [
    {
     "name": "stdout",
     "output_type": "stream",
     "text": [
      "joint_state = mvis.state.q = [0.5000392376682598, 0.036695400115415125, 0.02907695156365579, 0.10497061995761821, 0.0, 0.0]\n"
     ]
    }
   ],
   "source": [
    "final_time = 2.0\n",
    "ts, qs, vs = simulate(mvis.state, final_time, simple_joint_control!; Δt=1e-2);\n",
    "MeshCatMechanisms.animate(mvis, ts, qs)\n",
    "@show joint_state = mvis.state.q;"
   ]
  },
  {
   "cell_type": "markdown",
   "metadata": {},
   "source": [
    "## Exercise: \n",
    "\n",
    "Play aroung with different goal positions. And see where problems occur. Can you think of a way to improve the control method?"
   ]
  },
  {
   "cell_type": "code",
   "execution_count": null,
   "metadata": {},
   "outputs": [],
   "source": [
    "@show goa_angles = # TODO: test different goal angles or directly set goal positions \n",
    "goal_position, desired_orientation = OpenManipulatorKineamtics.complete_forward_kinematics(goa_angles)\n",
    "q_init = [0.0, 0.0, 0.0, 0.0] # A position relatively close to the goal position\n",
    "q_desired_inv_kinematic = newton(f_rootfindingProblem, J_openManipulator, q_init, simple_solver);\n",
    "@show q_desired_inv_kinematic;\n",
    "\n",
    "set_configuration!(mvis, [0.0, 0.0, 0.0, 0.0, 0.0, 0.0])\n",
    "zero_velocity!(state)"
   ]
  },
  {
   "cell_type": "code",
   "execution_count": null,
   "metadata": {},
   "outputs": [],
   "source": [
    "final_time = 2.0\n",
    "ts, qs, vs = simulate(mvis.state, final_time, simple_joint_control!; Δt=1e-2);\n",
    "MeshCatMechanisms.animate(mvis, ts, qs)\n",
    "@show joint_state = mvis.state.q;"
   ]
  }
 ],
 "metadata": {
  "kernelspec": {
   "display_name": "Julia 1.10.2",
   "language": "julia",
   "name": "julia-1.10"
  },
  "language_info": {
   "file_extension": ".jl",
   "mimetype": "application/julia",
   "name": "julia",
   "version": "1.10.2"
  },
  "orig_nbformat": 4
 },
 "nbformat": 4,
 "nbformat_minor": 2
}
