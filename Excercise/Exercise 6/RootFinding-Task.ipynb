{
 "cells": [
  {
   "attachments": {},
   "cell_type": "markdown",
   "metadata": {},
   "source": [
    "# Root Finding to solve the inverse kinematic\n",
    "When we want to find a solution for the inverse kinematic we need to find a solution of a set of functions with multiple variables. We can use the Newton method to find the root of a function. In Exercise 2, we learned how to find the root of a function with one variable: \n",
    "\n",
    "### From previous Exercise: Newton Method with one variable\n",
    "\n",
    "To implement the Newton method, we used the first Taylor approximation (tangent) at the point $x_n$:\n",
    "$$f(x) = f(x_n) + f'(x_n)(x-x_n)$$\n",
    "We set $f(x_{n+1}) = 0$ and solved for $x$:\n",
    "$$0 = f(x_n) + f'(x_n)(x_{n+1}-x_n)$$\n",
    "$$x_{n+1} = x_n - \\frac{f(x_n)}{f'(x_n)}$$  \n",
    "The calculation rule for the next x which is closer to the root is thus iteratively called over and over again. The calculation rule according to the Newton method is therefore:\n",
    "$$x_0 = start value$$\n",
    "$$x_{1} = x_0 - \\frac{f(x_0)}{f'(x_0)}$$\n",
    "$$x_{2} = x_{1} - \\frac{f(x_1)}{f'(x_{1})}$$\n",
    "...\n",
    "$$x_{n+1} = x_n - \\frac{f(x_n)}{f'(x_n)}$$ \n",
    "We do this until we have reached the desired accuracy, i.e., the desired distance of $f(x_{n+1})$ to 0.\n",
    "\n",
    "**Summary**: The Newton method is an iterative method for finding the root of a function. The calculation rule for the next x which is closer to the root is thus iteratively called over and over again. When look at the calculation rule of the Newton method:\n",
    "$$x_{n+1} = x_n - \\frac{f(x_n)}{f'(x_n)}$$\n",
    "We see that we need the function $f(x)$ and its derivative $f'(x)$. \n",
    "\n",
    "### Root finding with multiple variables\n",
    "What do we want to solve for if we say that we want to find the root of a function with multiple variables? In the lecture we learned that if we solve an equation with two unkown variables like: \n",
    "$$\n",
    "  f_1(x,y) = c_1,\n",
    "$$\n",
    "we get a 1-D curve in a 2-D space. We can also call this equation a constraint. One example of this are contour plots. We can plot a function with two variables in a 3-D plot. Therefore we estimate a value $z$ for the values $x$ and $y$ with $z=f(x,y)$. In a contour plot we plot a contour line for a specific value of $z$ (or in the equation from above for $c_1$). \n",
    "\n",
    "Let's look at an example of a contour plot for the function $f(x,y) = 0.5*sin(x) + cos(y)$:"
   ]
  },
  {
   "cell_type": "code",
   "execution_count": null,
   "metadata": {},
   "outputs": [],
   "source": [
    "import Pkg\n",
    "Pkg.activate(\"../Exercise 4/OpenMEnv\")\n",
    "Pkg.add(\"Revise\")\n",
    "Pkg.add(\"GLMakie\")\n",
    "Pkg.add(\"ForwardDiff\")\n",
    "Pkg.add(\"LinearAlgebra\")\n",
    "Pkg.add(\"FiniteDifferences\")\n",
    "using Revise\n",
    "include(\"../OpenManipulatorLib/OpenManipulatorKinematics.jl\")\n",
    "import .OpenManipulatorKinematics"
   ]
  },
  {
   "cell_type": "code",
   "execution_count": null,
   "metadata": {},
   "outputs": [],
   "source": [
    "using GLMakie\n",
    "\n",
    "function contourplot(x, y, z)\n",
    "    GLMakie.activate!()\n",
    "    with_theme(theme_dark()) do\n",
    "        fig =  Figure(resolution = (1200,800))\n",
    "        axs = [Axis3(fig[1,i]; aspect = :data) for i in 1:2]\n",
    "        surface!(axs[1], x, y, z; colormap=:viridis, colorrange=(minimum(z), maximum(z)),\n",
    "            transparency=false)\n",
    "        contour!(axs[1], x, y, z; levels=20, colormap=:viridis, linewidth=2,\n",
    "            colorrange=(minimum(z), maximum(z)), transformation=(:xy, minimum(z)),\n",
    "            transparency=true)\n",
    "        contour3d!(axs[2], x, y, z; levels = 20, transparency = true)\n",
    "        hidedecorations!.(axs; grid = false)\n",
    "        fig\n",
    "    end\n",
    "end"
   ]
  },
  {
   "cell_type": "code",
   "execution_count": null,
   "metadata": {},
   "outputs": [],
   "source": [
    "# let's define a function\n",
    "f(x,y) = 0.5*sin(x) + cos(y)\n",
    "x = LinRange(-2π, 2π, 1000)\n",
    "y = LinRange(-2π, 2π, 1000)\n",
    "z = [f(x[i], y[j]) for i in eachindex(x), j in eachindex(y)]\n",
    "\n",
    "# and plot it\n",
    "contourplot(x, y, z)"
   ]
  },
  {
   "attachments": {},
   "cell_type": "markdown",
   "metadata": {},
   "source": [
    "The surfaceplot on the left shows the function $f(x,y) = 0.5*sin(x) + cos(y)$ in a 3-D plot with a contourplot in the x,y-plane. On the right is a 3-D contourplot. Each color in the contourplot on the right represents a different value of $z= f(x,y) = 0.5*sin(x) + cos(y)$. So we can interpret it as as a visulaization of where the function $f(x,y) = 0.5*sin(x) + cos(y)$ is equal to a specific value like $f(x,y) = 0.5$. \n",
    "\n",
    "If we add another constraint like:\n",
    "$$\n",
    "  f_2(x,y) = c_2,\n",
    "$$\n",
    "we have two constraints. We get two 1-D curves in a 2-D space. The intersection of these two curves is the solution to the equation (a 0-D result). This point is the solution to the equation system. In general: Each independant equation reduces the dimension of the solution space by one. \n",
    "\n",
    "For example, if we solve the equation system:\n",
    "$$\n",
    "  f_1(x,y) = 0.5*sin(x) + cos(y) = c_1 = 0,\n",
    "$$\n",
    "$$\n",
    "  f_2(x,y) = x = c_2 = 0,\n",
    "$$\n",
    "we get the point (or points - since we can also have multiple solutions), where the two curves of each solution intersect. Here we get all points where $x=0$ and $0.5*sin(0) + cos(y) = 0$. One solution therefore ist $x=0, y=\\frac{\\pi}{2}, z=0$. "
   ]
  },
  {
   "attachments": {},
   "cell_type": "markdown",
   "metadata": {},
   "source": [
    "We can rewrite this system of equations into a vector form and make it more general: \n",
    "\n",
    "## The Root Finding Problem\n",
    "\n",
    "We want to find a vector $\\mathbf{x} = (x_1, \\dots, x_n)$, given on a continuous vector-valued function $\\mathbf{f}= (f_1, \\dots f_n)$ mapping from $\\mathbb{R}^n$ into $\\mathbb{R}^n$, such that\n",
    "$$\n",
    "\\begin{split}\\begin{split}\n",
    "  f_1(x_1,\\dots,x_n) &= 0,\\\\\n",
    "  f_2(x_1,\\dots,x_n) &= 0,\\\\\n",
    "  &\\vdots\\\\\n",
    "  f_n(x_1,\\dots,x_n) &= 0.\n",
    "\\end{split}\\end{split}\n",
    "$$\n",
    "We can also write this in a more compact form:\n",
    "$$\n",
    "  \\mathbf{f}(\\mathbf{x}) = \\mathbf{0}.\n",
    "$$\n",
    "The solution $\\mathbf{x}$ is called the **root** of the vector-valued function. How can we find the root of a function with multiple variables? \n",
    "\n",
    "## Newton Method with multiple variables\n",
    "\n",
    "**Linear Model**: We can use the first Taylor approximation (tangent) at the point $\\mathbf{x}_n$ and use the **Newton method** to find the root of the function with multiple variables:\n",
    "$$\n",
    "\\mathbf{f}(\\mathbf{x}+\\mathbf{h}) = \\mathbf{f}(\\mathbf{x}) + \\mathbf{J}(\\mathbf{x})\\mathbf{h} + O(\\| \\mathbf{h} \\|^2),\n",
    "$$\n",
    "where $\\mathbf{J}(\\mathbf{x})$ is the Jacobian matrix of $\\mathbf{f}$ at $\\mathbf{x}$:\n",
    "$$\n",
    "\\begin{split}\\mathbf{J}(\\mathbf{x}) =\n",
    "  \\begin{bmatrix}\n",
    "    \\rule[2mm]{0pt}{1em}\\frac{\\partial f_1}{\\partial x_1} & \\frac{\\partial f_1}{\\partial x_2} & \\cdots & \\frac{\\partial f_1}{\\partial x_n}\\\\[2mm]\n",
    "    \\frac{\\partial f_2}{\\partial x_1} & \\frac{\\partial f_2}{\\partial x_2} & \\cdots & \\frac{\\partial f_2}{\\partial x_n}\\\\[1mm]\n",
    "    \\vdots & \\vdots & & \\vdots\\\\[1mm]\n",
    "    \\rule[-3mm]{0pt}{1em} \\frac{\\partial f_n}{\\partial x_1} & \\frac{\\partial f_n}{\\partial x_2} & \\cdots & \\frac{\\partial f_n}{\\partial x_n}\n",
    "  \\end{bmatrix} = \\left[ \\frac{\\partial f_i}{\\partial x_j} \\right]_{\\,i,j=1,\\ldots,n}.\\end{split}\n",
    "$$\n",
    "\n",
    "We set $\\mathbf{f}(\\mathbf{x}_{n+1}) = \\mathbf{0}$ and solved for $\\mathbf{x}$:\n",
    "$$\n",
    "\\begin{split}\\begin{split}\n",
    "  \\mathbf{0} &= \\mathbf{f}(\\mathbf{x}_n) + \\mathbf{J}(\\mathbf{x}_n)\\mathbf{h}\\\\\n",
    "  \\mathbf{h} &= -\\mathbf{J}(\\mathbf{x}_n)^{-1}\\mathbf{f}(\\mathbf{x}_n)\\\\\n",
    "  \\mathbf{x}_{n+1} &= \\mathbf{x}_n - \\mathbf{J}(\\mathbf{x}_n)^{-1}\\mathbf{f}(\\mathbf{x}_n).\n",
    "\\end{split}\\end{split}\n",
    "$$\n",
    "The calculation rule for the next $\\mathbf{x}$ which is closer to the root is thus iteratively called over and over again. The calculation rule according to the Newton method is therefore:\n",
    "$$\n",
    "\\mathbf{x}_0 = \\text{start value}\n",
    "$$\n",
    "$$\n",
    "\\mathbf{x}_{1} = \\mathbf{x}_0 - \\mathbf{J}(\\mathbf{x}_0)^{-1}\\mathbf{f}(\\mathbf{x}_0)\n",
    "$$\n",
    "$$\n",
    "\\mathbf{x}_{2} = \\mathbf{x}_{1} - \\mathbf{J}(\\mathbf{x}_{1})^{-1}\\mathbf{f}(\\mathbf{x}_{1})\n",
    "$$\n",
    "$$\n",
    "...\n",
    "$$\n",
    "$$\n",
    "\\mathbf{x}_{n+1} = \\mathbf{x}_n - \\mathbf{J}(\\mathbf{x}_n)^{-1}\\mathbf{f}(\\mathbf{x}_n)\n",
    "$$\n",
    "We do this until we have reached the desired accuracy, i.e., the desired distance of $\\mathbf{f}(\\mathbf{x}_{n+1})$ to $\\mathbf{0}$.\n",
    "\n",
    "**Summary**: The Newton method is an iterative method for finding the root of a function with multiple variables. The calculation rule for the next $\\mathbf{x}$ which is closer to the root is thus iteratively called over and over again. When look at the calculation rule of the Newton method:\n",
    "$$\\mathbf{x}_{n+1} = \\mathbf{x}_n - \\mathbf{J}(\\mathbf{x}_n)^{-1}\\mathbf{f}(\\mathbf{x}_n)$$\n",
    "we see that we need to calculate the function $\\mathbf{f}(\\mathbf{x})$, the derivative of the function (the Jacobian $\\mathbf{J}(\\mathbf{x})$) and the inverse of the Jacobian matrix $\\mathbf{J}(\\mathbf{x})^{-1}$."
   ]
  },
  {
   "cell_type": "markdown",
   "metadata": {},
   "source": [
    "## Sneak Peak into Derivatives and Linear Equations\n",
    "\n",
    "In Exercise 6. we will see how we can estimate the Jacobian of a function $\\mathbf{f}(\\mathbf{x})$ using different numeracial methods based on forward and backward differentiation. We can use forward diff to estimate the Jacobian of a function $\\mathbf{f}(\\mathbf{x})$ at a point $\\mathbf{x}$:"
   ]
  },
  {
   "cell_type": "code",
   "execution_count": null,
   "metadata": {},
   "outputs": [],
   "source": [
    "using ForwardDiff\n",
    "\n",
    "f(x) = [x[1]^2 + x[2]^2 - 1, x[1] - x[2]^2]\n",
    "q = [1.0, 1.0]\n",
    "J_fd = ForwardDiff.jacobian(f, q)\n"
   ]
  },
  {
   "cell_type": "markdown",
   "metadata": {},
   "source": [
    "In a following exercise we will see how we can solve a linear equation system:"
   ]
  },
  {
   "cell_type": "code",
   "execution_count": null,
   "metadata": {},
   "outputs": [],
   "source": [
    "A = rand(3,3)\n",
    "b = rand(3)\n",
    "@show x = A\\b # Simple version of solving a linear system"
   ]
  },
  {
   "cell_type": "markdown",
   "metadata": {},
   "source": [
    "> Note: You should use the inverse function `inv(A)` to solve the linear equation. A more stable version of solving a linear system is based on LU factorization. You will learn this is a following exercise in more detail."
   ]
  },
  {
   "cell_type": "markdown",
   "metadata": {},
   "source": [
    "## Newton Method in Julia\n",
    "You will learn that the inverse is not a good idea to use to solve the linear equation systems. Instead we can use the LU factorization to solve the linear equation system. We can first use the `lu` function to calculate the LU factorization of the Jacobian matrix and then use forward and backward substitution to solve $\\mathbf{J}(\\mathbf{x}_n)^{-1}\\mathbf{f}(\\mathbf{x}_n)$ instead of calculating the inverse of the Jacobian matrix. We need to calculate the function $\\mathbf{f}(\\mathbf{x})$ and the Jacobian matrix $\\mathbf{J}(\\mathbf{x}_n)$ in each iteration, since the Jacobian matrix depends on the point $\\mathbf{x}_n$. \n",
    "\n",
    "First we define the function `J(x)` which calculates the Jacobian. We can use the `ForwardDiff.jl` package to calculate the Jacobian matrix of a function $\\mathbf{f}(\\mathbf{x})$ at a point $\\mathbf{x}$:\n"
   ]
  },
  {
   "cell_type": "code",
   "execution_count": null,
   "metadata": {},
   "outputs": [],
   "source": [
    "J(x) = ForwardDiff.jacobian(f, x)"
   ]
  },
  {
   "cell_type": "markdown",
   "metadata": {},
   "source": [
    "Now we define a function `newton(f, J, x)` which implements the Newton method. Where `f` is the function $\\mathbf{f}(\\mathbf{x})$, `J` is the function `J(x)` which calculates the Jacobian matrix $\\mathbf{J}(\\mathbf{x})$ and `x` is the start value $\\mathbf{x}_0$. The function `newton` returns the root of the function $\\mathbf{f}(\\mathbf{x})$. The function iteratively calls the calculation rule of the Newton method using the LU factorization until the desired accuracy is reached. The desired accuracy is defined by the parameter `tolerance` which is set to `1e-10` by default. The maximum number of iterations is defined by the parameter `maxiter` which is set to `1000` by default. "
   ]
  },
  {
   "cell_type": "code",
   "execution_count": null,
   "metadata": {},
   "outputs": [],
   "source": [
    "using LinearAlgebra\n",
    "\n",
    "function newton(f, J, x, solver)\n",
    "   h = Inf64\n",
    "   tolerance = 10^(-10)\n",
    "   iter = 0\n",
    "   while (norm(h) > tolerance)\n",
    "      iter += 1\n",
    "      if iter > 1000\n",
    "         error(\"Too many iterations\")\n",
    "      end\n",
    "      h = solver(J(x), f(x))\n",
    "      x = x - h\n",
    "   end\n",
    "   return x\n",
    "end"
   ]
  },
  {
   "cell_type": "code",
   "execution_count": null,
   "metadata": {},
   "outputs": [],
   "source": [
    "function simple_solver(A, b)\n",
    "    return  # TODO: Implement a simple solver\n",
    "end"
   ]
  },
  {
   "cell_type": "markdown",
   "metadata": {},
   "source": [
    "Let's test the Newton method for the function $\\mathbf{f}(\\mathbf{x})$:\n",
    "$$\n",
    "\\mathbf{f}(\\mathbf{x}) = \\begin{bmatrix}\n",
    "  \\rule[2mm]{0pt}{1em}x_1^2 + x_2^2 - 1\\\\[2mm]\n",
    "  x_1 - x_2\n",
    "\\end{bmatrix}\n",
    "$$\n",
    "\n",
    "Try to find the two roots of the function $\\mathbf{f}(\\mathbf{x})$ by using the Newton method:"
   ]
  },
  {
   "cell_type": "code",
   "execution_count": null,
   "metadata": {},
   "outputs": [],
   "source": [
    "f(x) = ...\n",
    "x = [0.6, -1]\n",
    "newton(f, J, x, simple_solver)"
   ]
  },
  {
   "cell_type": "code",
   "execution_count": null,
   "metadata": {},
   "outputs": [],
   "source": [
    "x = [0.6, 1]\n",
    "newton(f, J, x, simple_solver)"
   ]
  },
  {
   "cell_type": "markdown",
   "metadata": {},
   "source": [
    "Let's try to find the two roots of another set of functions $\\mathbf{f}(\\mathbf{x})$:\n",
    "$$\n",
    "\\mathbf{f}(\\mathbf{x}) = \\begin{bmatrix}\n",
    "  \\rule[2mm]{0pt}{1em}(1-x_1)^2 + (2-x_2)^2 - 5^2\\\\[2mm]\n",
    "  (6-x_1)^2 + (1-x_2)^2 - 6.2^2\\\\[2mm]  \n",
    "\\end{bmatrix}\n",
    "$$"
   ]
  },
  {
   "cell_type": "code",
   "execution_count": null,
   "metadata": {},
   "outputs": [],
   "source": [
    "f(x) = ...\n",
    "x = [1, -2]\n",
    "newton(f, J, x, simple_solver)"
   ]
  },
  {
   "cell_type": "code",
   "execution_count": null,
   "metadata": {},
   "outputs": [],
   "source": [
    "x = [3, 6]\n",
    "newton(f, J, x, simple_solver)"
   ]
  },
  {
   "cell_type": "markdown",
   "metadata": {},
   "source": [
    "# Solving the inverse kinematics of the Openmanipulator using the Newton method\n",
    "\n",
    "\n",
    "First, let us define a position and heading we know we can reach with the OpenManipulator. We will use this as a starting point for the Newton method. We do this loading the kinematics library and estimating the forward kinematics of the OpenManipulator for the joint angles we know we can reach:"
   ]
  },
  {
   "cell_type": "code",
   "execution_count": null,
   "metadata": {},
   "outputs": [],
   "source": [
    "goal_position, desired_orientation = OpenManipulatorKinematics.complete_forward_kinematics([0.6, 0.6, -0.5, -0.1])"
   ]
  },
  {
   "cell_type": "markdown",
   "metadata": {},
   "source": [
    "To solve the inverse kinematics we first define a function that we want to solve. This function takes the joint angles as input and returns the difference between the current position/orientation and the desired position/orientation of the end effector. Our goal will be to find a point where this difference is zero. "
   ]
  },
  {
   "cell_type": "code",
   "execution_count": null,
   "metadata": {},
   "outputs": [],
   "source": [
    "using ForwardDiff\n",
    "\n",
    "# Define a function to be solved for the root finding problem\n",
    "function f_rootfindingProblem(q) \n",
    "    end_effector_position, end_effector_orientation = OpenManipulatorKinematics.complete_forward_kinematics(q)\n",
    "    # TODO: generate a system of equations that will allow you to find the joint angles that will place the end effector at the goal position\n",
    "    # use goal_position and end_effector_position to generate the system of equations\n",
    "    # note that we have to apply a simple trick to the orientation to make it easier to solve the system of equations.\n",
    "    # In other words you need to combine the orientation error into one single error equation\n",
    "    f_1 = ...\n",
    "    f_2 = ...\n",
    "    f_3 = ...\n",
    "    f_4 = ...\n",
    "    return [f_1, f_2, f_3, f_4]\n",
    "end"
   ]
  },
  {
   "cell_type": "code",
   "execution_count": null,
   "metadata": {},
   "outputs": [],
   "source": [
    "function J_openManipulator(q)\n",
    "    # Calculate the Jacobian matrix using ForwardDiff.jacobian\n",
    "    J = ForwardDiff.jacobian(f_rootfindingProblem, q)\n",
    "    return J\n",
    "end"
   ]
  },
  {
   "cell_type": "code",
   "execution_count": null,
   "metadata": {},
   "outputs": [],
   "source": [
    "q_init = [0.5, 0.5, -0.5, -0.1] # A position relatively close to the goal position\n",
    "newton(f_rootfindingProblem, J_openManipulator, q_init, simple_solver)"
   ]
  },
  {
   "cell_type": "markdown",
   "metadata": {},
   "source": [
    "What happens if we just initialize with $0$?"
   ]
  },
  {
   "cell_type": "code",
   "execution_count": null,
   "metadata": {},
   "outputs": [],
   "source": [
    "q_init = [0.0, 0.0, 0.0, 0.0]\n",
    "newton(f_rootfindingProblem, J_openManipulator, q_init, simple_solver)"
   ]
  },
  {
   "cell_type": "markdown",
   "metadata": {},
   "source": [
    "Why did this not work? Let's look at the determinant of the Jacobian matrix. The determinant of the Jacobian matrix is a measure of how much the volume of the input space is scaled by the transformation. If the determinant is zero, the transformation is singular and the inverse kinematic problem has no solution. If it is close to zero the transformation is close to singular and the inverse kinematic problem is ill-conditioned. We can calculate the determinant of the Jacobian matrix using the `det` function."
   ]
  },
  {
   "cell_type": "code",
   "execution_count": null,
   "metadata": {},
   "outputs": [],
   "source": [
    "q_init = [0.0, 0.0, 0.0, 0.0]\n",
    "jac_0 = J_openManipulator(q_init)\n",
    "det(jac_0) "
   ]
  },
  {
   "attachments": {},
   "cell_type": "markdown",
   "metadata": {},
   "source": [
    "This is bad. A linear equation with this Jacobian is ill-posed. We need to initialize with a value that is close to the solution and which results in a det of the Jacobian which is not too close to zero. Let's try to find a good starting point by trial and error:"
   ]
  },
  {
   "cell_type": "code",
   "execution_count": null,
   "metadata": {},
   "outputs": [],
   "source": [
    "q_init = [0.0, 0.0, 0.0, 0.0] # TODO: Find a position that does result in a higher value of the determinant\n",
    "jac_0 = J_openManipulator(q_init)\n",
    "det(jac_0)"
   ]
  },
  {
   "cell_type": "code",
   "execution_count": null,
   "metadata": {},
   "outputs": [],
   "source": [
    "newton(f_rootfindingProblem, J_openManipulator, q_init, simple_solver)"
   ]
  },
  {
   "attachments": {},
   "cell_type": "markdown",
   "metadata": {},
   "source": [
    "How good does this work if we start from some random joint angles?"
   ]
  },
  {
   "cell_type": "code",
   "execution_count": null,
   "metadata": {},
   "outputs": [],
   "source": [
    "for i in 1:10\n",
    "    q_init = rand(4)\n",
    "    q = newton(f_rootfindingProblem, J_openManipulator, q_init, simple_solver)\n",
    "    if norm(f_rootfindingProblem(q)) < 10^(-5)\n",
    "        println(\"Found a solution, q = \", q)\n",
    "    end\n",
    "end"
   ]
  },
  {
   "attachments": {},
   "cell_type": "markdown",
   "metadata": {},
   "source": [
    "Ok, we see that we need to find a good starting point for the Newton method, otherwise we get a solution which is not reachable by the robot. One way could be to to check the joint angles if they are possible for the given position and heading of the the OpenManipulator. Could you think of other ways to find a good starting point for the Newton method or to improve the solutions given by the Newton method?\n"
   ]
  },
  {
   "cell_type": "markdown",
   "metadata": {},
   "source": [
    "## Controling the OpenManipulator with the inverse kinematic\n",
    "\n",
    "Intialize the Openmanipulator simulation: "
   ]
  },
  {
   "cell_type": "code",
   "execution_count": null,
   "metadata": {},
   "outputs": [],
   "source": [
    "using RigidBodyDynamics\n",
    "using MeshCatMechanisms\n",
    "using MeshCat\n",
    "using LinearAlgebra\n",
    "using StaticArrays"
   ]
  },
  {
   "cell_type": "code",
   "execution_count": null,
   "metadata": {},
   "outputs": [],
   "source": [
    "srcdir = \"../open_manipulator_description/urdf/\"\n",
    "urdf = joinpath(srcdir, \"open_manipulator.urdf\")\n",
    "mechanism = parse_urdf(urdf)\n",
    "mvis = MechanismVisualizer(mechanism, URDFVisuals(urdf));\n",
    "render(mvis)"
   ]
  },
  {
   "cell_type": "code",
   "execution_count": null,
   "metadata": {},
   "outputs": [],
   "source": [
    "state = mvis.state\n",
    "set_configuration!(mvis, [0.0, 0.0, 0.0, 0.0, 0.0, 0.0])\n",
    "zero_velocity!(state)\n",
    "@show joint_state = mvis.state.q\n",
    "@show velocity = mvis.state.v\n",
    "om_joints = joints(mechanism);"
   ]
  },
  {
   "cell_type": "markdown",
   "metadata": {},
   "source": [
    "Setting the goal position and heading of the OpenManipulator:"
   ]
  },
  {
   "cell_type": "code",
   "execution_count": null,
   "metadata": {},
   "outputs": [],
   "source": [
    "@show goal_angles = [0.5, 0.0, 0.0, 0.1]\n",
    "goal_position, desired_orientation = OpenManipulatorKinematics.complete_forward_kinematics(goal_angles)\n",
    "@show goal_position;"
   ]
  },
  {
   "cell_type": "markdown",
   "metadata": {},
   "source": [
    "Let's estimate the joint angles using the inverse kinematics here so that we see if we find a solution"
   ]
  },
  {
   "cell_type": "code",
   "execution_count": null,
   "metadata": {},
   "outputs": [],
   "source": [
    "q_init = [0.0, 0.0, 0.0, 0.0] # A position relatively close to the goal position\n",
    "q_desired_inv_kinematic = newton(f_rootfindingProblem, J_openManipulator, q_init, simple_solver);\n",
    "@show q_desired_inv_kinematic;"
   ]
  },
  {
   "cell_type": "markdown",
   "metadata": {},
   "source": [
    "Implementing the control methods to move the OpenManipulator to the goal position and heading:"
   ]
  },
  {
   "cell_type": "code",
   "execution_count": null,
   "metadata": {},
   "outputs": [],
   "source": [
    "function joint_position_control(q_state, v_state, q_desired)\n",
    "    kp = 12.0\n",
    "    v_damping = 0.1\n",
    "    max_torque = 10.0\n",
    "\n",
    "    torque = kp * (q_desired - q_state) - v_damping * v_state\n",
    "    torque = clamp.(torque, -max_torque, max_torque)\n",
    "\n",
    "    return torque\n",
    "end;"
   ]
  },
  {
   "cell_type": "code",
   "execution_count": null,
   "metadata": {},
   "outputs": [],
   "source": [
    "function simple_joint_control!(torques::AbstractVector, t, state::MechanismState)\n",
    "    # add the last two joints to q_desired\n",
    "    q_desired_all_joints = [q_desired_inv_kinematic; 0.0; 0.0]\n",
    "\n",
    "    for j_iter in 1:6\n",
    "        if j_iter > 4\n",
    "            state.v[j_iter] = 0.0\n",
    "        end\n",
    "        torques[velocity_range(state, om_joints[j_iter])] .= joint_position_control(state.q[j_iter], state.v[j_iter], q_desired_all_joints[j_iter])\n",
    "    end\n",
    "end;"
   ]
  },
  {
   "cell_type": "code",
   "execution_count": null,
   "metadata": {},
   "outputs": [],
   "source": [
    "set_configuration!(mvis, [0.0, 0.0, 0.0, 0.0, 0.0, 0.0])\n",
    "zero_velocity!(state)"
   ]
  },
  {
   "cell_type": "code",
   "execution_count": null,
   "metadata": {},
   "outputs": [],
   "source": [
    "final_time = 2.0\n",
    "ts, qs, vs = simulate(mvis.state, final_time, simple_joint_control!; Δt=1e-2);\n",
    "MeshCatMechanisms.animate(mvis, ts, qs)\n",
    "@show joint_state = mvis.state.q;"
   ]
  },
  {
   "cell_type": "markdown",
   "metadata": {},
   "source": [
    "## Exercise: \n",
    "\n",
    "Play around with different goal positions. And see where problems occur. Can you think of a way to improve the control method?"
   ]
  },
  {
   "cell_type": "code",
   "execution_count": null,
   "metadata": {},
   "outputs": [],
   "source": [
    "@show goal_angles = [0.0, 0.0, 0.0, 0.0] # TODO: test different goal angles or directly set goal positions \n",
    "goal_position, desired_orientation = OpenManipulatorKinematics.complete_forward_kinematics(goal_angles)\n",
    "q_init = [0.0, 0.0, 0.0, 0.0] # A position relatively close to the goal position\n",
    "q_desired_inv_kinematic = newton(f_rootfindingProblem, J_openManipulator, q_init, simple_solver);\n",
    "@show q_desired_inv_kinematic;\n",
    "\n",
    "set_configuration!(mvis, [0.0, 0.0, 0.0, 0.0, 0.0, 0.0])\n",
    "zero_velocity!(state)"
   ]
  },
  {
   "cell_type": "code",
   "execution_count": null,
   "metadata": {},
   "outputs": [],
   "source": [
    "final_time = 2.0\n",
    "ts, qs, vs = simulate(mvis.state, final_time, simple_joint_control!; Δt=1e-2);\n",
    "MeshCatMechanisms.animate(mvis, ts, qs)\n",
    "@show joint_state = mvis.state.q;"
   ]
  }
 ],
 "metadata": {
  "kernelspec": {
   "display_name": "Julia 1.11.5",
   "language": "julia",
   "name": "julia-1.11"
  },
  "language_info": {
   "file_extension": ".jl",
   "mimetype": "application/julia",
   "name": "julia",
   "version": "1.11.5"
  },
  "orig_nbformat": 4
 },
 "nbformat": 4,
 "nbformat_minor": 2
}
