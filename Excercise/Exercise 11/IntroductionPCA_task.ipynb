{
 "cells": [
  {
   "cell_type": "markdown",
   "metadata": {},
   "source": [
    "# Introduction to Principal Component Analysis (PCA)\n",
    "\n",
    "**Principal Component Analysis (PCA)** is a technique used to emphasize variation and bring out strong patterns in a dataset. It's often used to make data easy to explore and visualize or to reduce the number of variables in a dataset while preserving the variation in the dataset as much as possible. It does this by creating new variables called principal components that are linear combinations of the original variables. The first principal component accounts for as much of the variation in the data as possible, and each succeeding component accounts for as much of the remaining variation as possible.\n",
    "\n",
    "PCA is closely related to **singular value decomposition (SVD)**. SVD is a more general method of understandig the basis and is used in a wide range of applications including compressing, denoising, and data reduction. Its ability to handle different types of data makes it a versatile tool in the field of data science. If you are further interested and want to know more about some applications (especially for dimensionality reduction) you can check the following Resources from Steven Brunton: http://databookuw.com/page-2/page-4/ (Youtube playlist https://www.youtube.com/watch?v=gXbThCXjZFM&list=PLMrJAkhIeNNSVjnsviglFoY2nXildDCcv and his book (Data Driven Science & Engineering Machine Learning, Dynamical Systems, and Control from Steven Brunton and J. Nathan Kutz) here: http://databookuw.com/databook.pdf where Chapter 1 is about SVD and Section 1.5 is about PCA).\n",
    "\n",
    "## Brief Repitition of Singular Value Decomposition (SVD)\n",
    "\n",
    "Assume we have a dataset of many Measurements stored in a matrix $X \\in \\mathbb{C}^{n \\times m}$, where $m$ is the number of measurements and $n$ is the number of features. For example, we could have $m$ measurements of the position of a mass on a spring over time, where each measurement is a vector of $n$ features. We can write this as:\n",
    "$$ \n",
    "X = \\begin{bmatrix}\n",
    "x_{11} & x_{12} & \\dots & x_{1m} \\\\\n",
    "x_{21} & x_{22} & \\dots & x_{2m} \\\\\n",
    "\\vdots & \\vdots & \\ddots & \\vdots \\\\\n",
    "x_{n1} & x_{n2} & \\dots & x_{nm} \\\\\n",
    "\\end{bmatrix}\n",
    "$$\n",
    "\n",
    "where each measurement is $x_i \\in \\mathbb{C}^n$ and the whole dataset is $X \\in \\mathbb{C}^{n \\times m}$. We can think of each measurement as a point in an $n$-dimensional space. For example, if we have $n=2$ features, we could plot each measurement as a point in a 2D space. If we have $n=3$ features, we could plot each measurement as a point in a 3D space. If we have $n>3$ features, we cannot plot each measurement as a point in a 3D space, but we can still think of each measurement as a point in an $n$-dimensional space. \n",
    "\n",
    "We can transform our measurements using the Singular Value Decomposition (SVD), which is a matrix decomposition method for reducing a matrix to its constituent parts in order to make certain subsequent matrix calculations simpler. It provides the basis for many practical applications such as signal processing, image processing, and data reduction.\n",
    "\n",
    "For our given $n \\times m$ matrix $X$, the SVD is written as:\n",
    "$$\n",
    "X = UΣV^*\n",
    "$$\n",
    "Where:\n",
    "- $U$ is an unitary $n \\times n$ matrix, the columns of which are the eigenvectors of $XX^*$\n",
    "- $Σ$ is an $n \\times m$ diagonal matrix (real, non-negative entries on the diagonal and zeros off the diagonal), the diagonal elements of which are the square roots of the eigenvalues of $XX^*$ or $X^*X$.\n",
    "- $V*$ (the conjugate transpose of V) is an unitary $m \\times m$ matrix, the columns of which are the eigenvectors of $X^*X$\n",
    "\n",
    "Note that $*$ is the conjugate transpose of a matrix. For a real matrix, the conjugate transpose is the same as the transpose $X^* = X^T$. For a complex matrix, the conjugate transpose is the transpose of the complex conjugate of the matrix. A square matrix $U$ is unitary if $UU^* = U^*U = I$.\n",
    "\n",
    "The diagonal elements of Σ are known as the singular values of X. The columns of U and the columns of V* are called the left-singular vectors and right-singular vectors of X, respectively.\n",
    "\n",
    "\n",
    "## PCA in a Nutshell\n",
    "\n",
    "PCA is one of the central applications of the SVD, where we can transform high-dimensional correlated data. In PCA we pre-processes the data by mean subtraction and setting the variance to unity before performing the SVD. The geometry of the resulting coordinate system is determined by principal components (PCs) that are uncorrelated (orthogonal) to each other, but have maximal correlation with the measurements. \n",
    "\n",
    "We again consider a dataset of many (real valued) Measurements stored in a matrix $X \\in \\mathbb{R}^{m \\times n}$, where $n$ is the number of measurements and $m$ is the number of features (please note that we changed the dimensions compared to the SVD section). We can write this as:\n",
    "$$ \n",
    "X = \\begin{bmatrix}\n",
    "x_{11} & x_{12} & \\dots & x_{1n} \\\\\n",
    "x_{21} & x_{22} & \\dots & x_{2n} \\\\\n",
    "\\vdots & \\vdots & \\ddots & \\vdots \\\\\n",
    "x_{m1} & x_{m2} & \\dots & x_{mn} \\\\\n",
    "\\end{bmatrix}\n",
    "$$\n",
    "\n",
    "where each measurement is $x_i \\in \\mathbb{R}^m$ and the whole dataset is $X \\in \\mathbb{R}^{m \\times n}$.\n",
    "\n",
    "First we compute the mean of $X$ for each measurement: \n",
    "$$\\bar{x}_j = \\frac{1}{n}\\sum_{i=1}^n x_ij$$\n",
    "\n",
    "and construct the mean Matrix $X_M$:\n",
    "$$X_M = \\begin{bmatrix}\n",
    "\\bar{x}_1 & \\bar{x}_2 & \\dots & \\bar{x}_n \\\\\n",
    "\\bar{x}_1 & \\bar{x}_2 & \\dots & \\bar{x}_n \\\\\n",
    "\\vdots & \\vdots & \\ddots & \\vdots \\\\\n",
    "\\bar{x}_1 & \\bar{x}_2 & \\dots & \\bar{x}_n \\\\\n",
    "\\end{bmatrix}$$\n",
    "\n",
    "Then we subtract the mean from each measurement resulting in the mean substracted data $B$:\n",
    "$$B = \\frac{1}{\\sqrt{n-1}} (X - X_M)^T$$\n",
    "\n",
    "Using the mean subtracted data $B$ we compute the covariance matrix of $B$:\n",
    "\n",
    "$$C_X = B^TB$$\n",
    "\n",
    "The principal components of $X$ are also the eigenvectors of $C_X$. Hence, if we calculate the SVD of $Y$, the columns of matrix $V$ contain the eigenvectors of $B^TB = C_X$ (see the description of $V$ in the SVD section). Therefore, the columns of $V$ are the principal components of $X$. \n",
    "\n",
    "In summary we can write the following pseudo code for PCA:\n",
    "```python\n",
    "# PCA - Perform PCA using SVD.\n",
    "# Input: data - MxN matrix of input data (M dimensions, N trials)\n",
    "[M,N] = size(data)\n",
    "mean_x = mean(X, axis=2)\n",
    "data = data - repmat(mean_x,1,N)\n",
    "B = data* / sqrt(N-1)\n",
    "[u,S,PC] = svd(B)\n",
    "\n",
    "# calculate the variances\n",
    "S = diag(S)\n",
    "V = S .* S\n",
    "\n",
    "# project the original data\n",
    "signals = PC’ * data\n",
    "```\n",
    "\n",
    "## Example: Measuring a spring-mass system using cameras\n",
    "\n",
    "We will use an example from \"A Tutorial on Principal Component Analyses\" by Jonathon Shlens (https://arxiv.org/pdf/1404.1100.pdf) to illustrate the use of PCA. \n",
    "\n",
    "Consider the following example. We have an ideal spring-mass system of a ball with mass m attached to a massless, frictionless spring. The spring is attached to a wall and the ball is free to move in the horizontal direction. The ball is initially at rest at the equilibrium position of the spring. We then pull the ball to the right and release it. The ball will then oscillate back and forth. We are interested in measuring the position of the mass over time. We have three video cameras which we can use to track the position of the mass (see figure below).\n",
    "\n",
    "![Spring-mass system](spring_mass_system.png)\n",
    "\n",
    "Since we do not know anything about the system, we did not position the cameras in a position which would allow us to directly measure the position of the mass. Instead, we positioned the cameras in arbitrary angles. By doing this we can only measure the position of the mass in the x- and y-directions of each camera frame. Hence we want to use the measured camera positions to calculate the position of the mass in its x-direction. How do we get from this data set to a simple equation of x?\n",
    "\n",
    "First let start with the problem and the data.\n"
   ]
  },
  {
   "cell_type": "code",
   "execution_count": null,
   "metadata": {},
   "outputs": [],
   "source": [
    "import Pkg\n",
    "Pkg.generate(\"PCA\")\n",
    "Pkg.activate(\"PCA\")\n",
    "Pkg.add(\"Plots\")\n",
    "Pkg.add(\"LinearAlgebra\")\n",
    "Pkg.add(\"Statistics\")\n",
    "Pkg.add(\"Random\")\n",
    "Pkg.add(\"Revise\")"
   ]
  },
  {
   "cell_type": "code",
   "execution_count": null,
   "metadata": {},
   "outputs": [],
   "source": [
    "import Pkg\n",
    "Pkg.activate(\"PCA\")\n",
    "using Revise\n",
    "include(\"./SpringMass.jl\") # this file implements the generation of our spring-mass toy problem \n",
    "using .SpringMass\n",
    "using Statistics, LinearAlgebra, Random, Plots"
   ]
  },
  {
   "cell_type": "markdown",
   "metadata": {},
   "source": [
    "Let's generate our dataset and take a first look at it:"
   ]
  },
  {
   "cell_type": "code",
   "execution_count": null,
   "metadata": {},
   "outputs": [],
   "source": [
    "amplitude = 2.0 # amplitude of the motion\n",
    "X, x_true, y_true = generate_dataset(amplitude)"
   ]
  },
  {
   "cell_type": "markdown",
   "metadata": {},
   "source": [
    "So what do we have here? \n",
    "\n",
    "The dataset X is a matrix where each row corresponds to a different time step and each column corresponds to a different measurement. The measurements are the x and y coordinates of the ball's position as recorded by three different cameras. The cameras are not aligned with the true x and y axes, but instead have their own coordinate systems that are rotated at arbitrary angles with respect to the true axes.\n",
    "\n",
    "Before we take a look at the data we plot the true motion of the ball we want to measure. This will give us an idea what we expect to see in the data."
   ]
  },
  {
   "cell_type": "code",
   "execution_count": null,
   "metadata": {},
   "outputs": [],
   "source": [
    "# Plot the \"true\" motion\n",
    "p = plot(x_true, label=\"True Motion\", title=\"True Motion of the Ball\", xlabel=\"Time\", ylabel=\"x\")"
   ]
  },
  {
   "cell_type": "markdown",
   "metadata": {},
   "source": [
    "Now let's take a look at the data. We have three cameras which measure the position of the ball in the x- and y-directions. We can plot the position of the ball in the x- and y-directions for each camera:"
   ]
  },
  {
   "cell_type": "code",
   "execution_count": null,
   "metadata": {},
   "outputs": [],
   "source": [
    "# Scatter Plot the 2-dim data\n",
    "p1 = scatter(X[:, 1], X[:, 2], label=\"Camera 1\")\n",
    "p2 = scatter(X[:, 3], X[:, 4], label=\"Camera 2\")\n",
    "p3 = scatter(X[:, 5], X[:, 6], label=\"Camera 3\")\n",
    "plot(p1, p2, p3, title=\"Scatter Plot of Data\", xlabel=\"x\", ylabel=\"y\")"
   ]
  },
  {
   "cell_type": "markdown",
   "metadata": {},
   "source": [
    "Here's a breakdown of the columns in X:\n",
    "- Columns 1 and 2: The x and y coordinates of the ball's position as recorded by camera 1 (Plot 1).\n",
    "- Columns 3 and 4: The x and y coordinates of the ball's position as recorded by camera 2 (Plot 2).\n",
    "- Columns 5 and 6: The x and y coordinates of the ball's position as recorded by camera 3 (Plot 3).\n",
    "\n",
    "So these 6 columns are the measurements we have. Where each measurement $x_{i}$ at time step $i$ can be viewed as: \n",
    "$$\n",
    "x_{i} = \\begin{bmatrix}\n",
    "x_{a} \\\\\n",
    "y_{a} \\\\\n",
    "x_{b} \\\\\n",
    "y_{b} \\\\\n",
    "x_{c} \\\\\n",
    "y_{c} \n",
    "\\end{bmatrix}\n",
    "$$\n",
    "\n",
    "Each row in X represents a different time step $i$. The time steps are evenly spaced and cover the entire duration of the ball's motion. We simulated for 10 seconds with a time step of 0.01 seconds, so there are 1000 rows in X.\n",
    "\n",
    "The values in X are real numbers that represent the position of the ball in the coordinate system of each camera. These values have been corrupted by Gaussian noise to simulate measurement error.\n",
    "\n",
    "In order to analyze this dataset, we will perform Principal Component Analysis (PCA) to find the directions of greatest variance in the data. These directions, known as the principal components, can reveal the true motion of the ball, as well as the relationships between the different measurements.\n",
    "\n",
    "## PCA on the spring-mass system \n",
    "Now let us compute the principal components of our data set. We will preprocess the data and use the ```eigen()``` function od the LinearAlgebra package to compute the principal components as explained above. "
   ]
  },
  {
   "cell_type": "code",
   "execution_count": null,
   "metadata": {},
   "outputs": [],
   "source": [
    "# Perform PCA\n",
    "μ = mean(X, dims=1)  # compute the mean\n",
    "X_centered = X .- μ  # center the data\n",
    "Σ = X_centered' * X_centered / (size(X, 1) - 1)  # compute the covariance matrix\n",
    "λ, V = eigen(Σ)  # compute the eigenvalues and eigenvectors"
   ]
  },
  {
   "cell_type": "code",
   "execution_count": null,
   "metadata": {},
   "outputs": [],
   "source": [
    "# The principal components are given by the eigenvectors\n",
    "PCs = V"
   ]
  },
  {
   "cell_type": "code",
   "execution_count": null,
   "metadata": {},
   "outputs": [],
   "source": [
    "# Plot the original data and the principal components\n",
    "p1 = plot(X, label=[\"Camera 1 x\" \"Camera 1 y\" \"Camera 2 x\" \"Camera 2 y\" \"Camera 3 x\" \"Camera 3 y\"], title=\"Original Data\")\n",
    "p2 = plot(X * PCs, label=[\"PC 1\" \"PC 2\" \"PC 3\" \"PC 4\" \"PC 5\" \"PC 6\"], title=\"Principal Components\")\n",
    "plot(p1, p2, layout=(1, 2), size=(1200, 400), legend=:topleft)"
   ]
  },
  {
   "cell_type": "markdown",
   "metadata": {},
   "source": [
    "### Things we can do with PCA\n",
    "\n",
    "1. Correlation: If your data variables are correlated, PCA can help identify these correlations. Highly correlated variables will contribute to the same principal component.\n",
    "\n",
    "2. Dimensionality Reduction: If your data has many dimensions, PCA can be used to reduce its dimensionality while preserving as much of the data's variation as possible. The reduced-dimension data can be easier to analyze and visualize.\n",
    "\n",
    "3. Variance Explained: The eigenvalues of the covariance matrix in PCA represent the amount of variance explained by each principal component. The first principal component explains the most variance, the second principal component explains the second most, and so on. By examining these eigenvalues, you can get a sense of how much of the total variance in your data is captured by each principal component.\n",
    "\n",
    "4. Outlier Detection: Outliers are observations that are far from the main cluster of data points. PCA can help detect outliers by looking at the principal components that explain the most variance. Outliers will often show up as extreme values on the principal components."
   ]
  },
  {
   "cell_type": "code",
   "execution_count": null,
   "metadata": {},
   "outputs": [],
   "source": [
    "# combine the transformed data into a matrix\n",
    "X_projected = X * PCs"
   ]
  },
  {
   "cell_type": "code",
   "execution_count": null,
   "metadata": {},
   "outputs": [],
   "source": [
    "# Scatter Plot the 2-dim data\n",
    "p1 = scatter(X_projected[:, 1], X_projected[:, 2], label=\"Projected Data PC 1 and 2\") \n",
    "p2 = scatter(X_projected[:, 3], X_projected[:, 4], label=\"Projected Data PC 3 and 4\")\n",
    "p3 = scatter(X_projected[:, 5], X_projected[:, 6], label=\"Projected Data PC 5 and 6\")\n",
    "plot(p1, p2, p3, title=\"Scatter Plot of Data\", xlabel=\"x\", ylabel=\"y\")\n"
   ]
  },
  {
   "cell_type": "markdown",
   "metadata": {},
   "source": [
    "**Correlation** We can already see that the data is highly correlated when we look at the scatter plots of the data and compate this to the transformed data. We can also see this by looking at the correlation matrix of the data: "
   ]
  },
  {
   "cell_type": "code",
   "execution_count": null,
   "metadata": {},
   "outputs": [],
   "source": [
    "# correlation matrix of our data\n",
    "cor(X)"
   ]
  },
  {
   "cell_type": "markdown",
   "metadata": {},
   "source": [
    "We can also look at the correlation matrix of the data transformed by PCA:"
   ]
  },
  {
   "cell_type": "code",
   "execution_count": null,
   "metadata": {},
   "outputs": [],
   "source": [
    "# correlation matrix of the transformed data\n",
    "cor(X_projected)"
   ]
  },
  {
   "cell_type": "markdown",
   "metadata": {},
   "source": [
    "**Dimensionality Reduction** We can reduce the two dimensional data to one dimension using PCA. This is done by projecting the data onto the first principal component as we have done above."
   ]
  },
  {
   "cell_type": "code",
   "execution_count": null,
   "metadata": {},
   "outputs": [],
   "source": [
    "reduced_data = X_projected[:, end] # reduce the data to one dimension\n",
    "\n",
    "# Plot the reduced data\n",
    "plot(reduced_data, label=\"Projected Data\", title=\"Data Projected onto First Principal Component\", ylabel=\"Values of the First Principal Component\")"
   ]
  },
  {
   "cell_type": "markdown",
   "metadata": {},
   "source": [
    "We can actually see that we are able to retrieve the true motion of the ball by looking at the first principal component. The first principal component is a linear combination of the original measurements. We can see the coefficients of this linear combination by looking at the first row of the matrix V. We are actually able to do this since the ball is moving in a straight line. If the ball was moving in a more complicated way, we would not be able to recover the true motion of the ball by looking at the first principal component, since the first principal component is a linear combination of the original measurements. "
   ]
  },
  {
   "cell_type": "markdown",
   "metadata": {},
   "source": [
    "**Variance Explained:** We can combine the explained variance with the data to see how much of the variance in the data is explained by each principal component. "
   ]
  },
  {
   "cell_type": "code",
   "execution_count": null,
   "metadata": {},
   "outputs": [],
   "source": [
    "# Compute the variance explained by each principal component\n",
    "var_explained = λ ./ sum(λ)\n",
    "\n",
    "println(\"Variance explained by each principal component: \", var_explained)\n",
    "\n",
    "# Plot the variance explained\n",
    "p1 = bar(1:length(var_explained), var_explained, title=\"Variance Explained by Each Principal Component\", xlabel=\"Principal Component\", ylabel=\"Var. Explained\")\n",
    "\n",
    "# Plot the projected data\n",
    "p2 = plot(X_projected[:, end], label=\"Projected Data\", title=\"Data Projected onto First Principal Component\", ylabel=\"First PC\")\n",
    "\n",
    "p3 = plot(X_projected[:, 1:end-1], label=\"Projected Data\", title=\"Data Projected onto First Principal Component\", ylabel=\"Other PCs\")\n",
    "\n",
    "# Display the plots\n",
    "plot(p1, p2, p3, layout=(3, 1))"
   ]
  },
  {
   "cell_type": "markdown",
   "metadata": {},
   "source": [
    "## Task 1: Spring Mass with more noise in the data\n",
    "\n",
    "Now let's take a look at what happens when we increase the amount of noise in the data. We will increase the standard deviation of the noise from 0.25 to 2.0. This will make the data much more noisy and harder to analyze. This noise could be viewed as inaccurate measurements for example by chaking of the cameras. Load the following data set and see what the PCA tells you about the system: "
   ]
  },
  {
   "cell_type": "code",
   "execution_count": null,
   "metadata": {},
   "outputs": [],
   "source": [
    "amplitude = 2.0 # amplitude of the motion\n",
    "noise_level = 2.0 # noise level of the data, this can be viewed as chaking of the cameras\n",
    "X, x_true, y_true = generate_dataset(amplitude, noise_level)"
   ]
  },
  {
   "cell_type": "code",
   "execution_count": null,
   "metadata": {},
   "outputs": [],
   "source": [
    "# Scatter Plot the 2-dim data\n",
    "p1 = scatter(X[:, 1], X[:, 2], label=\"Camera 1\")\n",
    "p2 = scatter(X[:, 3], X[:, 4], label=\"Camera 2\")\n",
    "p3 = scatter(X[:, 5], X[:, 6], label=\"Camera 3\")\n",
    "plot(p1, p2, p3, title=\"Scatter Plot of Data\", xlabel=\"x\", ylabel=\"y\")"
   ]
  },
  {
   "cell_type": "code",
   "execution_count": null,
   "metadata": {},
   "outputs": [],
   "source": []
  },
  {
   "cell_type": "markdown",
   "metadata": {},
   "source": [
    "## Task 2: Spring Mass with deviations in the y direction\n",
    "\n",
    "Now the mass is released off-center so as to produce motion in the $y$ plane as well as the $x$ direction. Load the following data set and see what the PCA tells you about the system: "
   ]
  },
  {
   "cell_type": "code",
   "execution_count": null,
   "metadata": {},
   "outputs": [],
   "source": [
    "amplitude = 2.0 # amplitude of the motion\n",
    "noise_level = 0.25 # noise level of the data, this can be viewed as chaking of the cameras\n",
    "amplitude_deviation = 1.0 # deviation in the y direction\n",
    "X, x_true, y_true = generate_dataset(amplitude, noise_level, amplitude_deviation)"
   ]
  },
  {
   "cell_type": "code",
   "execution_count": null,
   "metadata": {},
   "outputs": [],
   "source": [
    "# Scatter Plot the 2-dim data\n",
    "p1 = scatter(X[:, 1], X[:, 2], label=\"Camera 1\")\n",
    "p2 = scatter(X[:, 3], X[:, 4], label=\"Camera 2\")\n",
    "p3 = scatter(X[:, 5], X[:, 6], label=\"Camera 3\")\n",
    "plot(p1, p2, p3, title=\"Scatter Plot of Data\", xlabel=\"x\", ylabel=\"y\")"
   ]
  },
  {
   "cell_type": "code",
   "execution_count": null,
   "metadata": {},
   "outputs": [],
   "source": []
  }
 ],
 "metadata": {
  "kernelspec": {
   "display_name": "Julia 1.9.0",
   "language": "julia",
   "name": "julia-1.9"
  },
  "language_info": {
   "file_extension": ".jl",
   "mimetype": "application/julia",
   "name": "julia",
   "version": "1.9.0"
  },
  "orig_nbformat": 4
 },
 "nbformat": 4,
 "nbformat_minor": 2
}
