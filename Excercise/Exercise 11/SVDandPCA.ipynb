{
 "cells": [
  {
   "attachments": {},
   "cell_type": "markdown",
   "metadata": {},
   "source": [
    "# Introduction to Singular Value Decomposition (SVD)\n",
    "\n",
    "Singular Value Decomposition (SVD) is a matrix decomposition method for reducing a matrix to its constituent parts in order to make certain subsequent matrix calculations simpler. It provides the basis for many practical applications such as signal processing, image processing, and data reduction.\n",
    "\n",
    "For a given m x n matrix M, the SVD is written as:\n",
    "\n",
    "M = UΣV*\n",
    "\n",
    "Where:\n",
    "- U is an m x m matrix, the columns of which are the eigenvectors of MM*\n",
    "- Σ is an m x n diagonal matrix, the diagonal elements of which are the square roots of the eigenvalues of MM* or M*M\n",
    "- V* (the conjugate transpose of V) is an n x n matrix, the columns of which are the eigenvectors of M*M\n",
    "\n",
    "The diagonal elements of Σ are known as the singular values of M. The columns of U and the columns of V* are called the left-singular vectors and right-singular vectors of M, respectively.\n",
    "\n",
    "SVD is used in a wide range of applications including compressing, denoising, and data reduction. Its ability to handle different types of data makes it a versatile tool in the field of data science. If you are further interested and want to know more about some applications (especially for dimensionality reduction) you can check the following Resources from Steve Brunton: http://databookuw.com/page-2/page-4/ (Youtube playlist https://www.youtube.com/watch?v=gXbThCXjZFM&list=PLMrJAkhIeNNSVjnsviglFoY2nXildDCcv and his book here: http://databookuw.com/databook.pdf where Chapter 1 is about SVD)."
   ]
  },
  {
   "cell_type": "code",
   "execution_count": 50,
   "metadata": {},
   "outputs": [
    {
     "name": "stderr",
     "output_type": "stream",
     "text": [
      "\u001b[32m\u001b[1m  Activating\u001b[22m\u001b[39m project at `~/Library/Mobile Documents/com~apple~CloudDocs/Projects/IngGru_numerik/Exercise/Exercise 11/SVDandPCA`\n"
     ]
    },
    {
     "name": "stderr",
     "output_type": "stream",
     "text": [
      "\u001b[32m\u001b[1m   Resolving\u001b[22m\u001b[39m package versions...\n"
     ]
    },
    {
     "name": "stderr",
     "output_type": "stream",
     "text": [
      "\u001b[32m\u001b[1m  No Changes\u001b[22m\u001b[39m to `~/Library/Mobile Documents/com~apple~CloudDocs/Projects/IngGru_numerik/Exercise/Exercise 11/SVDandPCA/Project.toml`\n",
      "\u001b[32m\u001b[1m  No Changes\u001b[22m\u001b[39m to `~/Library/Mobile Documents/com~apple~CloudDocs/Projects/IngGru_numerik/Exercise/Exercise 11/SVDandPCA/Manifest.toml`\n"
     ]
    },
    {
     "name": "stderr",
     "output_type": "stream",
     "text": [
      "\u001b[32m\u001b[1m   Resolving\u001b[22m\u001b[39m package versions...\n"
     ]
    },
    {
     "name": "stderr",
     "output_type": "stream",
     "text": [
      "\u001b[32m\u001b[1m  No Changes\u001b[22m\u001b[39m to `~/Library/Mobile Documents/com~apple~CloudDocs/Projects/IngGru_numerik/Exercise/Exercise 11/SVDandPCA/Project.toml`\n",
      "\u001b[32m\u001b[1m  No Changes\u001b[22m\u001b[39m to `~/Library/Mobile Documents/com~apple~CloudDocs/Projects/IngGru_numerik/Exercise/Exercise 11/SVDandPCA/Manifest.toml`\n"
     ]
    },
    {
     "name": "stderr",
     "output_type": "stream",
     "text": [
      "\u001b[32m\u001b[1m   Resolving\u001b[22m\u001b[39m package versions...\n"
     ]
    },
    {
     "name": "stderr",
     "output_type": "stream",
     "text": [
      "\u001b[32m\u001b[1m  No Changes\u001b[22m\u001b[39m to `~/Library/Mobile Documents/com~apple~CloudDocs/Projects/IngGru_numerik/Exercise/Exercise 11/SVDandPCA/Project.toml`\n",
      "\u001b[32m\u001b[1m  No Changes\u001b[22m\u001b[39m to `~/Library/Mobile Documents/com~apple~CloudDocs/Projects/IngGru_numerik/Exercise/Exercise 11/SVDandPCA/Manifest.toml`\n"
     ]
    }
   ],
   "source": [
    "using Pkg\n",
    "# Pkg.generate(\"SVDandPCA\")\n",
    "Pkg.activate(\"SVDandPCA\")\n",
    "Pkg.add(\"MultivariateStats\")\n",
    "Pkg.add(\"RDatasets\")\n",
    "Pkg.add(\"Plots\")"
   ]
  },
  {
   "attachments": {},
   "cell_type": "markdown",
   "metadata": {},
   "source": [
    "## Example of Singular Value Decomposition (SVD)\n",
    "\n",
    "Let's consider a simple example where we have a 3x3 matrix A. We will perform SVD on this matrix and verify the results."
   ]
  },
  {
   "cell_type": "code",
   "execution_count": 42,
   "metadata": {},
   "outputs": [
    {
     "data": {
      "text/plain": [
       "SVD{Float64, Float64, Matrix{Float64}, Vector{Float64}}\n",
       "U factor:\n",
       "3×3 Matrix{Float64}:\n",
       " -0.214837   0.887231   0.408248\n",
       " -0.520587   0.249644  -0.816497\n",
       " -0.826338  -0.387943   0.408248\n",
       "singular values:\n",
       "3-element Vector{Float64}:\n",
       " 16.84810335261421\n",
       "  1.0683695145547099\n",
       "  3.3347528650314325e-16\n",
       "Vt factor:\n",
       "3×3 Matrix{Float64}:\n",
       " -0.479671  -0.572368   -0.665064\n",
       " -0.776691  -0.0756865   0.625318\n",
       " -0.408248   0.816497   -0.408248"
      ]
     },
     "metadata": {},
     "output_type": "display_data"
    }
   ],
   "source": [
    "using LinearAlgebra\n",
    "\n",
    "A = [1 2 3; 4 5 6; 7 8 9]\n",
    "\n",
    "U, S, Vt = svd(A)"
   ]
  },
  {
   "attachments": {},
   "cell_type": "markdown",
   "metadata": {},
   "source": [
    "## Task\n",
    "\n",
    "Now that we have the singular values (s), left-singular vectors (U), and right-singular vectors (VT), let's verify the SVD equation:\n",
    "\n",
    "A = UΣV*\n",
    "\n",
    "Here, Σ is a diagonal matrix created from the singular values, and V* is the transpose of VT."
   ]
  },
  {
   "cell_type": "code",
   "execution_count": 43,
   "metadata": {},
   "outputs": [
    {
     "name": "stdout",
     "output_type": "stream",
     "text": [
      "Reconstructed Matrix:\n"
     ]
    },
    {
     "data": {
      "text/plain": [
       "3×3 Matrix{Float64}:\n",
       " 1.0  2.0  3.0\n",
       " 4.0  5.0  6.0\n",
       " 7.0  8.0  9.0"
      ]
     },
     "metadata": {},
     "output_type": "display_data"
    }
   ],
   "source": [
    "# Create m x n Sigma matrix\n",
    "Sigma = zeros(size(A))\n",
    "\n",
    "# Populate Sigma with n x n diagonal matrix\n",
    "Sigma[1:size(S, 1), 1:size(S, 1)] = Diagonal(S)\n",
    "\n",
    "# Reconstruct matrix\n",
    "A_reconst = U * Diagonal(S) * Vt'\n",
    "println(\"Reconstructed Matrix:\")\n",
    "A_reconst"
   ]
  },
  {
   "attachments": {},
   "cell_type": "markdown",
   "metadata": {},
   "source": [
    "# Introduction to Principal Component Analysis (PCA)"
   ]
  },
  {
   "cell_type": "code",
   "execution_count": 56,
   "metadata": {},
   "outputs": [],
   "source": [
    "using MultivariateStats, RDatasets, Plots\n",
    "\n",
    "# load iris dataset\n",
    "iris = dataset(\"datasets\", \"iris\")\n",
    "\n",
    "# split half to training set\n",
    "Xtr = Matrix(iris[1:2:end, 1:4])'\n",
    "Xtr_labels = Vector(iris[1:2:end, 5])\n",
    "\n",
    "# split other half to testing set\n",
    "Xte = Matrix(iris[2:2:end, 1:4])'\n",
    "Xte_labels = Vector(iris[2:2:end, 5]);"
   ]
  },
  {
   "cell_type": "code",
   "execution_count": 57,
   "metadata": {},
   "outputs": [
    {
     "data": {
      "text/plain": [
       "PCA(indim = 4, outdim = 3, principalratio = 0.9957325846529407)\n",
       "\n",
       "Pattern matrix (unstandardized loadings):\n",
       "────────────────────────────────────\n",
       "         PC1         PC2         PC3\n",
       "────────────────────────────────────\n",
       "1   0.70954    0.344711   -0.160106\n",
       "2  -0.227592   0.29865     0.215417\n",
       "3   1.77976   -0.0797511   0.0197705\n",
       "4   0.764206  -0.0453779   0.166764\n",
       "────────────────────────────────────\n",
       "\n",
       "Importance of components:\n",
       "─────────────────────────────────────────────────────────\n",
       "                                PC1        PC2        PC3\n",
       "─────────────────────────────────────────────────────────\n",
       "SS Loadings (Eigenvalues)  4.3068    0.216437   0.100239\n",
       "Variance explained         0.927532  0.0466128  0.021588\n",
       "Cumulative variance        0.927532  0.974145   0.995733\n",
       "Proportion explained       0.931507  0.0468125  0.0216805\n",
       "Cumulative proportion      0.931507  0.978319   1.0\n",
       "─────────────────────────────────────────────────────────"
      ]
     },
     "metadata": {},
     "output_type": "display_data"
    }
   ],
   "source": [
    "# train a PCA model, allowing up to 3 dimensions\n",
    "M = fit(PCA, Xtr; maxoutdim=3)"
   ]
  },
  {
   "cell_type": "code",
   "execution_count": 54,
   "metadata": {},
   "outputs": [
    {
     "data": {
      "text/plain": [
       "3×75 Matrix{Float64}:\n",
       "  2.72714    2.75491     2.32396   …  -1.92047   -1.74161   -1.37706\n",
       " -0.230916  -0.406149    0.646374      0.246554   0.127625  -0.280295\n",
       "  0.253119   0.0271266  -0.230469     -0.180044  -0.123165  -0.314992"
      ]
     },
     "metadata": {},
     "output_type": "display_data"
    }
   ],
   "source": [
    "# apply PCA model to testing set\n",
    "Yte = predict(M, Xte)"
   ]
  },
  {
   "cell_type": "code",
   "execution_count": 55,
   "metadata": {},
   "outputs": [
    {
     "data": {
      "text/plain": [
       "4×75 Matrix{Float64}:\n",
       " 4.86449  4.61087   5.40782   5.00775   …  6.79346  6.58825  6.46774  5.94384\n",
       " 3.04262  3.08695   3.89061   3.39069      3.20785  3.13416  3.03873  2.94737\n",
       " 1.46099  1.48132   1.68656   1.48668      5.91124  5.39197  5.25542  5.02469\n",
       " 0.10362  0.229519  0.421233  0.221041     2.28224  1.99665  1.91243  1.91901"
      ]
     },
     "metadata": {},
     "output_type": "display_data"
    }
   ],
   "source": [
    "# reconstruct testing observations (approximately)\n",
    "Xr = reconstruct(M, Yte)"
   ]
  },
  {
   "cell_type": "code",
   "execution_count": null,
   "metadata": {},
   "outputs": [],
   "source": [
    "setosa = Yte[:, Xte_labels.==\"setosa\"]\n",
    "versicolor = Yte[:, Xte_labels.==\"versicolor\"]\n",
    "virginica = Yte[:, Xte_labels.==\"virginica\"]\n",
    "\n",
    "p = scatter(setosa[1, :], setosa[2, :], setosa[3, :], marker=:circle, linewidth=0)\n",
    "scatter!(versicolor[1, :], versicolor[2, :], versicolor[3, :], marker=:circle, linewidth=0)\n",
    "scatter!(virginica[1, :], virginica[2, :], virginica[3, :], marker=:circle, linewidth=0)\n",
    "plot!(p, xlabel=\"PC1\", ylabel=\"PC2\", zlabel=\"PC3\")"
   ]
  }
 ],
 "metadata": {
  "kernelspec": {
   "display_name": "Julia 1.9.0",
   "language": "julia",
   "name": "julia-1.9"
  },
  "language_info": {
   "file_extension": ".jl",
   "mimetype": "application/julia",
   "name": "julia",
   "version": "1.9.0"
  },
  "orig_nbformat": 4
 },
 "nbformat": 4,
 "nbformat_minor": 2
}
