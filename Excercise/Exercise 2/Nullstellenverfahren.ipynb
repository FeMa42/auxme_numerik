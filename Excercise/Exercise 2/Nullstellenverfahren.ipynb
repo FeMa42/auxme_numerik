{
 "cells": [
  {
   "attachments": {},
   "cell_type": "markdown",
   "metadata": {},
   "source": [
    "# Bisektionsverfahren\n",
    "Das Bisektionsverfahren ist ein einfaches Verfahren das wir kennengelernt haben um Nullstellen zu finden. Es wird eine Folge von Werten berechnet, die gegen die Nullstelle konvergiert. Wir brauchen dazu zwei Startwerte $a$ und $b$ zwischen denen die Nullstelle liegt. Wir berechnen dann den Mittelwert $m$ und schauen ob die Nullstelle zwischen $a$ und $m$ oder zwischen $m$ und $b$ liegt. Wir ersetzen dann den Wert $a$ oder $b$ durch $m$ und wiederholen das Verfahren bis wir abbrechen wollen oder eine gewünschte Genauigkeit erreicht haben. \n",
    "\n",
    "\n",
    "Wir haben die folgende Funktion gegeben und wollen die Nullstelle finden:"
   ]
  },
  {
   "cell_type": "code",
   "execution_count": 1,
   "metadata": {},
   "outputs": [
    {
     "data": {
      "image/png": "[encoded data removed]",
      "image/svg+xml": [
       "<?xml version=\"1.0\" encoding=\"utf-8\"?>\n",
       "<svg xmlns=\"http://www.w3.org/2000/svg\" xmlns:xlink=\"http://www.w3.org/1999/xlink\" width=\"600\" height=\"400\" viewBox=\"0 0 2400 1600\">\n",
       "<defs>\n",
       "  <clipPath id=\"clip910\">\n",
       "    <rect x=\"0\" y=\"0\" width=\"2400\" height=\"1600\"/>\n",
       "  </clipPath>\n",
       "</defs>\n",
       "<path clip-path=\"url(#clip910)\" d=\"M0 1600 L2400 1600 L2400 0 L0 0  Z\" fill=\"#ffffff\" fill-rule=\"evenodd\" fill-opacity=\"1\"/>\n",
       "<defs>\n",
       "  <clipPath id=\"clip911\">\n",
       "    <rect x=\"480\" y=\"0\" width=\"1681\" height=\"1600\"/>\n",
       "  </clipPath>\n",
       "</defs>\n",
       "<path clip-path=\"url(#clip910)\" d=\"M178.867 1486.45 L2352.76 1486.45 L2352.76 47.2441 L178.867 47.2441  Z\" fill=\"#ffffff\" fill-rule=\"evenodd\" fill-opacity=\"1\"/>\n",
       "<defs>\n",
       "  <clipPath id=\"clip912\">\n",
       "    <rect x=\"178\" y=\"47\" width=\"2175\" height=\"1440\"/>\n",
       "  </clipPath>\n",
       "</defs>\n",
       "<polyline clip-path=\"url(#clip912)\" style=\"stroke:#000000; stroke-linecap:round; stroke-linejoin:round; stroke-width:2; stroke-opacity:0.1; fill:none\" points=\"240.392,1486.45 240.392,47.2441 \"/>\n",
       "<polyline clip-path=\"url(#clip912)\" style=\"stroke:#000000; stroke-linecap:round; stroke-linejoin:round; stroke-width:2; stroke-opacity:0.1; fill:none\" points=\"924.005,1486.45 924.005,47.2441 \"/>\n",
       "<polyline clip-path=\"url(#clip912)\" style=\"stroke:#000000; stroke-linecap:round; stroke-linejoin:round; stroke-width:2; stroke-opacity:0.1; fill:none\" points=\"1607.62,1486.45 1607.62,47.2441 \"/>\n",
       "<polyline clip-path=\"url(#clip912)\" style=\"stroke:#000000; stroke-linecap:round; stroke-linejoin:round; stroke-width:2; stroke-opacity:0.1; fill:none\" points=\"2291.23,1486.45 2291.23,47.2441 \"/>\n",
       "<polyline clip-path=\"url(#clip910)\" style=\"stroke:#000000; stroke-linecap:round; stroke-linejoin:round; stroke-width:4; stroke-opacity:1; fill:none\" points=\"178.867,1486.45 2352.76,1486.45 \"/>\n",
       "<polyline clip-path=\"url(#clip910)\" style=\"stroke:#000000; stroke-linecap:round; stroke-linejoin:round; stroke-width:4; stroke-opacity:1; fill:none\" points=\"240.392,1486.45 240.392,1467.55 \"/>\n",
       "<polyline clip-path=\"url(#clip910)\" style=\"stroke:#000000; stroke-linecap:round; stroke-linejoin:round; stroke-width:4; stroke-opacity:1; fill:none\" points=\"924.005,1486.45 924.005,1467.55 \"/>\n",
       "<polyline clip-path=\"url(#clip910)\" style=\"stroke:#000000; stroke-linecap:round; stroke-linejoin:round; stroke-width:4; stroke-opacity:1; fill:none\" points=\"1607.62,1486.45 1607.62,1467.55 \"/>\n",
       "<polyline clip-path=\"url(#clip910)\" style=\"stroke:#000000; stroke-linecap:round; stroke-linejoin:round; stroke-width:4; stroke-opacity:1; fill:none\" points=\"2291.23,1486.45 2291.23,1467.55 \"/>\n",
       "<path clip-path=\"url(#clip910)\" d=\"M217.776 1517.37 Q214.165 1517.37 212.336 1520.93 Q210.531 1524.47 210.531 1531.6 Q210.531 1538.71 212.336 1542.27 Q214.165 1545.82 217.776 1545.82 Q221.41 1545.82 223.216 1542.27 Q225.045 1538.71 225.045 1531.6 Q225.045 1524.47 223.216 1520.93 Q221.41 1517.37 217.776 1517.37 M217.776 1513.66 Q223.586 1513.66 226.642 1518.27 Q229.721 1522.85 229.721 1531.6 Q229.721 1540.33 226.642 1544.94 Q223.586 1549.52 217.776 1549.52 Q211.966 1549.52 208.887 1544.94 Q205.832 1540.33 205.832 1531.6 Q205.832 1522.85 208.887 1518.27 Q211.966 1513.66 217.776 1513.66 Z\" fill=\"#000000\" fill-rule=\"nonzero\" fill-opacity=\"1\" /><path clip-path=\"url(#clip910)\" d=\"M237.938 1542.97 L242.822 1542.97 L242.822 1548.85 L237.938 1548.85 L237.938 1542.97 Z\" fill=\"#000000\" fill-rule=\"nonzero\" fill-opacity=\"1\" /><path clip-path=\"url(#clip910)\" d=\"M263.007 1517.37 Q259.396 1517.37 257.568 1520.93 Q255.762 1524.47 255.762 1531.6 Q255.762 1538.71 257.568 1542.27 Q259.396 1545.82 263.007 1545.82 Q266.642 1545.82 268.447 1542.27 Q270.276 1538.71 270.276 1531.6 Q270.276 1524.47 268.447 1520.93 Q266.642 1517.37 263.007 1517.37 M263.007 1513.66 Q268.818 1513.66 271.873 1518.27 Q274.952 1522.85 274.952 1531.6 Q274.952 1540.33 271.873 1544.94 Q268.818 1549.52 263.007 1549.52 Q257.197 1549.52 254.119 1544.94 Q251.063 1540.33 251.063 1531.6 Q251.063 1522.85 254.119 1518.27 Q257.197 1513.66 263.007 1513.66 Z\" fill=\"#000000\" fill-rule=\"nonzero\" fill-opacity=\"1\" /><path clip-path=\"url(#clip910)\" d=\"M901.887 1517.37 Q898.276 1517.37 896.447 1520.93 Q894.642 1524.47 894.642 1531.6 Q894.642 1538.71 896.447 1542.27 Q898.276 1545.82 901.887 1545.82 Q905.521 1545.82 907.327 1542.27 Q909.155 1538.71 909.155 1531.6 Q909.155 1524.47 907.327 1520.93 Q905.521 1517.37 901.887 1517.37 M901.887 1513.66 Q907.697 1513.66 910.753 1518.27 Q913.831 1522.85 913.831 1531.6 Q913.831 1540.33 910.753 1544.94 Q907.697 1549.52 901.887 1549.52 Q896.077 1549.52 892.998 1544.94 Q889.942 1540.33 889.942 1531.6 Q889.942 1522.85 892.998 1518.27 Q896.077 1513.66 901.887 1513.66 Z\" fill=\"#000000\" fill-rule=\"nonzero\" fill-opacity=\"1\" /><path clip-path=\"url(#clip910)\" d=\"M922.049 1542.97 L926.933 1542.97 L926.933 1548.85 L922.049 1548.85 L922.049 1542.97 Z\" fill=\"#000000\" fill-rule=\"nonzero\" fill-opacity=\"1\" /><path clip-path=\"url(#clip910)\" d=\"M937.164 1514.29 L955.521 1514.29 L955.521 1518.22 L941.447 1518.22 L941.447 1526.7 Q942.465 1526.35 943.484 1526.19 Q944.502 1526 945.521 1526 Q951.308 1526 954.687 1529.17 Q958.067 1532.34 958.067 1537.76 Q958.067 1543.34 954.595 1546.44 Q951.123 1549.52 944.803 1549.52 Q942.627 1549.52 940.359 1549.15 Q938.114 1548.78 935.706 1548.04 L935.706 1543.34 Q937.789 1544.47 940.012 1545.03 Q942.234 1545.58 944.711 1545.58 Q948.715 1545.58 951.053 1543.48 Q953.391 1541.37 953.391 1537.76 Q953.391 1534.15 951.053 1532.04 Q948.715 1529.94 944.711 1529.94 Q942.836 1529.94 940.961 1530.35 Q939.109 1530.77 937.164 1531.65 L937.164 1514.29 Z\" fill=\"#000000\" fill-rule=\"nonzero\" fill-opacity=\"1\" /><path clip-path=\"url(#clip910)\" d=\"M1574.77 1544.91 L1582.41 1544.91 L1582.41 1518.55 L1574.1 1520.21 L1574.1 1515.95 L1582.36 1514.29 L1587.04 1514.29 L1587.04 1544.91 L1594.68 1544.91 L1594.68 1548.85 L1574.77 1548.85 L1574.77 1544.91 Z\" fill=\"#000000\" fill-rule=\"nonzero\" fill-opacity=\"1\" /><path clip-path=\"url(#clip910)\" d=\"M1604.12 1542.97 L1609.01 1542.97 L1609.01 1548.85 L1604.12 1548.85 L1604.12 1542.97 Z\" fill=\"#000000\" fill-rule=\"nonzero\" fill-opacity=\"1\" /><path clip-path=\"url(#clip910)\" d=\"M1629.19 1517.37 Q1625.58 1517.37 1623.75 1520.93 Q1621.95 1524.47 1621.95 1531.6 Q1621.95 1538.71 1623.75 1542.27 Q1625.58 1545.82 1629.19 1545.82 Q1632.83 1545.82 1634.63 1542.27 Q1636.46 1538.71 1636.46 1531.6 Q1636.46 1524.47 1634.63 1520.93 Q1632.83 1517.37 1629.19 1517.37 M1629.19 1513.66 Q1635 1513.66 1638.06 1518.27 Q1641.14 1522.85 1641.14 1531.6 Q1641.14 1540.33 1638.06 1544.94 Q1635 1549.52 1629.19 1549.52 Q1623.38 1549.52 1620.3 1544.94 Q1617.25 1540.33 1617.25 1531.6 Q1617.25 1522.85 1620.3 1518.27 Q1623.38 1513.66 1629.19 1513.66 Z\" fill=\"#000000\" fill-rule=\"nonzero\" fill-opacity=\"1\" /><path clip-path=\"url(#clip910)\" d=\"M2258.88 1544.91 L2266.52 1544.91 L2266.52 1518.55 L2258.21 1520.21 L2258.21 1515.95 L2266.47 1514.29 L2271.15 1514.29 L2271.15 1544.91 L2278.79 1544.91 L2278.79 1548.85 L2258.88 1548.85 L2258.88 1544.91 Z\" fill=\"#000000\" fill-rule=\"nonzero\" fill-opacity=\"1\" /><path clip-path=\"url(#clip910)\" d=\"M2288.23 1542.97 L2293.12 1542.97 L2293.12 1548.85 L2288.23 1548.85 L2288.23 1542.97 Z\" fill=\"#000000\" fill-rule=\"nonzero\" fill-opacity=\"1\" /><path clip-path=\"url(#clip910)\" d=\"M2303.35 1514.29 L2321.71 1514.29 L2321.71 1518.22 L2307.63 1518.22 L2307.63 1526.7 Q2308.65 1526.35 2309.67 1526.19 Q2310.69 1526 2311.71 1526 Q2317.49 1526 2320.87 1529.17 Q2324.25 1532.34 2324.25 1537.76 Q2324.25 1543.34 2320.78 1546.44 Q2317.31 1549.52 2310.99 1549.52 Q2308.81 1549.52 2306.54 1549.15 Q2304.3 1548.78 2301.89 1548.04 L2301.89 1543.34 Q2303.97 1544.47 2306.2 1545.03 Q2308.42 1545.58 2310.89 1545.58 Q2314.9 1545.58 2317.24 1543.48 Q2319.58 1541.37 2319.58 1537.76 Q2319.58 1534.15 2317.24 1532.04 Q2314.9 1529.94 2310.89 1529.94 Q2309.02 1529.94 2307.15 1530.35 Q2305.29 1530.77 2303.35 1531.65 L2303.35 1514.29 Z\" fill=\"#000000\" fill-rule=\"nonzero\" fill-opacity=\"1\" /><polyline clip-path=\"url(#clip912)\" style=\"stroke:#000000; stroke-linecap:round; stroke-linejoin:round; stroke-width:2; stroke-opacity:0.1; fill:none\" points=\"178.867,1233.26 2352.76,1233.26 \"/>\n",
       "<polyline clip-path=\"url(#clip912)\" style=\"stroke:#000000; stroke-linecap:round; stroke-linejoin:round; stroke-width:2; stroke-opacity:0.1; fill:none\" points=\"178.867,879.161 2352.76,879.161 \"/>\n",
       "<polyline clip-path=\"url(#clip912)\" style=\"stroke:#000000; stroke-linecap:round; stroke-linejoin:round; stroke-width:2; stroke-opacity:0.1; fill:none\" points=\"178.867,525.064 2352.76,525.064 \"/>\n",
       "<polyline clip-path=\"url(#clip912)\" style=\"stroke:#000000; stroke-linecap:round; stroke-linejoin:round; stroke-width:2; stroke-opacity:0.1; fill:none\" points=\"178.867,170.968 2352.76,170.968 \"/>\n",
       "<polyline clip-path=\"url(#clip910)\" style=\"stroke:#000000; stroke-linecap:round; stroke-linejoin:round; stroke-width:4; stroke-opacity:1; fill:none\" points=\"178.867,1486.45 178.867,47.2441 \"/>\n",
       "<polyline clip-path=\"url(#clip910)\" style=\"stroke:#000000; stroke-linecap:round; stroke-linejoin:round; stroke-width:4; stroke-opacity:1; fill:none\" points=\"178.867,1233.26 197.764,1233.26 \"/>\n",
       "<polyline clip-path=\"url(#clip910)\" style=\"stroke:#000000; stroke-linecap:round; stroke-linejoin:round; stroke-width:4; stroke-opacity:1; fill:none\" points=\"178.867,879.161 197.764,879.161 \"/>\n",
       "<polyline clip-path=\"url(#clip910)\" style=\"stroke:#000000; stroke-linecap:round; stroke-linejoin:round; stroke-width:4; stroke-opacity:1; fill:none\" points=\"178.867,525.064 197.764,525.064 \"/>\n",
       "<polyline clip-path=\"url(#clip910)\" style=\"stroke:#000000; stroke-linecap:round; stroke-linejoin:round; stroke-width:4; stroke-opacity:1; fill:none\" points=\"178.867,170.968 197.764,170.968 \"/>\n",
       "<path clip-path=\"url(#clip910)\" d=\"M50.9921 1233.71 L80.6679 1233.71 L80.6679 1237.64 L50.9921 1237.64 L50.9921 1233.71 Z\" fill=\"#000000\" fill-rule=\"nonzero\" fill-opacity=\"1\" /><path clip-path=\"url(#clip910)\" d=\"M94.7882 1246.6 L111.108 1246.6 L111.108 1250.54 L89.1632 1250.54 L89.1632 1246.6 Q91.8252 1243.85 96.4085 1239.22 Q101.015 1234.57 102.196 1233.22 Q104.441 1230.7 105.321 1228.96 Q106.223 1227.2 106.223 1225.51 Q106.223 1222.76 104.279 1221.02 Q102.358 1219.29 99.2558 1219.29 Q97.0567 1219.29 94.603 1220.05 Q92.1725 1220.82 89.3947 1222.37 L89.3947 1217.64 Q92.2188 1216.51 94.6724 1215.93 Q97.1261 1215.35 99.1632 1215.35 Q104.534 1215.35 107.728 1218.04 Q110.922 1220.72 110.922 1225.21 Q110.922 1227.34 110.112 1229.26 Q109.325 1231.16 107.219 1233.76 Q106.64 1234.43 103.538 1237.64 Q100.436 1240.84 94.7882 1246.6 Z\" fill=\"#000000\" fill-rule=\"nonzero\" fill-opacity=\"1\" /><path clip-path=\"url(#clip910)\" d=\"M130.922 1219.06 Q127.311 1219.06 125.482 1222.62 Q123.677 1226.16 123.677 1233.29 Q123.677 1240.4 125.482 1243.96 Q127.311 1247.51 130.922 1247.51 Q134.556 1247.51 136.362 1243.96 Q138.191 1240.4 138.191 1233.29 Q138.191 1226.16 136.362 1222.62 Q134.556 1219.06 130.922 1219.06 M130.922 1215.35 Q136.732 1215.35 139.788 1219.96 Q142.867 1224.54 142.867 1233.29 Q142.867 1242.02 139.788 1246.63 Q136.732 1251.21 130.922 1251.21 Q125.112 1251.21 122.033 1246.63 Q118.978 1242.02 118.978 1233.29 Q118.978 1224.54 122.033 1219.96 Q125.112 1215.35 130.922 1215.35 Z\" fill=\"#000000\" fill-rule=\"nonzero\" fill-opacity=\"1\" /><path clip-path=\"url(#clip910)\" d=\"M50.9921 879.612 L80.6679 879.612 L80.6679 883.548 L50.9921 883.548 L50.9921 879.612 Z\" fill=\"#000000\" fill-rule=\"nonzero\" fill-opacity=\"1\" /><path clip-path=\"url(#clip910)\" d=\"M91.5706 892.506 L99.2095 892.506 L99.2095 866.14 L90.8993 867.807 L90.8993 863.548 L99.1632 861.881 L103.839 861.881 L103.839 892.506 L111.478 892.506 L111.478 896.441 L91.5706 896.441 L91.5706 892.506 Z\" fill=\"#000000\" fill-rule=\"nonzero\" fill-opacity=\"1\" /><path clip-path=\"url(#clip910)\" d=\"M130.922 864.96 Q127.311 864.96 125.482 868.525 Q123.677 872.066 123.677 879.196 Q123.677 886.302 125.482 889.867 Q127.311 893.409 130.922 893.409 Q134.556 893.409 136.362 889.867 Q138.191 886.302 138.191 879.196 Q138.191 872.066 136.362 868.525 Q134.556 864.96 130.922 864.96 M130.922 861.256 Q136.732 861.256 139.788 865.862 Q142.867 870.446 142.867 879.196 Q142.867 887.923 139.788 892.529 Q136.732 897.112 130.922 897.112 Q125.112 897.112 122.033 892.529 Q118.978 887.923 118.978 879.196 Q118.978 870.446 122.033 865.862 Q125.112 861.256 130.922 861.256 Z\" fill=\"#000000\" fill-rule=\"nonzero\" fill-opacity=\"1\" /><path clip-path=\"url(#clip910)\" d=\"M130.922 510.863 Q127.311 510.863 125.482 514.428 Q123.677 517.969 123.677 525.099 Q123.677 532.206 125.482 535.77 Q127.311 539.312 130.922 539.312 Q134.556 539.312 136.362 535.77 Q138.191 532.206 138.191 525.099 Q138.191 517.969 136.362 514.428 Q134.556 510.863 130.922 510.863 M130.922 507.159 Q136.732 507.159 139.788 511.766 Q142.867 516.349 142.867 525.099 Q142.867 533.826 139.788 538.432 Q136.732 543.016 130.922 543.016 Q125.112 543.016 122.033 538.432 Q118.978 533.826 118.978 525.099 Q118.978 516.349 122.033 511.766 Q125.112 507.159 130.922 507.159 Z\" fill=\"#000000\" fill-rule=\"nonzero\" fill-opacity=\"1\" /><path clip-path=\"url(#clip910)\" d=\"M91.5706 184.313 L99.2095 184.313 L99.2095 157.947 L90.8993 159.614 L90.8993 155.354 L99.1632 153.688 L103.839 153.688 L103.839 184.313 L111.478 184.313 L111.478 188.248 L91.5706 188.248 L91.5706 184.313 Z\" fill=\"#000000\" fill-rule=\"nonzero\" fill-opacity=\"1\" /><path clip-path=\"url(#clip910)\" d=\"M130.922 156.766 Q127.311 156.766 125.482 160.331 Q123.677 163.873 123.677 171.002 Q123.677 178.109 125.482 181.674 Q127.311 185.215 130.922 185.215 Q134.556 185.215 136.362 181.674 Q138.191 178.109 138.191 171.002 Q138.191 163.873 136.362 160.331 Q134.556 156.766 130.922 156.766 M130.922 153.063 Q136.732 153.063 139.788 157.669 Q142.867 162.252 142.867 171.002 Q142.867 179.729 139.788 184.336 Q136.732 188.919 130.922 188.919 Q125.112 188.919 122.033 184.336 Q118.978 179.729 118.978 171.002 Q118.978 162.252 122.033 157.669 Q125.112 153.063 130.922 153.063 Z\" fill=\"#000000\" fill-rule=\"nonzero\" fill-opacity=\"1\" /><polyline clip-path=\"url(#clip912)\" style=\"stroke:#009af9; stroke-linecap:round; stroke-linejoin:round; stroke-width:4; stroke-opacity:1; fill:none\" points=\"240.392,1445.72 254.064,1415.94 267.736,1386.8 281.409,1358.28 295.081,1330.38 308.753,1303.09 322.425,1276.39 336.098,1250.29 349.77,1224.77 363.442,1199.81 377.114,1175.43 390.787,1151.59 404.459,1128.3 418.131,1105.55 431.803,1083.33 445.476,1061.63 459.148,1040.43 472.82,1019.75 486.492,999.554 500.165,979.848 513.837,960.62 527.509,941.863 541.182,923.569 554.854,905.729 568.526,888.335 582.198,871.381 595.871,854.857 609.543,838.756 623.215,823.071 636.887,807.793 650.56,792.916 664.232,778.432 677.904,764.332 691.576,750.611 705.249,737.26 718.921,724.272 732.593,711.64 746.265,699.357 759.938,687.415 773.61,675.807 787.282,664.527 800.954,653.568 814.627,642.922 828.299,632.582 841.971,622.542 855.643,612.795 869.316,603.334 882.988,594.153 896.66,585.245 910.333,576.602 924.005,568.22 937.677,560.091 951.349,552.208 965.022,544.566 978.694,537.157 992.366,529.976 1006.04,523.017 1019.71,516.273 1033.38,509.737 1047.06,503.405 1060.73,497.269 1074.4,491.324 1088.07,485.564 1101.74,479.982 1115.42,474.573 1129.09,469.33 1142.76,464.249 1156.43,459.323 1170.11,454.546 1183.78,449.913 1197.45,445.418 1211.12,441.056 1224.79,436.82 1238.47,432.705 1252.14,428.706 1265.81,424.818 1279.48,421.033 1293.16,417.349 1306.83,413.758 1320.5,410.255 1334.17,406.836 1347.84,403.494 1361.52,400.226 1375.19,397.024 1388.86,393.885 1402.53,390.803 1416.21,387.773 1429.88,384.79 1443.55,381.849 1457.22,378.944 1470.9,376.071 1484.57,373.226 1498.24,370.402 1511.91,367.595 1525.58,364.8 1539.26,362.012 1552.93,359.227 1566.6,356.44 1580.27,353.645 1593.95,350.839 1607.62,348.016 1621.29,345.172 1634.96,342.302 1648.63,339.401 1662.31,336.465 1675.98,333.49 1689.65,330.47 1703.32,327.401 1717,324.279 1730.67,321.099 1744.34,317.857 1758.01,314.548 1771.68,311.168 1785.36,307.712 1799.03,304.176 1812.7,300.556 1826.37,296.847 1840.05,293.045 1853.72,289.146 1867.39,285.145 1881.06,281.038 1894.74,276.821 1908.41,272.489 1922.08,268.039 1935.75,263.466 1949.42,258.766 1963.1,253.934 1976.77,248.967 1990.44,243.861 2004.11,238.611 2017.79,233.213 2031.46,227.664 2045.13,221.958 2058.8,216.092 2072.47,210.062 2086.15,203.864 2099.82,197.493 2113.49,190.947 2127.16,184.22 2140.84,177.308 2154.51,170.209 2168.18,162.916 2181.85,155.428 2195.52,147.739 2209.2,139.846 2222.87,131.745 2236.54,123.431 2250.21,114.902 2263.89,106.152 2277.56,97.1781 2291.23,87.9763 \"/>\n",
       "<path clip-path=\"url(#clip910)\" d=\"M251.33 198.898 L485.223 198.898 L485.223 95.2176 L251.33 95.2176  Z\" fill=\"#ffffff\" fill-rule=\"evenodd\" fill-opacity=\"1\"/>\n",
       "<polyline clip-path=\"url(#clip910)\" style=\"stroke:#000000; stroke-linecap:round; stroke-linejoin:round; stroke-width:4; stroke-opacity:1; fill:none\" points=\"251.33,198.898 485.223,198.898 485.223,95.2176 251.33,95.2176 251.33,198.898 \"/>\n",
       "<polyline clip-path=\"url(#clip910)\" style=\"stroke:#009af9; stroke-linecap:round; stroke-linejoin:round; stroke-width:4; stroke-opacity:1; fill:none\" points=\"275.484,147.058 420.41,147.058 \"/>\n",
       "<path clip-path=\"url(#clip910)\" d=\"M461.069 128.319 L461.069 131.861 L456.995 131.861 Q454.703 131.861 453.8 132.787 Q452.921 133.713 452.921 136.12 L452.921 138.412 L459.934 138.412 L459.934 141.722 L452.921 141.722 L452.921 164.338 L448.638 164.338 L448.638 141.722 L444.564 141.722 L444.564 138.412 L448.638 138.412 L448.638 136.606 Q448.638 132.278 450.652 130.31 Q452.666 128.319 457.041 128.319 L461.069 128.319 Z\" fill=\"#000000\" fill-rule=\"nonzero\" fill-opacity=\"1\" /></svg>\n"
      ],
      "text/html": [
       "<?xml version=\"1.0\" encoding=\"utf-8\"?>\n",
       "<svg xmlns=\"http://www.w3.org/2000/svg\" xmlns:xlink=\"http://www.w3.org/1999/xlink\" width=\"600\" height=\"400\" viewBox=\"0 0 2400 1600\">\n",
       "<defs>\n",
       "  <clipPath id=\"clip960\">\n",
       "    <rect x=\"0\" y=\"0\" width=\"2400\" height=\"1600\"/>\n",
       "  </clipPath>\n",
       "</defs>\n",
       "<path clip-path=\"url(#clip960)\" d=\"M0 1600 L2400 1600 L2400 0 L0 0  Z\" fill=\"#ffffff\" fill-rule=\"evenodd\" fill-opacity=\"1\"/>\n",
       "<defs>\n",
       "  <clipPath id=\"clip961\">\n",
       "    <rect x=\"480\" y=\"0\" width=\"1681\" height=\"1600\"/>\n",
       "  </clipPath>\n",
       "</defs>\n",
       "<path clip-path=\"url(#clip960)\" d=\"M178.867 1486.45 L2352.76 1486.45 L2352.76 47.2441 L178.867 47.2441  Z\" fill=\"#ffffff\" fill-rule=\"evenodd\" fill-opacity=\"1\"/>\n",
       "<defs>\n",
       "  <clipPath id=\"clip962\">\n",
       "    <rect x=\"178\" y=\"47\" width=\"2175\" height=\"1440\"/>\n",
       "  </clipPath>\n",
       "</defs>\n",
       "<polyline clip-path=\"url(#clip962)\" style=\"stroke:#000000; stroke-linecap:round; stroke-linejoin:round; stroke-width:2; stroke-opacity:0.1; fill:none\" points=\"240.392,1486.45 240.392,47.2441 \"/>\n",
       "<polyline clip-path=\"url(#clip962)\" style=\"stroke:#000000; stroke-linecap:round; stroke-linejoin:round; stroke-width:2; stroke-opacity:0.1; fill:none\" points=\"924.005,1486.45 924.005,47.2441 \"/>\n",
       "<polyline clip-path=\"url(#clip962)\" style=\"stroke:#000000; stroke-linecap:round; stroke-linejoin:round; stroke-width:2; stroke-opacity:0.1; fill:none\" points=\"1607.62,1486.45 1607.62,47.2441 \"/>\n",
       "<polyline clip-path=\"url(#clip962)\" style=\"stroke:#000000; stroke-linecap:round; stroke-linejoin:round; stroke-width:2; stroke-opacity:0.1; fill:none\" points=\"2291.23,1486.45 2291.23,47.2441 \"/>\n",
       "<polyline clip-path=\"url(#clip960)\" style=\"stroke:#000000; stroke-linecap:round; stroke-linejoin:round; stroke-width:4; stroke-opacity:1; fill:none\" points=\"178.867,1486.45 2352.76,1486.45 \"/>\n",
       "<polyline clip-path=\"url(#clip960)\" style=\"stroke:#000000; stroke-linecap:round; stroke-linejoin:round; stroke-width:4; stroke-opacity:1; fill:none\" points=\"240.392,1486.45 240.392,1467.55 \"/>\n",
       "<polyline clip-path=\"url(#clip960)\" style=\"stroke:#000000; stroke-linecap:round; stroke-linejoin:round; stroke-width:4; stroke-opacity:1; fill:none\" points=\"924.005,1486.45 924.005,1467.55 \"/>\n",
       "<polyline clip-path=\"url(#clip960)\" style=\"stroke:#000000; stroke-linecap:round; stroke-linejoin:round; stroke-width:4; stroke-opacity:1; fill:none\" points=\"1607.62,1486.45 1607.62,1467.55 \"/>\n",
       "<polyline clip-path=\"url(#clip960)\" style=\"stroke:#000000; stroke-linecap:round; stroke-linejoin:round; stroke-width:4; stroke-opacity:1; fill:none\" points=\"2291.23,1486.45 2291.23,1467.55 \"/>\n",
       "<path clip-path=\"url(#clip960)\" d=\"M217.776 1517.37 Q214.165 1517.37 212.336 1520.93 Q210.531 1524.47 210.531 1531.6 Q210.531 1538.71 212.336 1542.27 Q214.165 1545.82 217.776 1545.82 Q221.41 1545.82 223.216 1542.27 Q225.045 1538.71 225.045 1531.6 Q225.045 1524.47 223.216 1520.93 Q221.41 1517.37 217.776 1517.37 M217.776 1513.66 Q223.586 1513.66 226.642 1518.27 Q229.721 1522.85 229.721 1531.6 Q229.721 1540.33 226.642 1544.94 Q223.586 1549.52 217.776 1549.52 Q211.966 1549.52 208.887 1544.94 Q205.832 1540.33 205.832 1531.6 Q205.832 1522.85 208.887 1518.27 Q211.966 1513.66 217.776 1513.66 Z\" fill=\"#000000\" fill-rule=\"nonzero\" fill-opacity=\"1\" /><path clip-path=\"url(#clip960)\" d=\"M237.938 1542.97 L242.822 1542.97 L242.822 1548.85 L237.938 1548.85 L237.938 1542.97 Z\" fill=\"#000000\" fill-rule=\"nonzero\" fill-opacity=\"1\" /><path clip-path=\"url(#clip960)\" d=\"M263.007 1517.37 Q259.396 1517.37 257.568 1520.93 Q255.762 1524.47 255.762 1531.6 Q255.762 1538.71 257.568 1542.27 Q259.396 1545.82 263.007 1545.82 Q266.642 1545.82 268.447 1542.27 Q270.276 1538.71 270.276 1531.6 Q270.276 1524.47 268.447 1520.93 Q266.642 1517.37 263.007 1517.37 M263.007 1513.66 Q268.818 1513.66 271.873 1518.27 Q274.952 1522.85 274.952 1531.6 Q274.952 1540.33 271.873 1544.94 Q268.818 1549.52 263.007 1549.52 Q257.197 1549.52 254.119 1544.94 Q251.063 1540.33 251.063 1531.6 Q251.063 1522.85 254.119 1518.27 Q257.197 1513.66 263.007 1513.66 Z\" fill=\"#000000\" fill-rule=\"nonzero\" fill-opacity=\"1\" /><path clip-path=\"url(#clip960)\" d=\"M901.887 1517.37 Q898.276 1517.37 896.447 1520.93 Q894.642 1524.47 894.642 1531.6 Q894.642 1538.71 896.447 1542.27 Q898.276 1545.82 901.887 1545.82 Q905.521 1545.82 907.327 1542.27 Q909.155 1538.71 909.155 1531.6 Q909.155 1524.47 907.327 1520.93 Q905.521 1517.37 901.887 1517.37 M901.887 1513.66 Q907.697 1513.66 910.753 1518.27 Q913.831 1522.85 913.831 1531.6 Q913.831 1540.33 910.753 1544.94 Q907.697 1549.52 901.887 1549.52 Q896.077 1549.52 892.998 1544.94 Q889.942 1540.33 889.942 1531.6 Q889.942 1522.85 892.998 1518.27 Q896.077 1513.66 901.887 1513.66 Z\" fill=\"#000000\" fill-rule=\"nonzero\" fill-opacity=\"1\" /><path clip-path=\"url(#clip960)\" d=\"M922.049 1542.97 L926.933 1542.97 L926.933 1548.85 L922.049 1548.85 L922.049 1542.97 Z\" fill=\"#000000\" fill-rule=\"nonzero\" fill-opacity=\"1\" /><path clip-path=\"url(#clip960)\" d=\"M937.164 1514.29 L955.521 1514.29 L955.521 1518.22 L941.447 1518.22 L941.447 1526.7 Q942.465 1526.35 943.484 1526.19 Q944.502 1526 945.521 1526 Q951.308 1526 954.687 1529.17 Q958.067 1532.34 958.067 1537.76 Q958.067 1543.34 954.595 1546.44 Q951.123 1549.52 944.803 1549.52 Q942.627 1549.52 940.359 1549.15 Q938.114 1548.78 935.706 1548.04 L935.706 1543.34 Q937.789 1544.47 940.012 1545.03 Q942.234 1545.58 944.711 1545.58 Q948.715 1545.58 951.053 1543.48 Q953.391 1541.37 953.391 1537.76 Q953.391 1534.15 951.053 1532.04 Q948.715 1529.94 944.711 1529.94 Q942.836 1529.94 940.961 1530.35 Q939.109 1530.77 937.164 1531.65 L937.164 1514.29 Z\" fill=\"#000000\" fill-rule=\"nonzero\" fill-opacity=\"1\" /><path clip-path=\"url(#clip960)\" d=\"M1574.77 1544.91 L1582.41 1544.91 L1582.41 1518.55 L1574.1 1520.21 L1574.1 1515.95 L1582.36 1514.29 L1587.04 1514.29 L1587.04 1544.91 L1594.68 1544.91 L1594.68 1548.85 L1574.77 1548.85 L1574.77 1544.91 Z\" fill=\"#000000\" fill-rule=\"nonzero\" fill-opacity=\"1\" /><path clip-path=\"url(#clip960)\" d=\"M1604.12 1542.97 L1609.01 1542.97 L1609.01 1548.85 L1604.12 1548.85 L1604.12 1542.97 Z\" fill=\"#000000\" fill-rule=\"nonzero\" fill-opacity=\"1\" /><path clip-path=\"url(#clip960)\" d=\"M1629.19 1517.37 Q1625.58 1517.37 1623.75 1520.93 Q1621.95 1524.47 1621.95 1531.6 Q1621.95 1538.71 1623.75 1542.27 Q1625.58 1545.82 1629.19 1545.82 Q1632.83 1545.82 1634.63 1542.27 Q1636.46 1538.71 1636.46 1531.6 Q1636.46 1524.47 1634.63 1520.93 Q1632.83 1517.37 1629.19 1517.37 M1629.19 1513.66 Q1635 1513.66 1638.06 1518.27 Q1641.14 1522.85 1641.14 1531.6 Q1641.14 1540.33 1638.06 1544.94 Q1635 1549.52 1629.19 1549.52 Q1623.38 1549.52 1620.3 1544.94 Q1617.25 1540.33 1617.25 1531.6 Q1617.25 1522.85 1620.3 1518.27 Q1623.38 1513.66 1629.19 1513.66 Z\" fill=\"#000000\" fill-rule=\"nonzero\" fill-opacity=\"1\" /><path clip-path=\"url(#clip960)\" d=\"M2258.88 1544.91 L2266.52 1544.91 L2266.52 1518.55 L2258.21 1520.21 L2258.21 1515.95 L2266.47 1514.29 L2271.15 1514.29 L2271.15 1544.91 L2278.79 1544.91 L2278.79 1548.85 L2258.88 1548.85 L2258.88 1544.91 Z\" fill=\"#000000\" fill-rule=\"nonzero\" fill-opacity=\"1\" /><path clip-path=\"url(#clip960)\" d=\"M2288.23 1542.97 L2293.12 1542.97 L2293.12 1548.85 L2288.23 1548.85 L2288.23 1542.97 Z\" fill=\"#000000\" fill-rule=\"nonzero\" fill-opacity=\"1\" /><path clip-path=\"url(#clip960)\" d=\"M2303.35 1514.29 L2321.71 1514.29 L2321.71 1518.22 L2307.63 1518.22 L2307.63 1526.7 Q2308.65 1526.35 2309.67 1526.19 Q2310.69 1526 2311.71 1526 Q2317.49 1526 2320.87 1529.17 Q2324.25 1532.34 2324.25 1537.76 Q2324.25 1543.34 2320.78 1546.44 Q2317.31 1549.52 2310.99 1549.52 Q2308.81 1549.52 2306.54 1549.15 Q2304.3 1548.78 2301.89 1548.04 L2301.89 1543.34 Q2303.97 1544.47 2306.2 1545.03 Q2308.42 1545.58 2310.89 1545.58 Q2314.9 1545.58 2317.24 1543.48 Q2319.58 1541.37 2319.58 1537.76 Q2319.58 1534.15 2317.24 1532.04 Q2314.9 1529.94 2310.89 1529.94 Q2309.02 1529.94 2307.15 1530.35 Q2305.29 1530.77 2303.35 1531.65 L2303.35 1514.29 Z\" fill=\"#000000\" fill-rule=\"nonzero\" fill-opacity=\"1\" /><polyline clip-path=\"url(#clip962)\" style=\"stroke:#000000; stroke-linecap:round; stroke-linejoin:round; stroke-width:2; stroke-opacity:0.1; fill:none\" points=\"178.867,1233.26 2352.76,1233.26 \"/>\n",
       "<polyline clip-path=\"url(#clip962)\" style=\"stroke:#000000; stroke-linecap:round; stroke-linejoin:round; stroke-width:2; stroke-opacity:0.1; fill:none\" points=\"178.867,879.161 2352.76,879.161 \"/>\n",
       "<polyline clip-path=\"url(#clip962)\" style=\"stroke:#000000; stroke-linecap:round; stroke-linejoin:round; stroke-width:2; stroke-opacity:0.1; fill:none\" points=\"178.867,525.064 2352.76,525.064 \"/>\n",
       "<polyline clip-path=\"url(#clip962)\" style=\"stroke:#000000; stroke-linecap:round; stroke-linejoin:round; stroke-width:2; stroke-opacity:0.1; fill:none\" points=\"178.867,170.968 2352.76,170.968 \"/>\n",
       "<polyline clip-path=\"url(#clip960)\" style=\"stroke:#000000; stroke-linecap:round; stroke-linejoin:round; stroke-width:4; stroke-opacity:1; fill:none\" points=\"178.867,1486.45 178.867,47.2441 \"/>\n",
       "<polyline clip-path=\"url(#clip960)\" style=\"stroke:#000000; stroke-linecap:round; stroke-linejoin:round; stroke-width:4; stroke-opacity:1; fill:none\" points=\"178.867,1233.26 197.764,1233.26 \"/>\n",
       "<polyline clip-path=\"url(#clip960)\" style=\"stroke:#000000; stroke-linecap:round; stroke-linejoin:round; stroke-width:4; stroke-opacity:1; fill:none\" points=\"178.867,879.161 197.764,879.161 \"/>\n",
       "<polyline clip-path=\"url(#clip960)\" style=\"stroke:#000000; stroke-linecap:round; stroke-linejoin:round; stroke-width:4; stroke-opacity:1; fill:none\" points=\"178.867,525.064 197.764,525.064 \"/>\n",
       "<polyline clip-path=\"url(#clip960)\" style=\"stroke:#000000; stroke-linecap:round; stroke-linejoin:round; stroke-width:4; stroke-opacity:1; fill:none\" points=\"178.867,170.968 197.764,170.968 \"/>\n",
       "<path clip-path=\"url(#clip960)\" d=\"M50.9921 1233.71 L80.6679 1233.71 L80.6679 1237.64 L50.9921 1237.64 L50.9921 1233.71 Z\" fill=\"#000000\" fill-rule=\"nonzero\" fill-opacity=\"1\" /><path clip-path=\"url(#clip960)\" d=\"M94.7882 1246.6 L111.108 1246.6 L111.108 1250.54 L89.1632 1250.54 L89.1632 1246.6 Q91.8252 1243.85 96.4085 1239.22 Q101.015 1234.57 102.196 1233.22 Q104.441 1230.7 105.321 1228.96 Q106.223 1227.2 106.223 1225.51 Q106.223 1222.76 104.279 1221.02 Q102.358 1219.29 99.2558 1219.29 Q97.0567 1219.29 94.603 1220.05 Q92.1725 1220.82 89.3947 1222.37 L89.3947 1217.64 Q92.2188 1216.51 94.6724 1215.93 Q97.1261 1215.35 99.1632 1215.35 Q104.534 1215.35 107.728 1218.04 Q110.922 1220.72 110.922 1225.21 Q110.922 1227.34 110.112 1229.26 Q109.325 1231.16 107.219 1233.76 Q106.64 1234.43 103.538 1237.64 Q100.436 1240.84 94.7882 1246.6 Z\" fill=\"#000000\" fill-rule=\"nonzero\" fill-opacity=\"1\" /><path clip-path=\"url(#clip960)\" d=\"M130.922 1219.06 Q127.311 1219.06 125.482 1222.62 Q123.677 1226.16 123.677 1233.29 Q123.677 1240.4 125.482 1243.96 Q127.311 1247.51 130.922 1247.51 Q134.556 1247.51 136.362 1243.96 Q138.191 1240.4 138.191 1233.29 Q138.191 1226.16 136.362 1222.62 Q134.556 1219.06 130.922 1219.06 M130.922 1215.35 Q136.732 1215.35 139.788 1219.96 Q142.867 1224.54 142.867 1233.29 Q142.867 1242.02 139.788 1246.63 Q136.732 1251.21 130.922 1251.21 Q125.112 1251.21 122.033 1246.63 Q118.978 1242.02 118.978 1233.29 Q118.978 1224.54 122.033 1219.96 Q125.112 1215.35 130.922 1215.35 Z\" fill=\"#000000\" fill-rule=\"nonzero\" fill-opacity=\"1\" /><path clip-path=\"url(#clip960)\" d=\"M50.9921 879.612 L80.6679 879.612 L80.6679 883.548 L50.9921 883.548 L50.9921 879.612 Z\" fill=\"#000000\" fill-rule=\"nonzero\" fill-opacity=\"1\" /><path clip-path=\"url(#clip960)\" d=\"M91.5706 892.506 L99.2095 892.506 L99.2095 866.14 L90.8993 867.807 L90.8993 863.548 L99.1632 861.881 L103.839 861.881 L103.839 892.506 L111.478 892.506 L111.478 896.441 L91.5706 896.441 L91.5706 892.506 Z\" fill=\"#000000\" fill-rule=\"nonzero\" fill-opacity=\"1\" /><path clip-path=\"url(#clip960)\" d=\"M130.922 864.96 Q127.311 864.96 125.482 868.525 Q123.677 872.066 123.677 879.196 Q123.677 886.302 125.482 889.867 Q127.311 893.409 130.922 893.409 Q134.556 893.409 136.362 889.867 Q138.191 886.302 138.191 879.196 Q138.191 872.066 136.362 868.525 Q134.556 864.96 130.922 864.96 M130.922 861.256 Q136.732 861.256 139.788 865.862 Q142.867 870.446 142.867 879.196 Q142.867 887.923 139.788 892.529 Q136.732 897.112 130.922 897.112 Q125.112 897.112 122.033 892.529 Q118.978 887.923 118.978 879.196 Q118.978 870.446 122.033 865.862 Q125.112 861.256 130.922 861.256 Z\" fill=\"#000000\" fill-rule=\"nonzero\" fill-opacity=\"1\" /><path clip-path=\"url(#clip960)\" d=\"M130.922 510.863 Q127.311 510.863 125.482 514.428 Q123.677 517.969 123.677 525.099 Q123.677 532.206 125.482 535.77 Q127.311 539.312 130.922 539.312 Q134.556 539.312 136.362 535.77 Q138.191 532.206 138.191 525.099 Q138.191 517.969 136.362 514.428 Q134.556 510.863 130.922 510.863 M130.922 507.159 Q136.732 507.159 139.788 511.766 Q142.867 516.349 142.867 525.099 Q142.867 533.826 139.788 538.432 Q136.732 543.016 130.922 543.016 Q125.112 543.016 122.033 538.432 Q118.978 533.826 118.978 525.099 Q118.978 516.349 122.033 511.766 Q125.112 507.159 130.922 507.159 Z\" fill=\"#000000\" fill-rule=\"nonzero\" fill-opacity=\"1\" /><path clip-path=\"url(#clip960)\" d=\"M91.5706 184.313 L99.2095 184.313 L99.2095 157.947 L90.8993 159.614 L90.8993 155.354 L99.1632 153.688 L103.839 153.688 L103.839 184.313 L111.478 184.313 L111.478 188.248 L91.5706 188.248 L91.5706 184.313 Z\" fill=\"#000000\" fill-rule=\"nonzero\" fill-opacity=\"1\" /><path clip-path=\"url(#clip960)\" d=\"M130.922 156.766 Q127.311 156.766 125.482 160.331 Q123.677 163.873 123.677 171.002 Q123.677 178.109 125.482 181.674 Q127.311 185.215 130.922 185.215 Q134.556 185.215 136.362 181.674 Q138.191 178.109 138.191 171.002 Q138.191 163.873 136.362 160.331 Q134.556 156.766 130.922 156.766 M130.922 153.063 Q136.732 153.063 139.788 157.669 Q142.867 162.252 142.867 171.002 Q142.867 179.729 139.788 184.336 Q136.732 188.919 130.922 188.919 Q125.112 188.919 122.033 184.336 Q118.978 179.729 118.978 171.002 Q118.978 162.252 122.033 157.669 Q125.112 153.063 130.922 153.063 Z\" fill=\"#000000\" fill-rule=\"nonzero\" fill-opacity=\"1\" /><polyline clip-path=\"url(#clip962)\" style=\"stroke:#009af9; stroke-linecap:round; stroke-linejoin:round; stroke-width:4; stroke-opacity:1; fill:none\" points=\"240.392,1445.72 254.064,1415.94 267.736,1386.8 281.409,1358.28 295.081,1330.38 308.753,1303.09 322.425,1276.39 336.098,1250.29 349.77,1224.77 363.442,1199.81 377.114,1175.43 390.787,1151.59 404.459,1128.3 418.131,1105.55 431.803,1083.33 445.476,1061.63 459.148,1040.43 472.82,1019.75 486.492,999.554 500.165,979.848 513.837,960.62 527.509,941.863 541.182,923.569 554.854,905.729 568.526,888.335 582.198,871.381 595.871,854.857 609.543,838.756 623.215,823.071 636.887,807.793 650.56,792.916 664.232,778.432 677.904,764.332 691.576,750.611 705.249,737.26 718.921,724.272 732.593,711.64 746.265,699.357 759.938,687.415 773.61,675.807 787.282,664.527 800.954,653.568 814.627,642.922 828.299,632.582 841.971,622.542 855.643,612.795 869.316,603.334 882.988,594.153 896.66,585.245 910.333,576.602 924.005,568.22 937.677,560.091 951.349,552.208 965.022,544.566 978.694,537.157 992.366,529.976 1006.04,523.017 1019.71,516.273 1033.38,509.737 1047.06,503.405 1060.73,497.269 1074.4,491.324 1088.07,485.564 1101.74,479.982 1115.42,474.573 1129.09,469.33 1142.76,464.249 1156.43,459.323 1170.11,454.546 1183.78,449.913 1197.45,445.418 1211.12,441.056 1224.79,436.82 1238.47,432.705 1252.14,428.706 1265.81,424.818 1279.48,421.033 1293.16,417.349 1306.83,413.758 1320.5,410.255 1334.17,406.836 1347.84,403.494 1361.52,400.226 1375.19,397.024 1388.86,393.885 1402.53,390.803 1416.21,387.773 1429.88,384.79 1443.55,381.849 1457.22,378.944 1470.9,376.071 1484.57,373.226 1498.24,370.402 1511.91,367.595 1525.58,364.8 1539.26,362.012 1552.93,359.227 1566.6,356.44 1580.27,353.645 1593.95,350.839 1607.62,348.016 1621.29,345.172 1634.96,342.302 1648.63,339.401 1662.31,336.465 1675.98,333.49 1689.65,330.47 1703.32,327.401 1717,324.279 1730.67,321.099 1744.34,317.857 1758.01,314.548 1771.68,311.168 1785.36,307.712 1799.03,304.176 1812.7,300.556 1826.37,296.847 1840.05,293.045 1853.72,289.146 1867.39,285.145 1881.06,281.038 1894.74,276.821 1908.41,272.489 1922.08,268.039 1935.75,263.466 1949.42,258.766 1963.1,253.934 1976.77,248.967 1990.44,243.861 2004.11,238.611 2017.79,233.213 2031.46,227.664 2045.13,221.958 2058.8,216.092 2072.47,210.062 2086.15,203.864 2099.82,197.493 2113.49,190.947 2127.16,184.22 2140.84,177.308 2154.51,170.209 2168.18,162.916 2181.85,155.428 2195.52,147.739 2209.2,139.846 2222.87,131.745 2236.54,123.431 2250.21,114.902 2263.89,106.152 2277.56,97.1781 2291.23,87.9763 \"/>\n",
       "<path clip-path=\"url(#clip960)\" d=\"M251.33 198.898 L485.223 198.898 L485.223 95.2176 L251.33 95.2176  Z\" fill=\"#ffffff\" fill-rule=\"evenodd\" fill-opacity=\"1\"/>\n",
       "<polyline clip-path=\"url(#clip960)\" style=\"stroke:#000000; stroke-linecap:round; stroke-linejoin:round; stroke-width:4; stroke-opacity:1; fill:none\" points=\"251.33,198.898 485.223,198.898 485.223,95.2176 251.33,95.2176 251.33,198.898 \"/>\n",
       "<polyline clip-path=\"url(#clip960)\" style=\"stroke:#009af9; stroke-linecap:round; stroke-linejoin:round; stroke-width:4; stroke-opacity:1; fill:none\" points=\"275.484,147.058 420.41,147.058 \"/>\n",
       "<path clip-path=\"url(#clip960)\" d=\"M461.069 128.319 L461.069 131.861 L456.995 131.861 Q454.703 131.861 453.8 132.787 Q452.921 133.713 452.921 136.12 L452.921 138.412 L459.934 138.412 L459.934 141.722 L452.921 141.722 L452.921 164.338 L448.638 164.338 L448.638 141.722 L444.564 141.722 L444.564 138.412 L448.638 138.412 L448.638 136.606 Q448.638 132.278 450.652 130.31 Q452.666 128.319 457.041 128.319 L461.069 128.319 Z\" fill=\"#000000\" fill-rule=\"nonzero\" fill-opacity=\"1\" /></svg>\n"
      ]
     },
     "metadata": {},
     "output_type": "display_data"
    }
   ],
   "source": [
    "using Plots\n",
    "f(x)= -26 + 85 * x - 91 * x^2 +44 * x^3 -8 * x^4 + x^5\n",
    "plot(f, [0.0:0.01:1.5], label=\"f\")"
   ]
  },
  {
   "attachments": {},
   "cell_type": "markdown",
   "metadata": {},
   "source": [
    "Um herauszufinden zwischen welchen Werten die Nullstelle liegt können wir das Vorzeichen auswerten. Bei unterschiedlichen Vorzeichen wissen wir, dass eine Nullstelle dazwischen liegen muss. Dafür definieren wir eine Funktion, die uns zurückgibt ob zwei functionen das gleiche Vorzeichen haben. "
   ]
  },
  {
   "cell_type": "code",
   "execution_count": 2,
   "metadata": {},
   "outputs": [
    {
     "data": {
      "text/plain": [
       "samesign (generic function with 1 method)"
      ]
     },
     "metadata": {},
     "output_type": "display_data"
    }
   ],
   "source": [
    "# Funktion die testet ob a und b das gleiche Vorzeichen haben\n",
    "function samesign(a, b)\n",
    "    return a * b > 0\n",
    "end"
   ]
  },
  {
   "attachments": {},
   "cell_type": "markdown",
   "metadata": {},
   "source": [
    "Jetzt noch das Verfahren selbst. Wir geben der Methode unsere Funktion und das Intervall in dem wir die Nullstelle vermuten an. Dann wird das Intervall halbiert und geschaut in welchem Intervall die Nullstelle liegt. Dieses Intervall wird dann wieder halbiert und so weiter. "
   ]
  },
  {
   "cell_type": "code",
   "execution_count": 3,
   "metadata": {},
   "outputs": [
    {
     "data": {
      "text/plain": [
       "bisect (generic function with 1 method)"
      ]
     },
     "metadata": {},
     "output_type": "display_data"
    }
   ],
   "source": [
    "function bisect(func, low, high)\n",
    "    #Find root of continuous function where f(low) and f(high) have opposite signs\n",
    "\n",
    "    if samesign(func(low), func(high))\n",
    "        return \"Error: No root found\"\n",
    "    end\n",
    "    midpoint = (low + high) / 2.0\n",
    "    for n in 1:20 # Wir nehmen einfach mal ein paar Iterationen \n",
    "        midpoint = (low + high) / 2.0\n",
    "        println(\"Iteration: \", n, \" Midpoint: \", midpoint)\n",
    "        if samesign(func(low), func(midpoint))\n",
    "            low = midpoint\n",
    "        else\n",
    "            high = midpoint\n",
    "        end\n",
    "    end\n",
    "    return midpoint\n",
    "end"
   ]
  },
  {
   "cell_type": "code",
   "execution_count": 4,
   "metadata": {},
   "outputs": [
    {
     "name": "stdout",
     "output_type": "stream",
     "text": [
      "Iteration: 1 Midpoint: 0.5\n",
      "Iteration: 2 Midpoint: 0.75\n",
      "Iteration: 3 Midpoint: 0.625\n",
      "Iteration: 4 Midpoint: 0.5625\n",
      "Iteration: 5 Midpoint: 0.53125\n",
      "Iteration: 6 Midpoint: 0.546875\n",
      "Iteration: 7 Midpoint: 0.5546875\n",
      "Iteration: 8 Midpoint: 0.55859375\n",
      "Iteration: 9 Midpoint: 0.556640625\n",
      "Iteration: 10 Midpoint: 0.5576171875\n",
      "Iteration: 11 Midpoint: 0.55712890625\n",
      "Iteration: 12 Midpoint: 0.556884765625\n",
      "Iteration: 13 Midpoint: 0.5570068359375\n",
      "Iteration: 14 Midpoint: 0.55706787109375\n",
      "Iteration: 15 Midpoint: 0.557037353515625\n",
      "Iteration: 16 Midpoint: 0.5570220947265625\n",
      "Iteration: 17 Midpoint: 0.5570297241210938\n",
      "Iteration: 18 Midpoint: 0.5570259094238281\n",
      "Iteration: 19 Midpoint: 0.5570240020751953\n",
      "Iteration: 20 Midpoint: 0.5570249557495117\n",
      "x = 0.5570249557495117\n"
     ]
    }
   ],
   "source": [
    "x = bisect(f, 0, 1)\n",
    "println(\"x = \", x)"
   ]
  },
  {
   "attachments": {},
   "cell_type": "markdown",
   "metadata": {},
   "source": [
    "Können wir die Funktion so erweitern, dass wir abbrechen sobald wir eine gewisse Genauigkeit zu Null erreicht haben? Sagen wir 0.0001? Wir müssen also die Abbruchbedingung noch mit einbauen indem wir die Funtkion an der Stelle x ausrechnen."
   ]
  },
  {
   "cell_type": "code",
   "execution_count": 5,
   "metadata": {},
   "outputs": [
    {
     "data": {
      "text/plain": [
       "bisect (generic function with 2 methods)"
      ]
     },
     "metadata": {},
     "output_type": "display_data"
    }
   ],
   "source": [
    "function bisect(func, low, high, tolerance)\n",
    "    # Find root of continuous function where f(low) and f(high) have opposite signs\n",
    "\n",
    "    if samesign(func(low), func(high))\n",
    "        return \"Error: No root found\"\n",
    "    end\n",
    "    midpoint = (low + high) / 2.0\n",
    "    for n in 1:1000 # Wir nehmen einfach mal ein paar Iterationen \n",
    "        midpoint = (low + high) / 2.0\n",
    "        println(\"Iteration: \", n, \" Midpoint: \", midpoint)\n",
    "        if samesign(func(low), func(midpoint))\n",
    "            low = midpoint\n",
    "        else\n",
    "            high = midpoint\n",
    "        end\n",
    "        if abs(high - low) < tolerance\n",
    "            break\n",
    "        end\n",
    "    end\n",
    "    return midpoint\n",
    "end"
   ]
  },
  {
   "cell_type": "code",
   "execution_count": 6,
   "metadata": {},
   "outputs": [
    {
     "name": "stdout",
     "output_type": "stream",
     "text": [
      "Iteration: 1 Midpoint: 0.5\n",
      "Iteration: 2 Midpoint: 0.75\n",
      "Iteration: 3 Midpoint: 0.625\n",
      "Iteration: 4 Midpoint: 0.5625\n",
      "Iteration: 5 Midpoint: 0.53125\n",
      "Iteration: 6 Midpoint: 0.546875\n",
      "Iteration: 7 Midpoint: 0.5546875\n",
      "Iteration: 8 Midpoint: 0.55859375\n",
      "Iteration: 9 Midpoint: 0.556640625\n",
      "Iteration: 10 Midpoint: 0.5576171875\n",
      "Iteration: 11 Midpoint: 0.55712890625\n",
      "Iteration: 12 Midpoint: 0.556884765625\n",
      "Iteration: 13 Midpoint: 0.5570068359375\n",
      "Iteration: 14 Midpoint: 0.55706787109375\n",
      "x = 0.55706787109375\n"
     ]
    }
   ],
   "source": [
    "x = bisect(f, 0, 1, 0.0001)\n",
    "println(\"x = \", x)"
   ]
  },
  {
   "attachments": {},
   "cell_type": "markdown",
   "metadata": {},
   "source": [
    "# Newton-Verfahren\n",
    "Jetzt wollen wir das Newton-Verfahren implementieren. Dafür nutzen wir die erste Taylor approximation (Tangente) an der Stelle $x_n$:\n",
    "$$f(x) = f(x_n) + f'(x_n)(x-x_n)$$\n",
    "Wir wollen ja die Nullstelle finden, also setzen wir $f(x_{n+1}) = 0$ und lösen nach $x$ auf:\n",
    "$$0 = f(x_n) + f'(x_n)(x_{n+1}-x_n)$$\n",
    "$$x_{n+1} = x_n - \\frac{f(x_n)}{f'(x_n)}$$  \n",
    "Die Rechenregel für das nächste x welches näher an der Nullstelle liegt wird demnach iterativ immer wieder aufgerufen. Die Rechenregel nach dem Newton Verfahren ist demnach:\n",
    "$$x_0 = startwert$$\n",
    "$$x_{1} = x_0 - \\frac{f(x_0)}{f'(x_0)}$$\n",
    "$$x_{2} = x_{1} - \\frac{f(x_{1})}{f'(x_{1})}$$\n",
    "...\n",
    "$$x_{n+1} = x_n - \\frac{f(x_n)}{f'(x_n)}$$ \n",
    "Das machen wir so lange bis wir die gewünschte Genauigkeit, also der gewünschte Abstand von $f(x_{n+1})$ zu 0, erreicht haben. \n",
    "\n",
    "Wir brauchen also die erste Ableitung unserer Funktion. Das machen wir hier erst mal von hand:"
   ]
  },
  {
   "cell_type": "code",
   "execution_count": 7,
   "metadata": {},
   "outputs": [
    {
     "data": {
      "text/plain": [
       "df (generic function with 1 method)"
      ]
     },
     "metadata": {},
     "output_type": "display_data"
    }
   ],
   "source": [
    "f(x) = -26 + 85 * x - 91 * x^2 + 44 * x^3 - 8 * x^4 + x^5\n",
    "df(x) = 85 - 182 * x + 132 * x^2 - 32 * x^3 + 5 * x^4"
   ]
  },
  {
   "attachments": {},
   "cell_type": "markdown",
   "metadata": {},
   "source": [
    "Als nächstes brauchen wir eine Funktion die uns den Abstand von $f(x_0)$ zu 0 berechnet. Damit wir wissen wann wir aufhören müssen."
   ]
  },
  {
   "cell_type": "code",
   "execution_count": 8,
   "metadata": {},
   "outputs": [
    {
     "data": {
      "text/plain": [
       "dx (generic function with 1 method)"
      ]
     },
     "metadata": {},
     "output_type": "display_data"
    }
   ],
   "source": [
    "function dx(f, x)\n",
    "    return abs(0 - f(x))\n",
    "end"
   ]
  },
  {
   "attachments": {},
   "cell_type": "markdown",
   "metadata": {},
   "source": [
    "Jetzt die Newton Methode selbst. Wir geben wieder die Funktion, die Ableitung und einen Startwert an. Dann berechnen wir den nächsten Wert mithilfe der Newton Methode. Das machen wir solange bis wir die gewünschte Genauigkeit erreicht haben."
   ]
  },
  {
   "cell_type": "code",
   "execution_count": 9,
   "metadata": {},
   "outputs": [
    {
     "data": {
      "text/plain": [
       "newton (generic function with 1 method)"
      ]
     },
     "metadata": {},
     "output_type": "display_data"
    }
   ],
   "source": [
    "function newton(func, dfunc, x0, tolerance)\n",
    "    delta = dx(func, x0)\n",
    "    n = 0\n",
    "    while delta > tolerance\n",
    "        n += 1\n",
    "        x0 = x0 - func(x0) / dfunc(x0)\n",
    "        delta = dx(func, x0)\n",
    "        println(\"Iteration: \", n, \" x0: \", x0)\n",
    "        if n > 100\n",
    "            break\n",
    "        end\n",
    "    end\n",
    "    return x0\n",
    "end"
   ]
  },
  {
   "attachments": {},
   "cell_type": "markdown",
   "metadata": {},
   "source": [
    "Testen wir unsere Funktion mal mit dem Startwert 1.0."
   ]
  },
  {
   "cell_type": "code",
   "execution_count": 10,
   "metadata": {},
   "outputs": [
    {
     "name": "stdout",
     "output_type": "stream",
     "text": [
      "Iteration: 1 x0: 0.375\n",
      "Iteration: 2 x0: 0.5159194399600385\n",
      "Iteration: 3 x0: 0.5545080566547139\n",
      "Iteration: 4 x0: 0.557015604236721\n",
      "Iteration: 5 x0: 0.5570255161323902\n",
      "x = 0.5570255161323902\n"
     ]
    }
   ],
   "source": [
    "x = newton(f, df, 1.0, 0.0001)\n",
    "println(\"x = \", x)"
   ]
  },
  {
   "attachments": {},
   "cell_type": "markdown",
   "metadata": {},
   "source": [
    "Jetzt mal mit dem Startwert 0.0."
   ]
  },
  {
   "cell_type": "code",
   "execution_count": 11,
   "metadata": {},
   "outputs": [
    {
     "name": "stdout",
     "output_type": "stream",
     "text": [
      "Iteration: 1 x0: 0.3058823529411765\n",
      "Iteration: 2 x0: 0.4853190940239955\n",
      "Iteration: 3 x0: 0.5496617287634946\n",
      "Iteration: 4 x0: 0.5569412135377882\n",
      "Iteration: 5 x0: 0.5570255051379259\n",
      "x = 0.5570255051379259\n"
     ]
    }
   ],
   "source": [
    "x = newton(f, df, 0.0, 0.0001)\n",
    "println(\"x = \", x)"
   ]
  },
  {
   "attachments": {},
   "cell_type": "markdown",
   "metadata": {},
   "source": [
    "Was passiert denn bei 5.0? "
   ]
  },
  {
   "cell_type": "code",
   "execution_count": 12,
   "metadata": {},
   "outputs": [
    {
     "name": "stdout",
     "output_type": "stream",
     "text": [
      "Iteration: 1 x0: 3.9068750000000003\n",
      "Iteration: 2 x0: 2.9968194172519835\n",
      "Iteration: 3 x0: 2.2774066125543753\n",
      "Iteration: 4 x0: 1.72766052390229\n",
      "Iteration: 5 x0: 1.2684010520439337\n",
      "Iteration: 6 x0: 0.7193102766389161\n",
      "Iteration: 7 x0: 0.5090228763893254\n",
      "Iteration: 8 x0: 0.5536227154224381\n",
      "Iteration: 9 x0: 0.5570074263119684\n",
      "Iteration: 10 x0: 0.5570255157731352\n",
      "x = 0.5570255157731352\n"
     ]
    }
   ],
   "source": [
    "x = newton(f, df, 5.0, 0.0001)\n",
    "println(\"x = \", x)"
   ]
  },
  {
   "attachments": {},
   "cell_type": "markdown",
   "metadata": {},
   "source": [
    "## Newton-Verfahren mit beliebigen Funktionen\n",
    "Wir haben ja schon das Taylorverfahren und das Package in Julia mit dem wir die Ableitung automatisch berechnen können kennengelernt. Testen wir das doch mal für unsere Newton methode. "
   ]
  },
  {
   "cell_type": "code",
   "execution_count": 14,
   "metadata": {},
   "outputs": [],
   "source": [
    "using TaylorSeries # ansonsten fügen wir es einfach hinzu"
   ]
  },
  {
   "attachments": {},
   "cell_type": "markdown",
   "metadata": {},
   "source": [
    "Wir können mit dem Package die Ableitung berechnen. Hier noch mal ein Beispielaufruf. \n",
    "````julia\n",
    "using TaylorSeries\n",
    "func = x -> sin(x)\n",
    "x = 1.0\n",
    "TS = Taylor1(Float64, 1)\n",
    "dfunc = func(TS)\n",
    "ts = myFunc.(x)\n",
    "````\n",
    "Hier wird dann das Taylorpolynom an der Stelle $x_0=0$ berechnet. Wir können das Polynom auch an einer anderen Stelle auswerten. Hierfür können wir taylor_expand nutzen. \n",
    "\n",
    "````julia\n",
    "func_t = taylor_expand(func, a, order=1)\n",
    "````\n",
    "\n",
    "Mithilfe von differentiate können wir die Ableitung berechnen. \n",
    "\n",
    "````julia\n",
    "dfunc_t = differentiate(func_t)\n",
    "````\n",
    "\n",
    "Als erstes erstellt eine Funktion welche die Taylorreihe für eine Funktion erstellt. Die Funktion soll die Funktion übergeben \n",
    "bekommen und die Taylorreihe zurückgeben."
   ]
  },
  {
   "cell_type": "code",
   "execution_count": 15,
   "metadata": {},
   "outputs": [
    {
     "data": {
      "text/plain": [
       " - 1.21875 + 23.3125 t + 𝒪(t²)"
      ]
     },
     "metadata": {},
     "output_type": "display_data"
    }
   ],
   "source": [
    "function get_taylor(func, a)\n",
    "    func_t = taylor_expand(f, a, order=1) # Taylor series of f around a\n",
    "    return func_t\n",
    "end\n",
    "t_f = get_taylor(f, 0.5) # Taylor series of f around 0"
   ]
  },
  {
   "attachments": {},
   "cell_type": "markdown",
   "metadata": {},
   "source": [
    "Wir bauen uns jetzt eine newton methode die die Ableitung automatisch berechnet. Wir geben deshalb die Funktion, den Startwert und die Genauigkeit an. Dieses mal also ohne die Ableitung zu übergeben. "
   ]
  },
  {
   "cell_type": "code",
   "execution_count": 16,
   "metadata": {},
   "outputs": [
    {
     "data": {
      "text/plain": [
       "newton_taylor (generic function with 1 method)"
      ]
     },
     "metadata": {},
     "output_type": "display_data"
    }
   ],
   "source": [
    "function newton_taylor(func, x0, tolerance)\n",
    "    func_t = get_taylor(func, x0)\n",
    "    delta = dx(func, x0)\n",
    "    n = 0\n",
    "    while delta > tolerance\n",
    "        n += 1\n",
    "        df_t = differentiate(func_t)\n",
    "        x0 = x0 - func(x0) / df_t()\n",
    "        delta = dx(func, x0)\n",
    "        func_t = get_taylor(func, x0)\n",
    "        println(\"Iteration: \", n, \" x0: \", x0)\n",
    "        if n > 100\n",
    "            break\n",
    "        end\n",
    "    end\n",
    "    return x0\n",
    "end"
   ]
  },
  {
   "cell_type": "code",
   "execution_count": 17,
   "metadata": {},
   "outputs": [
    {
     "name": "stdout",
     "output_type": "stream",
     "text": [
      "Iteration: 1 x0: 0.375\n",
      "Iteration: 2 x0: 0.5159194399600385\n",
      "Iteration: 3 x0: 0.5545080566547139\n",
      "Iteration: 4 x0: 0.557015604236721\n",
      "Iteration: 5 x0: 0.5570255161323902\n",
      "x = 0.5570255161323902\n"
     ]
    }
   ],
   "source": [
    "x = newton_taylor(f, 1.0, 0.0001)\n",
    "println(\"x = \", x)"
   ]
  }
 ],
 "metadata": {
  "kernelspec": {
   "display_name": "Julia 1.10.2",
   "language": "julia",
   "name": "julia-1.10"
  },
  "language_info": {
   "file_extension": ".jl",
   "mimetype": "application/julia",
   "name": "julia",
   "version": "1.10.2"
  },
  "orig_nbformat": 4
 },
 "nbformat": 4,
 "nbformat_minor": 2
}
