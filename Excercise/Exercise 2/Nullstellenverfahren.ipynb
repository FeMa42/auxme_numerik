{
 "cells": [
  {
   "attachments": {},
   "cell_type": "markdown",
   "metadata": {},
   "source": [
    "# Bisektionsverfahren\n",
    "Das Bisektionsverfahren ist ein einfaches Verfahren das wir kennengelernt haben um Nullstellen zu finden. Es wird eine Folge von Werten berechnet, die gegen die Nullstelle konvergiert. Wir brauchen dazu zwei Startwerte $a$ und $b$ zwischen denen die Nullstelle liegt. Wir berechnen dann den Mittelwert $m$ und schauen ob die Nullstelle zwischen $a$ und $m$ oder zwischen $m$ und $b$ liegt. Wir ersetzen dann den Wert $a$ oder $b$ durch $m$ und wiederholen das Verfahren bis wir abbrechen wollen oder eine gewünschte Genauigkeit erreicht haben. \n",
    "\n",
    "\n",
    "Wir haben die folgende Funktion gegeben und wollen die Nullstelle finden:"
   ]
  },
  {
   "cell_type": "code",
   "execution_count": null,
   "metadata": {},
   "outputs": [],
   "source": [
    "using Plots\n",
    "f(x)= -26 + 85 * x - 91 * x^2 +44 * x^3 -8 * x^4 + x^5\n",
    "plot(f, [0.0:0.01:1.5], label=\"f\")"
   ]
  },
  {
   "attachments": {},
   "cell_type": "markdown",
   "metadata": {},
   "source": [
    "Um herauszufinden zwischen welchen Werten die Nullstelle liegt können wir das Vorzeichen auswerten. Bei unterschiedlichen Vorzeichen wissen wir, dass eine Nullstelle dazwischen liegen muss. Dafür definieren wir eine Funktion, die uns zurückgibt ob zwei functionen das gleiche Vorzeichen haben. "
   ]
  },
  {
   "cell_type": "code",
   "execution_count": null,
   "metadata": {},
   "outputs": [],
   "source": [
    "# Funktion die testet ob a und b das gleiche Vorzeichen haben\n",
    "function samesign(a, b)\n",
    "    return a * b > 0\n",
    "end"
   ]
  },
  {
   "attachments": {},
   "cell_type": "markdown",
   "metadata": {},
   "source": [
    "Jetzt noch das Verfahren selbst. Wir geben der Methode unsere Funktion und das Intervall in dem wir die Nullstelle vermuten an. Dann wird das Intervall halbiert und geschaut in welchem Intervall die Nullstelle liegt. Dieses Intervall wird dann wieder halbiert und so weiter. "
   ]
  },
  {
   "cell_type": "code",
   "execution_count": null,
   "metadata": {},
   "outputs": [],
   "source": [
    "function bisect(func, low, high)\n",
    "    #Find root of continuous function where f(low) and f(high) have opposite signs\n",
    "\n",
    "    if samesign(func(low), func(high))\n",
    "        return \"Error: No root found\"\n",
    "    end\n",
    "    midpoint = (low + high) / 2.0\n",
    "    for n in 1:20 # Wir nehmen einfach mal ein paar Iterationen \n",
    "        midpoint = (low + high) / 2.0\n",
    "        println(\"Iteration: \", n, \" Midpoint: \", midpoint)\n",
    "        if samesign(func(low), func(midpoint))\n",
    "            low = midpoint\n",
    "        else\n",
    "            high = midpoint\n",
    "        end\n",
    "    end\n",
    "    return midpoint\n",
    "end"
   ]
  },
  {
   "cell_type": "code",
   "execution_count": null,
   "metadata": {},
   "outputs": [],
   "source": [
    "x = bisect(f, 0, 1)\n",
    "println(\"x = \", x)"
   ]
  },
  {
   "attachments": {},
   "cell_type": "markdown",
   "metadata": {},
   "source": [
    "Können wir die Funktion so erweitern, dass wir abbrechen sobald wir eine gewisse Genauigkeit zu Null erreicht haben? Sagen wir 0.0001? Wir müssen also die Abbruchbedingung noch mit einbauen indem wir die Funtkion an der Stelle x ausrechnen."
   ]
  },
  {
   "cell_type": "code",
   "execution_count": null,
   "metadata": {},
   "outputs": [],
   "source": [
    "function bisect(func, low, high, tolerance)\n",
    "    # Find root of continuous function where f(low) and f(high) have opposite signs\n",
    "\n",
    "    if samesign(func(low), func(high))\n",
    "        return \"Error: No root found\"\n",
    "    end\n",
    "    midpoint = (low + high) / 2.0\n",
    "    for n in 1:1000 # Wir nehmen einfach mal ein paar Iterationen \n",
    "        midpoint = (low + high) / 2.0\n",
    "        println(\"Iteration: \", n, \" Midpoint: \", midpoint)\n",
    "        if samesign(func(low), func(midpoint))\n",
    "            low = midpoint\n",
    "        else\n",
    "            high = midpoint\n",
    "        end\n",
    "        if abs(high - low) < tolerance\n",
    "            break\n",
    "        end\n",
    "    end\n",
    "    return midpoint\n",
    "end"
   ]
  },
  {
   "cell_type": "code",
   "execution_count": null,
   "metadata": {},
   "outputs": [],
   "source": [
    "x = bisect(f, 0, 1, 0.0001)\n",
    "println(\"x = \", x)"
   ]
  },
  {
   "attachments": {},
   "cell_type": "markdown",
   "metadata": {},
   "source": [
    "# Newton-Verfahren\n",
    "Jetzt wollen wir das Newton-Verfahren implementieren. Dafür nutzen wir die erste Taylor approximation (Tangente) an der Stelle $x_n$:\n",
    "$$f(x) = f(x_n) + f'(x_n)(x-x_n)$$\n",
    "Wir wollen ja die Nullstelle finden, also setzen wir $f(x_{n+1}) = 0$ und lösen nach $x$ auf:\n",
    "$$0 = f(x_n) + f'(x_n)(x_{n+1}-x_n)$$\n",
    "$$x_{n+1} = x_n - \\frac{f(x_n)}{f'(x_n)}$$  \n",
    "Die Rechenregel für das nächste x welches näher an der Nullstelle liegt wird demnach iterativ immer wieder aufgerufen. Die Rechenregel nach dem Newton Verfahren ist demnach:\n",
    "$$x_0 = startwert$$\n",
    "$$x_{1} = x_0 - \\frac{f(x_0)}{f'(x_0)}$$\n",
    "$$x_{2} = x_{1} - \\frac{f(x_{1})}{f'(x_{1})}$$\n",
    "...\n",
    "$$x_{n+1} = x_n - \\frac{f(x_n)}{f'(x_n)}$$ \n",
    "Das machen wir so lange bis wir die gewünschte Genauigkeit, also der gewünschte Abstand von $f(x_{n+1})$ zu 0, erreicht haben. \n",
    "\n",
    "Wir brauchen also die erste Ableitung unserer Funktion. Das machen wir hier erst mal von hand:"
   ]
  },
  {
   "cell_type": "code",
   "execution_count": null,
   "metadata": {},
   "outputs": [],
   "source": [
    "f(x) = -26 + 85 * x - 91 * x^2 + 44 * x^3 - 8 * x^4 + x^5\n",
    "df(x) = 85 - 182 * x + 132 * x^2 - 32 * x^3 + 5 * x^4"
   ]
  },
  {
   "attachments": {},
   "cell_type": "markdown",
   "metadata": {},
   "source": [
    "Als nächstes brauchen wir eine Funktion die uns den Abstand von $f(x_0)$ zu 0 berechnet. Damit wir wissen wann wir aufhören müssen."
   ]
  },
  {
   "cell_type": "code",
   "execution_count": null,
   "metadata": {},
   "outputs": [],
   "source": [
    "function dx(f, x)\n",
    "    return abs(0 - f(x))\n",
    "end"
   ]
  },
  {
   "attachments": {},
   "cell_type": "markdown",
   "metadata": {},
   "source": [
    "Jetzt die Newton Methode selbst. Wir geben wieder die Funktion, die Ableitung und einen Startwert an. Dann berechnen wir den nächsten Wert mithilfe der Newton Methode. Das machen wir solange bis wir die gewünschte Genauigkeit erreicht haben."
   ]
  },
  {
   "cell_type": "code",
   "execution_count": null,
   "metadata": {},
   "outputs": [],
   "source": [
    "function newton(func, dfunc, x0, tolerance)\n",
    "    delta = dx(func, x0)\n",
    "    n = 0\n",
    "    while delta > tolerance\n",
    "        n += 1\n",
    "        x0 = x0 - func(x0) / dfunc(x0)\n",
    "        delta = dx(func, x0)\n",
    "        println(\"Iteration: \", n, \" x0: \", x0)\n",
    "        if n > 100\n",
    "            break\n",
    "        end\n",
    "    end\n",
    "    return x0\n",
    "end"
   ]
  },
  {
   "attachments": {},
   "cell_type": "markdown",
   "metadata": {},
   "source": [
    "Testen wir unsere Funktion mal mit dem Startwert 1.0."
   ]
  },
  {
   "cell_type": "code",
   "execution_count": null,
   "metadata": {},
   "outputs": [],
   "source": [
    "x = newton(f, df, 1.0, 0.0001)\n",
    "println(\"x = \", x)"
   ]
  },
  {
   "attachments": {},
   "cell_type": "markdown",
   "metadata": {},
   "source": [
    "Jetzt mal mit dem Startwert 0.0."
   ]
  },
  {
   "cell_type": "code",
   "execution_count": null,
   "metadata": {},
   "outputs": [],
   "source": [
    "x = newton(f, df, 0.0, 0.0001)\n",
    "println(\"x = \", x)"
   ]
  },
  {
   "attachments": {},
   "cell_type": "markdown",
   "metadata": {},
   "source": [
    "Was passiert denn bei 5.0? "
   ]
  },
  {
   "cell_type": "code",
   "execution_count": null,
   "metadata": {},
   "outputs": [],
   "source": [
    "x = newton(f, df, 5.0, 0.0001)\n",
    "println(\"x = \", x)"
   ]
  },
  {
   "attachments": {},
   "cell_type": "markdown",
   "metadata": {},
   "source": [
    "## Newton-Verfahren mit beliebigen Funktionen\n",
    "Wir haben ja schon das Taylorverfahren und das Package in Julia mit dem wir die Ableitung automatisch berechnen können kennengelernt. Testen wir das doch mal für unsere Newton methode. "
   ]
  },
  {
   "cell_type": "code",
   "execution_count": null,
   "metadata": {},
   "outputs": [],
   "source": [
    "# Falls ihr das Package TaylorSeries noch nicht installiert habt, könnt ihr das hier tun\n",
    "using Pkg\n",
    "Pkg.add(\"TaylorSeries\")"
   ]
  },
  {
   "cell_type": "code",
   "execution_count": null,
   "metadata": {},
   "outputs": [],
   "source": [
    "using TaylorSeries # ansonsten fügen wir es einfach hinzu"
   ]
  },
  {
   "attachments": {},
   "cell_type": "markdown",
   "metadata": {},
   "source": [
    "Wir können mit dem Package die Ableitung berechnen. Hier noch mal ein Beispielaufruf. \n",
    "````julia\n",
    "using TaylorSeries\n",
    "func = x -> sin(x)\n",
    "x = 1.0\n",
    "TS = Taylor1(Float64, 1)\n",
    "dfunc = func(TS)\n",
    "ts = myFunc.(x)\n",
    "````\n",
    "Hier wird dann das Taylorpolynom an der Stelle $x_0=0$ berechnet. Wir können das Polynom auch an einer anderen Stelle auswerten. Hierfür können wir taylor_expand nutzen. \n",
    "\n",
    "````julia\n",
    "func_t = taylor_expand(func, a, order=1)\n",
    "````\n",
    "\n",
    "Mithilfe von differentiate können wir die Ableitung berechnen. \n",
    "\n",
    "````julia\n",
    "dfunc_t = differentiate(func_t)\n",
    "````\n",
    "\n",
    "Als erstes erstellt eine Funktion welche die Taylorreihe für eine Funktion erstellt. Die Funktion soll die Funktion übergeben \n",
    "bekommen und die Taylorreihe zurückgeben."
   ]
  },
  {
   "cell_type": "code",
   "execution_count": null,
   "metadata": {},
   "outputs": [],
   "source": [
    "function get_taylor(func, a)\n",
    "    func_t = taylor_expand(f, a, order=1) # Taylor series of f around a\n",
    "    return func_t\n",
    "end\n",
    "t_f = get_taylor(f, 0.5) # Taylor series of f around 0"
   ]
  },
  {
   "attachments": {},
   "cell_type": "markdown",
   "metadata": {},
   "source": [
    "Wir bauen uns jetzt eine newton methode die die Ableitung automatisch berechnet. Wir geben deshalb die Funktion, den Startwert und die Genauigkeit an. Dieses mal also ohne die Ableitung zu übergeben. "
   ]
  },
  {
   "cell_type": "code",
   "execution_count": null,
   "metadata": {},
   "outputs": [],
   "source": [
    "function newton_taylor(func, x0, tolerance)\n",
    "    func_t = get_taylor(func, x0)\n",
    "    delta = dx(func, x0)\n",
    "    n = 0\n",
    "    while delta > tolerance\n",
    "        n += 1\n",
    "        df_t = differentiate(func_t)\n",
    "        x0 = x0 - func(x0) / df_t()\n",
    "        delta = dx(func, x0)\n",
    "        func_t = get_taylor(func, x0)\n",
    "        println(\"Iteration: \", n, \" x0: \", x0)\n",
    "        if n > 100\n",
    "            break\n",
    "        end\n",
    "    end\n",
    "    return x0\n",
    "end"
   ]
  },
  {
   "cell_type": "code",
   "execution_count": null,
   "metadata": {},
   "outputs": [],
   "source": [
    "x = newton_taylor(f, 1.0, 0.0001)\n",
    "println(\"x = \", x)"
   ]
  }
 ],
 "metadata": {
  "kernelspec": {
   "display_name": "Julia 1.8.5",
   "language": "julia",
   "name": "julia-1.8"
  },
  "language_info": {
   "file_extension": ".jl",
   "mimetype": "application/julia",
   "name": "julia",
   "version": "1.8.5"
  },
  "orig_nbformat": 4
 },
 "nbformat": 4,
 "nbformat_minor": 2
}
