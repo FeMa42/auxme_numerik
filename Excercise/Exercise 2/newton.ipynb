{
 "cells": [
  {
   "cell_type": "markdown",
   "metadata": {},
   "source": [
    "# Programmieraufgabe: Implementierung des Newton-Verfahrens\n",
    "\n",
    "### Teil 1: Grundlegende Implementierung\n",
    "Implementieren Sie das Newton-Verfahren in Julia. "
   ]
  },
  {
   "cell_type": "code",
   "execution_count": null,
   "metadata": {},
   "outputs": [],
   "source": [
    "f(x) = -26 + 85 * x - 91 * x^2 + 44 * x^3 - 8 * x^4 + x^5\n",
    "df(x) = 85 - 182 * x + 132 * x^2 - 32 * x^3 + 5 * x^4"
   ]
  },
  {
   "cell_type": "code",
   "execution_count": null,
   "metadata": {},
   "outputs": [],
   "source": [
    "function newton(f, df, x0, tol, max_iter)\n",
    "    # f: Funktion, deren Nullstelle gesucht wird\n",
    "    # df: Ableitung von f\n",
    "    # x0: Startwert\n",
    "    # tol: Toleranz (Abbruchkriterium)\n",
    "    # max_iter: Maximale Anzahl an Iterationen\n",
    "\n",
    "    # Implementieren Sie hier das Newton-Verfahren\n",
    "    # ...\n",
    "\n",
    "    # Rückgabe: Approximierte Nullstelle und Anzahl der benötigten Iterationen\n",
    "end"
   ]
  },
  {
   "cell_type": "code",
   "execution_count": null,
   "metadata": {},
   "outputs": [],
   "source": [
    "x = newton(f, df, 1.0, 0.0001, 1000)\n",
    "println(\"x = \", x)"
   ]
  },
  {
   "cell_type": "code",
   "execution_count": null,
   "metadata": {},
   "outputs": [],
   "source": [
    "x = newton(f, df, 0.0, 0.0001, 1000)\n",
    "println(\"x = \", x)"
   ]
  },
  {
   "cell_type": "code",
   "execution_count": null,
   "metadata": {},
   "outputs": [],
   "source": [
    "x = newton(f, df, 5.0, 0.0001, 1000)\n",
    "println(\"x = \", x)"
   ]
  },
  {
   "cell_type": "markdown",
   "metadata": {},
   "source": [
    "### Teil 2: Automatische Differentiation \n",
    "Erweitern Eure Implementierung, um die manuelle Eingabe der Ableitung überflüssig zu machen. Verwenden Sie dazu das Package `TaylorSeries` in Julia, um die Ableitung automatisch zu berechnen."
   ]
  },
  {
   "cell_type": "code",
   "execution_count": null,
   "metadata": {},
   "outputs": [],
   "source": [
    "function newton_auto(f, x0, tol, max_iter)\n",
    "    # Implementierung mit automatischer Differentiation\n",
    "    # ...\n",
    "end"
   ]
  },
  {
   "cell_type": "code",
   "execution_count": null,
   "metadata": {},
   "outputs": [],
   "source": [
    "x = newton_auto(f, 1.0, 0.0001, 1000)\n",
    "println(\"x = \", x)"
   ]
  },
  {
   "cell_type": "markdown",
   "metadata": {},
   "source": [
    "### Teil 3: Analyse und Tests\n",
    "\n",
    "1. Testen Eure Implementierung an folgenden Funktionen:\n",
    "   - f₁(x) = x² - 4            (Nullstellen bei x = ±2)\n",
    "   - f₂(x) = sin(x)            (Nullstellen bei x = 0, ±π, ±2π, ...)\n",
    "   - f₃(x) = exp(x) - 2        (Nullstelle bei x = ln(2))\n",
    "   - f₄(x) = x³ - 2x² + x - 3  (findet ihr eine Nullstelle?)\n",
    "\n",
    "2. Visualisiert die Funktionen und die Iterationsschritte des Newton-Verfahrens.\n",
    "   - Die Funktion selbst\n",
    "   - Die Iterationsschritte des Newton-Verfahrens\n",
    "\n",
    "3. Untersucht das Konvergenzverhalten:\n",
    "   - Wie hängt die Anzahl der benötigten Iterationen vom Startwert ab?\n",
    "   - Gibt es Startwerte, bei denen das Verfahren nicht konvergiert?\n",
    "   - Vergleichen Sie die Effizienz mit dem Bisektionsverfahren"
   ]
  },
  {
   "cell_type": "code",
   "execution_count": null,
   "metadata": {},
   "outputs": [],
   "source": []
  }
 ],
 "metadata": {
  "kernelspec": {
   "display_name": "Julia 1.10.2",
   "language": "julia",
   "name": "julia-1.10"
  },
  "language_info": {
   "file_extension": ".jl",
   "mimetype": "application/julia",
   "name": "julia",
   "version": "1.10.2"
  }
 },
 "nbformat": 4,
 "nbformat_minor": 2
}
