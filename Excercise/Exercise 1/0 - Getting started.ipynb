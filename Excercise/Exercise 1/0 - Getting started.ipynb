{
 "cells": [
  {
   "attachments": {},
   "cell_type": "markdown",
   "metadata": {},
   "source": [
    "# Getting started\n",
    "\n",
    "Wir starten erst einmal mit ein paar einfachen Befehlen um uns etwas in Julia zurechtzufinden. \n",
    "1. Der print Befehl \n",
    "2. Zuweißung von Variablen \n",
    "3. Kommentare \n",
    "4. Syntax für grundlegende Rechnungen\n",
    "5. Pakete und Namespace \n",
    "6. Conditionals \n",
    "7. Schleifen\n",
    "\n",
    "Wenn ihr Python oder Matlab kennt, dann werden euch die meisten Befehle bekannt vorkommen. Eventuell ist es dann auch hilfreich euch die [Noteworthy differences](https://docs.julialang.org/en/v1/manual/noteworthy-differences/) anzuschauen. Dort findet ihr eine Übersicht über die Unterschiede zu anderen Programmiersprachen.\n"
   ]
  },
  {
   "attachments": {},
   "cell_type": "markdown",
   "metadata": {},
   "source": [
    "## 1. Der Print Befehl\n",
    "\n",
    "In Julia wird der Befehl `println()` genutzt um Inhalte auszugeben"
   ]
  },
  {
   "cell_type": "code",
   "execution_count": null,
   "metadata": {},
   "outputs": [],
   "source": [
    "println(\"I'm excited to learn Julia!\")"
   ]
  },
  {
   "attachments": {},
   "cell_type": "markdown",
   "metadata": {},
   "source": [
    "## 2. Zuweißung von Variablen \n",
    "\n",
    "Ähnlich wie in Python können variablen mithilfe des Variablennamens und des Inhalts Zugewießen werde.<br>\n",
    "Julia wird dann den Typ entsprechen wählen. "
   ]
  },
  {
   "cell_type": "code",
   "execution_count": null,
   "metadata": {},
   "outputs": [],
   "source": [
    "my_answer = 42\n",
    "typeof(my_answer)"
   ]
  },
  {
   "cell_type": "code",
   "execution_count": null,
   "metadata": {},
   "outputs": [],
   "source": [
    "my_pi = 3.14159\n",
    "typeof(my_pi)"
   ]
  },
  {
   "cell_type": "code",
   "execution_count": null,
   "metadata": {},
   "outputs": [],
   "source": [
    "my_other_py = pi\n",
    "println(Float64(my_other_py, RoundDown))\n",
    "typeof(my_other_py)"
   ]
  },
  {
   "attachments": {},
   "cell_type": "markdown",
   "metadata": {},
   "source": [
    "## 3. Kommentare"
   ]
  },
  {
   "cell_type": "code",
   "execution_count": null,
   "metadata": {},
   "outputs": [],
   "source": [
    "# Einzelne Zeilen können mithilfe von pound/hash (#) kommentiert werden"
   ]
  },
  {
   "cell_type": "code",
   "execution_count": null,
   "metadata": {},
   "outputs": [],
   "source": [
    "#=\n",
    "\n",
    "Für mehrere Zeilen kann die Sequenz \n",
    "'#= =#' verwendet werden.\n",
    "\n",
    "=#"
   ]
  },
  {
   "attachments": {},
   "cell_type": "markdown",
   "metadata": {},
   "source": [
    "## 4. Syntax für grundlegende Rechnungen \n",
    "\n",
    "In Julia werden die Grundrechenarten wie in Python durchgeführt. "
   ]
  },
  {
   "cell_type": "code",
   "execution_count": null,
   "metadata": {},
   "outputs": [],
   "source": [
    "sum = 3 + 7"
   ]
  },
  {
   "cell_type": "code",
   "execution_count": null,
   "metadata": {},
   "outputs": [],
   "source": [
    "difference = 10 - 3"
   ]
  },
  {
   "cell_type": "code",
   "execution_count": null,
   "metadata": {},
   "outputs": [],
   "source": [
    "product = 20 * 5"
   ]
  },
  {
   "cell_type": "code",
   "execution_count": null,
   "metadata": {},
   "outputs": [],
   "source": [
    "quotient = 100 / 10"
   ]
  },
  {
   "cell_type": "code",
   "execution_count": null,
   "metadata": {},
   "outputs": [],
   "source": [
    "power = 10 ^ 2"
   ]
  },
  {
   "cell_type": "code",
   "execution_count": null,
   "metadata": {},
   "outputs": [],
   "source": [
    "modulus = 101 % 2"
   ]
  },
  {
   "attachments": {},
   "cell_type": "markdown",
   "metadata": {},
   "source": [
    "# 5. Pakete und Namespace\n",
    "\n",
    "Julia hat über 2000 registrierte Pakete, was Pakete zu einem großen Teil des Julia-Ökosystems macht.\n",
    "\n",
    "Das Paket-Ökosystem ist allerdings noch am wachsen. Es gibt aber eine gute Möglichkeit Funktionen in anderen Sprachen aufzurufen und Julia bietet somit eine gute Schnittstellen für fremde Funktionen. Wir können zum Beispiel mit `PyCall` oder `Rcall` problemlos Python oder R aufrufen.\n",
    "\n",
    "Alles verfügbaren Pakete sind hier aufgelistet:\n",
    "\n",
    "https://julialang.org/packages/\n",
    "\n",
    "Aber jetzt lernen wir, wie man ein Paket verwendet."
   ]
  },
  {
   "attachments": {},
   "cell_type": "markdown",
   "metadata": {},
   "source": [
    "Das erste Mal, wenn Sie ein Paket in einer bestimmten Julia-Installation verwenden, müssen Sie den Paketmanager verwenden, um es explizit hinzuzufügen:"
   ]
  },
  {
   "cell_type": "code",
   "execution_count": null,
   "metadata": {},
   "outputs": [],
   "source": [
    "using Pkg\n",
    "Pkg.add(\"Colors\")"
   ]
  },
  {
   "cell_type": "code",
   "execution_count": null,
   "metadata": {},
   "outputs": [],
   "source": [
    "using Colors"
   ]
  },
  {
   "attachments": {},
   "cell_type": "markdown",
   "metadata": {},
   "source": [
    "Mit Colors können wir eine Pallete von 100 verschiedenen Farben erstellen"
   ]
  },
  {
   "cell_type": "code",
   "execution_count": null,
   "metadata": {},
   "outputs": [],
   "source": [
    "palette = distinguishable_colors(100)"
   ]
  },
  {
   "attachments": {},
   "cell_type": "markdown",
   "metadata": {},
   "source": [
    "Mit `using` können wir das Paket in unser Programm einladen und den Namespace einbinden. Wenn wir Paket einladen aber den Namespace trennen wollen können wir `import` verwenden."
   ]
  },
  {
   "cell_type": "code",
   "execution_count": null,
   "metadata": {},
   "outputs": [],
   "source": [
    "import Colors\n",
    "palette = Colors.distinguishable_colors(100)"
   ]
  },
  {
   "attachments": {},
   "cell_type": "markdown",
   "metadata": {},
   "source": [
    "## Modules \n",
    "Mithilfe von Modulen können wir unseren code in Julia strukturieren indem wir Funktionen und Variablen in einem Namespace gruppieren. Ein Modul wird mit dem Schlüsselwort `module NameOfModule` definiert und mit `end` beendet. \n",
    "\n",
    "Namen (Funktionen, Typen, globale Variablen und Konstanten) können mit export in die Exportliste eines Moduls aufgenommen werden. Mit export haben wir somit eine gute Möglichkeit die API (Application Programming Interface) unseres Programms zu definieren indem wir Variablen und Funktionen exportieren die wir für andere sichtbar machen wollen."
   ]
  },
  {
   "cell_type": "code",
   "execution_count": null,
   "metadata": {},
   "outputs": [],
   "source": [
    "module NiceStuff\n",
    "export nice, DOG\n",
    "struct Dog end      # singleton type, not exported\n",
    "const DOG = Dog()   # named instance, exported\n",
    "nice(x) = \"nice $x\" # function, exported\n",
    "end;"
   ]
  },
  {
   "attachments": {},
   "cell_type": "markdown",
   "metadata": {},
   "source": [
    "Wir haben oben schon gesehen dass wir mit `using` installierte Pakete in den Namespace einbinden konnten. Genaugenommen haben wir also ein Module von einem installierten Paket eingebunden. Mit `using .NiceStuff` können wir dann unser lokalen module laden und den Namespace einbinden. Das bedeutet es wird der Modulname und die exportierten Funktionen und Variablen in den globalen Namespace geladen. Wir können also alle Funktionen und Variablen die wir in unserem Module definiert haben und epxortieren nun verwenden. Wenn wir lokale Module einbinden wollen muss ein `.` vor dem Modulnamen stehen.\n",
    "\n",
    "Wenn wir Paket einladen aber den Namespace trennen wollen können wir `import` verwenden. Das hatten wir ja bereits oben gesehen. "
   ]
  },
  {
   "cell_type": "code",
   "execution_count": null,
   "metadata": {},
   "outputs": [],
   "source": [
    "using .NiceStuff\n",
    "DOG\n",
    "nice(\"dog\")"
   ]
  },
  {
   "attachments": {},
   "cell_type": "markdown",
   "metadata": {},
   "source": [
    "Wir können also `DOG`und `nice(x)`direkt aufrufen. Allerdings können wir `Dog()` nicht direkt aufrufen da es nicht exportiert wurde. "
   ]
  },
  {
   "cell_type": "code",
   "execution_count": null,
   "metadata": {},
   "outputs": [],
   "source": [
    "Dog()"
   ]
  },
  {
   "attachments": {},
   "cell_type": "markdown",
   "metadata": {},
   "source": [
    "Wir können es aber mit dem Modulnamen aufrufen wenn wir trotzdem darauf zugreifen wollen.  "
   ]
  },
  {
   "cell_type": "code",
   "execution_count": null,
   "metadata": {},
   "outputs": [],
   "source": [
    "NiceStuff.Dog()"
   ]
  },
  {
   "attachments": {},
   "cell_type": "markdown",
   "metadata": {},
   "source": [
    "### Konflikte mit Modulen"
   ]
  },
  {
   "cell_type": "code",
   "execution_count": null,
   "metadata": {},
   "outputs": [],
   "source": [
    "module nice1\n",
    "export pr\n",
    "function pr(x)\n",
    "    println(\"nice $x\")\n",
    "end\n",
    "end;\n",
    "module nice2\n",
    "export pr\n",
    "function pr(x)\n",
    "    println(\"not nice $x\")\n",
    "end\n",
    "end;"
   ]
  },
  {
   "attachments": {},
   "cell_type": "markdown",
   "metadata": {},
   "source": [
    "Wenn wir beide Modlue einbinden und `pr(x)`einbinden wollen dann gibt es einen Konflikt:"
   ]
  },
  {
   "cell_type": "code",
   "execution_count": null,
   "metadata": {},
   "outputs": [],
   "source": [
    "using .nice1,.nice2\n",
    "pr(\"dog\")"
   ]
  },
  {
   "attachments": {},
   "cell_type": "markdown",
   "metadata": {},
   "source": [
    "Hier müssen wir den Namespace trennen und `pr` mit dem Modulnamen aufrufen. Also `nice1.pr(\"dog\")` und `nice2.pr(\"dog\")`. Oder wir können `pr` beim einbinden umbenennen indem wir `pr as pr2` schreiben."
   ]
  },
  {
   "cell_type": "code",
   "execution_count": null,
   "metadata": {},
   "outputs": [],
   "source": [
    "using .nice1: pr as pr1\n",
    "using .nice2: pr as pr2\n",
    "pr1(\"dog\")"
   ]
  },
  {
   "attachments": {},
   "cell_type": "markdown",
   "metadata": {},
   "source": [
    "## Paket Manager und Environments\n",
    "Alternativ können wir auch die Pakete direkt in der Julia-Shell installieren. Dazu müssen wir den Paketmanager mit dem Befehl `]` aufrufen. \n",
    "\n",
    "**Environment** \n",
    "Mit `generate` können wir ein neues Environment erstellen.\n",
    "Mit `activate` können wir ein Environment aktivieren.\n",
    "Mit Environments können wir für verschiedene Anwendungen verschiedene Pakete installieren. \n",
    "\n",
    "**Pakete**\n",
    "Mit `add` können wir Pakete installieren.\n",
    "Mit `build` können wir Pakete neu-bauen.\n",
    "Mit Backspace können wir wieder in die Julia-Shell zurückkehren.\n"
   ]
  },
  {
   "attachments": {},
   "cell_type": "markdown",
   "metadata": {},
   "source": [
    "# 6. Conditionals\n",
    "\n",
    "#### `if` Schlüsselwort\n",
    "Syntax:\n",
    "\n",
    "```julia\n",
    "if *condition 1*\n",
    "    *option 1*\n",
    "elseif *condition 2*\n",
    "    *option 2*\n",
    "else\n",
    "    *option 3*\n",
    "end\n",
    "```\n",
    "\n",
    "<br><br>\n",
    "Wenn wir zum Beispiel den FizzBuzz-Test implementieren wollen: Gegeben sei eine Zahl, N, gib \"Fizz\" aus, wenn N durch 3 teilbar ist, \"Buzz\" wenn N durch 5 teilbar ist und \"FizzBuzz\" wenn N durch 3 und 5 teilbar ist. Andernfalls gib einfach die Zahl selbst aus! Gib hier deine Wahl für N ein:"
   ]
  },
  {
   "cell_type": "code",
   "execution_count": null,
   "metadata": {},
   "outputs": [],
   "source": [
    "N = 5"
   ]
  },
  {
   "cell_type": "code",
   "execution_count": null,
   "metadata": {},
   "outputs": [],
   "source": [
    "if (N % 3 == 0) && (N % 5 == 0) # `&&` means \"AND\"; % computes the remainder after division\n",
    "    println(\"FizzBuzz\")\n",
    "elseif N % 3 == 0\n",
    "    println(\"Fizz\")\n",
    "elseif N % 5 == 0\n",
    "    println(\"Buzz\")\n",
    "else\n",
    "    println(N)\n",
    "end"
   ]
  },
  {
   "attachments": {},
   "cell_type": "markdown",
   "metadata": {},
   "source": [
    "# 7. Schleifen\n",
    "\n",
    "Themen:\n",
    "1. `while` Schleifen\n",
    "2. `for` Schleifen\n",
    "<br>\n",
    "\n",
    "## while Schleifen\n",
    "\n",
    "Die Syntax für `while` Schleifen ist wie folgt:\n",
    "\n",
    "```julia\n",
    "while *condition*\n",
    "    *loop body*\n",
    "end\n",
    "```\n",
    "\n",
    "Zum Beispiel können wir `while` verwenden, um zu zählen oder über ein Array zu iterieren."
   ]
  },
  {
   "cell_type": "code",
   "execution_count": null,
   "metadata": {},
   "outputs": [],
   "source": [
    "n = 0\n",
    "while n < 10\n",
    "    n += 1\n",
    "    println(n)\n",
    "end\n",
    "n"
   ]
  },
  {
   "cell_type": "code",
   "execution_count": null,
   "metadata": {},
   "outputs": [],
   "source": [
    "myfriends = [\"Rick\", \"Morty\", \"Summer\", \"Jerry\", \"Beth\"] # a vector or array of strings. We get to these later.\n",
    "\n",
    "i = 1\n",
    "while i <= length(myfriends)\n",
    "    friend = myfriends[i]\n",
    "    println(\"Hi $friend, it's great to see you!\")\n",
    "    i += 1\n",
    "end"
   ]
  },
  {
   "attachments": {},
   "cell_type": "markdown",
   "metadata": {},
   "source": [
    "## for Schleifen\n",
    "\n",
    "Die Syntax für eine `for` Schleife ist wie folgt:\n",
    "\n",
    "```julia\n",
    "for *var* in *loop iterable*\n",
    "    *loop body*\n",
    "end\n",
    "```\n",
    "\n",
    "Wir können eine for-Schleife verwenden, um die gleichen Ergebnisse wie in den obigen Beispielen zu erzeugen:"
   ]
  },
  {
   "cell_type": "code",
   "execution_count": null,
   "metadata": {},
   "outputs": [],
   "source": [
    "for n in 1:10\n",
    "    println(n)\n",
    "end"
   ]
  },
  {
   "cell_type": "code",
   "execution_count": null,
   "metadata": {},
   "outputs": [],
   "source": [
    "myfriends = [\"Rick\", \"Morty\", \"Summer\", \"Jerry\", \"Beth\"] # a vector or array of strings. We get to these later.\n",
    "\n",
    "for friend in myfriends\n",
    "    println(\"Hi $friend, it's great to see you!\")\n",
    "end"
   ]
  }
 ],
 "metadata": {
  "kernelspec": {
   "display_name": "Julia 1.8.5",
   "language": "julia",
   "name": "julia-1.8"
  },
  "language_info": {
   "file_extension": ".jl",
   "mimetype": "application/julia",
   "name": "julia",
   "version": "1.8.5"
  }
 },
 "nbformat": 4,
 "nbformat_minor": 4
}
