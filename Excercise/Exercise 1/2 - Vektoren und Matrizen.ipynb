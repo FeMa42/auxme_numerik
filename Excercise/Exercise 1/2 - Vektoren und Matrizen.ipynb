{
 "cells": [
  {
   "attachments": {},
   "cell_type": "markdown",
   "metadata": {},
   "source": [
    "# Vektoren und Matrizen \n",
    "\n",
    "Um Vektoren und Matrizen darszustellen und zu verwenden werden in Julia Arrays genutzt. Deshalb sind Arrays für diese Übung besonders wichtig weshalb wir uns diese hier mal etwas genauer anschauen. \n",
    "\n",
    "## Datenstrukturen\n",
    "Ein kurzer exkurs zu Datenstrukturen. Sobald wir anfangen, mit einer großen Anzahl von Daten auf einmal zu arbeiten, wird es für uns praktisch sein, Daten in Strukturen wie Arrays oder Wörterbüchern zu speichern (anstatt sich nur auf Variablen zu verlassen). Vieles kennt ihr Wahrscheinlich auch schon aus anderen Programmiersprachen. <br>\n",
    "\n",
    "Es gibt verschiedene Datenstrukturen in Julia. Unter anderem: \n",
    "1. Tuples\n",
    "2. Dictionaries\n",
    "3. Arrays/Vector\n",
    "\n",
    "<br>\n",
    "Zur Übersicht: Tupel und Arrays sind geordnete Folgen von Elementen (wir können also Inhalte lesen und schreiben indem wir indizieren). Dictionaries und Arrays sind beide veränderbar (mutable objects). Das bedeutet im umkehrschluss, dass Tuples nicht aktualisiert werden können. "
   ]
  },
  {
   "attachments": {},
   "cell_type": "markdown",
   "metadata": {},
   "source": [
    "## Arrays\n",
    "\n",
    "Arrays sind geordnete und veränderbare Datenstrukturen und werden mithilfe von `[ ]` erzeugt. \n",
    "\n",
    "Syntax: <br>\n",
    "```julia\n",
    "[item1, item2, ...]\n",
    "```\n",
    "\n",
    "`Vector` ist ein alias für ein 1D-`Array`. Das bedeutet wenn ihr 1D-Arrays anlegt gibt Julia diese als `Vector` zusammen mit dem verwendeten Datentyp an. Ähnlich verhält es sich mit 2D Arrays welche mit `Matrix` und Datentyp angegeben werden. Ab 3 Dimensionen gibt Julia den Datentyp dann als `Array{Type, Dimension}` an. Im hintergrund sind aber alles Arrays und können dementsprechend auch so verwendet werden. \n",
    "\n",
    "Zum Beispiel können wir ein array anlegen welches Namen als `String` variablen beihaltet. "
   ]
  },
  {
   "cell_type": "code",
   "execution_count": null,
   "metadata": {},
   "outputs": [],
   "source": [
    "myfriends = [\"Rick\", \"Morty\", \"Summer\", \"Jerry\", \"Beth\"]"
   ]
  },
  {
   "attachments": {},
   "cell_type": "markdown",
   "metadata": {},
   "source": [
    "Wir können sehen dass hier ein `Vector{String}` angelegt wurde. Da jedes element in der angelegten Liste vom Typ `String` ist wurde der Vector entsprechend angelegt. Der Datentyp kann auch als Array{String, 1} angegeben werden. Wobei dann die 1 für ein eindimensionales Array steht. "
   ]
  },
  {
   "attachments": {},
   "cell_type": "markdown",
   "metadata": {},
   "source": [
    "Alternativ können wir natürlich auch Zahlen in einem `Vector` speichern."
   ]
  },
  {
   "cell_type": "code",
   "execution_count": null,
   "metadata": {},
   "outputs": [],
   "source": [
    "fibonacci = [1, 1, 2, 3, 5, 8, 13]"
   ]
  },
  {
   "attachments": {},
   "cell_type": "markdown",
   "metadata": {},
   "source": [
    "Wir können auch einen `Vector` anlegen der verschiedene Datentypen enthält. Dann wird dieser es als `Any` angelegt. "
   ]
  },
  {
   "cell_type": "code",
   "execution_count": null,
   "metadata": {},
   "outputs": [],
   "source": [
    "mixture = [1, 1, 2, 3, \"Ted\", \"Robyn\"]"
   ]
  },
  {
   "attachments": {},
   "cell_type": "markdown",
   "metadata": {},
   "source": [
    "Und hier möchte ich kurz auf wichtige Unterschiede zu Python eingehen. In Python können wir eine Liste anlegen welche verschiedene Datentypen enthält. Das ist sehr flexibel aber auch langsam. In Julia können wir im Vergleich einen Vector oder ein Array anlegen welches verschiedene Datentypen enthält. Dieses wird dann als `Any` angelegt. Das ist dann zwar ebenfalls flexibel aber eben auch langsam. \n",
    "\n",
    "Aus python kennen wir die \"schnellen\" Arrays wie zum beispiel NumPy Arrays welche dann aber auch einen festen datentyp haben (z.B. dtype=np.float64, dtype=[('f1', np.uint64), ('f2', np.int32)], etc.). Diese können in Julia dann als Array{T} angelegt werden wobei T dann ein konkreter, unveränderlicher Datentyp ist. Das sind dann zum beispiel die eingebauten Datentypen wie Float64, Int32, Int64 aber auch komplexere Datentypen wie Tuple{UInt64,Float64} oder auch benutzerdefinierte Datentypen. Das bedeutet wenn ihr effizient mit Arrays arbeiten wollte müsst ihr nicht auf soetwas wie NumPy zurückgreifen sondern könnt einfach direkt die in Julia implementierten Arrays verwenden indem ihr diese mit einem konkreten Datentypen anlegt."
   ]
  },
  {
   "attachments": {},
   "cell_type": "markdown",
   "metadata": {},
   "source": [
    "Einzelne Werte aus dem Array können mithilfe von Indizes abgerufen werden. "
   ]
  },
  {
   "cell_type": "code",
   "execution_count": null,
   "metadata": {},
   "outputs": [],
   "source": [
    "myfriends[3]"
   ]
  },
  {
   "attachments": {},
   "cell_type": "markdown",
   "metadata": {},
   "source": [
    "Wir können die Werte auch auf diese Weiße setzen. "
   ]
  },
  {
   "cell_type": "code",
   "execution_count": null,
   "metadata": {},
   "outputs": [],
   "source": [
    "myfriends[3] = \"Jessica\""
   ]
  },
  {
   "attachments": {},
   "cell_type": "markdown",
   "metadata": {},
   "source": [
    "**ACHTUNG** Wie Matlab startet auch Julia bei 1. Nicht bei 0 wie Python. "
   ]
  },
  {
   "attachments": {},
   "cell_type": "markdown",
   "metadata": {},
   "source": [
    "Arrays können auch mit `push!` und `pop!` angepasst werden. Ein kurzer Exkurs: In Julia wird `!` verwendet um die Übergabe selbst anzupassen und nicht nur eine angepasste version auszugeben ohne die Ursprüngliche eingabe zu verändern. Das seht ihr aber noch mal in dem Teil zu Funktionen. \n",
    "\n",
    "Wir können also noch eine Zahl zur Fibonacci Reihe hinzufügen."
   ]
  },
  {
   "cell_type": "code",
   "execution_count": null,
   "metadata": {},
   "outputs": [],
   "source": [
    "push!(fibonacci, 21)"
   ]
  },
  {
   "attachments": {},
   "cell_type": "markdown",
   "metadata": {},
   "source": [
    "Und auch wieder entfernen."
   ]
  },
  {
   "cell_type": "code",
   "execution_count": null,
   "metadata": {},
   "outputs": [],
   "source": [
    "pop!(fibonacci)"
   ]
  },
  {
   "cell_type": "code",
   "execution_count": null,
   "metadata": {},
   "outputs": [],
   "source": [
    "fibonacci"
   ]
  },
  {
   "attachments": {},
   "cell_type": "markdown",
   "metadata": {},
   "source": [
    "Bis jetzt habt ihr also 1D-Arrays gesehen. Aber Arrays können auch andere Arrays speichern und auch eine beliebige Anzahl an Dimensionen haben. \n",
    "\n",
    "Das nächste Beispiel zeigt ein Array welches weitere Aarrays enthält. "
   ]
  },
  {
   "cell_type": "code",
   "execution_count": null,
   "metadata": {},
   "outputs": [],
   "source": [
    "favorites = [[\"koobideh\", \"chocolate\", \"eggs\"],[\"penguins\", \"cats\", \"sugargliders\"]]"
   ]
  },
  {
   "cell_type": "code",
   "execution_count": null,
   "metadata": {},
   "outputs": [],
   "source": [
    "numbers = [[1, 2, 3], [4, 5], [6, 7, 8, 9]]"
   ]
  },
  {
   "attachments": {},
   "cell_type": "markdown",
   "metadata": {},
   "source": [
    "Beispiele für 2D Matrix Variablen. Spalten werden mit Leerzeichen erstellt. "
   ]
  },
  {
   "cell_type": "code",
   "execution_count": null,
   "metadata": {},
   "outputs": [],
   "source": [
    "mymatrix = [[1, 2] [4, 5] [7, 8]]"
   ]
  },
  {
   "attachments": {},
   "cell_type": "markdown",
   "metadata": {},
   "source": [
    "Alternativ können Matrizen auch wie folgt erstellt werden."
   ]
  },
  {
   "cell_type": "code",
   "execution_count": null,
   "metadata": {},
   "outputs": [],
   "source": [
    "[1 4 7 \n",
    "2 5 8]"
   ]
  },
  {
   "attachments": {},
   "cell_type": "markdown",
   "metadata": {},
   "source": [
    "Auch hier müssen nicht alle Werte gleich sein. Aber auch hier gilt dann natürlich wieder das gleiche wir bei Vektoren. "
   ]
  },
  {
   "cell_type": "code",
   "execution_count": null,
   "metadata": {},
   "outputs": [],
   "source": [
    "[1 4 7\n",
    "2 5 \"8\"]"
   ]
  },
  {
   "attachments": {},
   "cell_type": "markdown",
   "metadata": {},
   "source": [
    "Eine andere Möglichkeit ist mithilfe von Funktionen. Hier zum beispiel eine 4x3 Matrix mit zufälligen Werten. "
   ]
  },
  {
   "cell_type": "code",
   "execution_count": null,
   "metadata": {},
   "outputs": [],
   "source": [
    "rand(4, 3)"
   ]
  },
  {
   "attachments": {},
   "cell_type": "markdown",
   "metadata": {},
   "source": [
    "3D Arrays sind auch möglich. "
   ]
  },
  {
   "cell_type": "code",
   "execution_count": null,
   "metadata": {},
   "outputs": [],
   "source": [
    "rand(4, 3, 2)"
   ]
  },
  {
   "attachments": {},
   "cell_type": "markdown",
   "metadata": {},
   "source": [
    "Achtung, Arrays werden mit `=` nicht kopiert: "
   ]
  },
  {
   "cell_type": "code",
   "execution_count": null,
   "metadata": {},
   "outputs": [],
   "source": [
    "println(\"Ursprüngliches Array: \", fibonacci)\n",
    "somenumbers = fibonacci\n",
    "somenumbers[1] = 404\n",
    "println(\"Nicht mehr ursprüngliches Array: \", fibonacci)"
   ]
  },
  {
   "attachments": {},
   "cell_type": "markdown",
   "metadata": {},
   "source": [
    "Indem wir `somenumbers` angepasst haben wurde ebenfalls `fibonacci` angepasst. Das passiert da wir mit `=`lediglich eine neue Art angelegt haben wie wir auf `fibonacci` zugreifen können. Es wird also die Referenz auf das Array Übergeben und nicht der Wert Kopiert. \n",
    "\n",
    "Wenn wir die Inhalte aus `fibonacci` kopieren wollen können wir die `copy` Funktion benutzen. "
   ]
  },
  {
   "cell_type": "code",
   "execution_count": null,
   "metadata": {},
   "outputs": [],
   "source": [
    "# First, restore fibonacci\n",
    "fibonacci[1] = 1\n",
    "fibonacci"
   ]
  },
  {
   "cell_type": "code",
   "execution_count": null,
   "metadata": {},
   "outputs": [],
   "source": [
    "somemorenumbers = copy(fibonacci)\n",
    "somemorenumbers[1] = 404\n",
    "println(\"fibonacci: \", fibonacci)\n",
    "println(\"somemorenumbers: \", somemorenumbers)"
   ]
  },
  {
   "attachments": {},
   "cell_type": "markdown",
   "metadata": {},
   "source": [
    "Hier sehen wir jetzt dass fibonacci nicht angepasst wurde und sich nur `somemorenumbers` verändert hat. Die referenzierten Arrays sind also unterschiedlich. "
   ]
  },
  {
   "attachments": {},
   "cell_type": "markdown",
   "metadata": {},
   "source": [
    "## Übung Vektoren und Matrizen: \n",
    "Erstelle ein 3x3 Array mit den Werten 1,2,3,4,5,6,7,8,9 und dem namen `A`. "
   ]
  },
  {
   "cell_type": "code",
   "execution_count": null,
   "metadata": {},
   "outputs": [],
   "source": [
    "A = [1 2 3; 4 5 6; 7 8 9]"
   ]
  },
  {
   "attachments": {},
   "cell_type": "markdown",
   "metadata": {},
   "source": [
    "Erstelle eine Funktion `sum_array` die ein Array als Input nimmt und die Summe aller Elemente zurückgibt. Wende die Funktion auf das Array aus der vorherigen Aufgabe an."
   ]
  },
  {
   "cell_type": "code",
   "execution_count": null,
   "metadata": {},
   "outputs": [],
   "source": []
  },
  {
   "cell_type": "code",
   "execution_count": null,
   "metadata": {},
   "outputs": [],
   "source": [
    "@assert sum_array(A) == 45"
   ]
  },
  {
   "attachments": {},
   "cell_type": "markdown",
   "metadata": {},
   "source": [
    "Erstelle eine Funktion `sin_cos` die die ein argument $\\phi$ annimmt und die $sin(\\phi) + cos(\\phi)$ zurückgibt."
   ]
  },
  {
   "cell_type": "code",
   "execution_count": null,
   "metadata": {},
   "outputs": [],
   "source": []
  },
  {
   "attachments": {},
   "cell_type": "markdown",
   "metadata": {},
   "source": [
    "Wende die Funktion auf die Werte $\\phi = 0, \\pi/4, \\pi/2, 3\\pi/4, \\pi$ an in dem du ein Vektor `phi` von diesen Werten erstellst und übergibst (broadcasting nutzen)."
   ]
  },
  {
   "cell_type": "code",
   "execution_count": null,
   "metadata": {},
   "outputs": [],
   "source": []
  },
  {
   "attachments": {},
   "cell_type": "markdown",
   "metadata": {},
   "source": [
    "Was fällt dir auf wenn du die Ergebnisse mit den einzelnen Ergebnissen für $\\sin(\\phi)$ und $\\cos(\\phi)$ vergleichst?"
   ]
  },
  {
   "cell_type": "code",
   "execution_count": null,
   "metadata": {},
   "outputs": [],
   "source": []
  },
  {
   "cell_type": "code",
   "execution_count": null,
   "metadata": {},
   "outputs": [],
   "source": []
  }
 ],
 "metadata": {
  "kernelspec": {
   "display_name": "Julia 1.8.5",
   "language": "julia",
   "name": "julia-1.8"
  },
  "language_info": {
   "file_extension": ".jl",
   "mimetype": "application/julia",
   "name": "julia",
   "version": "1.8.5"
  }
 },
 "nbformat": 4,
 "nbformat_minor": 4
}
