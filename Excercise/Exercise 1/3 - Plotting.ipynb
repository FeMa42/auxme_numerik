{
 "cells": [
  {
   "attachments": {},
   "cell_type": "markdown",
   "metadata": {},
   "source": [
    "# Plotting\n",
    "\n",
    "## Grundlagen\n",
    "In Julia können Plots mit dem Paket `Plots.jl` erstellt werden. "
   ]
  },
  {
   "cell_type": "code",
   "execution_count": null,
   "metadata": {},
   "outputs": [],
   "source": [
    "using Pkg\n",
    "Pkg.add(\"Plots\")\n",
    "using Plots"
   ]
  },
  {
   "attachments": {},
   "cell_type": "markdown",
   "metadata": {},
   "source": [
    "Einer der Vorteile von `Plots.jl` ist, dass es möglich ist, die Backend zu wechseln. In diesem Notebook werden wir die Backends `gr()` und `plotlyjs()` ausprobieren.\n",
    "\n",
    "Im Namen der wissenschaftlichen Forschung, werden wir dieses Notebook nutzen, um die Beziehung zwischen der globalen Temperatur und der Anzahl der Piraten zwischen etwa 1860 und 2000 zu untersuchen."
   ]
  },
  {
   "cell_type": "code",
   "execution_count": null,
   "metadata": {},
   "outputs": [],
   "source": [
    "globaltemperatures = [14.4, 14.5, 14.8, 15.2, 15.5, 15.8]\n",
    "numpirates = [45000, 20000, 15000, 5000, 400, 17];"
   ]
  },
  {
   "attachments": {},
   "cell_type": "markdown",
   "metadata": {},
   "source": [
    "Plots nutzt verschiedene Backends - das heißt, Bibliotheken, die die Zeichnung tatsächlich ausführen - mit der gleichen API. Um zu beginnen, probieren wir das GR-Backend aus. Sie wählen es mit einem Aufruf an `gr()`:"
   ]
  },
  {
   "cell_type": "code",
   "execution_count": null,
   "metadata": {},
   "outputs": [],
   "source": [
    "gr()"
   ]
  },
  {
   "attachments": {},
   "cell_type": "markdown",
   "metadata": {},
   "source": [
    "Jetzt können wir mit `plot` und `scatter` Plots erstellen."
   ]
  },
  {
   "cell_type": "code",
   "execution_count": null,
   "metadata": {},
   "outputs": [],
   "source": [
    "plot(numpirates, globaltemperatures, label=\"line\")  \n",
    "scatter!(numpirates, globaltemperatures, label=\"points\") "
   ]
  },
  {
   "attachments": {},
   "cell_type": "markdown",
   "metadata": {},
   "source": [
    "Mit `!`, wie in `scatter!`, können wir weitre Inhalte zu den existierenden Plots hinzufügen.\n",
    "\n",
    "Teste was passiert wenn du `scatter!` durch `scatter` ersetzt.\n",
    "\n",
    "Als nächstes, aktualisieren wir diesen Plot mit den Befehlen `xlabel!`, `ylabel!` und `title!` um mehr Informationen zu unserem Plot hinzuzufügen."
   ]
  },
  {
   "cell_type": "code",
   "execution_count": null,
   "metadata": {},
   "outputs": [],
   "source": [
    "xlabel!(\"Number of Pirates [Approximate]\")\n",
    "ylabel!(\"Global Temperature (C)\")\n",
    "title!(\"Influence of pirate population on global warming\")"
   ]
  },
  {
   "attachments": {},
   "cell_type": "markdown",
   "metadata": {},
   "source": [
    "Der Plot sieht allerdings noch nicht ganz richtig aus. Die Anzahl der Piraten ist seit 1860 zurückgegangen, daher entspricht das Ablesen des Diagramms von links nach rechts eher einem Blick zurück in die Zeit als einem Blick nach vorne. Lass uns die x-Achse umkehren, um besser zu sehen, wie Piratenpopulationen die globalen Temperaturen im Laufe der Zeit verändert haben!"
   ]
  },
  {
   "cell_type": "code",
   "execution_count": null,
   "metadata": {},
   "outputs": [],
   "source": [
    "xflip!()"
   ]
  },
  {
   "attachments": {},
   "cell_type": "markdown",
   "metadata": {},
   "source": [
    "Wir können den gleichen Plot auch mit dem Unicode backend erstellen. Das Unicode backend ist eine gute Wahl, wenn du die Plots in einem Terminal ausgeben möchtest."
   ]
  },
  {
   "cell_type": "code",
   "execution_count": null,
   "metadata": {},
   "outputs": [],
   "source": [
    "Pkg.add(\"UnicodePlots\")\n",
    "unicodeplots()"
   ]
  },
  {
   "cell_type": "code",
   "execution_count": null,
   "metadata": {},
   "outputs": [],
   "source": [
    "plot(numpirates, globaltemperatures, label=\"line\")  \n",
    "scatter!(numpirates, globaltemperatures, label=\"points\") \n",
    "xlabel!(\"Number of Pirates [Approximate]\")\n",
    "ylabel!(\"Global Temperature (C)\")\n",
    "title!(\"Influence of pirate population on global warming\")"
   ]
  },
  {
   "attachments": {},
   "cell_type": "markdown",
   "metadata": {},
   "source": [
    "## Übung: Plotten\n",
    "\n",
    "#### 3.1 \n",
    "Gegeben\n",
    "```julia\n",
    "x = -10:10\n",
    "```\n",
    "Erstelle einen Plot, der die Funktion $y = x^2$ zusammen mit $x$ darstellt. Am besten änderst du auch das Backend wieder zu `gr()`."
   ]
  },
  {
   "cell_type": "code",
   "execution_count": null,
   "metadata": {},
   "outputs": [],
   "source": []
  },
  {
   "attachments": {},
   "cell_type": "markdown",
   "metadata": {},
   "source": [
    "#### 3.2 \n",
    "Führe den Folgenden Code aus:"
   ]
  },
  {
   "cell_type": "code",
   "execution_count": null,
   "metadata": {},
   "outputs": [],
   "source": [
    "p1 = plot(x, x)\n",
    "p2 = plot(x, x.^2)\n",
    "p3 = plot(x, x.^3)\n",
    "p4 = plot(x, x.^4)"
   ]
  },
  {
   "attachments": {},
   "cell_type": "markdown",
   "metadata": {},
   "source": [
    "Erstelle einen 2x2 Plot der `p1`, `p2`, `p3`, und `p4` als subplots darstellt. Der Funktion Plot können auch mehrere Arrays zum Plotten übergeben werden und das Layout kann mithilfe des Übergabeparmeters `layout` erstellt werden."
   ]
  },
  {
   "cell_type": "code",
   "execution_count": null,
   "metadata": {},
   "outputs": [],
   "source": []
  }
 ],
 "metadata": {
  "anaconda-cloud": {},
  "kernelspec": {
   "display_name": "Julia 1.8.5",
   "language": "julia",
   "name": "julia-1.8"
  },
  "language_info": {
   "file_extension": ".jl",
   "mimetype": "application/julia",
   "name": "julia",
   "version": "1.8.5"
  },
  "toc": {
   "nav_menu": {
    "height": "66px",
    "width": "252px"
   },
   "navigate_menu": true,
   "number_sections": true,
   "sideBar": true,
   "threshold": "2",
   "toc_cell": false,
   "toc_section_display": "block",
   "toc_window_display": false
  }
 },
 "nbformat": 4,
 "nbformat_minor": 4
}
