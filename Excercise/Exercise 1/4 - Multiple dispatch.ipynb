{
 "cells": [
  {
   "cell_type": "markdown",
   "metadata": {},
   "source": [
    "# Multiple dispatch"
   ]
  },
  {
   "attachments": {},
   "cell_type": "markdown",
   "metadata": {},
   "source": [
    "In diesem Abschnitt schauen wir uns **multiple dispatch** an, welches ein Schlüsseleigenschaft von Julia ist.\n",
    "\n",
    "#### Was wir schon kennen\n",
    "\n",
    "Wir können Funktionen in Julia deklarieren ohne Julia irgendwelche Informationen über die Typen der Eingabeparameter zu geben. Julia wird die Typen der Eingabeparameter selbst herausfinden. \n",
    "```julia\n",
    "function f(x)\n",
    "    return x + 1\n",
    "end\n",
    "```"
   ]
  },
  {
   "cell_type": "code",
   "execution_count": null,
   "metadata": {},
   "outputs": [],
   "source": [
    "f(x) = x.^2\n",
    "f(10)"
   ]
  },
  {
   "attachments": {},
   "cell_type": "markdown",
   "metadata": {},
   "source": [
    "Deshalb können wir der Funktion auch unterschiedliche Datentypen Übergeben:"
   ]
  },
  {
   "cell_type": "code",
   "execution_count": null,
   "metadata": {},
   "outputs": [],
   "source": [
    "f([1, 2, 3])"
   ]
  },
  {
   "attachments": {},
   "cell_type": "markdown",
   "metadata": {},
   "source": [
    "#### Typ der Eingabeparameter explizit angeben\n",
    "\n",
    "Alternativ können wir Julia auch sagen, welche Typen die Eingabeparameter haben dürfen. \n",
    "\n",
    "Zum Beispiel schreiben wir eine Funktion `foo`, die nur Strings als Eingabeparameter akzeptiert."
   ]
  },
  {
   "cell_type": "code",
   "execution_count": null,
   "metadata": {},
   "outputs": [],
   "source": [
    "foo(x::String, y::String) = println(\"My inputs x and y are both strings!\")"
   ]
  },
  {
   "attachments": {},
   "cell_type": "markdown",
   "metadata": {},
   "source": [
    "Dem eingabeargument folgen zei Doppelpunkte und dann der Typ des Eingabearguments.\n",
    "\n",
    "Jetzt funktioniert `foo` nur noch mit Strings:"
   ]
  },
  {
   "cell_type": "code",
   "execution_count": null,
   "metadata": {},
   "outputs": [],
   "source": [
    "foo(\"hello\", \"hi!\")"
   ]
  },
  {
   "cell_type": "code",
   "execution_count": null,
   "metadata": {},
   "outputs": [],
   "source": [
    "foo(3, 4)"
   ]
  },
  {
   "attachments": {},
   "cell_type": "markdown",
   "metadata": {},
   "source": [
    "Um die Funktion `foo` mit anderen Datentypen zu verwenden, müssen wir die Funktion erneut mit den gewünschten Datentypen deklarieren."
   ]
  },
  {
   "cell_type": "code",
   "execution_count": null,
   "metadata": {},
   "outputs": [],
   "source": [
    "foo(x::Int, y::Int) = println(\"My inputs x and y are both integers!\")"
   ]
  },
  {
   "cell_type": "code",
   "execution_count": null,
   "metadata": {},
   "outputs": [],
   "source": [
    "foo(3, 4)"
   ]
  },
  {
   "attachments": {},
   "cell_type": "markdown",
   "metadata": {},
   "source": [
    "Jetzt funktioniert `foo` mit Integern und mit Strings:"
   ]
  },
  {
   "cell_type": "code",
   "execution_count": null,
   "metadata": {},
   "outputs": [],
   "source": [
    "foo(\"hello\", \"hi!\")"
   ]
  },
  {
   "attachments": {},
   "cell_type": "markdown",
   "metadata": {},
   "source": [
    "Das bringt uns langsam zum Kern von Multiple Dispatch. Als wir deklarierten\n",
    "\n",
    "```julia\n",
    "foo(x::Int, y::Int) = println(\"My inputs x and y are both integers!\")\n",
    "```\n",
    "haben damit aber nicht \n",
    "```julia\n",
    "foo(x::String, y::String)\n",
    "```\n",
    "überschrieben oder ersetzt. Stattdessen haben wir lediglich eine zusätzliche ***Methode*** zur ***generischen Funktion*** namens `foo` hinzugefügt.\n",
    "\n",
    "\n",
    "Eine ***generische Funktion***  ist das abstrakte Konzept, das mit einer bestimmten Operation verbunden ist.\n",
    "\n",
    "Zum Beispiel repräsentiert die generische Funktion `+` das Konzept der Addition.\n",
    "\n",
    "Eine ***Methode*** st eine spezifische Implementierung einer generischen Funktion für bestimmte Argumenttypen.\n",
    "\n",
    "Zum Beispiel hat `+` Methoden, die Fließkommazahlen, Ganzzahlen, Matrizen usw. akzeptieren.\n",
    "\n",
    "Wir können `methods` verwenden, um zu sehen, wie viele Methoden es für `foo` gibt."
   ]
  },
  {
   "cell_type": "code",
   "execution_count": null,
   "metadata": {},
   "outputs": [],
   "source": [
    "methods(foo)"
   ]
  },
  {
   "attachments": {},
   "cell_type": "markdown",
   "metadata": {},
   "source": [
    "Das Funktioniert natürlich auch für bereits bekannte Funktionen wie `+`:"
   ]
  },
  {
   "cell_type": "code",
   "execution_count": null,
   "metadata": {},
   "outputs": [],
   "source": [
    "methods(+)"
   ]
  },
  {
   "attachments": {},
   "cell_type": "markdown",
   "metadata": {},
   "source": [
    "Wir können `foo` also sowohl für Ganzzahlen als auch für Zeichenketten aufrufen. Wenn `foo` mit einem bestimmten Satz von Argumenten aufgerufen wird, wird Julia die Typen der Eingaben ableiten und die entsprechende Methode aufrufen. Das ist Multiple Dispatch.\n",
    "\n",
    "Multiple Dispatch macht unseren Code generisch und schnell. Unser Code kann generisch und flexibel sein, weil wir Code in Bezug auf abstrakte Operationen wie Addition und Multiplikation schreiben können, anstatt in Bezug auf spezifische Implementierungen. Gleichzeitig läuft unser Code schnell, weil Julia in der Lage ist, effiziente Methoden für die relevanten Typen aufzurufen.\n",
    "\n",
    "Um zu sehen, welche Methode aufgerufen wird, wenn wir eine generische Funktion aufrufen, können wir das `@which`-Makro verwenden:"
   ]
  },
  {
   "cell_type": "code",
   "execution_count": null,
   "metadata": {},
   "outputs": [],
   "source": [
    "@which foo(3, 4)"
   ]
  },
  {
   "attachments": {},
   "cell_type": "markdown",
   "metadata": {},
   "source": [
    "Der `@which` Operator für die Funktion `+` gibt uns die Methode an, die aufgerufen wird, wenn wir:"
   ]
  },
  {
   "cell_type": "code",
   "execution_count": null,
   "metadata": {},
   "outputs": [],
   "source": [
    "@which 3.0 + 3.0"
   ]
  },
  {
   "attachments": {},
   "cell_type": "markdown",
   "metadata": {},
   "source": [
    "Es gibt auch abstrakte Typen, die wir verwenden können, um Methoden zu deklarieren. Zum Beispiel können wir eine Methode für `foo` deklarieren, die nur ***subtypes*** von `Number` akzeptiert (also `Int`, `Float64`, usw.). Wir können dies tun, indem wir den Typ `Number` als Eingabeargument angeben:"
   ]
  },
  {
   "cell_type": "code",
   "execution_count": null,
   "metadata": {},
   "outputs": [],
   "source": [
    "foo(x::Number, y::Number) = println(\"My inputs x and y are both numbers!\")"
   ]
  },
  {
   "attachments": {},
   "cell_type": "markdown",
   "metadata": {},
   "source": [
    "Jetzt funkioniert `foo` auch mit `Number`-subtypes:"
   ]
  },
  {
   "cell_type": "code",
   "execution_count": null,
   "metadata": {},
   "outputs": [],
   "source": [
    "foo(3.0, 4.0)"
   ]
  },
  {
   "attachments": {},
   "cell_type": "markdown",
   "metadata": {},
   "source": [
    "Wir können zudem eine fallback Methode für `foo` deklarieren, die für alle anderen Datentypen funktioniert:"
   ]
  },
  {
   "cell_type": "code",
   "execution_count": null,
   "metadata": {},
   "outputs": [],
   "source": [
    "foo(x, y) = println(\"I accept inputs of any type!\")"
   ]
  },
  {
   "cell_type": "code",
   "execution_count": null,
   "metadata": {},
   "outputs": [],
   "source": [
    "v = rand(3)\n",
    "foo(v, v)"
   ]
  },
  {
   "attachments": {},
   "cell_type": "markdown",
   "metadata": {},
   "source": [
    "### Übung: Multiple Dispatch\n",
    "\n",
    "#### 4.1\n",
    "\n",
    "Erweitere die Funktion `foo`, indem du eine Methode hinzufügst, die nur einen Eingabeargument akzeptiert, welcher vom Typ `Bool` ist und \"foo with one boolean!\" zurückgibt."
   ]
  },
  {
   "cell_type": "code",
   "execution_count": null,
   "metadata": {},
   "outputs": [],
   "source": []
  },
  {
   "attachments": {},
   "cell_type": "markdown",
   "metadata": {},
   "source": [
    "#### 4.2\n",
    "\n",
    "Prüfe ob du die Methode richtig deklariert hast, indem du die Funktion `foo` mit einem `Bool`-Eingabeargument aufrufst."
   ]
  },
  {
   "cell_type": "code",
   "execution_count": null,
   "metadata": {},
   "outputs": [],
   "source": []
  },
  {
   "cell_type": "code",
   "execution_count": null,
   "metadata": {
    "deletable": false,
    "editable": false,
    "hide_input": true,
    "nbgrader": {
     "checksum": "af0db7a08de56491e57f4c882296a00f",
     "grade": true,
     "grade_id": "cell-14072e60ae07c1a2",
     "locked": true,
     "points": 1,
     "schema_version": 1,
     "solution": false
    }
   },
   "outputs": [],
   "source": [
    "@assert foo(true) == \"foo with one boolean!\""
   ]
  }
 ],
 "metadata": {
  "anaconda-cloud": {},
  "kernelspec": {
   "display_name": "Julia 1.8.5",
   "language": "julia",
   "name": "julia-1.8"
  },
  "language": "Julia",
  "language_info": {
   "file_extension": ".jl",
   "mimetype": "application/julia",
   "name": "julia",
   "version": "1.6.0"
  },
  "toc": {
   "nav_menu": {
    "height": "119px",
    "width": "251px"
   },
   "navigate_menu": true,
   "number_sections": true,
   "sideBar": true,
   "threshold": "2",
   "toc_cell": false,
   "toc_section_display": "block",
   "toc_window_display": false
  }
 },
 "nbformat": 4,
 "nbformat_minor": 4
}
