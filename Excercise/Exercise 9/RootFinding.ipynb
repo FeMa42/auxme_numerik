{
 "cells": [
  {
   "attachments": {},
   "cell_type": "markdown",
   "metadata": {},
   "source": [
    "# Root Finding to solve the inverse kinematic\n",
    "When we want to find a solution for the inverse kinematic we need to find a solution of a set of functions with multiple variables. We can use the Newton method to find the root of a function. In Exercise 2, we learned how to find the root of a function with one variable: "
   ]
  },
  {
   "attachments": {},
   "cell_type": "markdown",
   "metadata": {},
   "source": [
    "## The Root Finding Problem\n",
    "\n",
    "We want to find a vector $\\mathbf{x} = (x_1, \\dots, x_n)$, given on a continuous vector-valued function $\\mathbf{f}= (f_1, \\dots f_n)$ mapping from $\\mathbb{R}^n$ into $\\mathbb{R}^n$, such that\n",
    "$$\n",
    "\\begin{split}\\begin{split}\n",
    "  f_1(x_1,\\dots,x_n) &= 0,\\\\\n",
    "  f_2(x_1,\\dots,x_n) &= 0,\\\\\n",
    "  &\\vdots\\\\\n",
    "  f_n(x_1,\\dots,x_n) &= 0.\n",
    "\\end{split}\\end{split}\n",
    "$$\n",
    "We can also write this in a more compact form:\n",
    "$$\n",
    "  \\mathbf{f}(\\mathbf{x}) = \\mathbf{0}.\n",
    "$$\n",
    "The solution $\\mathbf{x}$ is called the **root** of the vector-valued function. How can we find the root of a function with multiple variables? \n",
    "\n",
    "## Newton Method with multiple variables\n",
    "\n",
    "**Linear Model**: We can use the first Taylor approximation (tangent) at the point $\\mathbf{x}_n$ and use the **Newton method** to find the root of the function with multiple variables:\n",
    "$$\n",
    "\\mathbf{f}(\\mathbf{x}+\\mathbf{h}) = \\mathbf{f}(\\mathbf{x}) + \\mathbf{J}(\\mathbf{x})\\mathbf{h} + O(\\| \\mathbf{h} \\|^2),\n",
    "$$\n",
    "where $\\mathbf{J}(\\mathbf{x})$ is the Jacobian matrix of $\\mathbf{f}$ at $\\mathbf{x}$:\n",
    "$$\n",
    "\\begin{split}\\mathbf{J}(\\mathbf{x}) =\n",
    "  \\begin{bmatrix}\n",
    "    \\rule[2mm]{0pt}{1em}\\frac{\\partial f_1}{\\partial x_1} & \\frac{\\partial f_1}{\\partial x_2} & \\cdots & \\frac{\\partial f_1}{\\partial x_n}\\\\[2mm]\n",
    "    \\frac{\\partial f_2}{\\partial x_1} & \\frac{\\partial f_2}{\\partial x_2} & \\cdots & \\frac{\\partial f_2}{\\partial x_n}\\\\[1mm]\n",
    "    \\vdots & \\vdots & & \\vdots\\\\[1mm]\n",
    "    \\rule[-3mm]{0pt}{1em} \\frac{\\partial f_n}{\\partial x_1} & \\frac{\\partial f_n}{\\partial x_2} & \\cdots & \\frac{\\partial f_n}{\\partial x_n}\n",
    "  \\end{bmatrix} = \\left[ \\frac{\\partial f_i}{\\partial x_j} \\right]_{\\,i,j=1,\\ldots,n}.\\end{split}\n",
    "$$\n",
    "\n",
    "We set $\\mathbf{f}(\\mathbf{x}_{n+1}) = \\mathbf{0}$ and solved for $\\mathbf{x}$:\n",
    "$$\n",
    "\\begin{split}\\begin{split}\n",
    "  \\mathbf{0} &= \\mathbf{f}(\\mathbf{x}_n) + \\mathbf{J}(\\mathbf{x}_n)\\mathbf{h}\\\\\n",
    "  \\mathbf{h} &= -\\mathbf{J}(\\mathbf{x}_n)^{-1}\\mathbf{f}(\\mathbf{x}_n)\\\\\n",
    "  \\mathbf{x}_{n+1} &= \\mathbf{x}_n - \\mathbf{J}(\\mathbf{x}_n)^{-1}\\mathbf{f}(\\mathbf{x}_n).\n",
    "\\end{split}\\end{split}\n",
    "$$\n",
    "The calculation rule for the next $\\mathbf{x}$ which is closer to the root is thus iteratively called over and over again. The calculation rule according to the Newton method is therefore:\n",
    "$$\n",
    "\\mathbf{x}_0 = \\text{start value}\n",
    "$$\n",
    "$$\n",
    "\\mathbf{x}_{1} = \\mathbf{x}_0 - \\mathbf{J}(\\mathbf{x}_0)^{-1}\\mathbf{f}(\\mathbf{x}_0)\n",
    "$$\n",
    "$$\n",
    "\\mathbf{x}_{2} = \\mathbf{x}_{1} - \\mathbf{J}(\\mathbf{x}_{1})^{-1}\\mathbf{f}(\\mathbf{x}_{1})\n",
    "$$\n",
    "$$\n",
    "...\n",
    "$$\n",
    "$$\n",
    "\\mathbf{x}_{n+1} = \\mathbf{x}_n - \\mathbf{J}(\\mathbf{x}_n)^{-1}\\mathbf{f}(\\mathbf{x}_n)\n",
    "$$\n",
    "We do this until we have reached the desired accuracy, i.e., the desired distance of $\\mathbf{f}(\\mathbf{x}_{n+1})$ to $\\mathbf{0}$.\n",
    "\n",
    "**Summary**: The Newton method is an iterative method for finding the root of a function with multiple variables. The calculation rule for the next $\\mathbf{x}$ which is closer to the root is thus iteratively called over and over again. When look at the calculation rule of the Newton method:\n",
    "$$\\mathbf{x}_{n+1} = \\mathbf{x}_n - \\mathbf{J}(\\mathbf{x}_n)^{-1}\\mathbf{f}(\\mathbf{x}_n)$$\n",
    "we see that we need to calculate the function $\\mathbf{f}(\\mathbf{x})$, the derivative of the function (the Jacobian $\\mathbf{J}(\\mathbf{x})$) and the inverse of the Jacobian matrix $\\mathbf{J}(\\mathbf{x})^{-1}$."
   ]
  },
  {
   "cell_type": "markdown",
   "metadata": {},
   "source": [
    "## Revisiting Derivatives and Linear Equations\n",
    "\n",
    "In Exercise 5. we have already seen how we can estimate the Jacobian of a function $\\mathbf{f}(\\mathbf{x})$. We can use forward diff to estimate the Jacobian of a function $\\mathbf{f}(\\mathbf{x})$ at a point $\\mathbf{x}$:"
   ]
  },
  {
   "cell_type": "code",
   "execution_count": null,
   "metadata": {},
   "outputs": [],
   "source": [
    "import Pkg\n",
    "Pkg.activate(\"../Exercise 4/OpenMEnv\")\n",
    "using Revise"
   ]
  },
  {
   "cell_type": "code",
   "execution_count": null,
   "metadata": {},
   "outputs": [],
   "source": [
    "using ForwardDiff\n",
    "\n",
    "f(x) = [x[1]^2 + x[2]^2 - 1, x[1] - x[2]^2]\n",
    "q = [1.0, 1.0]\n",
    "J_fd = ForwardDiff.jacobian(f, q)\n"
   ]
  },
  {
   "cell_type": "markdown",
   "metadata": {},
   "source": [
    "alternatively we can use reverse diff to estimate the Jacobian of a function $\\mathbf{f}(\\mathbf{x})$ at a point $\\mathbf{x}$:"
   ]
  },
  {
   "cell_type": "code",
   "execution_count": null,
   "metadata": {},
   "outputs": [],
   "source": [
    "using ReverseDiff\n",
    "\n",
    "J_rd = ReverseDiff.jacobian(f, q)"
   ]
  },
  {
   "cell_type": "markdown",
   "metadata": {},
   "source": [
    "In the last exercise we have also seen how we can solve a linear equation system:"
   ]
  },
  {
   "cell_type": "code",
   "execution_count": null,
   "metadata": {},
   "outputs": [],
   "source": [
    "A = rand(3,3)\n",
    "b = rand(3)\n",
    "@show x = A\\b # Simple version of solving a linear system"
   ]
  },
  {
   "cell_type": "markdown",
   "metadata": {},
   "source": [
    "A more stable version of solving a linear system based on LU factorization:"
   ]
  },
  {
   "cell_type": "code",
   "execution_count": null,
   "metadata": {},
   "outputs": [],
   "source": [
    "using LinearAlgebra\n",
    "L,U,p = lu(A)\n",
    "x = U\\(L\\b[p]) "
   ]
  },
  {
   "cell_type": "markdown",
   "metadata": {},
   "source": [
    "and how to calculate the inverse of a matrix using the `inv` function:"
   ]
  },
  {
   "cell_type": "code",
   "execution_count": null,
   "metadata": {},
   "outputs": [],
   "source": [
    "inv(A) "
   ]
  },
  {
   "cell_type": "markdown",
   "metadata": {},
   "source": [
    "## Newton Method in Julia\n",
    "Now we already learnt that the inverse is not a good idea to use to solve the linear equation systems. Instead we can use the LU factorization to solve the linear equation system. We can first use the `lu` function to calculate the LU factorization of the Jacobian matrix and then use forward and backward substitution to solve $\\mathbf{J}(\\mathbf{x}_n)^{-1}\\mathbf{f}(\\mathbf{x}_n)$ instead of calculating the inverse of the Jacobian matrix. We need to calculate the function $\\mathbf{f}(\\mathbf{x})$ and the Jacobian matrix $\\mathbf{J}(\\mathbf{x}_n)$ in each iteration, since the Jacobian matrix depends on the point $\\mathbf{x}_n$. \n",
    "\n",
    "First we define the function `J(x)` which calculates the Jacobian. We can use the `ForwardDiff.jl` package to calculate the Jacobian matrix of a function $\\mathbf{f}(\\mathbf{x})$ at a point $\\mathbf{x}$:\n"
   ]
  },
  {
   "cell_type": "code",
   "execution_count": null,
   "metadata": {},
   "outputs": [],
   "source": [
    "J(x) = ForwardDiff.jacobian(f, x)"
   ]
  },
  {
   "cell_type": "markdown",
   "metadata": {},
   "source": [
    "Now we define a function `newton(f, J, x)` which implements the Newton method. Where `f` is the function $\\mathbf{f}(\\mathbf{x})$, `J` is the function `J(x)` which calculates the Jacobian matrix $\\mathbf{J}(\\mathbf{x})$ and `x` is the start value $\\mathbf{x}_0$. The function `newton` returns the root of the function $\\mathbf{f}(\\mathbf{x})$. The function iteratively calls the calculation rule of the Newton method using the LU factorization until the desired accuracy is reached. The desired accuracy is defined by the parameter `tolerance` which is set to `1e-10` by default. The maximum number of iterations is defined by the parameter `maxiter` which is set to `1000` by default. "
   ]
  },
  {
   "cell_type": "code",
   "execution_count": null,
   "metadata": {},
   "outputs": [],
   "source": [
    "function newton(f, J, x, solver)\n",
    "   h = Inf64\n",
    "   tolerance = 10^(-10)\n",
    "   iter = 0\n",
    "   while (norm(h) > tolerance)\n",
    "      iter += 1\n",
    "      if iter > 1000\n",
    "         error(\"Too many iterations\")\n",
    "      end\n",
    "      h = solver(J(x), f(x))\n",
    "      x = x - h\n",
    "   end\n",
    "   return x\n",
    "end"
   ]
  },
  {
   "cell_type": "code",
   "execution_count": null,
   "metadata": {},
   "outputs": [],
   "source": [
    "function LU_solver(J_x, f_x)\n",
    "    L, U, p = lu(J_x)\n",
    "    h = U \\ (L \\ f_x[p])\n",
    "    return h\n",
    "end"
   ]
  },
  {
   "cell_type": "code",
   "execution_count": null,
   "metadata": {},
   "outputs": [],
   "source": [
    "function invers_solver(A, b)\n",
    "    A_inv = inv(A)\n",
    "    return A_inv * b\n",
    "end"
   ]
  },
  {
   "cell_type": "code",
   "execution_count": null,
   "metadata": {},
   "outputs": [],
   "source": [
    "function simple_solver(A, b)\n",
    "    return A \\ b\n",
    "end"
   ]
  },
  {
   "cell_type": "markdown",
   "metadata": {},
   "source": [
    "Let's test the Newton method for the function $\\mathbf{f}(\\mathbf{x})$:\n",
    "$$\n",
    "\\mathbf{f}(\\mathbf{x}) = \\begin{bmatrix}\n",
    "  \\rule[2mm]{0pt}{1em}x_1^2 + x_2^2 - 1\\\\[2mm]\n",
    "  x_1 - x_2\n",
    "\\end{bmatrix}\n",
    "$$\n",
    "\n",
    "Try to find the two roots of the function $\\mathbf{f}(\\mathbf{x})$ by using the Newton method:"
   ]
  },
  {
   "cell_type": "code",
   "execution_count": null,
   "metadata": {},
   "outputs": [],
   "source": [
    "f(x) = [x[1]^2 + x[2]^2 - 1, x[1] - x[2]^2]\n",
    "x = [0.6, -1]\n",
    "newton(f, J, x, LU_solver)"
   ]
  },
  {
   "cell_type": "code",
   "execution_count": null,
   "metadata": {},
   "outputs": [],
   "source": [
    "x = [0.6, 1]\n",
    "newton(f, J, x, LU_solver)"
   ]
  },
  {
   "cell_type": "code",
   "execution_count": null,
   "metadata": {},
   "outputs": [],
   "source": [
    "x = [0.6, -1]\n",
    "newton(f, J, x, invers_solver) # This gives the same result as LU_solver"
   ]
  },
  {
   "cell_type": "code",
   "execution_count": null,
   "metadata": {},
   "outputs": [],
   "source": [
    "x = [0.6, -1]\n",
    "newton(f, J, x, simple_solver) # This gives the same result as LU_solver"
   ]
  },
  {
   "cell_type": "markdown",
   "metadata": {},
   "source": [
    "Let's try to find the two roots of another set of functions $\\mathbf{f}(\\mathbf{x})$:\n",
    "$$\n",
    "\\mathbf{f}(\\mathbf{x}) = \\begin{bmatrix}\n",
    "  \\rule[2mm]{0pt}{1em}(1-x_1)^2 + (2-x_2)^2 - 5^2\\\\[2mm]\n",
    "  (6-x_1)^2 + (1-x_2)^2 - 6.2^2\\\\[2mm]  \n",
    "\\end{bmatrix}\n",
    "$$"
   ]
  },
  {
   "cell_type": "code",
   "execution_count": null,
   "metadata": {},
   "outputs": [],
   "source": [
    "f(x) = [(1-x[1])^2 + (2-x[2])^2 - 5^2, (6-x[1])^2 + (1-x[2])^2 - 6.2^2]\n",
    "x = [1, -2]\n",
    "newton(f, J, x, LU_solver)"
   ]
  },
  {
   "cell_type": "code",
   "execution_count": null,
   "metadata": {},
   "outputs": [],
   "source": [
    "x = [3, 6]\n",
    "newton(f, J, x, LU_solver)"
   ]
  },
  {
   "cell_type": "code",
   "execution_count": null,
   "metadata": {},
   "outputs": [],
   "source": [
    "x = [3, 6]\n",
    "newton(f, J, x, invers_solver)"
   ]
  },
  {
   "cell_type": "code",
   "execution_count": null,
   "metadata": {},
   "outputs": [],
   "source": [
    "x = [3, 6]\n",
    "newton(f, J, x, simple_solver)"
   ]
  },
  {
   "cell_type": "markdown",
   "metadata": {},
   "source": [
    "# Solving the inverse kinematics of the Openmanipulator using the Newton method\n",
    "\n",
    "\n",
    "First, let us define a position and heading we know we can reach with the OpenManipulator. We will use this as a starting point for the Newton method. We do this loading the kinematics library and estimating the forward kinematics of the OpenManipulator for the joint angles we know we can reach:"
   ]
  },
  {
   "cell_type": "code",
   "execution_count": null,
   "metadata": {},
   "outputs": [],
   "source": [
    "include(\"../OpenManipulatorLib/OpenManipulatorKinematics.jl\")\n",
    "import .OpenManipulatorKinematics"
   ]
  },
  {
   "cell_type": "code",
   "execution_count": null,
   "metadata": {},
   "outputs": [],
   "source": [
    "goal_position, desired_orientation = OpenManipulatorKinematics.complete_forward_kinematics([0.6, 0.6, -0.5, -0.1])"
   ]
  },
  {
   "cell_type": "code",
   "execution_count": null,
   "metadata": {},
   "outputs": [],
   "source": [
    "using ForwardDiff\n",
    "\n",
    "# Define a function that returns the position of the end effector\n",
    "function f_rootfindingProblem(q) \n",
    "    end_effector_position, end_effector_orientation = OpenManipulatorKinematics.complete_forward_kinematics(q)\n",
    "    f_1 = end_effector_position[1] - goal_position[1]\n",
    "    f_2 = end_effector_position[2] - goal_position[2]\n",
    "    f_3 = end_effector_position[3] - goal_position[3]\n",
    "    f_4 = (end_effector_orientation[1] - desired_orientation[1])^2 + (end_effector_orientation[2] - desired_orientation[2])^2 + (end_effector_orientation[3] - desired_orientation[3])^2\n",
    "    return [f_1, f_2, f_3, f_4]\n",
    "end"
   ]
  },
  {
   "cell_type": "code",
   "execution_count": null,
   "metadata": {},
   "outputs": [],
   "source": [
    "function J_openManipulator(q)\n",
    "    # Calculate the Jacobian matrix using ForwardDiff.jacobian\n",
    "    J = ForwardDiff.jacobian(f_rootfindingProblem, q)\n",
    "    return J\n",
    "end"
   ]
  },
  {
   "cell_type": "code",
   "execution_count": null,
   "metadata": {},
   "outputs": [],
   "source": [
    "q_init = [0.5, 0.5, -0.5, -0.1] # A position relatively close to the goal position\n",
    "newton(f_rootfindingProblem, J_openManipulator, q_init, LU_solver)"
   ]
  },
  {
   "attachments": {},
   "cell_type": "markdown",
   "metadata": {},
   "source": [
    "\n",
    "## Iterative solvers\n",
    "In the lecture we looked at the Jacobi and Gauss-Seidel method to solve a linear equation system. Many Iterative solvers for linear equations are provided by the iterative solvers package: https://iterativesolvers.julialinearalgebra.org/dev/ \n",
    "\n",
    "Let's try some of them out:"
   ]
  },
  {
   "cell_type": "code",
   "execution_count": null,
   "metadata": {},
   "outputs": [],
   "source": [
    "Pkg.add(\"IterativeSolvers\")"
   ]
  },
  {
   "cell_type": "code",
   "execution_count": null,
   "metadata": {},
   "outputs": [],
   "source": [
    "using IterativeSolvers"
   ]
  },
  {
   "cell_type": "code",
   "execution_count": null,
   "metadata": {},
   "outputs": [],
   "source": [
    "A = rand(3, 3)\n",
    "b = rand(3)\n",
    "x = A \\ b"
   ]
  },
  {
   "attachments": {},
   "cell_type": "markdown",
   "metadata": {},
   "source": [
    "Check the documentation (https://iterativesolvers.julialinearalgebra.org/dev/) and try the **idr(s)** and the **BiCGStab(l)** solver. What do you observe?"
   ]
  },
  {
   "cell_type": "code",
   "execution_count": null,
   "metadata": {},
   "outputs": [],
   "source": [
    "x = zeros(3)\n",
    "idrs!(x, A, b)"
   ]
  },
  {
   "cell_type": "code",
   "execution_count": null,
   "metadata": {},
   "outputs": [],
   "source": [
    "x = zeros(3)\n",
    "bicgstabl!(x, A, b)"
   ]
  },
  {
   "attachments": {},
   "cell_type": "markdown",
   "metadata": {},
   "source": [
    "Now let's try to solve the inverse kinematics of the OpenManipulator using iterative methods. Apply the newton method using the **idr(s)** and the **BiCGStab(l)** solver:"
   ]
  },
  {
   "cell_type": "code",
   "execution_count": null,
   "metadata": {},
   "outputs": [],
   "source": [
    "q_init = [0.0, 0.5, 0.0, 0.0] # A position relatively close to the goal position\n",
    "newton(f_rootfindingProblem, J_openManipulator, q_init, idrs)"
   ]
  },
  {
   "cell_type": "code",
   "execution_count": null,
   "metadata": {},
   "outputs": [],
   "source": [
    "q_init = [0.6, 0.6, -0.4999, -0.1] # A position relatively close to the goal position\n",
    "newton(f_rootfindingProblem, J_openManipulator, q_init, bicgstabl)"
   ]
  },
  {
   "attachments": {},
   "cell_type": "markdown",
   "metadata": {},
   "source": [
    "We can actually see that choosing the right solver is very important if it comes to solving inverse kinematics problems. The **idr(s)** solver is much better than the **BiCGStab(l)** solver, since **BiCGStab(l)** does not converge to the solution if we do not use a very close starting point."
   ]
  },
  {
   "attachments": {},
   "cell_type": "markdown",
   "metadata": {},
   "source": [
    "## Comparison of the different solvers (Benchmark)\n",
    "Now we compare the speed of the different solvers. You have already seen in the lecture that the iterative solvers are much faster if we have very big linear equation systems. How do they compare for our small linear equation system like the inverse kinematics of the OpenManipulator?"
   ]
  },
  {
   "cell_type": "code",
   "execution_count": null,
   "metadata": {},
   "outputs": [],
   "source": [
    "Pkg.add(\"BenchmarkTools\")"
   ]
  },
  {
   "cell_type": "code",
   "execution_count": null,
   "metadata": {},
   "outputs": [],
   "source": [
    "using BenchmarkTools"
   ]
  },
  {
   "cell_type": "code",
   "execution_count": null,
   "metadata": {},
   "outputs": [],
   "source": [
    "@benchmark newton(f_rootfindingProblem, J_openManipulator, q_init, LU_solver)"
   ]
  },
  {
   "cell_type": "code",
   "execution_count": null,
   "metadata": {},
   "outputs": [],
   "source": [
    "@benchmark newton(f_rootfindingProblem, J_openManipulator, q_init, invers_solver)"
   ]
  },
  {
   "cell_type": "code",
   "execution_count": null,
   "metadata": {},
   "outputs": [],
   "source": [
    "@benchmark newton(f_rootfindingProblem, J_openManipulator, q_init, simple_solver)"
   ]
  },
  {
   "cell_type": "code",
   "execution_count": null,
   "metadata": {},
   "outputs": [],
   "source": [
    "@benchmark newton(f_rootfindingProblem, J_openManipulator, q_init, idrs)"
   ]
  },
  {
   "cell_type": "markdown",
   "metadata": {},
   "source": [
    "## Comparison of different automatic differentiation tools\n",
    "\n",
    "Now we compare the speed of the different automatic differentiation tools. You have already seen in the lecture that the automatic differentiation tools are much faster than the finite difference method. How do they compare for our small linear equation system like the inverse kinematics of the OpenManipulator?"
   ]
  },
  {
   "cell_type": "code",
   "execution_count": null,
   "metadata": {},
   "outputs": [],
   "source": [
    "using FiniteDifferences\n",
    "function J_openManipulator_rwd(q)\n",
    "    # Calculate the Jacobian matrix using ForwardDiff.jacobian\n",
    "    J = ReverseDiff.jacobian(f_rootfindingProblem, q)\n",
    "    return J\n",
    "end\n",
    "\n",
    "function J_openManipulator_fd(q)\n",
    "    # Calculate the Jacobian matrix using FiniteDifferences.jacobian with FiniteDifferences.central_fdm(2, 1)\n",
    "    J = FiniteDifferences.jacobian(FiniteDifferences.central_fdm(20, 1), f_rootfindingProblem, q)[1]\n",
    "    return J\n",
    "end"
   ]
  },
  {
   "cell_type": "code",
   "execution_count": null,
   "metadata": {},
   "outputs": [],
   "source": [
    "@benchmark newton(f_rootfindingProblem, J_openManipulator, q_init, LU_solver)"
   ]
  },
  {
   "cell_type": "code",
   "execution_count": null,
   "metadata": {},
   "outputs": [],
   "source": [
    "@benchmark newton(f_rootfindingProblem, J_openManipulator_rwd, q_init, LU_solver)"
   ]
  },
  {
   "cell_type": "code",
   "execution_count": null,
   "metadata": {},
   "outputs": [],
   "source": [
    "@benchmark newton(f_rootfindingProblem, J_openManipulator_fd, q_init, LU_solver)"
   ]
  },
  {
   "cell_type": "markdown",
   "metadata": {},
   "source": [
    "You can test different combinations of the automatic differentiation tools and solvers. What do you observe?"
   ]
  },
  {
   "cell_type": "code",
   "execution_count": null,
   "metadata": {},
   "outputs": [],
   "source": [
    "# TODO: Test different Combination of solvers and Jacobian calculation methods and compare the results"
   ]
  }
 ],
 "metadata": {
  "kernelspec": {
   "display_name": "Julia 1.10.2",
   "language": "julia",
   "name": "julia-1.10"
  },
  "language_info": {
   "file_extension": ".jl",
   "mimetype": "application/julia",
   "name": "julia",
   "version": "1.10.2"
  },
  "orig_nbformat": 4
 },
 "nbformat": 4,
 "nbformat_minor": 2
}
