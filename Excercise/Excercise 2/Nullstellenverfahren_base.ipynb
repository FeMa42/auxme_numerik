{
 "cells": [
  {
   "attachments": {},
   "cell_type": "markdown",
   "metadata": {},
   "source": [
    "Bisektionsverfahren"
   ]
  },
  {
   "cell_type": "code",
   "execution_count": null,
   "metadata": {},
   "outputs": [],
   "source": [
    "f(x)= -26 + 85 * x - 91 * x^2 +44 * x^3 -8 * x^4 + x^5"
   ]
  },
  {
   "cell_type": "code",
   "execution_count": null,
   "metadata": {},
   "outputs": [],
   "source": [
    "# Funktion die testet ob a und b das gleiche Vorzeichen haben\n",
    "function samesign(a, b)\n",
    "    return a * b > 0\n",
    "end"
   ]
  },
  {
   "cell_type": "code",
   "execution_count": null,
   "metadata": {},
   "outputs": [],
   "source": [
    "function bisect(func, low, high)\n",
    "    #Find root of continuous function where f(low) and f(high) have opposite signs\n",
    "\n",
    "    if samesign(func(low), func(high))\n",
    "        return \"Error: No root found\"\n",
    "    end\n",
    "    midpoint = (low + high) / 2.0\n",
    "    for n in 1:20 # Wir nehmen einfach mal ein paar Iterationen \n",
    "        midpoint = (low + high) / 2.0\n",
    "        println(\"Iteration: \", n, \" Midpoint: \", midpoint)\n",
    "        if samesign(func(low), func(midpoint))\n",
    "            low = midpoint\n",
    "        else\n",
    "            high = midpoint\n",
    "        end\n",
    "    end\n",
    "    return midpoint\n",
    "end"
   ]
  },
  {
   "cell_type": "code",
   "execution_count": null,
   "metadata": {},
   "outputs": [],
   "source": [
    "x = bisect(f, 0, 1)\n",
    "println(\"x = \", x)"
   ]
  },
  {
   "cell_type": "code",
   "execution_count": null,
   "metadata": {},
   "outputs": [],
   "source": [
    "function bisect(func, low, high, tolerance)\n",
    "    # Find root of continuous function where f(low) and f(high) have opposite signs\n",
    "\n",
    "    if samesign(func(low), func(high))\n",
    "        return \"Error: No root found\"\n",
    "    end\n",
    "    midpoint = (low + high) / 2.0\n",
    "    for n in 1:1000 # Wir nehmen einfach mal ein paar Iterationen \n",
    "        midpoint = (low + high) / 2.0\n",
    "        println(\"Iteration: \", n, \" Midpoint: \", midpoint)\n",
    "        if samesign(func(low), func(midpoint))\n",
    "            low = midpoint\n",
    "        else\n",
    "            high = midpoint\n",
    "        end\n",
    "        if abs(high - low) < tolerance\n",
    "            break\n",
    "        end\n",
    "    end\n",
    "    return midpoint\n",
    "end"
   ]
  },
  {
   "cell_type": "code",
   "execution_count": null,
   "metadata": {},
   "outputs": [],
   "source": [
    "x = bisect(f, 0, 1, 0.0001)\n",
    "println(\"x = \", x)"
   ]
  },
  {
   "attachments": {},
   "cell_type": "markdown",
   "metadata": {},
   "source": [
    "# Newtonverfahren"
   ]
  },
  {
   "cell_type": "code",
   "execution_count": 1,
   "metadata": {},
   "outputs": [
    {
     "data": {
      "text/plain": [
       "dx (generic function with 1 method)"
      ]
     },
     "metadata": {},
     "output_type": "display_data"
    }
   ],
   "source": [
    "function dx(f, x)\n",
    "    return abs(0-f(x))\n",
    "end"
   ]
  },
  {
   "cell_type": "code",
   "execution_count": 2,
   "metadata": {},
   "outputs": [
    {
     "data": {
      "text/plain": [
       "newton (generic function with 1 method)"
      ]
     },
     "metadata": {},
     "output_type": "display_data"
    }
   ],
   "source": [
    "function newton(func, dfunc, x0, tolerance)\n",
    "    delta = dx(func, x0)\n",
    "    n = 0\n",
    "    while delta > tolerance\n",
    "        n += 1\n",
    "        x0 = x0 - func(x0)/dfunc(x0)\n",
    "        delta = dx(func, x0)\n",
    "        println(\"Iteration: \", n, \" x0: \", x0)\n",
    "        if n > 100\n",
    "            break\n",
    "        end\n",
    "    end\n",
    "    return x0\n",
    "end"
   ]
  },
  {
   "cell_type": "code",
   "execution_count": 3,
   "metadata": {},
   "outputs": [
    {
     "data": {
      "text/plain": [
       "df (generic function with 1 method)"
      ]
     },
     "metadata": {},
     "output_type": "display_data"
    }
   ],
   "source": [
    "f(x) = -26 + 85 * x - 91 * x^2 + 44 * x^3 - 8 * x^4 + x^5\n",
    "df(x) = 85 - 182 * x + 132 * x^2 - 32 * x^3 + 5 * x^4"
   ]
  },
  {
   "cell_type": "code",
   "execution_count": 4,
   "metadata": {},
   "outputs": [
    {
     "name": "stdout",
     "output_type": "stream",
     "text": [
      "Iteration: 1 x0: 3.9068750000000003\n",
      "Iteration: 2 x0: 2.9968194172519835\n",
      "Iteration: 3 x0: 2.2774066125543753\n",
      "Iteration: 4 x0: 1.72766052390229\n",
      "Iteration: 5 x0: 1.2684010520439337\n",
      "Iteration: 6 x0: 0.7193102766389161\n",
      "Iteration: 7 x0: 0.5090228763893254\n",
      "Iteration: 8 x0: 0.5536227154224381\n",
      "Iteration: 9 x0: 0.5570074263119684\n",
      "Iteration: 10 x0: 0.5570255157731352\n",
      "x = 0.5570255157731352\n"
     ]
    }
   ],
   "source": [
    "x = newton(f, df, 5.0, 0.0001)\n",
    "println(\"x = \", x)"
   ]
  },
  {
   "attachments": {},
   "cell_type": "markdown",
   "metadata": {},
   "source": [
    "Newton-Verfahren mit Beliebigen Funktionen"
   ]
  },
  {
   "cell_type": "code",
   "execution_count": 5,
   "metadata": {},
   "outputs": [
    {
     "data": {
      "text/plain": [
       " 1.0 t + 𝒪(t²)"
      ]
     },
     "metadata": {},
     "output_type": "display_data"
    }
   ],
   "source": [
    "using TaylorSeries"
   ]
  },
  {
   "cell_type": "code",
   "execution_count": 11,
   "metadata": {},
   "outputs": [
    {
     "data": {
      "text/plain": [
       "newton_taylor (generic function with 1 method)"
      ]
     },
     "metadata": {},
     "output_type": "display_data"
    }
   ],
   "source": [
    "function newton_taylor(func, x0, tolerance)\n",
    "    TS = Taylor1(Float64, 1)\n",
    "    dfunc = func(TS)\n",
    "    delta = dx(func, x0)\n",
    "    n = 0\n",
    "    while delta > tolerance\n",
    "        n += 1\n",
    "        x0 = x0 - func(x0) / dfunc.(x0)\n",
    "        delta = dx(func, x0)\n",
    "        println(\"Iteration: \", n, \" x0: \", x0)\n",
    "        if n > 100\n",
    "            break\n",
    "        end\n",
    "    end\n",
    "    return x0\n",
    "end"
   ]
  },
  {
   "cell_type": "code",
   "execution_count": 12,
   "metadata": {},
   "outputs": [
    {
     "name": "stdout",
     "output_type": "stream",
     "text": [
      "Iteration: 1 x0: 0.9152542372881356\n",
      "Iteration: 2 x0: 0.8316574453344665\n",
      "Iteration: 3 x0: 0.7504154305111651\n",
      "Iteration: 4 x0: 0.6753716641624812\n",
      "Iteration: 5 x0: 0.613933257752825\n",
      "Iteration: 6 x0: 0.5750758088700045\n",
      "Iteration: 7 x0: 0.5600991221174157\n",
      "Iteration: 8 x0: 0.5573346941306251\n",
      "Iteration: 9 x0: 0.5570523385279502\n",
      "Iteration: 10 x0: 0.5570278048067671\n",
      "x = 0.5570278048067671\n"
     ]
    }
   ],
   "source": [
    "x = newton_taylor(f, 1.0, 0.0001)\n",
    "println(\"x = \", x)"
   ]
  }
 ],
 "metadata": {
  "kernelspec": {
   "display_name": "Julia 1.8.5",
   "language": "julia",
   "name": "julia-1.8"
  },
  "language_info": {
   "file_extension": ".jl",
   "mimetype": "application/julia",
   "name": "julia",
   "version": "1.8.5"
  },
  "orig_nbformat": 4
 },
 "nbformat": 4,
 "nbformat_minor": 2
}
