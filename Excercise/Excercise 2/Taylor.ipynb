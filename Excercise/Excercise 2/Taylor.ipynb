{
 "cells": [
  {
   "attachments": {},
   "cell_type": "markdown",
   "metadata": {},
   "source": [
    "# Taylorreihen\n",
    "\n",
    "Die Taylorreihe $f_N(x)$ der $N$-ten Ordnung einer Funktion $f(x)$ um den Entwicklungspunkt $x_0$ ist definiert als\n",
    "$$f_N(x)=\\sum_{n=0}^N \\frac{f^{(n)}(x_0)}{n!}(x-x_0)^n$$\n",
    "\n",
    "Wir wollen uns in dieser Übung mit der Taylorreihe der Funktion $$f(x)=\\sin(5x)+0.4x^2$$ um den Entwicklungspunkt $x_0=0$ beschäftigen. Die Ableitungen von $f(x)$ sind\n",
    "$$f'(x)=5\\cos(5x)+0.8x$$\n",
    "$$f''(x)=-25\\sin(5x)+0.8$$"
   ]
  },
  {
   "cell_type": "code",
   "execution_count": null,
   "metadata": {},
   "outputs": [],
   "source": [
    "using Plots"
   ]
  },
  {
   "attachments": {},
   "cell_type": "markdown",
   "metadata": {},
   "source": [
    "Lass uns die Funktion f definieren"
   ]
  },
  {
   "cell_type": "code",
   "execution_count": null,
   "metadata": {},
   "outputs": [],
   "source": [
    "f(x) = sin(5 * x) + 0.4 * x^2\n",
    "x = [0:0.01:1.0] # x values for plotting"
   ]
  },
  {
   "cell_type": "code",
   "execution_count": null,
   "metadata": {},
   "outputs": [],
   "source": [
    "fig = plot()\n",
    "plot!(fig, f, x, label=\"f\")"
   ]
  },
  {
   "attachments": {},
   "cell_type": "markdown",
   "metadata": {},
   "source": [
    "Zunächst bestimmen wir die Ableitungen von $f(x)$:"
   ]
  },
  {
   "cell_type": "code",
   "execution_count": null,
   "metadata": {},
   "outputs": [],
   "source": [
    "d_f(x) = 5 * cos(5 * x) + 0.8 * x\n",
    "d_d_f(x) = -25 * sin(5 * x) + 0.4"
   ]
  },
  {
   "attachments": {},
   "cell_type": "markdown",
   "metadata": {},
   "source": [
    "Dann definieren wir denn Punkt um den wir entwickeln wollen:"
   ]
  },
  {
   "cell_type": "code",
   "execution_count": null,
   "metadata": {},
   "outputs": [],
   "source": [
    "a=0"
   ]
  },
  {
   "attachments": {},
   "cell_type": "markdown",
   "metadata": {},
   "source": [
    "## Der konstante Teil - Taylorreihe für $N=0$\n",
    "$$f_0(x)=f(a)$$\n"
   ]
  },
  {
   "cell_type": "code",
   "execution_count": null,
   "metadata": {},
   "outputs": [],
   "source": [
    "# Taylor series with only the constant part\n",
    "f_0(h) = f(a)\n",
    "error = f(0.5) - f_0(0.5) # Fehler bei x = 0.5\n",
    "println(\"Error: \", error)\n",
    "plot!(fig, f_0, x, label=f_0)"
   ]
  },
  {
   "attachments": {},
   "cell_type": "markdown",
   "metadata": {},
   "source": [
    "## Linearisierung - Taylorreihe für $N=1$\n",
    "$$f_1(x)=f(a)+f'(a)(x-a)$$"
   ]
  },
  {
   "cell_type": "code",
   "execution_count": null,
   "metadata": {},
   "outputs": [],
   "source": [
    "# Taylor series with constant and linear part \n",
    "f_1(h) = f(a) + d_f(a) * (h-a) \n",
    "error = f(0.5) - f_1(0.5)\n",
    "println(\"Error: \", error)\n",
    "plot!(fig, f_1, x, label=f_1)"
   ]
  },
  {
   "attachments": {},
   "cell_type": "markdown",
   "metadata": {},
   "source": [
    "## Der quadratische Term - Taylorreihe für $N=2$\n",
    "$$f_2(x)=f(a)+f'(a)(x-a)+\\frac{f''(a)}{2}(x-a)^2$$"
   ]
  },
  {
   "cell_type": "code",
   "execution_count": null,
   "metadata": {},
   "outputs": [],
   "source": [
    "# Taylor series with constant, linear part and quadratic part\n",
    "f_2(h) = f(a) + d_f(a) * (h-a) + 1 / 2 * d_d_f(a) * (h-a)^2\n",
    "error = f(0.5) - f_2(0.5)\n",
    "println(\"Error: \", error)\n",
    "plot!(fig, f_2, x, label=f_2)"
   ]
  },
  {
   "attachments": {},
   "cell_type": "markdown",
   "metadata": {},
   "source": [
    "Wir können sehen dass für die Funktion $f(x)$ die Taylorreihe $f_2(x)$ mit $N=2$ noch keine gute Approximation an der Stelle $x=0.5$ ist. Wir können die Taylorreihe $f_2(x)$ mit $N=2$ verbessern indem wir die Taylorreihe $f_3(x)$ mit $N=3$ verwenden. Aber wir wollen jetzt nicht endlos unsere Funktion $f(x)$ um den Entwicklungspunkt $x_0=a$ entwickeln. Wir wollen eine Funktion nutzen die uns die Taylorreihe $f_N(x)$ für eine beliebige Funktion $f(x)$ und einen beliebigen Entwicklungspunkt $x_0$ berechnet. "
   ]
  },
  {
   "attachments": {},
   "cell_type": "markdown",
   "metadata": {},
   "source": [
    "# Taylorseries \n"
   ]
  },
  {
   "cell_type": "code",
   "execution_count": null,
   "metadata": {},
   "outputs": [],
   "source": [
    "using TaylorSeries"
   ]
  },
  {
   "attachments": {},
   "cell_type": "markdown",
   "metadata": {},
   "source": [
    "Wir definieren uns ein TaylorSeries objekt mit $N=3$ also Taylorpolynom dritter Ordnung. Wir nutzen das TaylorSeries objekt um die Taylorreihe $f_3(x)$ zu berechnen."
   ]
  },
  {
   "cell_type": "code",
   "execution_count": null,
   "metadata": {},
   "outputs": [],
   "source": [
    "TS = Taylor1(Float64, 3)\n",
    "t_f = f(TS)"
   ]
  },
  {
   "attachments": {},
   "cell_type": "markdown",
   "metadata": {},
   "source": [
    "Jetzt können wir uns wieder beide Funktionen in einem Diagramm anschauen."
   ]
  },
  {
   "cell_type": "code",
   "execution_count": null,
   "metadata": {},
   "outputs": [],
   "source": [
    "fig = plot()\n",
    "x = [0:0.01:1.0]\n",
    "plot!(fig, f, x, label=\"f\")\n",
    "y_t_f = t_f.(x)\n",
    "error = f(0.5) - t_f(0.5)\n",
    "println(\"Error: \", error)\n",
    "plot!(fig, x, y_t_f, label=\"t_f\")\n"
   ]
  },
  {
   "attachments": {},
   "cell_type": "markdown",
   "metadata": {},
   "source": [
    "Wie können wir nun die Tylorreihe an einer anderen Stelle als $x_0=0$ berechnen? Wir können uns entweder eine neue Funktion definieren die unsere einganswerte verschiebt. \n",
    "$$g(h)=f(h-x_0)$$ \n",
    "Und wir berechnen anschließend die Taylorreihe von $g(h)$ um den Entwicklungspunkt $x_0=0$. "
   ]
  },
  {
   "cell_type": "code",
   "execution_count": null,
   "metadata": {},
   "outputs": [],
   "source": [
    "a = 0.0\n",
    "g(h) = f(a+h)\n",
    "t_f_2 = g(TS)"
   ]
  },
  {
   "attachments": {},
   "cell_type": "markdown",
   "metadata": {},
   "source": [
    "Alternativ können wir auch die Taylorreihe $f_N(x)$ um den Entwicklungspunkt $x_0=0$ berechnen und anschließend die Werte von $x_0$ auf $x_0+h$ verschieben indem wir taylor_expand nutzen und den entwicklungspunkt übergeben. "
   ]
  },
  {
   "cell_type": "code",
   "execution_count": null,
   "metadata": {},
   "outputs": [],
   "source": [
    "p = taylor_expand(f, a, order=1)"
   ]
  },
  {
   "cell_type": "code",
   "execution_count": null,
   "metadata": {},
   "outputs": [],
   "source": [
    "fig = plot()\n",
    "x = [0:0.01:1.0]\n",
    "plot!(fig, f, x, label=\"f\")\n",
    "y_p = t_f.(x)\n",
    "error = f(0.5) - t_f(0.5)\n",
    "println(\"Error: \", error)\n",
    "plot!(fig, x, y_p, label=\"t_f\")"
   ]
  },
  {
   "attachments": {},
   "cell_type": "markdown",
   "metadata": {},
   "source": [
    "Ok, wir sehen das Ergebnis ist schon um den approximationspunkt besser. Aber wie sieht es aus wenn wir höhere Werte betrachten? \n",
    "Vergleichen wir mal 2te und 3te Ordnung im Bereich $x\\in[0,5]$. "
   ]
  },
  {
   "cell_type": "code",
   "execution_count": null,
   "metadata": {},
   "outputs": [],
   "source": [
    "TS = Taylor1(Float64, 2)\n",
    "t_f_2 = f(TS)\n",
    "TS = Taylor1(Float64, 3)\n",
    "t_f_3 = f(TS)\n",
    "\n",
    "fig = plot()\n",
    "x = [0:0.01:5.0]\n",
    "plot!(fig, f, x, label=\"f(x)\")\n",
    "plot!(fig, x, t_f_2.(x), label=\"f_2(x)\")\n",
    "plot!(fig, x, t_f_3.(x), label=\"f_3(x)\")"
   ]
  },
  {
   "attachments": {},
   "cell_type": "markdown",
   "metadata": {},
   "source": [
    "Könnt ihr euch Vorstellen woher die Unterschiede kommen? "
   ]
  },
  {
   "attachments": {},
   "cell_type": "markdown",
   "metadata": {},
   "source": [
    " Lass uns jetzt die Taylorreihe $f_100(x)$ mit $N=100$ berechnen. "
   ]
  },
  {
   "cell_type": "code",
   "execution_count": null,
   "metadata": {},
   "outputs": [],
   "source": [
    "TS_2 = Taylor1(Float64, 100)\n",
    "t_f_100 = f(TS_2)"
   ]
  },
  {
   "attachments": {},
   "cell_type": "markdown",
   "metadata": {},
   "source": [
    "Wie sieht das jetzt aus?"
   ]
  },
  {
   "cell_type": "code",
   "execution_count": null,
   "metadata": {},
   "outputs": [],
   "source": [
    "fig = plot()\n",
    "plot!(fig, f, x, label=\"f\")\n",
    "plot!(fig, x, y_t_f, label=\"t_f\")\n",
    "error = f(0.5) - t_f_100(0.5)\n",
    "println(\"Error: \", error)\n",
    "y_t_f_100 = t_f_100.(x)\n",
    "plot!(fig, x, y_t_f_100, label=\"t_f_100\")"
   ]
  },
  {
   "attachments": {},
   "cell_type": "markdown",
   "metadata": {},
   "source": [
    "Und wenn wir etwas reinzoomen: "
   ]
  },
  {
   "cell_type": "code",
   "execution_count": null,
   "metadata": {},
   "outputs": [],
   "source": [
    "fig = plot()\n",
    "x = [0.4:0.01:0.6]\n",
    "plot!(fig, f, [0.4:0.01:0.6], label=\"f\")\n",
    "y_t_f_100 = t_f_100.(x)\n",
    "plot!(fig, x, y_t_f_100)"
   ]
  }
 ],
 "metadata": {
  "kernelspec": {
   "display_name": "Julia 1.8.5",
   "language": "julia",
   "name": "julia-1.8"
  },
  "language_info": {
   "file_extension": ".jl",
   "mimetype": "application/julia",
   "name": "julia",
   "version": "1.8.5"
  }
 },
 "nbformat": 4,
 "nbformat_minor": 4
}
